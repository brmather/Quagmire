{
 "cells": [
  {
   "cell_type": "markdown",
   "id": "0c4ec407",
   "metadata": {},
   "source": [
    "# Quagmire.function.geometry\n",
    "\n",
    "Quagmire mesh variables are numerically differentiable and the various operators defined in the quagmire functions module also support limited (symbolic) differentiation\n",
    "\n",
    "This is to allow the construction of more complicated operators that are equivalent on the flat plane and the surface of the spehre. \n",
    "\n",
    "This functionality is supported through the `quagmire.function.geometry` package."
   ]
  },
  {
   "cell_type": "code",
   "execution_count": 1,
   "id": "dd100bc5",
   "metadata": {},
   "outputs": [],
   "source": [
    "import numpy as np\n",
    "from quagmire.function import display\n",
    "\n",
    "from quagmire import QuagMesh \n",
    "from quagmire import tools as meshtools\n",
    "from quagmire import function as fn\n",
    "from quagmire.function import display\n",
    "from mpi4py import MPI\n",
    "\n",
    "# import lavavu\n",
    "import stripy\n",
    "comm = MPI.COMM_WORLD\n",
    "\n",
    "import matplotlib.pyplot as plt\n",
    "from matplotlib import cm\n",
    "%matplotlib inline"
   ]
  },
  {
   "cell_type": "markdown",
   "id": "dd5c6290",
   "metadata": {},
   "source": [
    "## Naked coordinate systems\n",
    "\n",
    "Quagmire supports flat 2D meshes and logically 2D meshes on the surface of a sphere. When a mesh is defined, it attaches a geometry to itself which is the starting point for computing\n",
    "any differential operators that include mesh variables. It is also possible to access the coordinate system definitions directly to see how the various operators are defined. Let us first\n",
    "access a simple, 2D, Cartesian Coordinate Geometry"
   ]
  },
  {
   "cell_type": "code",
   "execution_count": 2,
   "id": "39d63d58",
   "metadata": {},
   "outputs": [],
   "source": [
    "CartesianCoordinates = fn.geometry.CartesianCoordinates2D()\n",
    "SphericalCoordinates = fn.geometry.SphericalSurfaceLonLat2D()"
   ]
  },
  {
   "cell_type": "code",
   "execution_count": 3,
   "id": "5e726a3c",
   "metadata": {},
   "outputs": [
    {
     "name": "stdout",
     "output_type": "stream",
     "text": [
      "1.0 2.0\n",
      "[0.         0.33069396 0.66138793 0.99208189 1.32277585 1.65346982\n",
      " 1.98416378 2.31485774 2.64555171 2.97624567 3.30693964 3.6376336\n",
      " 3.96832756 4.29902153 4.62971549 4.96040945 5.29110342 5.62179738\n",
      " 5.95249134 6.28318531]\n",
      "[0. 0. 0. 0. 0. 0. 0. 0. 0. 0. 0. 0. 0. 0. 0. 0. 0. 0. 0. 0.]\n"
     ]
    }
   ],
   "source": [
    "# These are the coordinate directions is symbolic form. They are also functions that \n",
    "# mask the appropriate member of a coordinate tuple\n",
    "\n",
    "x = CartesianCoordinates.xi0\n",
    "y = CartesianCoordinates.xi1\n",
    "\n",
    "print(x.evaluate(1.0,2.0), y.evaluate(1.0,2.0))\n",
    "\n",
    "# Another example:\n",
    "\n",
    "points = np.zeros((20,2))\n",
    "points[:,0] = np.linspace(0.0,2.0*np.pi,20)\n",
    "\n",
    "print(x.evaluate(points))\n",
    "\n",
    "S = fn.math.sin(x)\n",
    "\n",
    "# These are equivalent\n",
    "\n",
    "print(S.evaluate(points) - np.sin(points[:,0]))"
   ]
  },
  {
   "cell_type": "code",
   "execution_count": 4,
   "id": "e8ae17e2",
   "metadata": {},
   "outputs": [],
   "source": [
    "xi0 = SphericalCoordinates.xi0\n",
    "xi1 = SphericalCoordinates.xi1\n"
   ]
  },
  {
   "cell_type": "markdown",
   "id": "43fd94a7",
   "metadata": {},
   "source": [
    "### Vector operators\n",
    "\n",
    "Partial differential equations are often the balancing of gradients of different quantities. The physical gradients may be very different when expressed in different coordinate systems and therefore we have to be careful to develop coordinate-independent expression for gradients that appear in PDEs. We do this by constructing operators such as div, grad, curl and the Laplacian that are expressed independently of the geometry but understand the underlying coordinate system. \n",
    "\n",
    "When we calculate a derivative, they should be symbolically equivalent but the gradients are not."
   ]
  },
  {
   "cell_type": "code",
   "execution_count": 5,
   "id": "bc4ca22c",
   "metadata": {},
   "outputs": [
    {
     "name": "stdout",
     "output_type": "stream",
     "text": [
      "Derivatives\n"
     ]
    },
    {
     "data": {
      "text/latex": [
       "$\\displaystyle \\sin\\left(x^{2}\\right) \\, + \\, x \\;2 \\;x \\;\\cos\\left(x^{2}\\right) \\, + \\, y$"
      ],
      "text/plain": [
       "<IPython.core.display.Math object>"
      ]
     },
     "metadata": {},
     "output_type": "display_data"
    },
    {
     "data": {
      "text/latex": [
       "$\\displaystyle \\sin\\left(y^{2}\\right) \\, + \\, y \\;2 \\;y \\;\\cos\\left(y^{2}\\right) \\, + \\, x$"
      ],
      "text/plain": [
       "<IPython.core.display.Math object>"
      ]
     },
     "metadata": {},
     "output_type": "display_data"
    },
    {
     "name": "stdout",
     "output_type": "stream",
     "text": [
      "Grad 0\n"
     ]
    },
    {
     "data": {
      "text/latex": [
       "$\\displaystyle \\sin\\left(x^{2}\\right) \\, + \\, x \\;2 \\;x \\;\\cos\\left(x^{2}\\right) \\, + \\, y$"
      ],
      "text/plain": [
       "<IPython.core.display.Math object>"
      ]
     },
     "metadata": {},
     "output_type": "display_data"
    },
    {
     "name": "stdout",
     "output_type": "stream",
     "text": [
      "Grad 1\n"
     ]
    },
    {
     "data": {
      "text/latex": [
       "$\\displaystyle \\sin\\left(y^{2}\\right) \\, + \\, y \\;2 \\;y \\;\\cos\\left(y^{2}\\right) \\, + \\, x$"
      ],
      "text/plain": [
       "<IPython.core.display.Math object>"
      ]
     },
     "metadata": {},
     "output_type": "display_data"
    },
    {
     "name": "stdout",
     "output_type": "stream",
     "text": [
      "div.grad\n"
     ]
    },
    {
     "data": {
      "text/latex": [
       "$\\displaystyle 2 \\;x \\;\\cos\\left(x^{2}\\right) \\, + \\, 2 \\;x \\;\\cos\\left(x^{2}\\right) \\, + \\, x \\;(2 \\;\\cos\\left(x^{2}\\right) \\, + \\, 2 \\;x \\;-2 \\;x \\;\\sin\\left(x^{2}\\right)) \\, + \\, 2 \\;y \\;\\cos\\left(y^{2}\\right) \\, + \\, 2 \\;y \\;\\cos\\left(y^{2}\\right) \\, + \\, y \\;(2 \\;\\cos\\left(y^{2}\\right) \\, + \\, 2 \\;y \\;-2 \\;y \\;\\sin\\left(y^{2}\\right))$"
      ],
      "text/plain": [
       "<IPython.core.display.Math object>"
      ]
     },
     "metadata": {},
     "output_type": "display_data"
    },
    {
     "name": "stdout",
     "output_type": "stream",
     "text": [
      "Laplacian\n"
     ]
    },
    {
     "data": {
      "text/latex": [
       "$\\displaystyle 2 \\;x \\;\\cos\\left(x^{2}\\right) \\, + \\, 2 \\;x \\;\\cos\\left(x^{2}\\right) \\, + \\, x \\;(2 \\;\\cos\\left(x^{2}\\right) \\, + \\, 2 \\;x \\;-2 \\;x \\;\\sin\\left(x^{2}\\right)) \\, + \\, 2 \\;y \\;\\cos\\left(y^{2}\\right) \\, + \\, 2 \\;y \\;\\cos\\left(y^{2}\\right) \\, + \\, y \\;(2 \\;\\cos\\left(y^{2}\\right) \\, + \\, 2 \\;y \\;-2 \\;y \\;\\sin\\left(y^{2}\\right))$"
      ],
      "text/plain": [
       "<IPython.core.display.Math object>"
      ]
     },
     "metadata": {},
     "output_type": "display_data"
    },
    {
     "data": {
      "text/latex": [
       "$\\displaystyle \\nabla \\left( x \\;y \\cdot \\nabla \\left(  x \\;\\sin\\left(x^{2}\\right) \\, + \\, y \\;\\sin\\left(y^{2}\\right) \\, + \\, x \\;y \\right)\\right)$"
      ],
      "text/plain": [
       "<IPython.core.display.Math object>"
      ]
     },
     "metadata": {},
     "output_type": "display_data"
    },
    {
     "name": "stdout",
     "output_type": "stream",
     "text": [
      "Derivatives\n"
     ]
    },
    {
     "data": {
      "text/latex": [
       "$\\displaystyle \\sin\\left(\\theta^{2}\\right) \\, + \\, \\theta \\;2 \\;\\theta \\;\\cos\\left(\\theta^{2}\\right) \\, + \\, \\phi' $"
      ],
      "text/plain": [
       "<IPython.core.display.Math object>"
      ]
     },
     "metadata": {},
     "output_type": "display_data"
    },
    {
     "data": {
      "text/latex": [
       "$\\displaystyle \\sin\\left(\\phi' ^{2}\\right) \\, + \\, \\phi'  \\;2 \\;\\phi'  \\;\\cos\\left(\\phi' ^{2}\\right) \\, + \\, \\theta$"
      ],
      "text/plain": [
       "<IPython.core.display.Math object>"
      ]
     },
     "metadata": {},
     "output_type": "display_data"
    },
    {
     "name": "stdout",
     "output_type": "stream",
     "text": [
      "Grad 0\n"
     ]
    },
    {
     "data": {
      "text/latex": [
       "$\\displaystyle \\frac{ \\sin\\left(\\theta^{2}\\right) \\, + \\, \\theta \\;2 \\;\\theta \\;\\cos\\left(\\theta^{2}\\right) \\, + \\, \\phi'  }{ \\cos\\left(\\phi' \\right)  }$"
      ],
      "text/plain": [
       "<IPython.core.display.Math object>"
      ]
     },
     "metadata": {},
     "output_type": "display_data"
    },
    {
     "name": "stdout",
     "output_type": "stream",
     "text": [
      "Grad 1\n"
     ]
    },
    {
     "data": {
      "text/latex": [
       "$\\displaystyle \\sin\\left(\\phi' ^{2}\\right) \\, + \\, \\phi'  \\;2 \\;\\phi'  \\;\\cos\\left(\\phi' ^{2}\\right) \\, + \\, \\theta$"
      ],
      "text/plain": [
       "<IPython.core.display.Math object>"
      ]
     },
     "metadata": {},
     "output_type": "display_data"
    },
    {
     "name": "stdout",
     "output_type": "stream",
     "text": [
      "div.grad\n"
     ]
    },
    {
     "data": {
      "text/latex": [
       "$\\displaystyle \\frac{ \\frac{ 2 \\;\\theta \\;\\cos\\left(\\theta^{2}\\right) \\, + \\, 2 \\;\\theta \\;\\cos\\left(\\theta^{2}\\right) \\, + \\, \\theta \\;(2 \\;\\cos\\left(\\theta^{2}\\right) \\, + \\, 2 \\;\\theta \\;-2 \\;\\theta \\;\\sin\\left(\\theta^{2}\\right)) }{ \\cos\\left(\\phi' \\right)  } }{ \\cos\\left(\\theta\\right)  } \\, + \\, \\frac{ (2 \\;\\phi'  \\;\\cos\\left(\\phi' ^{2}\\right) \\, + \\, 2 \\;\\phi'  \\;\\cos\\left(\\phi' ^{2}\\right) \\, + \\, \\phi'  \\;(2 \\;\\cos\\left(\\phi' ^{2}\\right) \\, + \\, 2 \\;\\phi'  \\;-2 \\;\\phi'  \\;\\sin\\left(\\phi' ^{2}\\right))) \\;\\cos\\left(\\theta\\right) }{ \\cos\\left(\\theta\\right)  }$"
      ],
      "text/plain": [
       "<IPython.core.display.Math object>"
      ]
     },
     "metadata": {},
     "output_type": "display_data"
    },
    {
     "name": "stdout",
     "output_type": "stream",
     "text": [
      "Laplacian\n"
     ]
    },
    {
     "data": {
      "text/latex": [
       "$\\displaystyle \\frac{ \\frac{ 2 \\;\\theta \\;\\cos\\left(\\theta^{2}\\right) \\, + \\, 2 \\;\\theta \\;\\cos\\left(\\theta^{2}\\right) \\, + \\, \\theta \\;(2 \\;\\cos\\left(\\theta^{2}\\right) \\, + \\, 2 \\;\\theta \\;-2 \\;\\theta \\;\\sin\\left(\\theta^{2}\\right)) }{ \\cos\\left(\\phi' \\right)  } }{ \\cos\\left(\\theta\\right)  } \\, + \\, \\frac{ (2 \\;\\phi'  \\;\\cos\\left(\\phi' ^{2}\\right) \\, + \\, 2 \\;\\phi'  \\;\\cos\\left(\\phi' ^{2}\\right) \\, + \\, \\phi'  \\;(2 \\;\\cos\\left(\\phi' ^{2}\\right) \\, + \\, 2 \\;\\phi'  \\;-2 \\;\\phi'  \\;\\sin\\left(\\phi' ^{2}\\right))) \\;\\cos\\left(\\theta\\right) }{ \\cos\\left(\\theta\\right)  }$"
      ],
      "text/plain": [
       "<IPython.core.display.Math object>"
      ]
     },
     "metadata": {},
     "output_type": "display_data"
    },
    {
     "data": {
      "text/latex": [
       "$\\displaystyle \\nabla \\left( \\theta \\;\\phi'  \\cdot \\nabla \\left(  \\theta \\;\\sin\\left(\\theta^{2}\\right) \\, + \\, \\phi'  \\;\\sin\\left(\\phi' ^{2}\\right) \\, + \\, \\theta \\;\\phi'  \\right)\\right)$"
      ],
      "text/plain": [
       "<IPython.core.display.Math object>"
      ]
     },
     "metadata": {},
     "output_type": "display_data"
    }
   ],
   "source": [
    "for CoordinateSystem in [CartesianCoordinates, SphericalCoordinates]:\n",
    "    \n",
    "    xi0 = CoordinateSystem.xi0\n",
    "    xi1 = CoordinateSystem.xi1\n",
    "    \n",
    "    ## Derivatives:\n",
    "    \n",
    "    A = xi0 * fn.math.sin(xi0**2) +  xi1 * fn.math.sin(xi1**2) +  xi0 * xi1\n",
    "    \n",
    "    print(\"Derivatives\")\n",
    "    ddx0 = A.derivative(0)\n",
    "    ddx1 = A.derivative(1)\n",
    "    display(ddx0)\n",
    "    display(ddx1)\n",
    "\n",
    "    gradA = CoordinateSystem.grad(A)\n",
    "    print(\"Grad 0\")\n",
    "    gradA[0].display()\n",
    "    print(\"Grad 1\")\n",
    "    gradA[1].display()\n",
    "    \n",
    "    print(\"div.grad\")\n",
    "    CoordinateSystem.div(gradA, expand=True).display()\n",
    "    \n",
    "    print(\"Laplacian\")\n",
    "    CoordinateSystem.laplacian(A, 1, expand=True).display()  # Note this is written for variable coefficient problems\n",
    "\n",
    "    CoordinateSystem.laplacian(A, xi0*xi1, expand=False).display()  ## Neater for display purposes only"
   ]
  },
  {
   "cell_type": "markdown",
   "id": "e2b0422c",
   "metadata": {},
   "source": [
    "## Symbols\n",
    "\n",
    "These are placeholders for developing a function that you can then substitute later. This is useful as an aid to debugging functions or for providing an equation template"
   ]
  },
  {
   "cell_type": "code",
   "execution_count": 6,
   "id": "5c848d83",
   "metadata": {},
   "outputs": [
    {
     "data": {
      "text/latex": [
       "$\\displaystyle k_0$"
      ],
      "text/plain": [
       "<IPython.core.display.Math object>"
      ]
     },
     "metadata": {},
     "output_type": "display_data"
    },
    {
     "data": {
      "text/latex": [
       "$\\displaystyle k_1$"
      ],
      "text/plain": [
       "<IPython.core.display.Math object>"
      ]
     },
     "metadata": {},
     "output_type": "display_data"
    },
    {
     "data": {
      "text/latex": [
       "$\\displaystyle x \\;\\sin\\left(k_0 \\;x \\, + \\, \\frac{ k_0 }{ k_1 \\, + \\, x  }\\right)$"
      ],
      "text/plain": [
       "<IPython.core.display.Math object>"
      ]
     },
     "metadata": {},
     "output_type": "display_data"
    },
    {
     "name": "stdout",
     "output_type": "stream",
     "text": [
      "Cannot evaluate H ... try making a subsitution\n"
     ]
    },
    {
     "data": {
      "text/latex": [
       "$\\displaystyle \\left\\{  k_1 \\leftarrow 0.0001\\right\\}$"
      ],
      "text/plain": [
       "<IPython.core.display.Math object>"
      ]
     },
     "metadata": {},
     "output_type": "display_data"
    },
    {
     "data": {
      "text/latex": [
       "$\\displaystyle x \\;\\sin\\left(\\left\\{  k_0 \\leftarrow 4\\right\\} \\;x \\, + \\, \\frac{ \\left\\{  k_0 \\leftarrow 4\\right\\} }{ \\left\\{  k_1 \\leftarrow 0.0001\\right\\} \\, + \\, x  }\\right)$"
      ],
      "text/plain": [
       "<IPython.core.display.Math object>"
      ]
     },
     "metadata": {},
     "output_type": "display_data"
    },
    {
     "name": "stdout",
     "output_type": "stream",
     "text": [
      "H evaluated at (0.1,1.0):  [0.04623685]\n"
     ]
    },
    {
     "data": {
      "text/latex": [
       "$\\displaystyle \\left\\{  k_1 \\leftarrow 0.01\\right\\}$"
      ],
      "text/plain": [
       "<IPython.core.display.Math object>"
      ]
     },
     "metadata": {},
     "output_type": "display_data"
    },
    {
     "data": {
      "text/latex": [
       "$\\displaystyle x \\;\\sin\\left(\\left\\{  k_0 \\leftarrow x\\right\\} \\;x \\, + \\, \\frac{ \\left\\{  k_0 \\leftarrow x\\right\\} }{ \\left\\{  k_1 \\leftarrow 0.01\\right\\} \\, + \\, x  }\\right)$"
      ],
      "text/plain": [
       "<IPython.core.display.Math object>"
      ]
     },
     "metadata": {},
     "output_type": "display_data"
    }
   ],
   "source": [
    "k0 = fn.symbol(name=\"k_0\", lname=\"k_0\")\n",
    "k1 = fn.symbol(name=\"k_1\", lname=\"k_1\")\n",
    "display((k0, k1))\n",
    "\n",
    "H = x * fn.math.sin(k0*x + k0/(k1+x))\n",
    "display(H)\n",
    "\n",
    "try:\n",
    "    H.evaluate((0.1,1.0))\n",
    "except:\n",
    "    print(\"Cannot evaluate H ... try making a subsitution\")\n",
    "\n",
    "k0.substitute(fn.parameter(4))\n",
    "k1.substitute(fn.parameter(0.0001))\n",
    "\n",
    "display(k1)\n",
    "display(H)\n",
    "\n",
    "print(\"H evaluated at (0.1,1.0): \",H.evaluate((0.1,1.0)))\n",
    "\n",
    "\n",
    "k0.substitute(x)\n",
    "k1.substitute(fn.parameter(0.01))\n",
    "\n",
    "display(k1)\n",
    "display(H)\n",
    "\n"
   ]
  },
  {
   "cell_type": "markdown",
   "id": "e5e19c78",
   "metadata": {},
   "source": [
    "You can \"finalise\" a symbol which means that it is no longer possible to make a substitution and it will generally behave like a normal quagmire function (including the fact that it no longer displays the substitution). The machinery for differentiation and evaluation is still a little more complicated than that of a regular function, so there may be some performance issues."
   ]
  },
  {
   "cell_type": "code",
   "execution_count": 7,
   "id": "f59faf9d",
   "metadata": {},
   "outputs": [
    {
     "data": {
      "text/latex": [
       "$\\displaystyle \\left\\{  k_0 \\leftarrow x\\right\\}$"
      ],
      "text/plain": [
       "<IPython.core.display.Math object>"
      ]
     },
     "metadata": {},
     "output_type": "display_data"
    }
   ],
   "source": [
    "display(k0)"
   ]
  },
  {
   "cell_type": "code",
   "execution_count": 8,
   "id": "20786628",
   "metadata": {},
   "outputs": [
    {
     "data": {
      "text/latex": [
       "$\\displaystyle x$"
      ],
      "text/plain": [
       "<IPython.core.display.Math object>"
      ]
     },
     "metadata": {},
     "output_type": "display_data"
    }
   ],
   "source": [
    "k0.finalise()\n",
    "display(k0)"
   ]
  },
  {
   "cell_type": "markdown",
   "id": "3f6067fe",
   "metadata": {},
   "source": [
    "## The same sort of thing but with some mesh variables\n",
    "\n",
    "Mesh variables have an associated geometry that they obtain from their mesh and they have some numerical differentiation routines\n",
    "that are used when a derivative or gradient needs to be evaluated."
   ]
  },
  {
   "cell_type": "code",
   "execution_count": 9,
   "id": "119fa7fc",
   "metadata": {},
   "outputs": [
    {
     "name": "stdout",
     "output_type": "stream",
     "text": [
      "Underlying Mesh type: sTriMesh\n",
      "0 - Delaunay triangulation 0.21779666599999814s\n",
      "0 - Calculate node weights and area 0.03310762499999953s\n",
      "0 - Find boundaries 0.014876750000002659s\n",
      "0 - cKDTree 0.01549533399999703s\n",
      "0 - Construct neighbour cloud arrays 0.7254632500000007s, (0.5542094169999991s + 0.1712229160000014s)\n",
      "0 - Construct rbf weights 0.045508500000000396s\n"
     ]
    }
   ],
   "source": [
    "## Add a mesh\n",
    "\n",
    "st0 = stripy.spherical_meshes.icosahedral_mesh(refinement_levels=6, include_face_points=True)\n",
    "dm = meshtools.create_spherical_DMPlex(np.degrees(st0.lons), np.degrees(st0.lats), st0.simplices)\n",
    "mesh = QuagMesh(dm, downhill_neighbours=1, permute=True)\n",
    "\n",
    "lon = mesh.geometry.xi0\n",
    "lat = mesh.geometry.xi1"
   ]
  },
  {
   "cell_type": "code",
   "execution_count": 10,
   "id": "65b73054",
   "metadata": {},
   "outputs": [],
   "source": [
    "F = mesh.add_variable(\"F\", lname=\"\\cal{F}\")\n",
    "\n",
    "l0 = fn.parameter(5.0)\n",
    "l1 = fn.parameter(2.0)\n",
    "\n",
    "G = fn.math.cos(l0 * fn.math.radians(lon)) * fn.math.sin(l1 * fn.math.radians(lat))\n",
    "F.data = G.evaluate(mesh)"
   ]
  },
  {
   "cell_type": "code",
   "execution_count": 11,
   "id": "8a1283b0",
   "metadata": {},
   "outputs": [
    {
     "data": {
      "text/latex": [
       "$\\displaystyle \\cal{F}\\left(\\theta,\\phi' \\right)$"
      ],
      "text/plain": [
       "<IPython.core.display.Math object>"
      ]
     },
     "metadata": {},
     "output_type": "display_data"
    },
    {
     "data": {
      "text/latex": [
       "$\\displaystyle \\cos\\left(5 \\;\\frac{\\pi}{180}\\theta\\right) \\;\\sin\\left(2 \\;\\frac{\\pi}{180}\\phi' \\right)$"
      ],
      "text/plain": [
       "<IPython.core.display.Math object>"
      ]
     },
     "metadata": {},
     "output_type": "display_data"
    }
   ],
   "source": [
    "F.display()\n",
    "G.display()"
   ]
  },
  {
   "cell_type": "code",
   "execution_count": 12,
   "id": "cd55f1e7",
   "metadata": {},
   "outputs": [
    {
     "data": {
      "text/latex": [
       "$\\displaystyle \\frac{ -0.0873 \\;\\sin\\left(5 \\;\\frac{\\pi}{180}\\theta\\right) \\;\\sin\\left(2 \\;\\frac{\\pi}{180}\\phi' \\right) }{ \\cos\\left(\\phi' \\right)  }$"
      ],
      "text/plain": [
       "<IPython.core.display.Math object>"
      ]
     },
     "metadata": {},
     "output_type": "display_data"
    },
    {
     "data": {
      "text/latex": [
       "$\\displaystyle -0.0873 \\;\\sin\\left(5 \\;\\frac{\\pi}{180}\\theta\\right) \\;\\sin\\left(2 \\;\\frac{\\pi}{180}\\phi' \\right)$"
      ],
      "text/plain": [
       "<IPython.core.display.Math object>"
      ]
     },
     "metadata": {},
     "output_type": "display_data"
    },
    {
     "data": {
      "text/latex": [
       "$\\displaystyle \\frac{ -0.0873 \\;\\sin\\left(5 \\;\\frac{\\pi}{180}\\theta\\right) \\;\\sin\\left(2 \\;\\frac{\\pi}{180}\\phi' \\right) }{ \\cos\\left(\\phi' \\right)  }$"
      ],
      "text/plain": [
       "<IPython.core.display.Math object>"
      ]
     },
     "metadata": {},
     "output_type": "display_data"
    }
   ],
   "source": [
    "display(G.fn_gradient(0))\n",
    "display(G.derivative(0))\n",
    "mesh.geometry.grad(G)[0]"
   ]
  },
  {
   "cell_type": "code",
   "execution_count": 13,
   "id": "d6a0af39",
   "metadata": {},
   "outputs": [
    {
     "data": {
      "text/latex": [
       "$\\displaystyle \\cos\\left(m_0 \\;\\frac{\\pi}{180}\\theta\\right) \\;\\sin\\left(m_1 \\;\\frac{\\pi}{180}\\phi' \\right)$"
      ],
      "text/plain": [
       "<IPython.core.display.Math object>"
      ]
     },
     "metadata": {},
     "output_type": "display_data"
    },
    {
     "data": {
      "text/latex": [
       "$\\displaystyle \\cos\\left(\\left\\{  m_0 \\leftarrow \\cal{F}\\left(\\theta,\\phi' \\right)^{2}\\right\\} \\;\\frac{\\pi}{180}\\theta\\right) \\;\\sin\\left(\\left\\{  m_1 \\leftarrow \\cal{F}\\left(\\theta,\\phi' \\right)^{4}\\right\\} \\;\\frac{\\pi}{180}\\phi' \\right)$"
      ],
      "text/plain": [
       "<IPython.core.display.Math object>"
      ]
     },
     "metadata": {},
     "output_type": "display_data"
    },
    {
     "data": {
      "text/latex": [
       "$\\displaystyle \\cos\\left(\\left\\{  m_0 \\leftarrow \\cal{F}\\left(\\theta,\\phi' \\right) \\, + \\, 1\\right\\} \\;\\frac{\\pi}{180}\\theta\\right) \\;\\sin\\left(\\left\\{  m_1 \\leftarrow \\cal{F}\\left(\\theta,\\phi' \\right) - 1\\right\\} \\;\\frac{\\pi}{180}\\phi' \\right)$"
      ],
      "text/plain": [
       "<IPython.core.display.Math object>"
      ]
     },
     "metadata": {},
     "output_type": "display_data"
    }
   ],
   "source": [
    "## Something with symbols we can substitute\n",
    "\n",
    "m0 = fn.symbol(name=\"m_0\", lname=\"m_0\")\n",
    "m1 = fn.symbol(name=\"m_1\", lname=\"m_1\")\n",
    "\n",
    "H = fn.math.cos(m0 * fn.math.radians(lon)) * fn.math.sin(m1 * fn.math.radians(lat))\n",
    "H.display()\n",
    "\n",
    "m0.substitute(F**2)\n",
    "m1.substitute(F**4)\n",
    "\n",
    "H.display()\n",
    "\n",
    "m0.substitute(F+1)\n",
    "m1.substitute(F-1)\n",
    "\n",
    "H.display()\n",
    "\n",
    "# G.fn_gradient(1)"
   ]
  },
  {
   "cell_type": "code",
   "execution_count": 14,
   "id": "f286d59a",
   "metadata": {},
   "outputs": [
    {
     "data": {
      "text/plain": [
       "array([-1.        , -0.09259669,  0.03942575, ...,  0.91069208,\n",
       "        0.03873612,  0.03113295])"
      ]
     },
     "execution_count": 14,
     "metadata": {},
     "output_type": "execute_result"
    }
   ],
   "source": [
    "H.evaluate(mesh)"
   ]
  },
  {
   "cell_type": "code",
   "execution_count": 15,
   "id": "6d4cb739",
   "metadata": {},
   "outputs": [
    {
     "data": {
      "text/latex": [
       "$\\displaystyle -\\left. \\nabla(\\cal{F}\\left(\\theta,\\phi' \\right))\\right|_1 \\;\\frac{\\pi}{180}\\theta \\;\\sin\\left(\\left\\{  m_0 \\leftarrow \\cal{F}\\left(\\theta,\\phi' \\right) \\, + \\, 1\\right\\} \\;\\frac{\\pi}{180}\\theta\\right) \\;\\sin\\left(\\left\\{  m_1 \\leftarrow \\cal{F}\\left(\\theta,\\phi' \\right) - 1\\right\\} \\;\\frac{\\pi}{180}\\phi' \\right) \\, + \\, \\cos\\left(\\left\\{  m_0 \\leftarrow \\cal{F}\\left(\\theta,\\phi' \\right) \\, + \\, 1\\right\\} \\;\\frac{\\pi}{180}\\theta\\right) \\;(\\left. \\nabla(\\cal{F}\\left(\\theta,\\phi' \\right))\\right|_1 \\;\\frac{\\pi}{180}\\phi'  \\, + \\, \\left\\{  m_1 \\leftarrow \\cal{F}\\left(\\theta,\\phi' \\right) - 1\\right\\} \\;0.0175) \\;\\cos\\left(\\left\\{  m_1 \\leftarrow \\cal{F}\\left(\\theta,\\phi' \\right) - 1\\right\\} \\;\\frac{\\pi}{180}\\phi' \\right)$"
      ],
      "text/plain": [
       "<IPython.core.display.Math object>"
      ]
     },
     "metadata": {},
     "output_type": "display_data"
    }
   ],
   "source": [
    "H.derivative(1)"
   ]
  },
  {
   "cell_type": "code",
   "execution_count": 16,
   "id": "e4020969",
   "metadata": {},
   "outputs": [],
   "source": [
    "m0.finalise()\n",
    "m1.finalise()"
   ]
  },
  {
   "cell_type": "code",
   "execution_count": 17,
   "id": "61fc50a9",
   "metadata": {},
   "outputs": [
    {
     "data": {
      "text/latex": [
       "$\\displaystyle -\\left. \\nabla(\\cal{F}\\left(\\theta,\\phi' \\right))\\right|_1 \\;\\frac{\\pi}{180}\\theta \\;\\sin\\left(\\left( \\cal{F}\\left(\\theta,\\phi' \\right) \\, + \\, 1 \\right) \\;\\frac{\\pi}{180}\\theta\\right) \\;\\sin\\left(\\left( \\cal{F}\\left(\\theta,\\phi' \\right) - 1 \\right) \\;\\frac{\\pi}{180}\\phi' \\right) \\, + \\, \\cos\\left(\\left( \\cal{F}\\left(\\theta,\\phi' \\right) \\, + \\, 1 \\right) \\;\\frac{\\pi}{180}\\theta\\right) \\;(\\left. \\nabla(\\cal{F}\\left(\\theta,\\phi' \\right))\\right|_1 \\;\\frac{\\pi}{180}\\phi'  \\, + \\, (\\left( \\cal{F}\\left(\\theta,\\phi' \\right) - 1 \\right)) \\;0.0175) \\;\\cos\\left(\\left( \\cal{F}\\left(\\theta,\\phi' \\right) - 1 \\right) \\;\\frac{\\pi}{180}\\phi' \\right)$"
      ],
      "text/plain": [
       "<IPython.core.display.Math object>"
      ]
     },
     "metadata": {},
     "output_type": "display_data"
    }
   ],
   "source": [
    "H.derivative(1)"
   ]
  }
 ],
 "metadata": {
  "kernelspec": {
   "display_name": "Python 3",
   "language": "python",
   "name": "python3"
  },
  "language_info": {
   "codemirror_mode": {
    "name": "ipython",
    "version": 3
   },
   "file_extension": ".py",
   "mimetype": "text/x-python",
   "name": "python",
   "nbconvert_exporter": "python",
   "pygments_lexer": "ipython3",
   "version": "3.9.4"
  }
 },
 "nbformat": 4,
 "nbformat_minor": 5
}
