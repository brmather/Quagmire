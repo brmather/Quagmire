{
 "cells": [
  {
   "cell_type": "markdown",
   "id": "65c859f5",
   "metadata": {},
   "source": [
    "# Example 8 - Incision and Deposition\n",
    "\n",
    "This notebook explores three laws to simulate erosion and deposition. All augment the so-called \"stream power law\", which is a flux term related the available energy of rivers. The stream power law forms the basis of landscape evolution models. Various authors propose different behaviours from detachment-limited to transport-limited sediment transport, some of which we will explore in this notebook.\n",
    "\n",
    "\n",
    "### Contents\n",
    "\n",
    "1. Local equilibrium model\n",
    "2. Saltation length model\n",
    "3. $\\xi - q$ model"
   ]
  },
  {
   "cell_type": "code",
   "execution_count": 1,
   "id": "c625f75f",
   "metadata": {},
   "outputs": [],
   "source": [
    "from quagmire import QuagMesh\n",
    "from quagmire import tools as meshtools\n",
    "from quagmire import function as fn\n",
    "from quagmire import equation_systems as systems\n",
    "import quagmire\n",
    "import numpy as np\n",
    "import matplotlib.pyplot as plt\n",
    "from time import time\n",
    "\n",
    "%matplotlib inline"
   ]
  },
  {
   "cell_type": "code",
   "execution_count": 2,
   "id": "75cf4bf5",
   "metadata": {},
   "outputs": [
    {
     "name": "stdout",
     "output_type": "stream",
     "text": [
      "Underlying Mesh type: TriMesh\n"
     ]
    },
    {
     "name": "stdout",
     "output_type": "stream",
     "text": [
      "0 - Delaunay triangulation 0.23752876399998968s\n",
      "0 - Calculate node weights and area 0.008770494000145845s\n",
      "0 - Find boundaries 0.001534550999849671s\n",
      "0 - cKDTree 0.014734394000015527s\n"
     ]
    },
    {
     "name": "stdout",
     "output_type": "stream",
     "text": [
      "0 - Construct neighbour cloud arrays 0.4494891709998683s, (0.2575497359998735s + 0.19189013400000476s)\n",
      "0 - Construct rbf weights 0.09296661799999129s\n",
      "\n",
      "Number of points in the triangulation: 62234\n",
      "Downhill neighbour paths: 2\n"
     ]
    }
   ],
   "source": [
    "minX, maxX = -5.0, 5.0\n",
    "minY, maxY = -5.0, 5.0,\n",
    "\n",
    "spacingX = 0.02\n",
    "spacingY = 0.02\n",
    "\n",
    "x, y, simplices = meshtools.elliptical_mesh(minX, maxX, minY, maxY, spacingX, spacingY, random_scale=1.0)\n",
    "DM = meshtools.create_DMPlex(x, y, simplices)\n",
    "\n",
    "mesh = QuagMesh(DM)\n",
    "\n",
    "print( \"\\nNumber of points in the triangulation: {}\".format(mesh.npoints))\n",
    "print( \"Downhill neighbour paths: {}\".format(mesh.downhill_neighbours))"
   ]
  },
  {
   "cell_type": "code",
   "execution_count": 3,
   "id": "0529d664",
   "metadata": {},
   "outputs": [
    {
     "ename": "AttributeError",
     "evalue": "module 'quagmire.function.misc' has no attribute 'levelset'",
     "output_type": "error",
     "traceback": [
      "\u001b[0;31m---------------------------------------------------------------------------\u001b[0m",
      "\u001b[0;31mAttributeError\u001b[0m                            Traceback (most recent call last)",
      "\u001b[0;32m<ipython-input-3-04b1d81a41a2>\u001b[0m in \u001b[0;36m<module>\u001b[0;34m\u001b[0m\n\u001b[1;32m      1\u001b[0m \u001b[0mx\u001b[0m \u001b[0;34m=\u001b[0m \u001b[0mmesh\u001b[0m\u001b[0;34m.\u001b[0m\u001b[0mcoords\u001b[0m\u001b[0;34m[\u001b[0m\u001b[0;34m:\u001b[0m\u001b[0;34m,\u001b[0m\u001b[0;36m0\u001b[0m\u001b[0;34m]\u001b[0m\u001b[0;34m\u001b[0m\u001b[0;34m\u001b[0m\u001b[0m\n\u001b[1;32m      2\u001b[0m \u001b[0my\u001b[0m \u001b[0;34m=\u001b[0m \u001b[0mmesh\u001b[0m\u001b[0;34m.\u001b[0m\u001b[0mcoords\u001b[0m\u001b[0;34m[\u001b[0m\u001b[0;34m:\u001b[0m\u001b[0;34m,\u001b[0m\u001b[0;36m1\u001b[0m\u001b[0;34m]\u001b[0m\u001b[0;34m\u001b[0m\u001b[0;34m\u001b[0m\u001b[0m\n\u001b[0;32m----> 3\u001b[0;31m \u001b[0mboundary_mask_fn\u001b[0m \u001b[0;34m=\u001b[0m \u001b[0mfn\u001b[0m\u001b[0;34m.\u001b[0m\u001b[0mmisc\u001b[0m\u001b[0;34m.\u001b[0m\u001b[0mlevelset\u001b[0m\u001b[0;34m(\u001b[0m\u001b[0mmesh\u001b[0m\u001b[0;34m.\u001b[0m\u001b[0mmask\u001b[0m\u001b[0;34m,\u001b[0m \u001b[0;36m0.5\u001b[0m\u001b[0;34m)\u001b[0m\u001b[0;34m\u001b[0m\u001b[0;34m\u001b[0m\u001b[0m\n\u001b[0m\u001b[1;32m      4\u001b[0m \u001b[0;34m\u001b[0m\u001b[0m\n\u001b[1;32m      5\u001b[0m \u001b[0mradius\u001b[0m  \u001b[0;34m=\u001b[0m \u001b[0mnp\u001b[0m\u001b[0;34m.\u001b[0m\u001b[0msqrt\u001b[0m\u001b[0;34m(\u001b[0m\u001b[0;34m(\u001b[0m\u001b[0mx\u001b[0m\u001b[0;34m**\u001b[0m\u001b[0;36m2\u001b[0m \u001b[0;34m+\u001b[0m \u001b[0my\u001b[0m\u001b[0;34m**\u001b[0m\u001b[0;36m2\u001b[0m\u001b[0;34m)\u001b[0m\u001b[0;34m)\u001b[0m\u001b[0;34m\u001b[0m\u001b[0;34m\u001b[0m\u001b[0m\n",
      "\u001b[0;31mAttributeError\u001b[0m: module 'quagmire.function.misc' has no attribute 'levelset'"
     ]
    }
   ],
   "source": [
    "x = mesh.coords[:,0]\n",
    "y = mesh.coords[:,1]\n",
    "boundary_mask_fn = fn.misc.levelset(mesh.mask, 0.5)\n",
    "\n",
    "radius  = np.sqrt((x**2 + y**2))\n",
    "theta   = np.arctan2(y,x) + 0.1\n",
    "\n",
    "height  = np.exp(-0.025*(x**2 + y**2)**2)\n",
    "height -= height.min()\n",
    "\n",
    "with mesh.deform_topography():\n",
    "    mesh.downhill_neighbours = 2\n",
    "    mesh.topography.data = height\n",
    "\n",
    "rainfall_fn = mesh.topography ** 2.0"
   ]
  },
  {
   "cell_type": "markdown",
   "id": "74dd5725",
   "metadata": {},
   "source": [
    "## Stream power law\n",
    "\n",
    "The incision rate, written in the so-called stream power form, is,\n",
    "\n",
    "$$\n",
    "\\dot{h}(\\mathbf{x})_\\textrm{incision} = K(\\mathbf{x}) q_r(\\mathbf{x})^m \\left| \\nabla h(\\mathbf{x}) \\right|^n\n",
    "$$\n",
    "\n",
    "where\n",
    "\n",
    "- $q_r$ is the runoff flux\n",
    "- $\\left| \\nabla h(\\mathbf{x}) \\right|$ is the slope\n",
    "- $K$ is the erodability\n",
    "- $m$ is the stream power exponent\n",
    "- $n$ is the slope exponent\n",
    "\n",
    "The runoff flux can be calculated from the upstream integral of runoff for all areas upstream of the point $\\mathbf{x}$,\n",
    "\n",
    "$$\n",
    "q_r(\\mathbf{x})  = \\int_{\\mathrm{upstream}} R(\\xi) \\mathrm{d}\\xi\n",
    "$$\n",
    "\n",
    "We can compute this by assembling a function and evaluating it on the mesh"
   ]
  },
  {
   "cell_type": "code",
   "execution_count": 4,
   "id": "589f91fd",
   "metadata": {},
   "outputs": [
    {
     "ename": "NameError",
     "evalue": "name 'rainfall_fn' is not defined",
     "output_type": "error",
     "traceback": [
      "\u001b[0;31m---------------------------------------------------------------------------\u001b[0m",
      "\u001b[0;31mNameError\u001b[0m                                 Traceback (most recent call last)",
      "\u001b[0;32m<ipython-input-4-c947358a6989>\u001b[0m in \u001b[0;36m<module>\u001b[0;34m\u001b[0m\n\u001b[1;32m      5\u001b[0m \u001b[0;34m\u001b[0m\u001b[0m\n\u001b[1;32m      6\u001b[0m \u001b[0;31m# create stream power function\u001b[0m\u001b[0;34m\u001b[0m\u001b[0;34m\u001b[0m\u001b[0;34m\u001b[0m\u001b[0m\n\u001b[0;32m----> 7\u001b[0;31m \u001b[0mupstream_precipitation_integral_fn\u001b[0m \u001b[0;34m=\u001b[0m \u001b[0mmesh\u001b[0m\u001b[0;34m.\u001b[0m\u001b[0mupstream_integral_fn\u001b[0m\u001b[0;34m(\u001b[0m\u001b[0mrainfall_fn\u001b[0m\u001b[0;34m)\u001b[0m\u001b[0;34m\u001b[0m\u001b[0;34m\u001b[0m\u001b[0m\n\u001b[0m\u001b[1;32m      8\u001b[0m \u001b[0mstream_power_fn\u001b[0m \u001b[0;34m=\u001b[0m \u001b[0mK\u001b[0m\u001b[0;34m*\u001b[0m\u001b[0mupstream_precipitation_integral_fn\u001b[0m\u001b[0;34m**\u001b[0m\u001b[0mm\u001b[0m \u001b[0;34m*\u001b[0m \u001b[0mmesh\u001b[0m\u001b[0;34m.\u001b[0m\u001b[0mslope\u001b[0m\u001b[0;34m**\u001b[0m\u001b[0mn\u001b[0m \u001b[0;34m*\u001b[0m \u001b[0mboundary_mask_fn\u001b[0m\u001b[0;34m\u001b[0m\u001b[0;34m\u001b[0m\u001b[0m\n\u001b[1;32m      9\u001b[0m \u001b[0;34m\u001b[0m\u001b[0m\n",
      "\u001b[0;31mNameError\u001b[0m: name 'rainfall_fn' is not defined"
     ]
    }
   ],
   "source": [
    "# vary these and visualise difference\n",
    "m = fn.parameter(1.0)\n",
    "n = fn.parameter(1.0)\n",
    "K = fn.parameter(1.0)\n",
    "\n",
    "# create stream power function\n",
    "upstream_precipitation_integral_fn = mesh.upstream_integral_fn(rainfall_fn)\n",
    "stream_power_fn = K*upstream_precipitation_integral_fn**m * mesh.slope**n * boundary_mask_fn\n",
    "\n",
    "# evaluate on the mesh\n",
    "stream_power = stream_power_fn.evaluate(mesh)"
   ]
  },
  {
   "cell_type": "code",
   "execution_count": 5,
   "id": "246dd3a9",
   "metadata": {},
   "outputs": [
    {
     "name": "stdout",
     "output_type": "stream",
     "text": [
      "LavaVu Run error: Failed to open X display\n",
      "\n",
      "\n"
     ]
    },
    {
     "ename": "NameError",
     "evalue": "name 'stream_power' is not defined",
     "output_type": "error",
     "traceback": [
      "\u001b[0;31m---------------------------------------------------------------------------\u001b[0m",
      "\u001b[0;31mNameError\u001b[0m                                 Traceback (most recent call last)",
      "\u001b[0;32m<ipython-input-5-3bc64569e5c3>\u001b[0m in \u001b[0;36m<module>\u001b[0;34m\u001b[0m\n\u001b[1;32m     11\u001b[0m \u001b[0mtri1\u001b[0m\u001b[0;34m.\u001b[0m\u001b[0mindices\u001b[0m\u001b[0;34m(\u001b[0m\u001b[0mmesh\u001b[0m\u001b[0;34m.\u001b[0m\u001b[0mtri\u001b[0m\u001b[0;34m.\u001b[0m\u001b[0msimplices\u001b[0m\u001b[0;34m)\u001b[0m\u001b[0;34m\u001b[0m\u001b[0;34m\u001b[0m\u001b[0m\n\u001b[1;32m     12\u001b[0m \u001b[0;34m\u001b[0m\u001b[0m\n\u001b[0;32m---> 13\u001b[0;31m \u001b[0mtri1\u001b[0m\u001b[0;34m.\u001b[0m\u001b[0mvalues\u001b[0m\u001b[0;34m(\u001b[0m\u001b[0mstream_power\u001b[0m\u001b[0;34m,\u001b[0m \u001b[0;34m\"stream_power\"\u001b[0m\u001b[0;34m)\u001b[0m\u001b[0;34m\u001b[0m\u001b[0;34m\u001b[0m\u001b[0m\n\u001b[0m\u001b[1;32m     14\u001b[0m \u001b[0;34m\u001b[0m\u001b[0m\n\u001b[1;32m     15\u001b[0m \u001b[0mtri1\u001b[0m\u001b[0;34m.\u001b[0m\u001b[0mcolourmap\u001b[0m\u001b[0;34m(\u001b[0m\u001b[0;34m\"drywet\"\u001b[0m\u001b[0;34m)\u001b[0m\u001b[0;34m\u001b[0m\u001b[0;34m\u001b[0m\u001b[0m\n",
      "\u001b[0;31mNameError\u001b[0m: name 'stream_power' is not defined"
     ]
    }
   ],
   "source": [
    "import lavavu\n",
    "\n",
    "verts = np.reshape(mesh.tri.points, (-1,2))\n",
    "verts = np.insert(verts, 2, values=mesh.topography.data, axis=1)\n",
    "\n",
    "# setup viewer\n",
    "lv = lavavu.Viewer(border=False, background=\"#FFFFFF\", resolution=[1000,600], near=-10.0)\n",
    "\n",
    "tri1 = lv.triangles(\"triangles\", wireframe=False)\n",
    "tri1.vertices(verts)\n",
    "tri1.indices(mesh.tri.simplices)\n",
    "\n",
    "tri1.values(stream_power, \"stream_power\")\n",
    "\n",
    "tri1.colourmap(\"drywet\")\n",
    "tri1.colourbar()\n",
    "lv.window()"
   ]
  },
  {
   "cell_type": "markdown",
   "id": "6cbacf32",
   "metadata": {},
   "source": [
    "## Erosion and deposition\n",
    "\n",
    "The erosion rate is controlled by $m$ and $n$ which augment the incision done by runoff flux compared to bed slope. The deposition rate is related to the amount of material eroded and carried downstream. In the simplest case we assume the local deposition rate is the amount of material that can be eroded from upstream, but later we will see that eroded material may be suspended over a certain length scale before it is deposited downstream."
   ]
  },
  {
   "cell_type": "markdown",
   "id": "9d64d23c",
   "metadata": {},
   "source": [
    "### 1. Local equilibrium\n",
    "\n",
    "The assumption of the stream power law is that sediment transport is in a state of local equilibrium in which the transport rate is (less than or) equal to the local carrying capacity. If we neglect suspended-load transport for a moment and assume only bed-load transport then the local deposition is the amount of material that can be eroded from upstream."
   ]
  },
  {
   "cell_type": "code",
   "execution_count": 6,
   "id": "0853e4e2",
   "metadata": {},
   "outputs": [
    {
     "ename": "NameError",
     "evalue": "name 'stream_power_fn' is not defined",
     "output_type": "error",
     "traceback": [
      "\u001b[0;31m---------------------------------------------------------------------------\u001b[0m",
      "\u001b[0;31mNameError\u001b[0m                                 Traceback (most recent call last)",
      "\u001b[0;32m<ipython-input-6-fec0e7a306e2>\u001b[0m in \u001b[0;36m<module>\u001b[0;34m\u001b[0m\n\u001b[1;32m      1\u001b[0m \u001b[0mefficiency\u001b[0m \u001b[0;34m=\u001b[0m \u001b[0mfn\u001b[0m\u001b[0;34m.\u001b[0m\u001b[0mparameter\u001b[0m\u001b[0;34m(\u001b[0m\u001b[0;36m1.0\u001b[0m\u001b[0;34m)\u001b[0m\u001b[0;34m\u001b[0m\u001b[0;34m\u001b[0m\u001b[0m\n\u001b[1;32m      2\u001b[0m \u001b[0;34m\u001b[0m\u001b[0m\n\u001b[0;32m----> 3\u001b[0;31m \u001b[0merosion_rate_fn\u001b[0m \u001b[0;34m=\u001b[0m \u001b[0mefficiency\u001b[0m\u001b[0;34m*\u001b[0m\u001b[0mstream_power_fn\u001b[0m\u001b[0;34m\u001b[0m\u001b[0;34m\u001b[0m\u001b[0m\n\u001b[0m\u001b[1;32m      4\u001b[0m \u001b[0mdeposition_rate_fn\u001b[0m \u001b[0;34m=\u001b[0m \u001b[0mmesh\u001b[0m\u001b[0;34m.\u001b[0m\u001b[0mupstream_integral_fn\u001b[0m\u001b[0;34m(\u001b[0m\u001b[0merosion_rate_fn\u001b[0m\u001b[0;34m)\u001b[0m\u001b[0;34m\u001b[0m\u001b[0;34m\u001b[0m\u001b[0m\n\u001b[1;32m      5\u001b[0m \u001b[0;34m\u001b[0m\u001b[0m\n",
      "\u001b[0;31mNameError\u001b[0m: name 'stream_power_fn' is not defined"
     ]
    }
   ],
   "source": [
    "efficiency = fn.parameter(1.0)\n",
    "\n",
    "erosion_rate_fn = efficiency*stream_power_fn\n",
    "deposition_rate_fn = mesh.upstream_integral_fn(erosion_rate_fn)\n",
    "\n",
    "# combined rate of change\n",
    "dHdt_fn1 = deposition_rate_fn - erosion_rate_fn"
   ]
  },
  {
   "cell_type": "markdown",
   "id": "d249892f",
   "metadata": {},
   "source": [
    "### 2. Saltation length\n",
    "\n",
    "This model relates the length of time it takes for a grain to settle to a material property, $L_s$.\n",
    "From Beaumont et al. 1992, Kooi & Beaumont 1994, 1996 we see a linear dependency of deposition flux to stream capacity:\n",
    "\n",
    "$$\n",
    "\\frac{dh}{dt} = \\frac{dq_s}{dl} = \\frac{D_c}{q_c} \\left(q_c - q_s \\right)\n",
    "$$\n",
    "\n",
    "where\n",
    "\n",
    "$$\n",
    "\\frac{D_c}{q_c} = \\frac{1}{L_s}\n",
    "$$\n",
    "\n",
    "$D_c$ is the detachment capacity, $q_c$ is the carrying capacity, $q_s$ is the stream capacity, and $L_s$ is the erosion length scale (a measure of the detachability of the substrate). When the flux equals capacity, $q_c = q_s$, no erosion is possible."
   ]
  },
  {
   "cell_type": "code",
   "execution_count": 7,
   "id": "74024162",
   "metadata": {},
   "outputs": [
    {
     "ename": "NameError",
     "evalue": "name 'stream_power_fn' is not defined",
     "output_type": "error",
     "traceback": [
      "\u001b[0;31m---------------------------------------------------------------------------\u001b[0m",
      "\u001b[0;31mNameError\u001b[0m                                 Traceback (most recent call last)",
      "\u001b[0;32m<ipython-input-7-1e2cd54cff3d>\u001b[0m in \u001b[0;36m<module>\u001b[0;34m\u001b[0m\n\u001b[1;32m      2\u001b[0m \u001b[0mlength_scale\u001b[0m \u001b[0;34m=\u001b[0m \u001b[0mfn\u001b[0m\u001b[0;34m.\u001b[0m\u001b[0mparameter\u001b[0m\u001b[0;34m(\u001b[0m\u001b[0;36m10.0\u001b[0m\u001b[0;34m)\u001b[0m\u001b[0;34m\u001b[0m\u001b[0;34m\u001b[0m\u001b[0m\n\u001b[1;32m      3\u001b[0m \u001b[0;34m\u001b[0m\u001b[0m\n\u001b[0;32m----> 4\u001b[0;31m \u001b[0merosion_rate\u001b[0m \u001b[0;34m=\u001b[0m \u001b[0mefficiency\u001b[0m\u001b[0;34m*\u001b[0m\u001b[0mstream_power_fn\u001b[0m\u001b[0;34m\u001b[0m\u001b[0;34m\u001b[0m\u001b[0m\n\u001b[0m\u001b[1;32m      5\u001b[0m \u001b[0mdeposition_rate\u001b[0m \u001b[0;34m=\u001b[0m \u001b[0mmesh\u001b[0m\u001b[0;34m.\u001b[0m\u001b[0mupstream_integral_fn\u001b[0m\u001b[0;34m(\u001b[0m\u001b[0merosion_rate_fn\u001b[0m\u001b[0;34m)\u001b[0m\u001b[0;34m\u001b[0m\u001b[0;34m\u001b[0m\u001b[0m\n\u001b[1;32m      6\u001b[0m \u001b[0;34m\u001b[0m\u001b[0m\n",
      "\u001b[0;31mNameError\u001b[0m: name 'stream_power_fn' is not defined"
     ]
    }
   ],
   "source": [
    "efficiency = fn.parameter(1.0)\n",
    "length_scale = fn.parameter(10.0)\n",
    "\n",
    "erosion_rate = efficiency*stream_power_fn\n",
    "deposition_rate = mesh.upstream_integral_fn(erosion_rate_fn)\n",
    "\n",
    "# combined rate of change\n",
    "dHdt_fn2 = (deposition_rate - erosion_rate_fn)/length_scale"
   ]
  },
  {
   "cell_type": "markdown",
   "id": "4633adfc",
   "metadata": {},
   "source": [
    "### 3. $\\xi - q$ model\n",
    "\n",
    "Davy and Lague (2009) propose a similar suspended-load model that encapsulates a range of behaviours between detachment and transport-limited end members. This model couples erodability as a function of stream power with a sedimentation term weighted by $\\alpha$.\n",
    "\n",
    "$$\n",
    "\\frac{dh}{dt} = -K q_r^m S^n + \\frac{Q_s}{\\alpha Q_w}\n",
    "$$\n",
    "\n",
    "where $Q_s$ and $Q_w$ are the sedimentary and water discharge, respectively."
   ]
  },
  {
   "cell_type": "code",
   "execution_count": 8,
   "id": "2d14aa6e",
   "metadata": {},
   "outputs": [
    {
     "ename": "NameError",
     "evalue": "name 'stream_power_fn' is not defined",
     "output_type": "error",
     "traceback": [
      "\u001b[0;31m---------------------------------------------------------------------------\u001b[0m",
      "\u001b[0;31mNameError\u001b[0m                                 Traceback (most recent call last)",
      "\u001b[0;32m<ipython-input-8-8f99bc2ef548>\u001b[0m in \u001b[0;36m<module>\u001b[0;34m\u001b[0m\n\u001b[1;32m      3\u001b[0m \u001b[0mr\u001b[0m \u001b[0;34m=\u001b[0m \u001b[0mfn\u001b[0m\u001b[0;34m.\u001b[0m\u001b[0mparameter\u001b[0m\u001b[0;34m(\u001b[0m\u001b[0;36m1\u001b[0m\u001b[0;34m)\u001b[0m\u001b[0;34m\u001b[0m\u001b[0;34m\u001b[0m\u001b[0m\n\u001b[1;32m      4\u001b[0m \u001b[0;34m\u001b[0m\u001b[0m\n\u001b[0;32m----> 5\u001b[0;31m \u001b[0merosion_rate\u001b[0m \u001b[0;34m=\u001b[0m \u001b[0mefficiency\u001b[0m\u001b[0;34m*\u001b[0m\u001b[0mstream_power_fn\u001b[0m\u001b[0;34m\u001b[0m\u001b[0;34m\u001b[0m\u001b[0m\n\u001b[0m\u001b[1;32m      6\u001b[0m \u001b[0mdeposition_rate\u001b[0m \u001b[0;34m=\u001b[0m \u001b[0mmesh\u001b[0m\u001b[0;34m.\u001b[0m\u001b[0mupstream_integral_fn\u001b[0m\u001b[0;34m(\u001b[0m\u001b[0merosion_rate_fn\u001b[0m\u001b[0;34m)\u001b[0m\u001b[0;34m/\u001b[0m\u001b[0;34m(\u001b[0m\u001b[0malpha\u001b[0m\u001b[0;34m*\u001b[0m\u001b[0mstream_power_fn\u001b[0m\u001b[0;34m)\u001b[0m\u001b[0;34m\u001b[0m\u001b[0;34m\u001b[0m\u001b[0m\n\u001b[1;32m      7\u001b[0m \u001b[0;34m\u001b[0m\u001b[0m\n",
      "\u001b[0;31mNameError\u001b[0m: name 'stream_power_fn' is not defined"
     ]
    }
   ],
   "source": [
    "efficiency = fn.parameter(1.0)\n",
    "alpha = fn.parameter(0.5)\n",
    "r = fn.parameter(1)\n",
    "\n",
    "erosion_rate = efficiency*stream_power_fn\n",
    "deposition_rate = mesh.upstream_integral_fn(erosion_rate_fn)/(alpha*stream_power_fn)\n",
    "\n",
    "dHdt_fn3 = deposition_rate - erosion_rate"
   ]
  },
  {
   "cell_type": "code",
   "execution_count": 9,
   "id": "11d0966f",
   "metadata": {},
   "outputs": [
    {
     "name": "stdout",
     "output_type": "stream",
     "text": [
      "LavaVu Run error: Failed to open X display\n",
      "\n",
      "\n"
     ]
    },
    {
     "ename": "NameError",
     "evalue": "name 'dHdt_fn1' is not defined",
     "output_type": "error",
     "traceback": [
      "\u001b[0;31m---------------------------------------------------------------------------\u001b[0m",
      "\u001b[0;31mNameError\u001b[0m                                 Traceback (most recent call last)",
      "\u001b[0;32m<ipython-input-9-c5e4921e914b>\u001b[0m in \u001b[0;36m<module>\u001b[0;34m\u001b[0m\n\u001b[1;32m     11\u001b[0m \u001b[0mtri1\u001b[0m\u001b[0;34m.\u001b[0m\u001b[0mindices\u001b[0m\u001b[0;34m(\u001b[0m\u001b[0mmesh\u001b[0m\u001b[0;34m.\u001b[0m\u001b[0mtri\u001b[0m\u001b[0;34m.\u001b[0m\u001b[0msimplices\u001b[0m\u001b[0;34m)\u001b[0m\u001b[0;34m\u001b[0m\u001b[0;34m\u001b[0m\u001b[0m\n\u001b[1;32m     12\u001b[0m \u001b[0;34m\u001b[0m\u001b[0m\n\u001b[0;32m---> 13\u001b[0;31m \u001b[0mtri1\u001b[0m\u001b[0;34m.\u001b[0m\u001b[0mvalues\u001b[0m\u001b[0;34m(\u001b[0m\u001b[0mdHdt_fn1\u001b[0m\u001b[0;34m.\u001b[0m\u001b[0mevaluate\u001b[0m\u001b[0;34m(\u001b[0m\u001b[0mmesh\u001b[0m\u001b[0;34m)\u001b[0m\u001b[0;34m,\u001b[0m \u001b[0;34m\"EroDep1\"\u001b[0m\u001b[0;34m)\u001b[0m\u001b[0;34m\u001b[0m\u001b[0;34m\u001b[0m\u001b[0m\n\u001b[0m\u001b[1;32m     14\u001b[0m \u001b[0mtri1\u001b[0m\u001b[0;34m.\u001b[0m\u001b[0mvalues\u001b[0m\u001b[0;34m(\u001b[0m\u001b[0mdHdt_fn2\u001b[0m\u001b[0;34m.\u001b[0m\u001b[0mevaluate\u001b[0m\u001b[0;34m(\u001b[0m\u001b[0mmesh\u001b[0m\u001b[0;34m)\u001b[0m\u001b[0;34m,\u001b[0m \u001b[0;34m\"EroDep2\"\u001b[0m\u001b[0;34m)\u001b[0m\u001b[0;34m\u001b[0m\u001b[0;34m\u001b[0m\u001b[0m\n\u001b[1;32m     15\u001b[0m \u001b[0mtri1\u001b[0m\u001b[0;34m.\u001b[0m\u001b[0mvalues\u001b[0m\u001b[0;34m(\u001b[0m\u001b[0mdHdt_fn3\u001b[0m\u001b[0;34m.\u001b[0m\u001b[0mevaluate\u001b[0m\u001b[0;34m(\u001b[0m\u001b[0mmesh\u001b[0m\u001b[0;34m)\u001b[0m\u001b[0;34m,\u001b[0m \u001b[0;34m\"EroDep3\"\u001b[0m\u001b[0;34m)\u001b[0m\u001b[0;34m\u001b[0m\u001b[0;34m\u001b[0m\u001b[0m\n",
      "\u001b[0;31mNameError\u001b[0m: name 'dHdt_fn1' is not defined"
     ]
    }
   ],
   "source": [
    "import lavavu\n",
    "\n",
    "verts = np.reshape(mesh.tri.points, (-1,2))\n",
    "verts = np.insert(verts, 2, values=mesh.topography.data, axis=1)\n",
    "\n",
    "# setup viewer\n",
    "lv = lavavu.Viewer(border=False, background=\"#FFFFFF\", resolution=[1000,600], near=-10.0)\n",
    "\n",
    "tri1 = lv.triangles(\"triangles\", wireframe=False)\n",
    "tri1.vertices(verts)\n",
    "tri1.indices(mesh.tri.simplices)\n",
    "\n",
    "tri1.values(dHdt_fn1.evaluate(mesh), \"EroDep1\")\n",
    "tri1.values(dHdt_fn2.evaluate(mesh), \"EroDep2\")\n",
    "tri1.values(dHdt_fn3.evaluate(mesh), \"EroDep3\")\n",
    "\n",
    "#Create colour bar then load a colourmap into it\n",
    "tri1.colourmap([(0, 'blue'), (0.2, 'white'), (1, 'orange')], reverse=True)\n",
    "tri1.colourbar(size=[0.95,15])\n",
    "tri1.control.List(options=\n",
    "                 [\"EroDep1\", \"EroDep2\", \"EroDep3\"], \n",
    "                  property=\"colourby\", value=\"kappa\", command=\"redraw\")\n",
    "lv.window()"
   ]
  },
  {
   "cell_type": "markdown",
   "id": "9c3490e9",
   "metadata": {},
   "source": [
    "All of these erosion-deposition laws are built-in functions that can be accessed by instanting the `ErosionDepositionEquation` object:\n",
    "\n",
    "```python\n",
    "quagmire.equation_systems.ErosionDepositionEquation(\n",
    "    mesh=None,\n",
    "    rainfall_fn=None,\n",
    "    m=1.0,\n",
    "    n=1.0,\n",
    ")\n",
    "```\n",
    "\n",
    "A timestepping routine is available to be used in conjunction with `DiffusionEquation` to form the necessary components of a landscape evolution model."
   ]
  },
  {
   "cell_type": "code",
   "execution_count": null,
   "id": "8c683532",
   "metadata": {},
   "outputs": [],
   "source": []
  }
 ],
 "metadata": {
  "jupytext": {
   "text_representation": {
    "extension": ".md",
    "format_name": "myst",
    "format_version": 0.12,
    "jupytext_version": "1.6.0"
   }
  },
  "kernelspec": {
   "display_name": "Python 3",
   "language": "python",
   "name": "python3"
  },
  "language_info": {
   "codemirror_mode": {
    "name": "ipython",
    "version": 3
   },
   "file_extension": ".py",
   "mimetype": "text/x-python",
   "name": "python",
   "nbconvert_exporter": "python",
   "pygments_lexer": "ipython3",
   "version": "3.7.10"
  },
  "source_map": [
   12,
   25,
   38,
   54,
   70,
   96,
   110,
   128,
   134,
   140,
   148,
   167,
   176,
   188,
   199,
   223,
   238
  ]
 },
 "nbformat": 4,
 "nbformat_minor": 5
}