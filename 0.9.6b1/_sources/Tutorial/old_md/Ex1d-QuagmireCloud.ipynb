{
 "cells": [
  {
   "cell_type": "markdown",
   "id": "229ed3eb",
   "metadata": {},
   "source": [
    "# quagmire.tools.cloud\n",
    "\n",
    "The `quagmire.tools.cloud` module helps to download and upload data (particularly meshes and meshvariables) from various cloud services.\n",
    "By default, this module provides read-only access to a central repository of meshes and datasets \n",
    "\n",
    "The quagmire cloud uses [PyFilesystem](https://www.pyfilesystem.org/) to establish connections to cloud directories via webdav. This is what `PyFilesystem` promises:\n",
    "\n",
    "   > Filesystem Abstraction for Python.\n",
    "\n",
    "   > Work with files and directories in archives, memory, the cloud etc. as easily as your local drive. Write code now, decide later where the data will be stored; unit test without writing real files; upload files to the cloud without learning a new API; sandbox your file writing code; etc.\n",
    "   \n",
    "Storage for the cloud access is provided by [cloudstor](https://www.aarnet.edu.au/network-and-services/cloud-services/cloudstor/) which is hosted by [AARNET](https://www.aarnet.edu.au/). \n",
    "    \n",
    "    \n",
    "In these examples, we will show how to access mesh and meshvariable data stored in the cloud. The examples we use are taken from the earlier examples."
   ]
  },
  {
   "cell_type": "code",
   "execution_count": 1,
   "id": "89b9a0d0",
   "metadata": {},
   "outputs": [],
   "source": [
    "from quagmire.tools import meshtools\n",
    "from quagmire import QuagMesh\n",
    "from quagmire.mesh import MeshVariable\n",
    "import numpy as np  "
   ]
  },
  {
   "cell_type": "markdown",
   "id": "4e2c68ac",
   "metadata": {},
   "source": [
    "In the `Ex1-Creating-Meshes` notebook we learned how to save a mesh file and how to read it back to re-create the mesh.\n",
    "\n",
    "\n",
    "```python\n",
    "filename = \"Ex1-refined_mesh.h5\"\n",
    "\n",
    "# save from QuagMesh object:\n",
    "# mesh2.save_mesh_to_hdf5(filename)\n",
    "\n",
    "# save from meshtools:\n",
    "meshtools.save_DM_to_hdf5(DM_r2, filename)\n",
    "\n",
    "# load DM from file\n",
    "DM_r2 = meshtools.create_DMPlex_from_hdf5(filename)\n",
    "\n",
    "mesh2 = QuagMesh(DM_r2)\n",
    "\n",
    "print(mesh2.npoints)\n",
    "print(mesh2.area)\n",
    "\n",
    "```\n",
    "\n",
    "    1333\n",
    "    [0.1003038  0.09579325 0.07775106 ... 0.05819681 0.06067121 0.06067121]\n",
    "\n",
    "\n",
    "This mesh is available in the Quagmire cloud and we can create a new PETSc DM and a QuagMesh object directly from the cloud as follows (and it seems to create a valid mesh)"
   ]
  },
  {
   "cell_type": "code",
   "execution_count": 2,
   "id": "20834108",
   "metadata": {},
   "outputs": [
    {
     "name": "stdout",
     "output_type": "stream",
     "text": [
      "Underlying Mesh type: TriMesh\n",
      "0 - Delaunay triangulation 0.0029457980000415773s\n",
      "0 - Calculate node weights and area 0.0007901259999698595s\n",
      "0 - Find boundaries 0.0002769089999219432s\n",
      "0 - cKDTree 0.0007595260000243798s\n",
      "0 - Construct neighbour cloud arrays 0.00975232700000106s, (0.005289876999995613s + 0.004443648000005851s)\n",
      "0 - Construct rbf weights 0.00204806900001131s\n",
      "\n",
      "1333\n",
      "[0.1003038  0.09579325 0.07775106 ... 0.05819681 0.06067121 0.06067121]\n"
     ]
    }
   ],
   "source": [
    "from quagmire.tools.cloud import quagmire_cloud_fs\n",
    "\n",
    "DM_r2 = meshtools.create_DMPlex_from_cloud_fs(\"Examples/Tutorial/Ex1-refined_mesh.h5\")\n",
    "mesh2 = QuagMesh(DM_r2)\n",
    "\n",
    "print()\n",
    "print(mesh2.npoints)\n",
    "print(mesh2.area)"
   ]
  },
  {
   "cell_type": "code",
   "execution_count": 3,
   "id": "4a841321",
   "metadata": {},
   "outputs": [
    {
     "name": "stdout",
     "output_type": "stream",
     "text": [
      "Underlying Mesh type: TriMesh\n",
      "0 - Delaunay triangulation 0.1670834939999395s\n",
      "0 - Calculate node weights and area 0.004972265999981573s\n",
      "0 - Find boundaries 0.0015315510000846189s\n",
      "0 - cKDTree 0.009246110000049157s\n"
     ]
    },
    {
     "name": "stdout",
     "output_type": "stream",
     "text": [
      "0 - Construct neighbour cloud arrays 0.3229323129999102s, (0.1885026119999793s + 0.1343639990000156s)\n",
      "0 - Construct rbf weights 0.05818934900003114s\n",
      "47361\n",
      "[0.00110479 0.00115039 0.00175107 ... 0.0004392  0.00040675 0.0006897 ]\n"
     ]
    }
   ],
   "source": [
    "DMC = meshtools.create_DMPlex_from_cloud_fs(\"Examples/Tutorial/Ex1a-circular_mesh.h5\")\n",
    "meshC = QuagMesh(DMC)\n",
    "\n",
    "print(meshC.npoints)\n",
    "print(meshC.area)\n",
    "\n",
    "phi = meshC.add_variable(name=\"PHI(X,Y)\")\n",
    "psi = meshC.add_variable(name=\"PSI(X,Y)\")"
   ]
  },
  {
   "cell_type": "code",
   "execution_count": 4,
   "id": "0b216dc1",
   "metadata": {},
   "outputs": [],
   "source": [
    "phi.load_from_cloud_fs(\"Examples/Tutorial/Ex1a-circular_mesh_phi.h5\")"
   ]
  },
  {
   "cell_type": "markdown",
   "id": "60cb27d7",
   "metadata": {},
   "source": [
    "## My cloud ?\n",
    "\n",
    "The quagmire cloud is intended for the developers to share examples and pre-computed meshes with users but it is read only. If you wish to use cloud-storage for your own files, you will need to use the full functionality of the quagmire cloud interface.\n",
    "\n",
    "For example, the functionality for loading the mesh variables has a more general form:\n",
    "\n",
    "\n",
    "```python\n",
    "\n",
    "from quagmire.tools.cloud import cloudstor\n",
    "\n",
    "cloudstor_fs = cloudstor(url=\"https://cloudstor.aarnet.edu.au/plus/s/4SEAhkqSlTojYhv\", password=\"8M7idzp2Q7DXLMz()()()()()\")\n",
    "cloud_dir = cloudstor_fs.opendir('/')\n",
    "\n",
    "phi.load_from_cloud_fs(\"Examples/Tutorial/Ex1a-circular_mesh_phi.h5\", cloud_location_handle=cloud_dir)\n",
    "\n",
    "```\n",
    "\n",
    "This is using the `PyFilesystem` webdav interface for accessing public urls on cloudstor. If you have a cloudstor account, you can use obtain a public link to share any folder, set your own password and create your own cloud access. \n",
    "\n",
    "## My cloud, but not cloudstor ?\n",
    "\n",
    "The interface that we provide to cloudstor can be generalised some more:\n",
    "\n",
    "``` python\n",
    "import fs\n",
    "\n",
    "username = \"4SEAhkqSlTojYhv\"\n",
    "password = \"8M7idzp2Q7DXLMz()()()()()\" \n",
    "webdav_url = \"webdav://{}:{}@cloudstor.aarnet.edu.au:443/plus/public.php/webdav/\".format(username, password)\n",
    "cloud_dir = fs.open_fs(webdav_url)\n",
    "\n",
    "phi.load_from_cloud_fs(\"Examples/Tutorial/Ex1a-circular_mesh_phi.h5\", cloud_location_handle=cloud_dir)\n",
    "```\n",
    "\n",
    "As long as you can obtain a valid fs.open_fs object that points to a folder somewhere, then meshes and mesh variables can be loaded from those locations without explicitly having to download those files first. You will need to dig into your cloud providers webdav interface to make this work for you."
   ]
  },
  {
   "cell_type": "code",
   "execution_count": 5,
   "id": "3d1afbcd",
   "metadata": {},
   "outputs": [
    {
     "ename": "NameError",
     "evalue": "name 'fs' is not defined",
     "output_type": "error",
     "traceback": [
      "\u001b[0;31m---------------------------------------------------------------------------\u001b[0m",
      "\u001b[0;31mNameError\u001b[0m                                 Traceback (most recent call last)",
      "\u001b[0;32m<ipython-input-5-bc6588cc98c5>\u001b[0m in \u001b[0;36m<module>\u001b[0;34m\u001b[0m\n\u001b[1;32m      2\u001b[0m \u001b[0mpassword\u001b[0m \u001b[0;34m=\u001b[0m \u001b[0;34m\"8M7idzp2Q7DXLMz()()()()()\"\u001b[0m\u001b[0;34m\u001b[0m\u001b[0;34m\u001b[0m\u001b[0m\n\u001b[1;32m      3\u001b[0m \u001b[0mwebdav_url\u001b[0m \u001b[0;34m=\u001b[0m \u001b[0;34m\"webdav://{}:{}@cloudstor.aarnet.edu.au:443/plus/public.php/webdav/\"\u001b[0m\u001b[0;34m.\u001b[0m\u001b[0mformat\u001b[0m\u001b[0;34m(\u001b[0m\u001b[0musername\u001b[0m\u001b[0;34m,\u001b[0m \u001b[0mpassword\u001b[0m\u001b[0;34m)\u001b[0m\u001b[0;34m\u001b[0m\u001b[0;34m\u001b[0m\u001b[0m\n\u001b[0;32m----> 4\u001b[0;31m \u001b[0mcloud_dir\u001b[0m \u001b[0;34m=\u001b[0m \u001b[0mfs\u001b[0m\u001b[0;34m.\u001b[0m\u001b[0mopen_fs\u001b[0m\u001b[0;34m(\u001b[0m\u001b[0mwebdav_url\u001b[0m\u001b[0;34m)\u001b[0m\u001b[0;34m\u001b[0m\u001b[0;34m\u001b[0m\u001b[0m\n\u001b[0m\u001b[1;32m      5\u001b[0m \u001b[0;34m\u001b[0m\u001b[0m\n\u001b[1;32m      6\u001b[0m \u001b[0mphi\u001b[0m\u001b[0;34m.\u001b[0m\u001b[0mload_from_cloud_fs\u001b[0m\u001b[0;34m(\u001b[0m\u001b[0;34m\"Examples/Tutorial/Ex1a-circular_mesh_phi.h5\"\u001b[0m\u001b[0;34m,\u001b[0m \u001b[0mcloud_location_handle\u001b[0m\u001b[0;34m=\u001b[0m\u001b[0mcloud_dir\u001b[0m\u001b[0;34m)\u001b[0m\u001b[0;34m\u001b[0m\u001b[0;34m\u001b[0m\u001b[0m\n",
      "\u001b[0;31mNameError\u001b[0m: name 'fs' is not defined"
     ]
    }
   ],
   "source": [
    "username = \"4SEAhkqSlTojYhv\"\n",
    "password = \"8M7idzp2Q7DXLMz()()()()()\" \n",
    "webdav_url = \"webdav://{}:{}@cloudstor.aarnet.edu.au:443/plus/public.php/webdav/\".format(username, password)\n",
    "cloud_dir = fs.open_fs(webdav_url)\n",
    "\n",
    "phi.load_from_cloud_fs(\"Examples/Tutorial/Ex1a-circular_mesh_phi.h5\", cloud_location_handle=cloud_dir)"
   ]
  },
  {
   "cell_type": "markdown",
   "id": "7f527cb6",
   "metadata": {},
   "source": [
    "## I want to share a file for others to access\n",
    "\n",
    "If you can provide a url to a file that can be accessed, then the quagmire cloud tools allow you to load a mesh or mesh variable from that link. Examples include providing a dropbox or google drive public link to a file.\n",
    "\n",
    "Google drive provides urls for file sharing that need some manipulation to work in a python script. For a google URL that you copy from the web interface, use `url = quagmire.tools.cloud.google_drive_convert_link(g_url)`"
   ]
  },
  {
   "cell_type": "code",
   "execution_count": 6,
   "id": "8e97a93a",
   "metadata": {},
   "outputs": [
    {
     "name": "stdout",
     "output_type": "stream",
     "text": [
      "[0.90167197 0.90920399 0.92674766 ... 0.90735785 0.91259299 0.91574316]\n"
     ]
    },
    {
     "name": "stdout",
     "output_type": "stream",
     "text": [
      "[0.90167197 0.90920399 0.92674766 ... 0.90735785 0.91259299 0.91574316]\n"
     ]
    },
    {
     "ename": "NameError",
     "evalue": "name 'cloud_dir' is not defined",
     "output_type": "error",
     "traceback": [
      "\u001b[0;31m---------------------------------------------------------------------------\u001b[0m",
      "\u001b[0;31mNameError\u001b[0m                                 Traceback (most recent call last)",
      "\u001b[0;32m<ipython-input-6-65cf2ac0d4ee>\u001b[0m in \u001b[0;36m<module>\u001b[0;34m\u001b[0m\n\u001b[1;32m     10\u001b[0m \u001b[0;31m# Verification\u001b[0m\u001b[0;34m\u001b[0m\u001b[0;34m\u001b[0m\u001b[0;34m\u001b[0m\u001b[0m\n\u001b[1;32m     11\u001b[0m \u001b[0mpsi\u001b[0m\u001b[0;34m.\u001b[0m\u001b[0mdata\u001b[0m \u001b[0;34m=\u001b[0m \u001b[0;36m0.0\u001b[0m\u001b[0;34m\u001b[0m\u001b[0;34m\u001b[0m\u001b[0m\n\u001b[0;32m---> 12\u001b[0;31m \u001b[0mpsi\u001b[0m\u001b[0;34m.\u001b[0m\u001b[0mload_from_cloud_fs\u001b[0m\u001b[0;34m(\u001b[0m\u001b[0;34m\"Examples/Tutorial/Ex1a-circular_mesh_psi.h5\"\u001b[0m\u001b[0;34m,\u001b[0m \u001b[0mcloud_location_handle\u001b[0m\u001b[0;34m=\u001b[0m\u001b[0mcloud_dir\u001b[0m\u001b[0;34m)\u001b[0m\u001b[0;34m\u001b[0m\u001b[0;34m\u001b[0m\u001b[0m\n\u001b[0m\u001b[1;32m     13\u001b[0m \u001b[0mprint\u001b[0m\u001b[0;34m(\u001b[0m\u001b[0mpsi\u001b[0m\u001b[0;34m.\u001b[0m\u001b[0mdata\u001b[0m\u001b[0;34m)\u001b[0m\u001b[0;34m\u001b[0m\u001b[0;34m\u001b[0m\u001b[0m\n",
      "\u001b[0;31mNameError\u001b[0m: name 'cloud_dir' is not defined"
     ]
    }
   ],
   "source": [
    "psi.data = 0.0\n",
    "psi.load_from_url(\"https://www.dropbox.com/s/5dzujlo3ayo5s35/Ex1a-circular_mesh_psi.h5?dl=0\")\n",
    "print(psi.data)\n",
    "\n",
    "# Note the dropbox link is to the file only, regardless of the tail of the URL:\n",
    "psi.data = 0.0\n",
    "psi.load_from_url(\"https://www.dropbox.com/s/5dzujlo3ayo5s35\")\n",
    "print(psi.data)\n",
    "\n",
    "# Verification\n",
    "psi.data = 0.0\n",
    "psi.load_from_cloud_fs(\"Examples/Tutorial/Ex1a-circular_mesh_psi.h5\", cloud_location_handle=cloud_dir)\n",
    "print(psi.data)"
   ]
  },
  {
   "cell_type": "code",
   "execution_count": 7,
   "id": "a8bf0f08",
   "metadata": {},
   "outputs": [
    {
     "name": "stdout",
     "output_type": "stream",
     "text": [
      "https://drive.google.com/uc?export=download&id=17t8jbPFmnB8aHhyYDbxjGrzKqtq6IlCa\n"
     ]
    },
    {
     "name": "stdout",
     "output_type": "stream",
     "text": [
      "[0.90167197 0.90920399 0.92674766 ... 0.90735785 0.91259299 0.91574316]\n"
     ]
    }
   ],
   "source": [
    "from quagmire.tools.cloud import google_drive_convert_link\n",
    "\n",
    "psi.data = 0.0\n",
    "gurl = \"https://drive.google.com/file/d/17t8jbPFmnB8aHhyYDbxjGrzKqtq6IlCa/view?usp=sharing\"\n",
    "url = google_drive_convert_link(gurl)\n",
    "print(url)\n",
    "psi.load_from_url(url)\n",
    "print(psi.data)"
   ]
  },
  {
   "cell_type": "markdown",
   "id": "797b0bc7",
   "metadata": {},
   "source": [
    "## Upload / download tools\n",
    "\n",
    "The `quagmire.tools.cloud` functions `cloud_upload` and `cloud_download` wrap PyFilesystem calls to make sure that they check the validity of the filesystem objects and work well within a parallel environment (only the root processor will download the file).\n",
    "\n",
    "The `quagmire.tools.cloud` function `url_download` provides similar capability for a standard http or https request to download a file from a public link and also ensures this is done only once in a parallel environment."
   ]
  },
  {
   "cell_type": "code",
   "execution_count": null,
   "id": "6a03a5a3",
   "metadata": {},
   "outputs": [],
   "source": []
  }
 ],
 "metadata": {
  "jupytext": {
   "text_representation": {
    "extension": ".md",
    "format_name": "myst",
    "format_version": 0.13,
    "jupytext_version": "1.11.1"
   }
  },
  "kernelspec": {
   "display_name": "Python 3",
   "language": "python",
   "name": "python3"
  },
  "language_info": {
   "codemirror_mode": {
    "name": "ipython",
    "version": 3
   },
   "file_extension": ".py",
   "mimetype": "text/x-python",
   "name": "python",
   "nbconvert_exporter": "python",
   "pygments_lexer": "ipython3",
   "version": "3.7.10"
  },
  "source_map": [
   12,
   30,
   35,
   65,
   76,
   87,
   89,
   128,
   135,
   143,
   159,
   168,
   176
  ]
 },
 "nbformat": 4,
 "nbformat_minor": 5
}