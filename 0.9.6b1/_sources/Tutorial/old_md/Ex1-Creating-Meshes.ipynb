{
 "cells": [
  {
   "cell_type": "markdown",
   "id": "192dc92d",
   "metadata": {},
   "source": [
    "# Example 1 - creating structured and unstructured meshes\n",
    "\n",
    "`Quagmire` can model surface processess on a structured rectangular grid or unstructured triangulated points. These use-cases are bundled into two objects:\n",
    "\n",
    "- `PixMesh`: meshing on a rectangular grid\n",
    "- `TriMesh`: meshing on unstructured triangular points\n",
    "- `sTriMesh`: meshing on unstructured triangular points on the sphere\n",
    "\n",
    "All meshes are generated and handed to Quagmire using a `DM` object where the selection of `PixMesh`, `TriMesh`, or `sTriMesh` is identified automatically by `QuagMesh`. The following data structures are built:\n",
    "\n",
    "- Delaunay triangulation\n",
    "- node neighbour array\n",
    "- pointwise area and weights\n",
    "- boundary information\n",
    "- Rbf smoothing kernel\n",
    "\n",
    "In this notebook we setup different `DM` objects using meshes found in the `quagmire.tools.meshtools` path and hand them to `QuagMesh`."
   ]
  },
  {
   "cell_type": "code",
   "execution_count": null,
   "id": "fc730e14",
   "metadata": {
    "pycharm": {
     "is_executing": false
    }
   },
   "outputs": [],
   "source": [
    "from quagmire.tools import meshtools\n",
    "from quagmire import QuagMesh\n",
    "import numpy as np"
   ]
  },
  {
   "cell_type": "markdown",
   "id": "fe47e529",
   "metadata": {},
   "source": [
    "## Structured grids"
   ]
  },
  {
   "cell_type": "code",
   "execution_count": null,
   "id": "9f79fbe5",
   "metadata": {
    "pycharm": {
     "is_executing": false
    }
   },
   "outputs": [],
   "source": [
    "minX, maxX = -5.0, 5.0\n",
    "minY, maxY = -5.0, 5.0\n",
    "\n",
    "resX = 75\n",
    "resY = 75\n",
    "\n",
    "DM = meshtools.create_DMDA(minX, maxX, minY, maxY, resX, resY)\n",
    "\n",
    "print(type(DM))"
   ]
  },
  {
   "cell_type": "markdown",
   "id": "801d122d",
   "metadata": {},
   "source": [
    "This is a native PETSc data management object for structured grids (`DMDA`). This object has a number of \n",
    "useful methods and attached data which can be listed with\n",
    "\n",
    "```python\n",
    "help(DM)\n",
    "```\n",
    "\n",
    "We hand this to `QuagMesh` to generate the necessary data structures for gradient operations, smoothing, neighbour allocation, etc."
   ]
  },
  {
   "cell_type": "code",
   "execution_count": null,
   "id": "470e90b6",
   "metadata": {
    "pycharm": {
     "is_executing": false
    }
   },
   "outputs": [],
   "source": [
    "mesh = QuagMesh(DM)"
   ]
  },
  {
   "cell_type": "markdown",
   "id": "9327baa9",
   "metadata": {},
   "source": [
    "We attach data to a mesh solely through mesh variables (see [Example notebook](Ex1a-QuagmireMeshVariables.md) for details)\n",
    "\n",
    "``` python\n",
    "    mesh_variable = mesh.add_variable(name=\"data1\")\n",
    "    mesh_variable.data = np.sin(mesh.coords[:,0] * np.pi)\n",
    "    mesh_variable.sync()\n",
    "```\n",
    "\n",
    "The `sync` operation ensures data is coherent across processors - \n",
    "it is harmless and relatively inexpensive so is safe to use even \n",
    "in cases like this where there is no way for information to be out\n",
    "of sync between domains."
   ]
  },
  {
   "cell_type": "code",
   "execution_count": null,
   "id": "0f0f91b9",
   "metadata": {
    "pycharm": {
     "is_executing": false
    }
   },
   "outputs": [],
   "source": [
    "mesh_variable = mesh.add_variable(name=\"data1\")\n",
    "mesh_variable.data = np.sin(mesh.coords[:,0] * np.pi)\n",
    "mesh_variable.sync()\n",
    "\n",
    "mesh_variable2 = mesh.add_variable(name=\"data2\")\n",
    "mesh_variable2.data = np.sin(mesh.coords[:,0] * np.pi) * np.cos(mesh.coords[:,1] * np.pi) \n",
    "mesh_variable2.sync()"
   ]
  },
  {
   "cell_type": "code",
   "execution_count": null,
   "id": "a8c60c16",
   "metadata": {},
   "outputs": [],
   "source": []
  },
  {
   "cell_type": "code",
   "execution_count": null,
   "id": "dd4b52d3",
   "metadata": {},
   "outputs": [],
   "source": [
    "import k3d\n",
    "plot = k3d.plot()\n",
    "\n",
    "# here you would normally create objects to display\n",
    "# and add them to the plot\n",
    "\n",
    "plot.display()"
   ]
  },
  {
   "cell_type": "code",
   "execution_count": null,
   "id": "2bfa3b6b",
   "metadata": {},
   "outputs": [],
   "source": [
    "import ipyvolume as ipv\n",
    "import numpy as np\n",
    "\n",
    "s = 1/2**0.5\n",
    "# 4 vertices for the tetrahedron\n",
    "x = np.array([1.,  -1, 0,  0])\n",
    "y = np.array([0,   0, 1., -1])\n",
    "z = np.array([-s, -s, s,  s])\n",
    "# and 4 surfaces (triangles), where the number refer to the vertex index\n",
    "triangles = [(0, 1, 2), (0, 1, 3), (0, 2, 3), (1,3,2)]"
   ]
  },
  {
   "cell_type": "code",
   "execution_count": null,
   "id": "f3c11da4",
   "metadata": {},
   "outputs": [],
   "source": [
    "ipv.figure()\n",
    "# we draw the tetrahedron\n",
    "mesh = ipv.plot_trisurf(x, y, z, triangles=triangles, color='orange')\n",
    "# and also mark the vertices\n",
    "ipv.scatter(x, y, z, marker='sphere', color='blue')\n",
    "ipv.xyzlim(-2, 2)\n",
    "ipv.show()"
   ]
  },
  {
   "cell_type": "code",
   "execution_count": null,
   "id": "5c47c84a",
   "metadata": {
    "pycharm": {
     "is_executing": false
    }
   },
   "outputs": [],
   "source": [
    "import lavavu\n",
    "\n",
    "lv = lavavu.Viewer(border=False, background=\"#FFFFFF\", resolution=[500,500], near=-10.0)\n",
    "\n",
    "lvmesh = lv.quads(dims=(mesh.nx, mesh.ny), wireframe=True)\n",
    "lvmesh.vertices(mesh.coords)\n",
    "lvmesh.values( mesh_variable.data, \"sinx\")\n",
    "lvmesh.colourmap(\"#FF0000, #555555 #0000FF\", range=[-1.0,1.0])\n",
    "\n",
    "# The mesh can be given a height mapping like this\n",
    "\n",
    "vertices = np.zeros((mesh.coords.shape[0],3))\n",
    "vertices[:,0:2] = mesh.coords\n",
    "vertices[:,2]   = mesh_variable2.data * 0.5\n",
    "\n",
    "lvmesh2 = lv.quads(dims=(mesh.nx, mesh.ny), wireframe=False)\n",
    "lvmesh2.vertices(vertices)\n",
    "lvmesh2.values(mesh_variable2.data,\"sinxcosy\")\n",
    "lvmesh2.colourmap(\"#FF0000, #FFFFFF:0.5 #0000FF\", range=[-1.0,1.0])\n",
    "\n",
    "\n",
    "lv.control.Panel()\n",
    "lv.control.ObjectList()\n",
    "lv.control.show()"
   ]
  },
  {
   "cell_type": "markdown",
   "id": "3fda637e",
   "metadata": {},
   "source": [
    "## Unstructured meshes\n",
    "\n",
    "This is handled by PETSc's `DMPlex` object, which requires the connectivity of a set of points. The connectivity between points can be triangulated using the built-in mesh creation tools:\n",
    "\n",
    "```python\n",
    "x, y, simplices = square_mesh(minX, maxX, minY, maxY, spacingX, spacingY)\n",
    "x, y, simplices = elliptical_mesh(minX, maxX, minY, maxY, spacingX, spacingY)\n",
    "```\n",
    "\n",
    "and handed to `DMPlex` using:\n",
    "\n",
    "```python\n",
    "DM = meshtools.create_DMPlex(x, y, simplices, boundary_vertices=None, refinement_levels=0)\n",
    "```\n",
    "\n",
    "---\n",
    "\n",
    "Alternatively, an arbitrary set of points (without duplicates) can be triangulated and processed as a `DMPlex` object using:\n",
    "\n",
    "```python\n",
    "meshtools.create_DMPlex_from_points(x, y, bmask=None, refinement_levels=0)\n",
    "```\n",
    "\n",
    "If no boundary information is provided, the boundary is assumed to be the convex hull of points.\n",
    "\n",
    "\n",
    "#### Parallel notes\n",
    "\n",
    "The triangulation from the root processor is distributed to other processors using the `DM` object, including boundary points and boundary edges. The mesh can be refined efficiently in parallel using the `refine_dm` method. The order of this operation is important:\n",
    "\n",
    "1. Triangulate points\n",
    "2. Mark boundary edges\n",
    "3. Distribute `DMPlex` to other processors\n",
    "4. Refine the mesh"
   ]
  },
  {
   "cell_type": "markdown",
   "id": "3f20de67",
   "metadata": {},
   "source": [
    "## Elliptical mesh"
   ]
  },
  {
   "cell_type": "code",
   "execution_count": null,
   "id": "128f7cc2",
   "metadata": {},
   "outputs": [],
   "source": [
    "spacingX = 0.1\n",
    "spacingY = 0.1\n",
    "\n",
    "x, y, simplices = meshtools.elliptical_mesh(minX, maxX, minY, maxY, spacingX, spacingY)\n",
    "DM = meshtools.create_DMPlex(x, y, simplices)\n",
    "\n",
    "mesh = QuagMesh(DM)\n",
    "\n",
    "\n",
    "mesh_equant = mesh.neighbour_cloud_distances.mean(axis=1) / ( np.sqrt(mesh.area))"
   ]
  },
  {
   "cell_type": "code",
   "execution_count": null,
   "id": "6a8a63ed",
   "metadata": {},
   "outputs": [],
   "source": [
    "import lavavu\n",
    "\n",
    "lv = lavavu.Viewer(border=False, background=\"#FFFFFF\", resolution=[1000,600], near=-10.0)\n",
    "\n",
    "# lavavu also works in 3D - so need to stitch in a Z component  (zero or a height)\n",
    "\n",
    "vertices = np.zeros((mesh.tri.points.shape[0],3))\n",
    "vertices[:,0:2] = mesh.tri.points\n",
    "# vertices[:,2] = heights\n",
    "\n",
    "bnodes = lv.points(\"Boundary Points\", pointsize=10.0, pointtype=\"shiny\", colour=\"red\", opacity=0.75)\n",
    "bnodes.vertices(vertices[~mesh.bmask])\n",
    "\n",
    "nodes = lv.points(\"All Points\", pointsize=10.0, pointtype=\"shiny\", colour=\"blue\", opacity=0.75)\n",
    "nodes.vertices(vertices)\n",
    "\n",
    "simp = lv.triangles(\"Triangle Edges\", wireframe=True, colour=\"#442222\", opacity=0.75)\n",
    "simp.vertices(vertices)\n",
    "simp.indices(mesh.tri.simplices)\n",
    "\n",
    "tris = lv.triangles(\"Triangle Areas\",  wireframe=False, colour=\"#77ff88\", opacity=1.0)\n",
    "tris.vertices(vertices-(0.0,0.0,0.01))\n",
    "tris.indices(mesh.tri.simplices)\n",
    "tris.values(mesh_equant, label=\"pointwise_area\")\n",
    "\n",
    "tris.colourmap(\"#000000, #FFFFFF\")\n",
    "cb = tris.colourbar()\n",
    "\n",
    "lv.control.Panel()\n",
    "lv.control.ObjectList()\n",
    "lv.control.show()\n",
    "\n",
    "lv.show()"
   ]
  },
  {
   "cell_type": "markdown",
   "id": "14822f2a",
   "metadata": {},
   "source": [
    "## Mesh improvement\n",
    "\n",
    "Applies Lloyd's algorithm of iterated voronoi construction to improve the mesh point locations. This distributes the points to a more uniform spacing with more equant triangles. It can be very slow for anything but a small mesh. [Refining](#Mesh-refinement) the mesh a few times will produce a large, well-spaced mesh."
   ]
  },
  {
   "cell_type": "code",
   "execution_count": null,
   "id": "519e171a",
   "metadata": {},
   "outputs": [],
   "source": [
    "bmask = mesh.bmask.copy()\n",
    "\n",
    "x1, y1 = meshtools.lloyd_mesh_improvement(x, y, bmask, iterations=3)\n",
    "DM = meshtools.create_DMPlex_from_points(x1, y1, bmask)\n",
    "\n",
    "mesh1 = QuagMesh(DM)"
   ]
  },
  {
   "cell_type": "code",
   "execution_count": null,
   "id": "497f19bd",
   "metadata": {},
   "outputs": [],
   "source": [
    "mesh1_equant = mesh1.neighbour_cloud_distances.mean(axis=1) / ( np.sqrt(mesh1.area))"
   ]
  },
  {
   "cell_type": "code",
   "execution_count": null,
   "id": "fa51380b",
   "metadata": {},
   "outputs": [],
   "source": [
    "import lavavu\n",
    "\n",
    "lv = lavavu.Viewer(border=False, background=\"#FFFFFF\", resolution=[1000,600], near=-10.0)\n",
    "\n",
    "# lavavu assumes 3D - so need to stitch in a Z component  (zero or a height)\n",
    "\n",
    "vertices = np.zeros((mesh1.tri.points.shape[0],3))\n",
    "vertices[:,0:2] = mesh1.tri.points\n",
    "\n",
    "bnodes = lv.points(\"Boundary Points\", pointsize=10.0, pointtype=\"shiny\", colour=\"red\", opacity=0.75)\n",
    "bnodes.vertices(vertices[~mesh1.bmask])\n",
    "\n",
    "simp = lv.triangles(\"Triangle Edges\", wireframe=True, colour=\"#442222\", opacity=0.75)\n",
    "simp.vertices(vertices)\n",
    "simp.indices(mesh1.tri.simplices)\n",
    "\n",
    "tris = lv.triangles(\"Triangle Areas\",  wireframe=False, colour=\"#77ff88\", opacity=1.0)\n",
    "tris.vertices(vertices-(0.0,0.0,0.01))\n",
    "tris.indices(mesh1.tri.simplices)\n",
    "tris.values(mesh1_equant, label=\"pointwise_area\")\n",
    "\n",
    "tris.colourmap(\"#000000, #FFFFFF\", range=[1.0,0.9*mesh1_equant.mean()])\n",
    "\n",
    "cb = tris.colourbar()\n",
    "\n",
    "lv.control.Panel()\n",
    "lv.control.ObjectList()\n",
    "lv.control.show()\n",
    "\n",
    "lv.show()"
   ]
  },
  {
   "cell_type": "code",
   "execution_count": null,
   "id": "8811dd18",
   "metadata": {},
   "outputs": [],
   "source": [
    "# Comparison of point-wise area for original and improved mesh\n",
    "\n",
    "\n",
    "import matplotlib.pyplot as plt\n",
    "%matplotlib inline\n",
    "\n",
    "\n",
    "fig, (ax1, ax2) = plt.subplots(1,2, figsize=(10,4))\n",
    "\n",
    "ax1.hist(mesh_equant, density=True)\n",
    "ax2.hist(mesh1_equant, density=True)\n",
    "\n",
    "ax1.set_title('original mesh')\n",
    "ax2.set_title('improved mesh')\n",
    "\n",
    "plt.show()"
   ]
  },
  {
   "cell_type": "markdown",
   "id": "140995ca",
   "metadata": {},
   "source": [
    "## Mesh refinement\n",
    "\n",
    "Triangulating a large set of points on a single processor then distributing the mesh across multiple processors can be very slow. A more time effective workflow is to create an initial `DM` with a small number of points, then refine the mesh in parallel. This is achieved by adding the midpoint of each line segment to the mesh and can be iteratively refined until the desired level of detail is reached.\n",
    "\n",
    "```python\n",
    "refine_DM(dm, refinement_levels=1)\n",
    "```"
   ]
  },
  {
   "cell_type": "code",
   "execution_count": null,
   "id": "92766a7c",
   "metadata": {},
   "outputs": [],
   "source": [
    "spacingX = 0.5\n",
    "spacingY = 0.5\n",
    "\n",
    "x, y, simplices = meshtools.elliptical_mesh(minX, maxX, minY, maxY, spacingX, spacingY)\n",
    "DM = meshtools.create_DMPlex(x, y, simplices)\n",
    "\n",
    "DM_r1 = meshtools.refine_DM(DM, refinement_levels=1)\n",
    "DM_r2 = meshtools.refine_DM(DM, refinement_levels=2)\n",
    "\n",
    "\n",
    "# verbose=False turns off the timings\n",
    "\n",
    "mesh0 = QuagMesh(DM, verbose=False)\n",
    "mesh1 = QuagMesh(DM_r1, verbose=False)\n",
    "mesh2 = QuagMesh(DM_r2, verbose=False)\n",
    "\n",
    "\n",
    "v = DM_r1.getCoordinates()\n",
    "v.array.shape"
   ]
  },
  {
   "cell_type": "code",
   "execution_count": null,
   "id": "8e371a29",
   "metadata": {},
   "outputs": [],
   "source": [
    "def plot_points(lv, points, label, **kwargs):    \n",
    "    lv_pts = lv.points(label, **kwargs)\n",
    "    lv_pts.vertices(points)\n",
    "    return lv_pts\n",
    "\n",
    "def plot_triangles(lv, points, triangles, label, **kwargs):\n",
    "    lv_tri = lv.triangles(label, **kwargs)\n",
    "    lv_tri.vertices(points)\n",
    "    lv_tri.indices(triangles)\n",
    "    return lv_tri\n",
    "\n",
    "\n",
    "lv = lavavu.Viewer(border=False, background=\"#FFFFFF\", resolution=[1000,600], near=-10.0)\n",
    "\n",
    "bnodes0 = plot_points(lv, mesh0.coords[~mesh0.bmask], \"boundary_points_r0\", colour=\"red\", pointsize=10)\n",
    "bnodes1 = plot_points(lv, mesh1.coords[~mesh1.bmask], \"boundary_points_r1\", colour=\"blue\", pointsize=10)\n",
    "bnodes2 = plot_points(lv, mesh2.coords[~mesh2.bmask], \"boundary_points_r2\", colour=\"#336611\", pointsize=10)\n",
    "\n",
    "tri0 = plot_triangles(lv, mesh0.coords, mesh0.tri.simplices, \"mesh_r0\", wireframe=True, linewidth=1.5, colour=\"red\")\n",
    "tri1 = plot_triangles(lv, mesh1.coords, mesh1.tri.simplices, \"mesh_r1\", wireframe=True, linewidth=1.0, colour=\"blue\")\n",
    "tri2 = plot_triangles(lv, mesh2.coords, mesh2.tri.simplices, \"mesh_r2\", wireframe=True, linewidth=1.0, colour=\"#336611\")\n",
    "\n",
    "lv.control.Panel()\n",
    "lv.control.ObjectList()\n",
    "lv.control.show()\n",
    "\n",
    "lv.show()"
   ]
  },
  {
   "cell_type": "markdown",
   "id": "c27f770e",
   "metadata": {},
   "source": [
    "The DM contains two labels -- \"coarse\" and \"boundary\" -- which contain the vertices of boundary nodes and the unrefined mesh, respectively. They can be retrieved using:\n",
    "\n",
    "```python\n",
    "mesh.get_label(\"boundary\")\n",
    "mesh.get_label(\"coarse\")\n",
    "```\n",
    "\n",
    "or a new label can be set using:\n",
    "\n",
    "```python\n",
    "mesh.set_label(\"my_label\", indices)\n",
    "```"
   ]
  },
  {
   "cell_type": "code",
   "execution_count": null,
   "id": "98946b78",
   "metadata": {},
   "outputs": [],
   "source": [
    "coarse_pts0 = mesh0.get_label(\"coarse\")\n",
    "coarse_pts1 = mesh1.get_label(\"coarse\")\n",
    "coarse_pts2 = mesh2.get_label(\"coarse\")\n",
    "\n",
    "print(\"{} boundary points\".format( len(mesh0.get_label(\"boundary\")) ))\n",
    "print(\"{} boundary points\".format( len(mesh1.get_label(\"boundary\")) ))\n",
    "print(\"{} boundary points\".format( len(mesh2.get_label(\"boundary\")) ))\n",
    "\n",
    "\n",
    "# the coarse point vertices should be identical\n",
    "# refinement adds new points to the end of the x,y arrays\n",
    "\n",
    "set(coarse_pts0) == set(coarse_pts1) == set(coarse_pts2)"
   ]
  },
  {
   "cell_type": "markdown",
   "id": "9367bc58",
   "metadata": {},
   "source": [
    "## Spherical meshes\n",
    "\n",
    "This unstructed mesh uses PETSc's `DMPlex` object, and uses [stripy](https://github.com/underworldcode/stripy) to triangulate on the unit sphere. Multiple meshes may be created, including:\n",
    "\n",
    "```python\n",
    "DM = meshtools.create_spherical_DMPlex(lons, lats, simplices, boundary_vertices=None)\n",
    "DM = meshtools.create_DMPlex_from_spherical_points(lons, lats, simplices, bmask=None, refinement_levels=0)\n",
    "```\n",
    "\n",
    "If no boundary information is provided, the boundary is calculated from any line segments that do not share a triangle with another.a"
   ]
  },
  {
   "cell_type": "code",
   "execution_count": null,
   "id": "e37c5f7d",
   "metadata": {},
   "outputs": [],
   "source": [
    "lons, lats, bmask = meshtools.generate_elliptical_points(-40, 40, -80, 80, 0.1, 0.1, 1500, 200)\n",
    "\n",
    "DM = meshtools.create_DMPlex_from_spherical_points(lons, lats, bmask, refinement_levels=0)\n",
    "DM_r1 = meshtools.create_DMPlex_from_spherical_points(lons, lats, bmask, refinement_levels=1)\n",
    "DM_r2 = meshtools.create_DMPlex_from_spherical_points(lons, lats, bmask, refinement_levels=2)\n",
    "\n",
    "mesh0 = QuagMesh(DM)\n",
    "mesh1 = QuagMesh(DM_r1)\n",
    "mesh2 = QuagMesh(DM_r2)"
   ]
  },
  {
   "cell_type": "code",
   "execution_count": null,
   "id": "a2034fb7",
   "metadata": {},
   "outputs": [],
   "source": [
    "lv = lavavu.Viewer(border=False, background=\"#FFFFFF\", resolution=[1000,600], near=-10.0)\n",
    "\n",
    "bnodes0 = plot_points(lv, mesh0.data[~mesh0.bmask], \"boundary_points_r0\", colour=\"red\", pointsize=10)\n",
    "bnodes1 = plot_points(lv, mesh1.data[~mesh1.bmask], \"boundary_points_r1\", colour=\"blue\", pointsize=10)\n",
    "bnodes2 = plot_points(lv, mesh2.data[~mesh2.bmask], \"boundary_points_r2\", colour=\"#336611\", pointsize=10)\n",
    "\n",
    "tri0 = plot_triangles(lv, mesh0.data, mesh0.tri.simplices, \"mesh_r0\", wireframe=True, linewidth=1.5, colour=\"red\")\n",
    "tri1 = plot_triangles(lv, mesh1.data, mesh1.tri.simplices, \"mesh_r1\", wireframe=True, linewidth=1.0, colour=\"blue\")\n",
    "tri2 = plot_triangles(lv, mesh2.data, mesh2.tri.simplices, \"mesh_r2\", wireframe=True, linewidth=1.0, colour=\"#336611\")\n",
    "\n",
    "lv.control.Panel()\n",
    "lv.control.ObjectList()\n",
    "lv.control.show()\n",
    "\n",
    "lv.show()"
   ]
  },
  {
   "cell_type": "markdown",
   "id": "1dccd9ea",
   "metadata": {},
   "source": [
    "## Save mesh to file\n",
    "\n",
    "A mesh can be saved and imported later. The `QuagMesh` object has the `save_mesh_to_hdf5` method for this, as does `meshtools`.\n",
    "\n",
    "**Note:** Requires PETSc 3.8 or higher"
   ]
  },
  {
   "cell_type": "code",
   "execution_count": null,
   "id": "0d793db4",
   "metadata": {},
   "outputs": [],
   "source": [
    "filename = \"Ex1-refined_mesh.h5\"\n",
    "\n",
    "# save from QuagMesh object:\n",
    "# mesh2.save_mesh_to_hdf5(filename)\n",
    "\n",
    "# save from meshtools:\n",
    "meshtools.save_DM_to_hdf5(DM_r2, filename)\n",
    "\n",
    "# load DM from file\n",
    "DM_r2 = meshtools.create_DMPlex_from_hdf5(filename)\n",
    "\n",
    "mesh2 = QuagMesh(DM_r2)"
   ]
  },
  {
   "cell_type": "code",
   "execution_count": null,
   "id": "3e48db11",
   "metadata": {},
   "outputs": [],
   "source": [
    "print(mesh2.npoints)\n",
    "print(mesh2.area)"
   ]
  },
  {
   "cell_type": "markdown",
   "id": "b0aaac63",
   "metadata": {},
   "source": [
    "The next example is [Ex2-Topography-Meshes](./Ex2-Topography-Meshes.md)"
   ]
  }
 ],
 "metadata": {
  "jupytext": {
   "text_representation": {
    "extension": ".md",
    "format_name": "myst",
    "format_version": 0.13,
    "jupytext_version": "1.11.1"
   }
  },
  "kernelspec": {
   "display_name": "Python 3",
   "language": "python",
   "name": "python3"
  },
  "source_map": [
   12,
   32,
   40,
   44,
   58,
   69,
   75,
   90,
   104,
   108,
   118,
   131,
   141,
   170,
   207,
   211,
   224,
   258,
   264,
   273,
   277,
   310,
   327,
   337,
   359,
   387,
   402,
   416,
   429,
   441,
   457,
   465,
   480,
   483
  ]
 },
 "nbformat": 4,
 "nbformat_minor": 5
}