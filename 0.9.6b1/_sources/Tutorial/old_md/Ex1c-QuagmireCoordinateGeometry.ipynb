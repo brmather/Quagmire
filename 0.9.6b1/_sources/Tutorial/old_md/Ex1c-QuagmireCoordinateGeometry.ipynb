{
 "cells": [
  {
   "cell_type": "markdown",
   "id": "53bdcbdb",
   "metadata": {},
   "source": [
    "# Quagmire.function.geometry\n",
    "\n",
    "Quagmire mesh variables are numerically differentiable and the various operators defined in the quagmire functions module also support limited (symbolic) differentiation\n",
    "\n",
    "This is to allow the construction of more complicated operators that are equivalent on the flat plane and the surface of the spehre. \n",
    "\n",
    "This functionality is supported through the `quagmire.function.geometry` package."
   ]
  },
  {
   "cell_type": "code",
   "execution_count": null,
   "id": "b76adec5",
   "metadata": {},
   "outputs": [],
   "source": [
    "import numpy as np\n",
    "from quagmire.function import display\n",
    "\n",
    "from quagmire import QuagMesh \n",
    "from quagmire import tools as meshtools\n",
    "from quagmire import function as fn\n",
    "from quagmire.function import display\n",
    "from mpi4py import MPI\n",
    "\n",
    "import lavavu\n",
    "import stripy\n",
    "comm = MPI.COMM_WORLD\n",
    "\n",
    "import matplotlib.pyplot as plt\n",
    "from matplotlib import cm\n",
    "%matplotlib inline"
   ]
  },
  {
   "cell_type": "markdown",
   "id": "6e759c39",
   "metadata": {},
   "source": [
    "## Naked coordinate systems\n",
    "\n",
    "Quagmire supports flat 2D meshes and logically 2D meshes on the surface of a sphere. When a mesh is defined, it attaches a geometry to itself which is the starting point for computing\n",
    "any differential operators that include mesh variables. It is also possible to access the coordinate system definitions directly to see how the various operators are defined. Let us first\n",
    "access a simple, 2D, Cartesian Coordinate Geometry"
   ]
  },
  {
   "cell_type": "code",
   "execution_count": null,
   "id": "1a182c4e",
   "metadata": {},
   "outputs": [],
   "source": [
    "CartesianCoordinates = fn.geometry.CartesianCoordinates2D()\n",
    "SphericalCoordinates = fn.geometry.SphericalSurfaceLonLat2D()"
   ]
  },
  {
   "cell_type": "code",
   "execution_count": null,
   "id": "d580eaed",
   "metadata": {},
   "outputs": [],
   "source": [
    "# These are the coordinate directions is symbolic form. They are also functions that \n",
    "# mask the appropriate member of a coordinate tuple\n",
    "\n",
    "x = CartesianCoordinates.xi0\n",
    "y = CartesianCoordinates.xi1\n",
    "\n",
    "print(x.evaluate(1.0,2.0), y.evaluate(1.0,2.0))\n",
    "\n",
    "# Another example:\n",
    "\n",
    "points = np.zeros((20,2))\n",
    "points[:,0] = np.linspace(0.0,2.0*np.pi,20)\n",
    "\n",
    "print(x.evaluate(points))\n",
    "\n",
    "S = fn.math.sin(x)\n",
    "\n",
    "# These are equivalent\n",
    "\n",
    "print(S.evaluate(points) - np.sin(points[:,0]))"
   ]
  },
  {
   "cell_type": "markdown",
   "id": "6643fea9",
   "metadata": {},
   "source": [
    "### Vector operators\n",
    "\n",
    "Partial differential equations are often the balancing of gradients of different quantities. The physical gradients may be very different when expressed in different coordinate systems and therefore we have to be careful to develop coordinate-independent expression for gradients that appear in PDEs. We do this by constructing operators such as div, grad, curl and the Laplacian that are expressed independently of the geometry but understand the underlying coordinate system. \n",
    "\n",
    "When we calculate a derivative, they should be symbolically equivalent but the gradients are not."
   ]
  },
  {
   "cell_type": "code",
   "execution_count": null,
   "id": "f0be87a7",
   "metadata": {},
   "outputs": [],
   "source": [
    "for CoordinateSystem in [CartesianCoordinates, SphericalCoordinates]:\n",
    "    \n",
    "    xi0 = CoordinateSystem.xi0\n",
    "    xi1 = CoordinateSystem.xi1\n",
    "    \n",
    "    ## Derivatives:\n",
    "    \n",
    "    A = xi0 * fn.math.sin(xi0**2) +  xi1 * fn.math.sin(xi1**2) +  xi0 * xi1\n",
    "    \n",
    "    print(\"Derivatives\")\n",
    "    ddx0 = A.derivative(0)\n",
    "    ddx1 = A.derivative(1)\n",
    "    display(ddx0)\n",
    "    display(ddx1)\n",
    "\n",
    "    gradA = CoordinateSystem.grad(A)\n",
    "    print(\"Grad 0\")\n",
    "    gradA[0].display()\n",
    "    print(\"Grad 1\")\n",
    "    gradA[1].display()\n",
    "    \n",
    "    print(\"div.grad\")\n",
    "    CoordinateSystem.div(gradA, expand=True).display()\n",
    "    \n",
    "    print(\"Laplacian\")\n",
    "    CoordinateSystem.laplacian(A, 1, expand=True).display()  # Note this is written for variable coefficient problems\n",
    "\n",
    "    CoordinateSystem.laplacian(A, xi0*xi1, expand=False).display()  ## Neater for display purposes only"
   ]
  },
  {
   "cell_type": "markdown",
   "id": "534e933b",
   "metadata": {},
   "source": [
    "## Symbols\n",
    "\n",
    "These are placeholders for developing a function that you can then substitute later. This is most useful as an aid to debugging functions ..."
   ]
  },
  {
   "cell_type": "code",
   "execution_count": null,
   "id": "5a3280a0",
   "metadata": {},
   "outputs": [],
   "source": [
    "k0 = fn.symbol(name=\"k_0\", lname=\"k_0\")\n",
    "k1 = fn.symbol(name=\"k_1\", lname=\"k_1\")\n",
    "display((k0, k1))\n",
    "\n",
    "H = x * fn.math.sin(k0*x + k0/(k1+x))\n",
    "display(H)\n",
    "\n",
    "try:\n",
    "    H.evaluate((0.1,1.0))\n",
    "except:\n",
    "    print(\"Cannot evaluate H ... try making a subsitution\")\n",
    "\n",
    "k0.substitute(fn.parameter(4))\n",
    "k1.substitute(fn.parameter(0.0001))\n",
    "\n",
    "\n",
    "display(k1)\n",
    "display(H)\n",
    "\n",
    "print(\"H evaluated at (0.1,1.0): \",H.evaluate((0.1,1.0)))"
   ]
  },
  {
   "cell_type": "markdown",
   "id": "425cacdd",
   "metadata": {},
   "source": [
    "## The same sort of thing but with some mesh variables\n",
    "\n",
    "Mesh variables have an associated geometry that they obtain from their mesh and they have some numerical differentiation routines\n",
    "that are used when a derivative or gradient needs to be evaluated."
   ]
  },
  {
   "cell_type": "code",
   "execution_count": null,
   "id": "af789499",
   "metadata": {},
   "outputs": [],
   "source": [
    "## Add a mesh\n",
    "\n",
    "st0 = stripy.spherical_meshes.icosahedral_mesh(refinement_levels=6, include_face_points=True)\n",
    "dm = meshtools.create_spherical_DMPlex(np.degrees(st0.lons), np.degrees(st0.lats), st0.simplices)\n",
    "mesh = QuagMesh(dm, downhill_neighbours=1, permute=True)\n",
    "\n",
    "lon = mesh.geometry.xi0\n",
    "lat = mesh.geometry.xi1"
   ]
  },
  {
   "cell_type": "code",
   "execution_count": null,
   "id": "6803c8f7",
   "metadata": {},
   "outputs": [],
   "source": [
    "F = mesh.add_variable(\"F\", lname=\"\\cal{F}\")\n",
    "\n",
    "l0 = fn.parameter(5.0)\n",
    "l1 = fn.parameter(2.0)\n",
    "\n",
    "G = fn.math.cos(l0 * fn.math.radians(lon)) * fn.math.sin(l1 * fn.math.radians(lat))\n",
    "F.data = G.evaluate(mesh)"
   ]
  },
  {
   "cell_type": "code",
   "execution_count": null,
   "id": "81066b4e",
   "metadata": {},
   "outputs": [],
   "source": [
    "F.display()\n",
    "G.display()"
   ]
  },
  {
   "cell_type": "code",
   "execution_count": null,
   "id": "3d6241d2",
   "metadata": {},
   "outputs": [],
   "source": [
    "display(G.fn_gradient(0))\n",
    "display(G.derivative(0))\n",
    "mesh.geometry.grad(G)[0]"
   ]
  },
  {
   "cell_type": "code",
   "execution_count": null,
   "id": "366c3f3d",
   "metadata": {},
   "outputs": [],
   "source": [
    "## Something with symbols we can substitute\n",
    "\n",
    "m0 = fn.symbol(name=\"m_0\", lname=\"m_0\")\n",
    "m1 = fn.symbol(name=\"m_1\", lname=\"m_1\")\n",
    "\n",
    "H = fn.math.cos(m0 * fn.math.radians(lon)) * fn.math.sin(m1 * fn.math.radians(lat))\n",
    "H.display()\n",
    "\n",
    "m0.substitute(F**2)\n",
    "m1.substitute(F**4)\n",
    "\n",
    "H.display()\n",
    "\n",
    "m0.substitute(F+1)\n",
    "m1.substitute(F-1)\n",
    "\n",
    "H.display()\n",
    "\n",
    "# G.fn_gradient(1)"
   ]
  },
  {
   "cell_type": "code",
   "execution_count": null,
   "id": "d73212cb",
   "metadata": {},
   "outputs": [],
   "source": [
    "H.evaluate(mesh)"
   ]
  }
 ],
 "metadata": {
  "jupytext": {
   "text_representation": {
    "extension": ".md",
    "format_name": "myst",
    "format_version": 0.12,
    "jupytext_version": "1.6.0"
   }
  },
  "kernelspec": {
   "display_name": "Python 3",
   "language": "python",
   "name": "python3"
  },
  "source_map": [
   12,
   22,
   39,
   47,
   52,
   73,
   81,
   110,
   116,
   137,
   144,
   155,
   165,
   170,
   176,
   198
  ]
 },
 "nbformat": 4,
 "nbformat_minor": 5
}