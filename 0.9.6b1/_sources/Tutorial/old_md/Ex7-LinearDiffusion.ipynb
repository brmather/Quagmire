{
 "cells": [
  {
   "cell_type": "markdown",
   "id": "9922a8f8",
   "metadata": {
    "slideshow": {
     "slide_type": "slide"
    }
   },
   "source": [
    "# Linear diffusion - time evolution / benchmarking\n",
    "\n",
    "Now we assume that for any of the three models, we integrate through time to determine how the localization pattern progresses."
   ]
  },
  {
   "cell_type": "code",
   "execution_count": 1,
   "id": "086c8d16",
   "metadata": {
    "slideshow": {
     "slide_type": "slide"
    }
   },
   "outputs": [],
   "source": [
    "from quagmire import QuagMesh, QuagMesh\n",
    "from quagmire import tools as meshtools\n",
    "from quagmire import function as fn\n",
    "from quagmire import mesh as qmesh\n",
    "import numpy as np\n",
    "import matplotlib.pyplot as plt\n",
    "\n",
    "%matplotlib inline"
   ]
  },
  {
   "cell_type": "code",
   "execution_count": 2,
   "id": "029b8358",
   "metadata": {
    "slideshow": {
     "slide_type": "fragment"
    }
   },
   "outputs": [],
   "source": [
    "minX, maxX = 0.0, 1.0\n",
    "minY, maxY = 0.0, 1.0,\n",
    "dx, dy = 0.02, 0.02\n",
    "\n",
    "x1, y1, simplices = meshtools.square_mesh(minX, maxX, minY, maxY, dx, dy, random_scale=0.0)\n",
    "DM = meshtools.create_DMPlex(x1, y1, simplices, boundary_vertices=None)\n",
    "mesh = QuagMesh(DM, verbose=False, tree=True)\n",
    "\n",
    "# boundary_mask_fn = fn.misc.levelset(mesh.mask, 0.5)"
   ]
  },
  {
   "cell_type": "code",
   "execution_count": 3,
   "id": "17ddb719",
   "metadata": {
    "slideshow": {
     "slide_type": "fragment"
    }
   },
   "outputs": [],
   "source": [
    "from scipy.special import erf, erfc\n",
    "\n",
    "def halfspace_cooling(kappa, y, t):\n",
    "    \n",
    "    T = 1.0-erfc(0.5 * y / np.sqrt(kappa * t))\n",
    "    return T\n",
    "\n",
    "# Avoid the singular value in T(y,t) when t=0.0\n",
    "\n",
    "time0 = 0.0001"
   ]
  },
  {
   "cell_type": "code",
   "execution_count": 4,
   "id": "0d5bdb93",
   "metadata": {
    "slideshow": {
     "slide_type": "slide"
    }
   },
   "outputs": [
    {
     "data": {
      "text/plain": [
       "[<matplotlib.lines.Line2D at 0x7fdd4ff01790>]"
      ]
     },
     "execution_count": 4,
     "metadata": {},
     "output_type": "execute_result"
    },
    {
     "data": {
      "image/png": "[encoded data removed]",
      "text/plain": [
       "<Figure size 360x216 with 1 Axes>"
      ]
     },
     "metadata": {
      "filenames": {
       "image/png": "/home/runner/work/quagmire/quagmire/jupyterbook/_build/jupyter_execute/Tutorial/old_md/Ex7-LinearDiffusion_4_1.png"
      },
      "needs_background": "light"
     },
     "output_type": "display_data"
    }
   ],
   "source": [
    "import matplotlib.pyplot as plt\n",
    "\n",
    "Zs = np.linspace(0.0,1.0,250)\n",
    "Ts = halfspace_cooling(1.0, Zs, time0)\n",
    "\n",
    "figure = plt.figure(figsize=(5,3))\n",
    "ax1 = figure.add_axes((0.0, 0.0, 1.0, 1.0))\n",
    "\n",
    "ax1.plot(Zs, Ts)"
   ]
  },
  {
   "cell_type": "code",
   "execution_count": 5,
   "id": "edee967d",
   "metadata": {
    "slideshow": {
     "slide_type": "slide"
    }
   },
   "outputs": [
    {
     "ename": "AttributeError",
     "evalue": "module 'quagmire.function.misc' has no attribute 'levelset'",
     "output_type": "error",
     "traceback": [
      "\u001b[0;31m---------------------------------------------------------------------------\u001b[0m",
      "\u001b[0;31mAttributeError\u001b[0m                            Traceback (most recent call last)",
      "\u001b[0;32m<ipython-input-5-1da36e51d4de>\u001b[0m in \u001b[0;36m<module>\u001b[0;34m\u001b[0m\n\u001b[0;32m----> 1\u001b[0;31m \u001b[0mcold_boundary_mask_fn\u001b[0m \u001b[0;34m=\u001b[0m \u001b[0mfn\u001b[0m\u001b[0;34m.\u001b[0m\u001b[0mmisc\u001b[0m\u001b[0;34m.\u001b[0m\u001b[0mlevelset\u001b[0m\u001b[0;34m(\u001b[0m \u001b[0mfn\u001b[0m\u001b[0;34m.\u001b[0m\u001b[0mmisc\u001b[0m\u001b[0;34m.\u001b[0m\u001b[0mcoord\u001b[0m\u001b[0;34m(\u001b[0m\u001b[0mdirn\u001b[0m\u001b[0;34m=\u001b[0m\u001b[0;36m1\u001b[0m\u001b[0;34m)\u001b[0m\u001b[0;34m,\u001b[0m  \u001b[0;36m0.99\u001b[0m\u001b[0;34m)\u001b[0m\u001b[0;34m\u001b[0m\u001b[0;34m\u001b[0m\u001b[0m\n\u001b[0m\u001b[1;32m      2\u001b[0m \u001b[0mhot_boundary_mask_fn\u001b[0m  \u001b[0;34m=\u001b[0m \u001b[0mfn\u001b[0m\u001b[0;34m.\u001b[0m\u001b[0mmisc\u001b[0m\u001b[0;34m.\u001b[0m\u001b[0mlevelset\u001b[0m\u001b[0;34m(\u001b[0m \u001b[0mfn\u001b[0m\u001b[0;34m.\u001b[0m\u001b[0mmisc\u001b[0m\u001b[0;34m.\u001b[0m\u001b[0mcoord\u001b[0m\u001b[0;34m(\u001b[0m\u001b[0mdirn\u001b[0m\u001b[0;34m=\u001b[0m\u001b[0;36m1\u001b[0m\u001b[0;34m)\u001b[0m\u001b[0;34m,\u001b[0m  \u001b[0;36m0.01\u001b[0m\u001b[0;34m,\u001b[0m \u001b[0minvert\u001b[0m\u001b[0;34m=\u001b[0m\u001b[0;32mTrue\u001b[0m\u001b[0;34m)\u001b[0m\u001b[0;34m\u001b[0m\u001b[0;34m\u001b[0m\u001b[0m\n\u001b[1;32m      3\u001b[0m \u001b[0mnon_boundary_mask\u001b[0m     \u001b[0;34m=\u001b[0m \u001b[0;34m(\u001b[0m\u001b[0mfn\u001b[0m\u001b[0;34m.\u001b[0m\u001b[0mparameter\u001b[0m\u001b[0;34m(\u001b[0m\u001b[0;36m1.0\u001b[0m\u001b[0;34m)\u001b[0m \u001b[0;34m-\u001b[0m \u001b[0mcold_boundary_mask_fn\u001b[0m \u001b[0;34m-\u001b[0m \u001b[0mhot_boundary_mask_fn\u001b[0m\u001b[0;34m)\u001b[0m\u001b[0;34m\u001b[0m\u001b[0;34m\u001b[0m\u001b[0m\n\u001b[1;32m      4\u001b[0m \u001b[0;34m\u001b[0m\u001b[0m\n\u001b[1;32m      5\u001b[0m \u001b[0mdirichlet_mask\u001b[0m \u001b[0;34m=\u001b[0m \u001b[0mcold_boundary_mask_fn\u001b[0m \u001b[0;34m+\u001b[0m \u001b[0mhot_boundary_mask_fn\u001b[0m\u001b[0;34m\u001b[0m\u001b[0;34m\u001b[0m\u001b[0m\n",
      "\u001b[0;31mAttributeError\u001b[0m: module 'quagmire.function.misc' has no attribute 'levelset'"
     ]
    }
   ],
   "source": [
    "cold_boundary_mask_fn = fn.misc.levelset( fn.misc.coord(dirn=1),  0.99)\n",
    "hot_boundary_mask_fn  = fn.misc.levelset( fn.misc.coord(dirn=1),  0.01, invert=True)\n",
    "non_boundary_mask     = (fn.parameter(1.0) - cold_boundary_mask_fn - hot_boundary_mask_fn)\n",
    "\n",
    "dirichlet_mask = cold_boundary_mask_fn + hot_boundary_mask_fn\n",
    "neumann_x_mask = fn.misc.levelset( fn.misc.coord(dirn=0),  0.01, invert=True) + fn.misc.levelset( fn.misc.coord(dirn=0),  0.99, invert=False)\n",
    "neumann_y_mask = fn.parameter(0.0)\n",
    "\n",
    "kappa = fn.parameter(1.0)"
   ]
  },
  {
   "cell_type": "code",
   "execution_count": null,
   "id": "f9c4f656",
   "metadata": {},
   "outputs": [],
   "source": []
  },
  {
   "cell_type": "markdown",
   "id": "0e2d8811",
   "metadata": {
    "slideshow": {
     "slide_type": "slide"
    }
   },
   "source": [
    "## Diffusion solver"
   ]
  },
  {
   "cell_type": "code",
   "execution_count": 6,
   "id": "d446d310",
   "metadata": {
    "slideshow": {
     "slide_type": "fragment"
    }
   },
   "outputs": [],
   "source": [
    "time = time0\n",
    "experiment_name = \"TemperatureDiffusion_K=1\""
   ]
  },
  {
   "cell_type": "code",
   "execution_count": 7,
   "id": "894b3784",
   "metadata": {
    "slideshow": {
     "slide_type": "fragment"
    }
   },
   "outputs": [
    {
     "ename": "NameError",
     "evalue": "name 'neumann_x_mask' is not defined",
     "output_type": "error",
     "traceback": [
      "\u001b[0;31m---------------------------------------------------------------------------\u001b[0m",
      "\u001b[0;31mNameError\u001b[0m                                 Traceback (most recent call last)",
      "\u001b[0;32m<ipython-input-7-a02d1eb77817>\u001b[0m in \u001b[0;36m<module>\u001b[0;34m\u001b[0m\n\u001b[1;32m      5\u001b[0m \u001b[0;31m# What the diffusion solver needs to run\u001b[0m\u001b[0;34m\u001b[0m\u001b[0;34m\u001b[0m\u001b[0;34m\u001b[0m\u001b[0m\n\u001b[1;32m      6\u001b[0m \u001b[0;34m\u001b[0m\u001b[0m\n\u001b[0;32m----> 7\u001b[0;31m \u001b[0mdiffusion_solver\u001b[0m\u001b[0;34m.\u001b[0m\u001b[0mneumann_x_mask\u001b[0m \u001b[0;34m=\u001b[0m \u001b[0mneumann_x_mask\u001b[0m\u001b[0;34m\u001b[0m\u001b[0;34m\u001b[0m\u001b[0m\n\u001b[0m\u001b[1;32m      8\u001b[0m \u001b[0mdiffusion_solver\u001b[0m\u001b[0;34m.\u001b[0m\u001b[0mneumann_y_mask\u001b[0m \u001b[0;34m=\u001b[0m \u001b[0mneumann_y_mask\u001b[0m\u001b[0;34m\u001b[0m\u001b[0;34m\u001b[0m\u001b[0m\n\u001b[1;32m      9\u001b[0m \u001b[0mdiffusion_solver\u001b[0m\u001b[0;34m.\u001b[0m\u001b[0mdirichlet_mask\u001b[0m \u001b[0;34m=\u001b[0m \u001b[0mdirichlet_mask\u001b[0m\u001b[0;34m\u001b[0m\u001b[0;34m\u001b[0m\u001b[0m\n",
      "\u001b[0;31mNameError\u001b[0m: name 'neumann_x_mask' is not defined"
     ]
    }
   ],
   "source": [
    "import quagmire.equation_systems as systems\n",
    "\n",
    "diffusion_solver = systems.DiffusionEquation(mesh=mesh)\n",
    "\n",
    "# What the diffusion solver needs to run \n",
    "\n",
    "diffusion_solver.neumann_x_mask = neumann_x_mask\n",
    "diffusion_solver.neumann_y_mask = neumann_y_mask\n",
    "diffusion_solver.dirichlet_mask = dirichlet_mask\n",
    "diffusion_solver.diffusivity = kappa\n",
    "\n",
    "diffusion_solver.verify() # Does nothing but is supposed to check we have everything necessary\n",
    "\n",
    "temperature = diffusion_solver.phi\n",
    "temperature.data = halfspace_cooling(1.0, 1.0-mesh.tri.y, time0)\n",
    "temp0 = temperature.copy()"
   ]
  },
  {
   "cell_type": "markdown",
   "id": "1315e5fe",
   "metadata": {
    "slideshow": {
     "slide_type": "slide"
    }
   },
   "source": [
    "## Diffusion time limit"
   ]
  },
  {
   "cell_type": "code",
   "execution_count": 8,
   "id": "5495aa25",
   "metadata": {
    "slideshow": {
     "slide_type": "fragment"
    }
   },
   "outputs": [
    {
     "ename": "AttributeError",
     "evalue": "'NoneType' object has no attribute 'evaluate'",
     "output_type": "error",
     "traceback": [
      "\u001b[0;31m---------------------------------------------------------------------------\u001b[0m",
      "\u001b[0;31mAttributeError\u001b[0m                            Traceback (most recent call last)",
      "\u001b[0;32m<ipython-input-8-0b61049ee1b8>\u001b[0m in \u001b[0;36m<module>\u001b[0;34m\u001b[0m\n\u001b[0;32m----> 1\u001b[0;31m \u001b[0mdiff_timestep\u001b[0m \u001b[0;34m=\u001b[0m \u001b[0mdiffusion_solver\u001b[0m\u001b[0;34m.\u001b[0m\u001b[0mdiffusion_timestep\u001b[0m\u001b[0;34m(\u001b[0m\u001b[0;34m)\u001b[0m\u001b[0;34m\u001b[0m\u001b[0;34m\u001b[0m\u001b[0m\n\u001b[0m\u001b[1;32m      2\u001b[0m \u001b[0mprint\u001b[0m\u001b[0;34m(\u001b[0m\u001b[0;34m\"Diffusion timestep limit = {}\"\u001b[0m\u001b[0;34m.\u001b[0m\u001b[0mformat\u001b[0m\u001b[0;34m(\u001b[0m\u001b[0mdiff_timestep\u001b[0m\u001b[0;34m)\u001b[0m\u001b[0;34m)\u001b[0m\u001b[0;34m\u001b[0m\u001b[0;34m\u001b[0m\u001b[0m\n",
      "\u001b[0;32m~/work/quagmire/quagmire/quagmire/equation_systems/diffusion.py\u001b[0m in \u001b[0;36mdiffusion_timestep\u001b[0;34m(self)\u001b[0m\n\u001b[1;32m    179\u001b[0m     \u001b[0;32mdef\u001b[0m \u001b[0mdiffusion_timestep\u001b[0m\u001b[0;34m(\u001b[0m\u001b[0mself\u001b[0m\u001b[0;34m)\u001b[0m\u001b[0;34m:\u001b[0m\u001b[0;34m\u001b[0m\u001b[0;34m\u001b[0m\u001b[0m\n\u001b[1;32m    180\u001b[0m \u001b[0;34m\u001b[0m\u001b[0m\n\u001b[0;32m--> 181\u001b[0;31m         \u001b[0mlocal_diff_timestep\u001b[0m \u001b[0;34m=\u001b[0m \u001b[0;34m(\u001b[0m\u001b[0mself\u001b[0m\u001b[0;34m.\u001b[0m\u001b[0m_mesh\u001b[0m\u001b[0;34m.\u001b[0m\u001b[0marea\u001b[0m \u001b[0;34m/\u001b[0m \u001b[0mself\u001b[0m\u001b[0;34m.\u001b[0m\u001b[0m_diffusivity\u001b[0m\u001b[0;34m.\u001b[0m\u001b[0mevaluate\u001b[0m\u001b[0;34m(\u001b[0m\u001b[0mself\u001b[0m\u001b[0;34m.\u001b[0m\u001b[0m_mesh\u001b[0m\u001b[0;34m)\u001b[0m\u001b[0;34m)\u001b[0m\u001b[0;34m.\u001b[0m\u001b[0mmin\u001b[0m\u001b[0;34m(\u001b[0m\u001b[0;34m)\u001b[0m\u001b[0;34m\u001b[0m\u001b[0;34m\u001b[0m\u001b[0m\n\u001b[0m\u001b[1;32m    182\u001b[0m \u001b[0;34m\u001b[0m\u001b[0m\n\u001b[1;32m    183\u001b[0m         \u001b[0;31m# synchronise ...\u001b[0m\u001b[0;34m\u001b[0m\u001b[0;34m\u001b[0m\u001b[0;34m\u001b[0m\u001b[0m\n",
      "\u001b[0;31mAttributeError\u001b[0m: 'NoneType' object has no attribute 'evaluate'"
     ]
    }
   ],
   "source": [
    "diff_timestep = diffusion_solver.diffusion_timestep()\n",
    "print(\"Diffusion timestep limit = {}\".format(diff_timestep))"
   ]
  },
  {
   "cell_type": "markdown",
   "id": "00521047",
   "metadata": {
    "slideshow": {
     "slide_type": "slide"
    }
   },
   "source": [
    "## Diffusion solver / time integration"
   ]
  },
  {
   "cell_type": "code",
   "execution_count": 9,
   "id": "2e9c452a",
   "metadata": {
    "slideshow": {
     "slide_type": "fragment"
    }
   },
   "outputs": [
    {
     "name": "stdout",
     "output_type": "stream",
     "text": [
      "Integrate t -> t + 0.01\n"
     ]
    },
    {
     "ename": "NameError",
     "evalue": "name 'diff_timestep' is not defined",
     "output_type": "error",
     "traceback": [
      "\u001b[0;31m---------------------------------------------------------------------------\u001b[0m",
      "\u001b[0;31mNameError\u001b[0m                                 Traceback (most recent call last)",
      "\u001b[0;32m<ipython-input-9-b9fdf7c67c40>\u001b[0m in \u001b[0;36m<module>\u001b[0;34m\u001b[0m\n\u001b[1;32m      2\u001b[0m \u001b[0;34m\u001b[0m\u001b[0m\n\u001b[1;32m      3\u001b[0m \u001b[0mprint\u001b[0m\u001b[0;34m(\u001b[0m\u001b[0;34m\"Integrate t -> t + 0.01\"\u001b[0m\u001b[0;34m)\u001b[0m\u001b[0;34m\u001b[0m\u001b[0;34m\u001b[0m\u001b[0m\n\u001b[0;32m----> 4\u001b[0;31m \u001b[0mdiffusion_solver\u001b[0m\u001b[0;34m.\u001b[0m\u001b[0mtime_integration\u001b[0m\u001b[0;34m(\u001b[0m\u001b[0mdiff_timestep\u001b[0m\u001b[0;34m,\u001b[0m \u001b[0mDelta_t\u001b[0m\u001b[0;34m=\u001b[0m\u001b[0;36m0.01\u001b[0m\u001b[0;34m)\u001b[0m\u001b[0;34m\u001b[0m\u001b[0;34m\u001b[0m\u001b[0m\n\u001b[0m\u001b[1;32m      5\u001b[0m \u001b[0mtemp001\u001b[0m \u001b[0;34m=\u001b[0m \u001b[0mtemperature\u001b[0m\u001b[0;34m.\u001b[0m\u001b[0mcopy\u001b[0m\u001b[0;34m(\u001b[0m\u001b[0;34m)\u001b[0m\u001b[0;34m\u001b[0m\u001b[0;34m\u001b[0m\u001b[0m\n\u001b[1;32m      6\u001b[0m \u001b[0;34m\u001b[0m\u001b[0m\n",
      "\u001b[0;31mNameError\u001b[0m: name 'diff_timestep' is not defined"
     ]
    }
   ],
   "source": [
    "## Solve this and keep some intermediate results\n",
    "\n",
    "print(\"Integrate t -> t + 0.01\")\n",
    "diffusion_solver.time_integration(diff_timestep, Delta_t=0.01)\n",
    "temp001 = temperature.copy()\n",
    "\n",
    "print(\"Integrate t -> t + 0.04\")\n",
    "diffusion_solver.time_integration(diff_timestep, Delta_t=0.04)\n",
    "temp005 = temperature.copy()\n",
    "\n",
    "print(\"Integrate t -> t + 0.05\")\n",
    "diffusion_solver.time_integration(diff_timestep, Delta_t=0.05)\n",
    "temp01 = temperature.copy()\n",
    "\n",
    "print(\"Integration ... complete\")"
   ]
  },
  {
   "cell_type": "markdown",
   "id": "68cf0c05",
   "metadata": {
    "slideshow": {
     "slide_type": "slide"
    }
   },
   "source": [
    "## Compare to analytic solutions"
   ]
  },
  {
   "cell_type": "code",
   "execution_count": 10,
   "id": "0bc72232",
   "metadata": {
    "hide_input": true,
    "slideshow": {
     "slide_type": "fragment"
    }
   },
   "outputs": [
    {
     "ename": "NameError",
     "evalue": "name 'temp001' is not defined",
     "output_type": "error",
     "traceback": [
      "\u001b[0;31m---------------------------------------------------------------------------\u001b[0m",
      "\u001b[0;31mNameError\u001b[0m                                 Traceback (most recent call last)",
      "\u001b[0;32m<ipython-input-10-8262ec5053e1>\u001b[0m in \u001b[0;36m<module>\u001b[0;34m\u001b[0m\n\u001b[1;32m      8\u001b[0m \u001b[0;34m\u001b[0m\u001b[0m\n\u001b[1;32m      9\u001b[0m \u001b[0;34m\u001b[0m\u001b[0m\n\u001b[0;32m---> 10\u001b[0;31m \u001b[0mTsN001\u001b[0m \u001b[0;34m=\u001b[0m \u001b[0mtemp001\u001b[0m\u001b[0;34m.\u001b[0m\u001b[0mevaluate\u001b[0m\u001b[0;34m(\u001b[0m\u001b[0;36m0.0\u001b[0m\u001b[0;34m*\u001b[0m\u001b[0mZs\u001b[0m\u001b[0;34m,\u001b[0m \u001b[0;36m1.0\u001b[0m\u001b[0;34m-\u001b[0m\u001b[0mZs\u001b[0m\u001b[0;34m)\u001b[0m\u001b[0;34m\u001b[0m\u001b[0;34m\u001b[0m\u001b[0m\n\u001b[0m\u001b[1;32m     11\u001b[0m \u001b[0mTsN005\u001b[0m \u001b[0;34m=\u001b[0m \u001b[0mtemp005\u001b[0m\u001b[0;34m.\u001b[0m\u001b[0mevaluate\u001b[0m\u001b[0;34m(\u001b[0m\u001b[0;36m0.0\u001b[0m\u001b[0;34m*\u001b[0m\u001b[0mZs\u001b[0m\u001b[0;34m,\u001b[0m \u001b[0;36m1.0\u001b[0m\u001b[0;34m-\u001b[0m\u001b[0mZs\u001b[0m\u001b[0;34m)\u001b[0m\u001b[0;34m\u001b[0m\u001b[0;34m\u001b[0m\u001b[0m\n\u001b[1;32m     12\u001b[0m \u001b[0mTsN01\u001b[0m  \u001b[0;34m=\u001b[0m \u001b[0mtemp01\u001b[0m\u001b[0;34m.\u001b[0m\u001b[0mevaluate\u001b[0m\u001b[0;34m(\u001b[0m\u001b[0;36m0.0\u001b[0m\u001b[0;34m*\u001b[0m\u001b[0mZs\u001b[0m\u001b[0;34m,\u001b[0m \u001b[0;36m1.0\u001b[0m\u001b[0;34m-\u001b[0m\u001b[0mZs\u001b[0m\u001b[0;34m)\u001b[0m\u001b[0;34m\u001b[0m\u001b[0;34m\u001b[0m\u001b[0m\n",
      "\u001b[0;31mNameError\u001b[0m: name 'temp001' is not defined"
     ]
    }
   ],
   "source": [
    "## Obtain horizontal profiles\n",
    "\n",
    "Zs = np.linspace(0.0,1.0,250)\n",
    "Ts0001 = halfspace_cooling(1.0, Zs, time0)\n",
    "Ts001 = halfspace_cooling(1.0, Zs, 0.01)\n",
    "Ts005 = halfspace_cooling(1.0, Zs, 0.05)\n",
    "Ts01  = halfspace_cooling(1.0, Zs, 0.1)\n",
    "\n",
    "\n",
    "TsN001 = temp001.evaluate(0.0*Zs, 1.0-Zs)\n",
    "TsN005 = temp005.evaluate(0.0*Zs, 1.0-Zs)\n",
    "TsN01  = temp01.evaluate(0.0*Zs, 1.0-Zs)\n",
    "\n",
    "figure = plt.figure(figsize=(10,8))\n",
    "ax1 = figure.add_axes((0.0, 0.0, 1.0, 1.0))\n",
    "\n",
    "ax1.plot(Zs, Ts0001)\n",
    "ax1.plot(Zs, Ts001)\n",
    "ax1.plot(Zs, Ts005)\n",
    "ax1.plot(Zs, Ts01)\n",
    "\n",
    "ax1.scatter(Zs, TsN001, marker=\"+\")\n",
    "ax1.scatter(Zs, TsN005, marker=\"+\")\n",
    "ax1.scatter(Zs, TsN01,  marker=\"+\")\n",
    "\n",
    "pass"
   ]
  },
  {
   "cell_type": "markdown",
   "id": "d7ed16fd",
   "metadata": {
    "slideshow": {
     "slide_type": "slide"
    }
   },
   "source": [
    "## Browse"
   ]
  },
  {
   "cell_type": "code",
   "execution_count": 11,
   "id": "1526f263",
   "metadata": {
    "hide_input": true,
    "slideshow": {
     "slide_type": "fragment"
    }
   },
   "outputs": [
    {
     "name": "stdout",
     "output_type": "stream",
     "text": [
      "LavaVu Run error: Failed to open X display\n",
      "\n",
      "\n"
     ]
    },
    {
     "ename": "NameError",
     "evalue": "name 'temp0' is not defined",
     "output_type": "error",
     "traceback": [
      "\u001b[0;31m---------------------------------------------------------------------------\u001b[0m",
      "\u001b[0;31mNameError\u001b[0m                                 Traceback (most recent call last)",
      "\u001b[0;32m<ipython-input-11-f4b74c1e6ced>\u001b[0m in \u001b[0;36m<module>\u001b[0;34m\u001b[0m\n\u001b[1;32m      8\u001b[0m \u001b[0mtri1\u001b[0m\u001b[0;34m.\u001b[0m\u001b[0mvertices\u001b[0m\u001b[0;34m(\u001b[0m\u001b[0mpoints\u001b[0m\u001b[0;34m)\u001b[0m\u001b[0;34m\u001b[0m\u001b[0;34m\u001b[0m\u001b[0m\n\u001b[1;32m      9\u001b[0m \u001b[0mtri1\u001b[0m\u001b[0;34m.\u001b[0m\u001b[0mindices\u001b[0m\u001b[0;34m(\u001b[0m\u001b[0mmesh\u001b[0m\u001b[0;34m.\u001b[0m\u001b[0mtri\u001b[0m\u001b[0;34m.\u001b[0m\u001b[0msimplices\u001b[0m\u001b[0;34m)\u001b[0m\u001b[0;34m\u001b[0m\u001b[0;34m\u001b[0m\u001b[0m\n\u001b[0;32m---> 10\u001b[0;31m \u001b[0mtri1\u001b[0m\u001b[0;34m.\u001b[0m\u001b[0mvalues\u001b[0m\u001b[0;34m(\u001b[0m \u001b[0mtemp0\u001b[0m\u001b[0;34m.\u001b[0m\u001b[0mevaluate\u001b[0m\u001b[0;34m(\u001b[0m\u001b[0mmesh\u001b[0m\u001b[0;34m)\u001b[0m \u001b[0;34m,\u001b[0m \u001b[0;34m\"T0001\"\u001b[0m\u001b[0;34m)\u001b[0m\u001b[0;34m\u001b[0m\u001b[0;34m\u001b[0m\u001b[0m\n\u001b[0m\u001b[1;32m     11\u001b[0m \u001b[0mtri1\u001b[0m\u001b[0;34m.\u001b[0m\u001b[0mvalues\u001b[0m\u001b[0;34m(\u001b[0m \u001b[0mtemp001\u001b[0m\u001b[0;34m.\u001b[0m\u001b[0mevaluate\u001b[0m\u001b[0;34m(\u001b[0m\u001b[0mmesh\u001b[0m\u001b[0;34m)\u001b[0m \u001b[0;34m,\u001b[0m  \u001b[0;34m\"T001\"\u001b[0m\u001b[0;34m)\u001b[0m\u001b[0;34m\u001b[0m\u001b[0;34m\u001b[0m\u001b[0m\n\u001b[1;32m     12\u001b[0m \u001b[0mtri1\u001b[0m\u001b[0;34m.\u001b[0m\u001b[0mvalues\u001b[0m\u001b[0;34m(\u001b[0m \u001b[0mtemp005\u001b[0m\u001b[0;34m.\u001b[0m\u001b[0mevaluate\u001b[0m\u001b[0;34m(\u001b[0m\u001b[0mmesh\u001b[0m\u001b[0;34m)\u001b[0m \u001b[0;34m,\u001b[0m  \u001b[0;34m\"T005\"\u001b[0m\u001b[0;34m)\u001b[0m\u001b[0;34m\u001b[0m\u001b[0;34m\u001b[0m\u001b[0m\n",
      "\u001b[0;31mNameError\u001b[0m: name 'temp0' is not defined"
     ]
    }
   ],
   "source": [
    "import lavavu\n",
    "\n",
    "points = np.column_stack([mesh.tri.points, np.zeros(mesh.npoints)])\n",
    "\n",
    "lv = lavavu.Viewer(border=False, background=\"#FFFFFF\", resolution=[666,666], near=-10.0)\n",
    "\n",
    "tri1 = lv.triangles(\"triangles\", wireframe=False)\n",
    "tri1.vertices(points)\n",
    "tri1.indices(mesh.tri.simplices)\n",
    "tri1.values( temp0.evaluate(mesh) , \"T0001\")\n",
    "tri1.values( temp001.evaluate(mesh) ,  \"T001\")\n",
    "tri1.values( temp005.evaluate(mesh) ,  \"T005\")\n",
    "tri1.values( temp01.evaluate(mesh) ,  \"T01\")\n",
    "\n",
    "\n",
    "tri1.colourmap(\"coolwarm\")\n",
    "tri1.colourbar(visible=True)\n",
    "\n",
    "lv.control.Window()\n",
    "tri1.control.List(options=\n",
    "                  [\"T0001\",\"T001\", \"T005\", \"T01\"], \n",
    "                   property=\"colourby\", value=\"T0001\", command=\"redraw\")\n",
    "lv.control.show()\n"
   ]
  },
  {
   "cell_type": "markdown",
   "id": "cf129621",
   "metadata": {},
   "source": [
    "# Spatially variable diffusivity (circular \"inclusion\")\n",
    "\n",
    "Re-define the diffusivity and load into the equation solver. This is obviously not the optimal way to solve this problem - explicit timestepping is slow with the jump in diffusivity - but it is illustrative.\n",
    "\n",
    "It would also be straightforward to add points close to the boundary to improve the resolution at the interface. Stripy does not offer contrained triangulations at this stage so we are not able to mesh the boundary itself."
   ]
  },
  {
   "cell_type": "code",
   "execution_count": 12,
   "id": "387e34e2",
   "metadata": {},
   "outputs": [
    {
     "ename": "AttributeError",
     "evalue": "module 'quagmire.function.misc' has no attribute 'levelset'",
     "output_type": "error",
     "traceback": [
      "\u001b[0;31m---------------------------------------------------------------------------\u001b[0m",
      "\u001b[0;31mAttributeError\u001b[0m                            Traceback (most recent call last)",
      "\u001b[0;32m<ipython-input-12-e896fef8d3a9>\u001b[0m in \u001b[0;36m<module>\u001b[0;34m\u001b[0m\n\u001b[0;32m----> 1\u001b[0;31m kappa1 = fn.parameter(1.0) + fn. parameter(99.0) * fn.misc.levelset(\n\u001b[0m\u001b[1;32m      2\u001b[0m                                  \u001b[0;34m(\u001b[0m\u001b[0mfn\u001b[0m\u001b[0;34m.\u001b[0m\u001b[0mmisc\u001b[0m\u001b[0;34m.\u001b[0m\u001b[0mcoord\u001b[0m\u001b[0;34m(\u001b[0m\u001b[0;36m0\u001b[0m\u001b[0;34m)\u001b[0m \u001b[0;34m-\u001b[0m \u001b[0mfn\u001b[0m\u001b[0;34m.\u001b[0m\u001b[0mparameter\u001b[0m\u001b[0;34m(\u001b[0m\u001b[0;36m0.5\u001b[0m\u001b[0;34m)\u001b[0m\u001b[0;34m)\u001b[0m\u001b[0;34m**\u001b[0m\u001b[0;36m2\u001b[0m \u001b[0;34m+\u001b[0m\u001b[0;34m\u001b[0m\u001b[0;34m\u001b[0m\u001b[0m\n\u001b[1;32m      3\u001b[0m                                  (fn.misc.coord(1) - fn.parameter(0.5))**2, 0.04)\n\u001b[1;32m      4\u001b[0m \u001b[0;34m\u001b[0m\u001b[0m\n\u001b[1;32m      5\u001b[0m \u001b[0mdiffusion_solver\u001b[0m\u001b[0;34m.\u001b[0m\u001b[0mdiffusivity\u001b[0m \u001b[0;34m=\u001b[0m \u001b[0mkappa1\u001b[0m\u001b[0;34m\u001b[0m\u001b[0;34m\u001b[0m\u001b[0m\n",
      "\u001b[0;31mAttributeError\u001b[0m: module 'quagmire.function.misc' has no attribute 'levelset'"
     ]
    }
   ],
   "source": [
    "kappa1 = fn.parameter(1.0) + fn. parameter(99.0) * fn.misc.levelset(\n",
    "                                 (fn.misc.coord(0) - fn.parameter(0.5))**2 + \n",
    "                                 (fn.misc.coord(1) - fn.parameter(0.5))**2, 0.04)\n",
    "\n",
    "diffusion_solver.diffusivity = kappa1\n",
    "diff_timestep = diffusion_solver.diffusion_timestep()\n",
    "\n",
    "time0 = 0.0\n",
    "print(\"Diffusive timestep = {}\".format(diff_timestep))"
   ]
  },
  {
   "cell_type": "markdown",
   "id": "aa2be0eb",
   "metadata": {},
   "source": [
    "Also reset the initial temperature - let's start from kappa=1.0 steady state case \n",
    "(i.e. a linear temperature gradient)"
   ]
  },
  {
   "cell_type": "code",
   "execution_count": 13,
   "id": "1350498a",
   "metadata": {},
   "outputs": [
    {
     "ename": "NameError",
     "evalue": "name 'temperature' is not defined",
     "output_type": "error",
     "traceback": [
      "\u001b[0;31m---------------------------------------------------------------------------\u001b[0m",
      "\u001b[0;31mNameError\u001b[0m                                 Traceback (most recent call last)",
      "\u001b[0;32m<ipython-input-13-188cc4117af5>\u001b[0m in \u001b[0;36m<module>\u001b[0;34m\u001b[0m\n\u001b[0;32m----> 1\u001b[0;31m \u001b[0mtemperature\u001b[0m\u001b[0;34m.\u001b[0m\u001b[0mdata\u001b[0m \u001b[0;34m=\u001b[0m \u001b[0;34m(\u001b[0m\u001b[0mfn\u001b[0m\u001b[0;34m.\u001b[0m\u001b[0mparameter\u001b[0m\u001b[0;34m(\u001b[0m\u001b[0;36m1.0\u001b[0m\u001b[0;34m)\u001b[0m \u001b[0;34m-\u001b[0m \u001b[0mfn\u001b[0m\u001b[0;34m.\u001b[0m\u001b[0mmisc\u001b[0m\u001b[0;34m.\u001b[0m\u001b[0mcoord\u001b[0m\u001b[0;34m(\u001b[0m\u001b[0;36m1\u001b[0m\u001b[0;34m)\u001b[0m\u001b[0;34m)\u001b[0m\u001b[0;34m.\u001b[0m\u001b[0mevaluate\u001b[0m\u001b[0;34m(\u001b[0m\u001b[0mmesh\u001b[0m\u001b[0;34m)\u001b[0m\u001b[0;34m\u001b[0m\u001b[0;34m\u001b[0m\u001b[0m\n\u001b[0m\u001b[1;32m      2\u001b[0m \u001b[0mtemp0\u001b[0m \u001b[0;34m=\u001b[0m \u001b[0mtemperature\u001b[0m\u001b[0;34m.\u001b[0m\u001b[0mcopy\u001b[0m\u001b[0;34m(\u001b[0m\u001b[0;34m)\u001b[0m\u001b[0;34m\u001b[0m\u001b[0;34m\u001b[0m\u001b[0m\n",
      "\u001b[0;31mNameError\u001b[0m: name 'temperature' is not defined"
     ]
    }
   ],
   "source": [
    "temperature.data = (fn.parameter(1.0) - fn.misc.coord(1)).evaluate(mesh)\n",
    "temp0 = temperature.copy()"
   ]
  },
  {
   "cell_type": "code",
   "execution_count": 14,
   "id": "1161486b",
   "metadata": {},
   "outputs": [
    {
     "name": "stdout",
     "output_type": "stream",
     "text": [
      "Integrate t -> t + 0.001\n"
     ]
    },
    {
     "ename": "NameError",
     "evalue": "name 'diff_timestep' is not defined",
     "output_type": "error",
     "traceback": [
      "\u001b[0;31m---------------------------------------------------------------------------\u001b[0m",
      "\u001b[0;31mNameError\u001b[0m                                 Traceback (most recent call last)",
      "\u001b[0;32m<ipython-input-14-532b4c40b896>\u001b[0m in \u001b[0;36m<module>\u001b[0;34m\u001b[0m\n\u001b[1;32m      2\u001b[0m \u001b[0;34m\u001b[0m\u001b[0m\n\u001b[1;32m      3\u001b[0m \u001b[0mprint\u001b[0m\u001b[0;34m(\u001b[0m\u001b[0;34m\"Integrate t -> t + 0.001\"\u001b[0m\u001b[0;34m)\u001b[0m\u001b[0;34m\u001b[0m\u001b[0;34m\u001b[0m\u001b[0m\n\u001b[0;32m----> 4\u001b[0;31m \u001b[0msteps\u001b[0m\u001b[0;34m,\u001b[0m \u001b[0mdt\u001b[0m \u001b[0;34m=\u001b[0m \u001b[0mdiffusion_solver\u001b[0m\u001b[0;34m.\u001b[0m\u001b[0mtime_integration\u001b[0m\u001b[0;34m(\u001b[0m\u001b[0mdiff_timestep\u001b[0m\u001b[0;34m,\u001b[0m \u001b[0mDelta_t\u001b[0m\u001b[0;34m=\u001b[0m\u001b[0;36m0.001\u001b[0m\u001b[0;34m,\u001b[0m \u001b[0mfeedback\u001b[0m\u001b[0;34m=\u001b[0m\u001b[0;36m500\u001b[0m\u001b[0;34m)\u001b[0m\u001b[0;34m\u001b[0m\u001b[0;34m\u001b[0m\u001b[0m\n\u001b[0m\u001b[1;32m      5\u001b[0m \u001b[0mtemp001\u001b[0m \u001b[0;34m=\u001b[0m \u001b[0mtemperature\u001b[0m\u001b[0;34m.\u001b[0m\u001b[0mcopy\u001b[0m\u001b[0;34m(\u001b[0m\u001b[0;34m)\u001b[0m\u001b[0;34m\u001b[0m\u001b[0;34m\u001b[0m\u001b[0m\n\u001b[1;32m      6\u001b[0m \u001b[0;34m\u001b[0m\u001b[0m\n",
      "\u001b[0;31mNameError\u001b[0m: name 'diff_timestep' is not defined"
     ]
    }
   ],
   "source": [
    "## Solve this and keep some intermediate results\n",
    "\n",
    "print(\"Integrate t -> t + 0.001\")\n",
    "steps, dt = diffusion_solver.time_integration(diff_timestep, Delta_t=0.001, feedback=500)\n",
    "temp001 = temperature.copy()\n",
    "\n",
    "print(\"Integrate t -> t + 0.004\")\n",
    "steps, dt = diffusion_solver.time_integration(diff_timestep, Delta_t=0.004, feedback=500)\n",
    "temp005 = temperature.copy()\n",
    "\n",
    "print(\"Integrate t -> t + 0.005\")\n",
    "steps, dt = diffusion_solver.time_integration(diff_timestep, Delta_t=0.005, feedback=500)\n",
    "temp01 = temperature.copy()"
   ]
  },
  {
   "cell_type": "code",
   "execution_count": 15,
   "id": "1ee34d8f",
   "metadata": {},
   "outputs": [
    {
     "ename": "NameError",
     "evalue": "name 'temperature' is not defined",
     "output_type": "error",
     "traceback": [
      "\u001b[0;31m---------------------------------------------------------------------------\u001b[0m",
      "\u001b[0;31mNameError\u001b[0m                                 Traceback (most recent call last)",
      "\u001b[0;32m<ipython-input-15-18aeb7e9a582>\u001b[0m in \u001b[0;36m<module>\u001b[0;34m\u001b[0m\n\u001b[0;32m----> 1\u001b[0;31m \u001b[0mdTdx_fn\u001b[0m \u001b[0;34m=\u001b[0m \u001b[0mtemperature\u001b[0m\u001b[0;34m.\u001b[0m\u001b[0mfn_gradient\u001b[0m\u001b[0;34m[\u001b[0m\u001b[0;36m0\u001b[0m\u001b[0;34m]\u001b[0m \u001b[0;34m*\u001b[0m \u001b[0;34m(\u001b[0m\u001b[0mfn\u001b[0m\u001b[0;34m.\u001b[0m\u001b[0mparameter\u001b[0m\u001b[0;34m(\u001b[0m\u001b[0;36m1.0\u001b[0m\u001b[0;34m)\u001b[0m\u001b[0;34m-\u001b[0m\u001b[0mneumann_x_mask\u001b[0m\u001b[0;34m)\u001b[0m\u001b[0;34m\u001b[0m\u001b[0;34m\u001b[0m\u001b[0m\n\u001b[0m\u001b[1;32m      2\u001b[0m \u001b[0mdTdy_fn\u001b[0m \u001b[0;34m=\u001b[0m \u001b[0mtemperature\u001b[0m\u001b[0;34m.\u001b[0m\u001b[0mfn_gradient\u001b[0m\u001b[0;34m[\u001b[0m\u001b[0;36m1\u001b[0m\u001b[0;34m]\u001b[0m \u001b[0;34m*\u001b[0m \u001b[0;34m(\u001b[0m\u001b[0mfn\u001b[0m\u001b[0;34m.\u001b[0m\u001b[0mparameter\u001b[0m\u001b[0;34m(\u001b[0m\u001b[0;36m1.0\u001b[0m\u001b[0;34m)\u001b[0m\u001b[0;34m-\u001b[0m\u001b[0mneumann_y_mask\u001b[0m\u001b[0;34m)\u001b[0m\u001b[0;34m\u001b[0m\u001b[0;34m\u001b[0m\u001b[0m\n\u001b[1;32m      3\u001b[0m \u001b[0;34m\u001b[0m\u001b[0m\n\u001b[1;32m      4\u001b[0m \u001b[0mflux\u001b[0m \u001b[0;34m=\u001b[0m \u001b[0mnp\u001b[0m\u001b[0;34m.\u001b[0m\u001b[0mzeros\u001b[0m\u001b[0;34m(\u001b[0m\u001b[0;34m(\u001b[0m\u001b[0mmesh\u001b[0m\u001b[0;34m.\u001b[0m\u001b[0mnpoints\u001b[0m\u001b[0;34m,\u001b[0m \u001b[0;36m3\u001b[0m\u001b[0;34m)\u001b[0m\u001b[0;34m)\u001b[0m\u001b[0;34m\u001b[0m\u001b[0;34m\u001b[0m\u001b[0m\n\u001b[1;32m      5\u001b[0m \u001b[0mflux\u001b[0m\u001b[0;34m[\u001b[0m\u001b[0;34m:\u001b[0m\u001b[0;34m,\u001b[0m\u001b[0;36m0\u001b[0m\u001b[0;34m]\u001b[0m \u001b[0;34m=\u001b[0m \u001b[0mdTdx_fn\u001b[0m\u001b[0;34m.\u001b[0m\u001b[0mevaluate\u001b[0m\u001b[0;34m(\u001b[0m\u001b[0mmesh\u001b[0m\u001b[0;34m)\u001b[0m\u001b[0;34m\u001b[0m\u001b[0;34m\u001b[0m\u001b[0m\n",
      "\u001b[0;31mNameError\u001b[0m: name 'temperature' is not defined"
     ]
    }
   ],
   "source": [
    "dTdx_fn = temperature.fn_gradient[0] * (fn.parameter(1.0)-neumann_x_mask)\n",
    "dTdy_fn = temperature.fn_gradient[1] * (fn.parameter(1.0)-neumann_y_mask)\n",
    "\n",
    "flux = np.zeros((mesh.npoints, 3))\n",
    "flux[:,0] = dTdx_fn.evaluate(mesh)\n",
    "flux[:,1] = dTdy_fn.evaluate(mesh)"
   ]
  },
  {
   "cell_type": "code",
   "execution_count": null,
   "id": "898ffc81",
   "metadata": {},
   "outputs": [],
   "source": []
  },
  {
   "cell_type": "code",
   "execution_count": null,
   "id": "0191536b",
   "metadata": {},
   "outputs": [],
   "source": []
  },
  {
   "cell_type": "code",
   "execution_count": 16,
   "id": "560b262f",
   "metadata": {},
   "outputs": [
    {
     "name": "stdout",
     "output_type": "stream",
     "text": [
      "LavaVu Run error: Failed to open X display\n",
      "\n",
      "\n"
     ]
    },
    {
     "ename": "NameError",
     "evalue": "name 'flux' is not defined",
     "output_type": "error",
     "traceback": [
      "\u001b[0;31m---------------------------------------------------------------------------\u001b[0m",
      "\u001b[0;31mNameError\u001b[0m                                 Traceback (most recent call last)",
      "\u001b[0;32m<ipython-input-16-e77208b82baf>\u001b[0m in \u001b[0;36m<module>\u001b[0;34m\u001b[0m\n\u001b[1;32m      7\u001b[0m \u001b[0mvec1\u001b[0m \u001b[0;34m=\u001b[0m \u001b[0mlv\u001b[0m\u001b[0;34m.\u001b[0m\u001b[0mvectors\u001b[0m\u001b[0;34m(\u001b[0m\u001b[0;34m\"flux_arrows\"\u001b[0m\u001b[0;34m,\u001b[0m \u001b[0mvisible\u001b[0m\u001b[0;34m=\u001b[0m\u001b[0;32mTrue\u001b[0m\u001b[0;34m,\u001b[0m \u001b[0mcolour\u001b[0m\u001b[0;34m=\u001b[0m\u001b[0;34m\"Blue\"\u001b[0m \u001b[0;34m)\u001b[0m\u001b[0;34m\u001b[0m\u001b[0;34m\u001b[0m\u001b[0m\n\u001b[1;32m      8\u001b[0m \u001b[0mvec1\u001b[0m\u001b[0;34m.\u001b[0m\u001b[0mvertices\u001b[0m\u001b[0;34m(\u001b[0m\u001b[0mpoints\u001b[0m\u001b[0;34m)\u001b[0m\u001b[0;34m\u001b[0m\u001b[0;34m\u001b[0m\u001b[0m\n\u001b[0;32m----> 9\u001b[0;31m \u001b[0mvec1\u001b[0m\u001b[0;34m.\u001b[0m\u001b[0mvectors\u001b[0m\u001b[0;34m(\u001b[0m\u001b[0mflux\u001b[0m\u001b[0;34m)\u001b[0m\u001b[0;34m\u001b[0m\u001b[0;34m\u001b[0m\u001b[0m\n\u001b[0m\u001b[1;32m     10\u001b[0m \u001b[0mvec1\u001b[0m\u001b[0;34m.\u001b[0m\u001b[0mcolourmap\u001b[0m\u001b[0;34m(\u001b[0m\u001b[0;34m\"coolwarm\"\u001b[0m\u001b[0;34m)\u001b[0m\u001b[0;34m\u001b[0m\u001b[0;34m\u001b[0m\u001b[0m\n\u001b[1;32m     11\u001b[0m \u001b[0;34m\u001b[0m\u001b[0m\n",
      "\u001b[0;31mNameError\u001b[0m: name 'flux' is not defined"
     ]
    }
   ],
   "source": [
    "import lavavu\n",
    "\n",
    "points = np.column_stack([mesh.tri.points, np.zeros(mesh.npoints)])\n",
    "\n",
    "lv = lavavu.Viewer(border=False, background=\"#FFFFFF\", resolution=[666,666], near=-10.0)\n",
    "\n",
    "vec1 = lv.vectors(\"flux_arrows\", visible=True, colour=\"Blue\" )\n",
    "vec1.vertices(points)\n",
    "vec1.vectors(flux)\n",
    "vec1.colourmap(\"coolwarm\")\n",
    "\n",
    "tri0 = lv.triangles(\"Mesh\", wireframe=True, colour=\"Grey\")\n",
    "tri0.vertices(points)\n",
    "tri0.indices(mesh.tri.simplices)\n",
    "\n",
    "tri1 = lv.triangles(\"triangles\", wireframe=False)\n",
    "tri1.vertices(points)\n",
    "tri1.indices(mesh.tri.simplices)\n",
    "tri1.values( kappa1.evaluate(mesh) , \"kappa\")\n",
    "tri1.values( temperature.evaluate(mesh) , \"T\")\n",
    "tri1.values( (temp01-temp0).evaluate(mesh) , \"dT01\")\n",
    "tri1.values( (temp001-temp0).evaluate(mesh) , \"dT001\")\n",
    "\n",
    "\n",
    "tri1.colourmap(\"coolwarm\")\n",
    "tri1.colourbar(visible=True)\n",
    "\n",
    "lv.control.Panel()\n",
    "vec1.control.Checkbox(property=\"visible\", command=\"redraw\", label=\"Flux\")\n",
    "tri0.control.Checkbox(property=\"visible\", command=\"redraw\", label=\"Mesh\")\n",
    "tri1.control.Checkbox(property=\"visible\", command=\"redraw\", label=\"T\")\n",
    "tri1.control.List(options=\n",
    "                 [\"kappa\",\"T\", \"dT01\", \"dT001\"], \n",
    "                  property=\"colourby\", value=\"kappa\", command=\"redraw\")\n",
    "lv.control.show()"
   ]
  },
  {
   "cell_type": "code",
   "execution_count": 17,
   "id": "d1a306af",
   "metadata": {},
   "outputs": [],
   "source": [
    "## Mesh refinement\n",
    "##\n",
    "## Add a bunch of mesh points at the (known) interface location\n"
   ]
  },
  {
   "cell_type": "code",
   "execution_count": 18,
   "id": "427aa978",
   "metadata": {},
   "outputs": [
    {
     "ename": "NameError",
     "evalue": "name 'temperature' is not defined",
     "output_type": "error",
     "traceback": [
      "\u001b[0;31m---------------------------------------------------------------------------\u001b[0m",
      "\u001b[0;31mNameError\u001b[0m                                 Traceback (most recent call last)",
      "\u001b[0;32m<ipython-input-18-270115b882c5>\u001b[0m in \u001b[0;36m<module>\u001b[0;34m\u001b[0m\n\u001b[0;32m----> 1\u001b[0;31m \u001b[0mtemperature\u001b[0m\u001b[0;34m.\u001b[0m\u001b[0mdata\u001b[0m \u001b[0;34m=\u001b[0m \u001b[0;34m(\u001b[0m\u001b[0mfn\u001b[0m\u001b[0;34m.\u001b[0m\u001b[0mparameter\u001b[0m\u001b[0;34m(\u001b[0m\u001b[0;36m1.0\u001b[0m\u001b[0;34m)\u001b[0m \u001b[0;34m-\u001b[0m \u001b[0mfn\u001b[0m\u001b[0;34m.\u001b[0m\u001b[0mmisc\u001b[0m\u001b[0;34m.\u001b[0m\u001b[0mcoord\u001b[0m\u001b[0;34m(\u001b[0m\u001b[0;36m1\u001b[0m\u001b[0;34m)\u001b[0m\u001b[0;34m)\u001b[0m\u001b[0;34m.\u001b[0m\u001b[0mevaluate\u001b[0m\u001b[0;34m(\u001b[0m\u001b[0mmesh\u001b[0m\u001b[0;34m)\u001b[0m\u001b[0;34m\u001b[0m\u001b[0;34m\u001b[0m\u001b[0m\n\u001b[0m\u001b[1;32m      2\u001b[0m \u001b[0;34m\u001b[0m\u001b[0m\n\u001b[1;32m      3\u001b[0m \u001b[0mprint\u001b[0m\u001b[0;34m(\u001b[0m\u001b[0;34m\"Integrate t -> t + 0.01\"\u001b[0m\u001b[0;34m)\u001b[0m\u001b[0;34m\u001b[0m\u001b[0;34m\u001b[0m\u001b[0m\n\u001b[1;32m      4\u001b[0m \u001b[0msteps\u001b[0m\u001b[0;34m,\u001b[0m \u001b[0mdt\u001b[0m \u001b[0;34m=\u001b[0m \u001b[0mdiffusion_solver\u001b[0m\u001b[0;34m.\u001b[0m\u001b[0mtime_integration\u001b[0m\u001b[0;34m(\u001b[0m\u001b[0;36m2.0\u001b[0m\u001b[0;34m*\u001b[0m\u001b[0mdiff_timestep\u001b[0m\u001b[0;34m,\u001b[0m \u001b[0mDelta_t\u001b[0m\u001b[0;34m=\u001b[0m\u001b[0;36m0.01\u001b[0m\u001b[0;34m,\u001b[0m \u001b[0mfeedback\u001b[0m\u001b[0;34m=\u001b[0m\u001b[0;36m500\u001b[0m\u001b[0;34m)\u001b[0m\u001b[0;34m\u001b[0m\u001b[0;34m\u001b[0m\u001b[0m\n\u001b[1;32m      5\u001b[0m \u001b[0mtemp015\u001b[0m \u001b[0;34m=\u001b[0m \u001b[0mtemperature\u001b[0m\u001b[0;34m.\u001b[0m\u001b[0mcopy\u001b[0m\u001b[0;34m(\u001b[0m\u001b[0;34m)\u001b[0m\u001b[0;34m\u001b[0m\u001b[0;34m\u001b[0m\u001b[0m\n",
      "\u001b[0;31mNameError\u001b[0m: name 'temperature' is not defined"
     ]
    }
   ],
   "source": [
    "temperature.data = (fn.parameter(1.0) - fn.misc.coord(1)).evaluate(mesh)\n",
    "\n",
    "print(\"Integrate t -> t + 0.01\")\n",
    "steps, dt = diffusion_solver.time_integration(2.0*diff_timestep, Delta_t=0.01, feedback=500)\n",
    "temp015 = temperature.copy()"
   ]
  },
  {
   "cell_type": "code",
   "execution_count": 19,
   "id": "aec3ff85",
   "metadata": {},
   "outputs": [
    {
     "name": "stdout",
     "output_type": "stream",
     "text": [
      "LavaVu Run error: Failed to open X display\n",
      "\n",
      "\n"
     ]
    },
    {
     "ename": "NameError",
     "evalue": "name 'flux' is not defined",
     "output_type": "error",
     "traceback": [
      "\u001b[0;31m---------------------------------------------------------------------------\u001b[0m",
      "\u001b[0;31mNameError\u001b[0m                                 Traceback (most recent call last)",
      "\u001b[0;32m<ipython-input-19-327feb08e3e0>\u001b[0m in \u001b[0;36m<module>\u001b[0;34m\u001b[0m\n\u001b[1;32m      7\u001b[0m \u001b[0mvec1\u001b[0m \u001b[0;34m=\u001b[0m \u001b[0mlv\u001b[0m\u001b[0;34m.\u001b[0m\u001b[0mvectors\u001b[0m\u001b[0;34m(\u001b[0m\u001b[0;34m\"flux_arrows\"\u001b[0m\u001b[0;34m,\u001b[0m \u001b[0mvisible\u001b[0m\u001b[0;34m=\u001b[0m\u001b[0;32mTrue\u001b[0m\u001b[0;34m,\u001b[0m \u001b[0mcolour\u001b[0m\u001b[0;34m=\u001b[0m\u001b[0;34m\"Blue\"\u001b[0m \u001b[0;34m)\u001b[0m\u001b[0;34m\u001b[0m\u001b[0;34m\u001b[0m\u001b[0m\n\u001b[1;32m      8\u001b[0m \u001b[0mvec1\u001b[0m\u001b[0;34m.\u001b[0m\u001b[0mvertices\u001b[0m\u001b[0;34m(\u001b[0m\u001b[0mpoints\u001b[0m\u001b[0;34m)\u001b[0m\u001b[0;34m\u001b[0m\u001b[0;34m\u001b[0m\u001b[0m\n\u001b[0;32m----> 9\u001b[0;31m \u001b[0mvec1\u001b[0m\u001b[0;34m.\u001b[0m\u001b[0mvectors\u001b[0m\u001b[0;34m(\u001b[0m\u001b[0mflux\u001b[0m\u001b[0;34m)\u001b[0m\u001b[0;34m\u001b[0m\u001b[0;34m\u001b[0m\u001b[0m\n\u001b[0m\u001b[1;32m     10\u001b[0m \u001b[0mvec1\u001b[0m\u001b[0;34m.\u001b[0m\u001b[0mcolourmap\u001b[0m\u001b[0;34m(\u001b[0m\u001b[0;34m\"coolwarm\"\u001b[0m\u001b[0;34m)\u001b[0m\u001b[0;34m\u001b[0m\u001b[0;34m\u001b[0m\u001b[0m\n\u001b[1;32m     11\u001b[0m \u001b[0;34m\u001b[0m\u001b[0m\n",
      "\u001b[0;31mNameError\u001b[0m: name 'flux' is not defined"
     ]
    }
   ],
   "source": [
    "import lavavu\n",
    "\n",
    "points = np.column_stack([mesh.tri.points, np.zeros(mesh.npoints)])\n",
    "\n",
    "lv = lavavu.Viewer(border=False, background=\"#FFFFFF\", resolution=[666,666], near=-10.0)\n",
    "\n",
    "vec1 = lv.vectors(\"flux_arrows\", visible=True, colour=\"Blue\" )\n",
    "vec1.vertices(points)\n",
    "vec1.vectors(flux)\n",
    "vec1.colourmap(\"coolwarm\")\n",
    "\n",
    "tri0 = lv.triangles(\"Mesh\", wireframe=True, colour=\"Grey\")\n",
    "tri0.vertices(points)\n",
    "tri0.indices(mesh.tri.simplices)\n",
    "\n",
    "tri1 = lv.triangles(\"triangles\", wireframe=False)\n",
    "tri1.vertices(points)\n",
    "tri1.indices(mesh.tri.simplices)\n",
    "tri1.values( kappa1.evaluate(mesh) , \"kappa\")\n",
    "tri1.values( temperature.evaluate(mesh) , \"T\")\n",
    "tri1.values( (temp015-temp0).evaluate(mesh) , \"dT015\")\n",
    "tri1.values( (temp01-temp0).evaluate(mesh) , \"dT01\")\n",
    "\n",
    "\n",
    "tri1.colourmap(\"coolwarm\")\n",
    "tri1.colourbar(visible=True)\n",
    "\n",
    "lv.control.Panel()\n",
    "vec1.control.Checkbox(property=\"visible\", command=\"redraw\", label=\"Flux\")\n",
    "tri0.control.Checkbox(property=\"visible\", command=\"redraw\", label=\"Mesh\")\n",
    "tri1.control.Checkbox(property=\"visible\", command=\"redraw\", label=\"T\")\n",
    "tri1.control.List(options=\n",
    "                 [\"kappa\",\"T\", \"dT015\", \"dT01\"], \n",
    "                  property=\"colourby\", value=\"kappa\", command=\"redraw\")\n",
    "lv.control.show()"
   ]
  },
  {
   "cell_type": "raw",
   "id": "38e41422",
   "metadata": {
    "slideshow": {
     "slide_type": "skip"
    }
   },
   "source": [
    "def diffusion_time_integration(timestep, \n",
    "                               phi, \n",
    "                               kappa_fn, \n",
    "                               dirichlet_mask, \n",
    "                               neumann_x_mask, \n",
    "                               neumann_y_mask,\n",
    "                               steps=1,\n",
    "                               Delta_t=None):\n",
    "    \n",
    "    \n",
    "    if Delta_t is not None:\n",
    "        steps = Delta_t // timestep\n",
    "        timestep = Delta_t / steps\n",
    "        \n",
    "    elapsed_time = 0.0\n",
    " \n",
    "    for step in range(0, int(steps)):\n",
    "    \n",
    "        dx_fn, dy_fn = fn.math.grad(phi) \n",
    "        kappa_dx_fn  = fn.misc.where(neumann_x_mask, kappa  * dx_fn, fn.parameter(0.0))\n",
    "        kappa_dy_fn  = fn.misc.where(neumann_y_mask, kappa  * dy_fn, fn.parameter(0.0))\n",
    "        dPhi_dt_fn   = fn.misc.where(dirichlet_mask, fn.math.div(kappa_dx_fn, kappa_dy_fn), fn.parameter(0.0))\n",
    "\n",
    "\n",
    "        phi0 = phi.copy()\n",
    "        phi.data = phi.data  +  0.5 * timestep * dPhi_dt_fn.evaluate(mesh)\n",
    "        phi.data = phi0.data +  timestep * dPhi_dt_fn.evaluate(mesh)\n",
    "        \n",
    "        elapsed_time += diff_timestep\n",
    "        \n",
    "    return steps, elapsed_time\n",
    "\n",
    "\n",
    "diff_timestep = (0.5 * mesh.area / kappa.value ).min() # FIX FOR PARALLEL !!\n",
    "steps, dt     = diffusion_time_integration(diff_timestep, temperature, \n",
    "                                    kappa, \n",
    "                                    dirichlet_mask, \n",
    "                                    neumann_x_mask, neumann_y_mask, Delta_t = 0.01 )\n",
    "time += dt\n",
    "\n",
    "\n",
    "temp001 = temperature.copy()\n",
    "\n",
    "\n",
    "diff_timestep = (0.5 * mesh.area / kappa.value ).min() # FIX FOR PARALLEL !!\n",
    "steps, dt     = diffusion_time_integration(diff_timestep, temperature, \n",
    "                                    kappa, \n",
    "                                    dirichlet_mask, \n",
    "                                    neumann_x_mask, neumann_y_mask, Delta_t = 0.04 )\n",
    "time += dt"
   ]
  },
  {
   "cell_type": "raw",
   "id": "e0f7176b",
   "metadata": {
    "slideshow": {
     "slide_type": "skip"
    }
   },
   "source": [
    "def bf_gradient(xx, yy, meshVariable):\n",
    "    \n",
    "    d, node = mesh.cKDTree.query(location, k=1)\n",
    "\n",
    "    return bf_gradient_node(node, meshVariable)\n",
    "\n",
    "\n",
    "def bf_gradient_node(node, meshVariable):\n",
    "    \n",
    "    from scipy.optimize import curve_fit\n",
    "\n",
    "    def linear_fit_2D(X, a, b, c):\n",
    "        # (1+x) * (1+y) etc\n",
    "        x,y = X\n",
    "        fit = a + b * x + c * y \n",
    "        return fit\n",
    "    \n",
    "    mesh = meshVariable._mesh\n",
    "    patch_points = mesh.neighbour_cloud[node, 0:mesh.near_neighbours[node]]\n",
    "\n",
    "    x,y = mesh.coords[patch_points].T\n",
    "    data = meshVariable.evaluate(x, y)\n",
    "    popt, pcov = curve_fit(linear_fit_2D, (x,y), data)\n",
    "    ddx = popt[1]\n",
    "    ddy = popt[2]\n",
    "\n",
    "    return(ddx, ddy)\n",
    "\n",
    "\n",
    "def bf_gradienty_node(node, meshVariable):\n",
    "    \n",
    "    from scipy.optimize import curve_fit\n",
    "\n",
    "    def linear_fit_2D(X, a, b):\n",
    "        # (1+x) * (1+y) etc\n",
    "        x,y = X\n",
    "        fit = a + b * y \n",
    "        return fit\n",
    "    \n",
    "    mesh = meshVariable._mesh\n",
    "    patch_points = mesh.neighbour_cloud[node, 0:mesh.near_neighbours[node]]\n",
    "\n",
    "    x,y = mesh.coords[patch_points].T\n",
    "    data = meshVariable.evaluate(x, y)\n",
    "    popt, pcov = curve_fit(linear_fit_2D, (x,y), data)\n",
    "    ddy = popt[1]\n",
    "    # ddy = popt[2]\n",
    "\n",
    "    return(ddy)\n",
    "\n",
    "ddx  = np.empty(mesh.npoints)\n",
    "ddy  = np.empty(mesh.npoints)\n",
    "ddy1 = np.empty(mesh.npoints)\n",
    "\n",
    "for i in range(0, mesh.npoints):\n",
    "    ddx[i],ddy[i]  = bf_gradient_node(i, temperature)\n",
    "    ddy1[i]        = bf_gradienty_node(i, temperature)\n",
    "    "
   ]
  }
 ],
 "metadata": {
  "jupytext": {
   "text_representation": {
    "extension": ".md",
    "format_name": "myst",
    "format_version": 0.12,
    "jupytext_version": "1.6.0"
   }
  },
  "kernelspec": {
   "display_name": "Python 3",
   "language": "python",
   "name": "python3"
  },
  "language_info": {
   "codemirror_mode": {
    "name": "ipython",
    "version": 3
   },
   "file_extension": ".py",
   "mimetype": "text/x-python",
   "name": "python",
   "nbconvert_exporter": "python",
   "pygments_lexer": "ipython3",
   "version": "3.7.10"
  },
  "source_map": [
   14,
   20,
   35,
   51,
   68,
   84,
   100,
   104,
   108,
   117,
   140,
   144,
   153,
   157,
   179,
   183,
   217,
   221,
   252,
   260,
   270,
   275,
   280,
   296,
   305,
   309,
   313,
   351,
   358,
   366,
   404,
   461
  ]
 },
 "nbformat": 4,
 "nbformat_minor": 5
}