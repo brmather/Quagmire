{
 "cells": [
  {
   "cell_type": "markdown",
   "id": "8ecc6fcd",
   "metadata": {},
   "source": [
    "# Example 2 - Meshes for Topography \n",
    "\n",
    "This notebook introduces the `QuagMesh` object, which builds the following data structures:\n",
    "\n",
    "- hill slope\n",
    "- downhill propagation matrices\n",
    "- upstream area\n",
    "\n",
    "in addition to the data structures inherited from `QuagMesh`. These form the necessary structures to propagate information from higher to lower elevations. Derivatives are computed on the mesh to calculate the height field, smoothing operators are available to reduce short wavelength features and artefacts.\n",
    "\n",
    "In this notebook we setup a height field and calculate its derivatives on an unstructued mesh. We smooth the derivatives using the radial-basis function (RBF) smoothing kernel.\n",
    "\n",
    "> Note: The API for the structured mesh is identical"
   ]
  },
  {
   "cell_type": "code",
   "execution_count": 1,
   "id": "93e11957",
   "metadata": {},
   "outputs": [],
   "source": [
    "from quagmire.tools import meshtools\n",
    "from quagmire import QuagMesh, QuagMesh\n",
    "from quagmire import function as fn"
   ]
  },
  {
   "cell_type": "code",
   "execution_count": 2,
   "id": "53b9ab1b",
   "metadata": {},
   "outputs": [],
   "source": [
    "import matplotlib.pyplot as plt\n",
    "import numpy as np\n",
    "# from scipy.ndimage import imread\n",
    "# from quagmire import tools as meshtools\n",
    "# from quagmire import QuagMesh\n",
    "%matplotlib inline"
   ]
  },
  {
   "cell_type": "code",
   "execution_count": 3,
   "id": "e2de101a",
   "metadata": {},
   "outputs": [],
   "source": [
    "minX, maxX = -5.0, 5.0\n",
    "minY, maxY = -5.0, 5.0,\n",
    "dx, dy = 0.02, 0.02\n",
    "\n",
    "x, y, simplices = meshtools.elliptical_mesh(minX, maxX, minY, maxY, dx, dy)\n",
    "\n",
    "DM = meshtools.create_DMPlex_from_points(x, y, bmask=None)"
   ]
  },
  {
   "cell_type": "code",
   "execution_count": 4,
   "id": "3e82c8d3",
   "metadata": {},
   "outputs": [
    {
     "name": "stdout",
     "output_type": "stream",
     "text": [
      "Underlying Mesh type: TriMesh\n"
     ]
    },
    {
     "name": "stdout",
     "output_type": "stream",
     "text": [
      "0 - Delaunay triangulation 0.21098686000004818s\n",
      "0 - Calculate node weights and area 0.007768660000010641s\n",
      "0 - Find boundaries 0.0017051569998329796s\n",
      "0 - cKDTree 0.015020703000118374s\n"
     ]
    },
    {
     "name": "stdout",
     "output_type": "stream",
     "text": [
      "0 - Construct neighbour cloud arrays 0.46514066500003537s, (0.2560233669998979s + 0.20906819599986193s)\n",
      "0 - Construct rbf weights 0.08880147100012437s\n",
      "Triangulation has 62234 points\n"
     ]
    }
   ],
   "source": [
    "mesh = QuagMesh(DM, downhill_neighbours=1)\n",
    "\n",
    "print (\"Triangulation has {} points\".format(mesh.npoints))"
   ]
  },
  {
   "cell_type": "markdown",
   "id": "be484b02",
   "metadata": {},
   "source": [
    "## Height field\n",
    "\n",
    "We generate a cylindrically symmetry domed surface and add multiple channels incised along the boundary. The height and slope fields reside as attributes on the `QuagMesh` instance."
   ]
  },
  {
   "cell_type": "code",
   "execution_count": 5,
   "id": "e480b27b",
   "metadata": {},
   "outputs": [],
   "source": [
    "radius  = np.sqrt((x**2 + y**2))\n",
    "theta   = np.arctan2(y,x) + 0.1\n",
    "\n",
    "height  = np.exp(-0.025*(x**2 + y**2)**2) + 0.25 * (0.2*radius)**4  * np.cos(5.0*theta)**2 ## Less so\n",
    "height  += 0.5 * (1.0-0.2*radius)\n",
    "height  += np.random.random(height.size) * 0.01 # random noise"
   ]
  },
  {
   "cell_type": "code",
   "execution_count": 6,
   "id": "d98e84fd",
   "metadata": {},
   "outputs": [
    {
     "name": "stdout",
     "output_type": "stream",
     "text": [
      "quagmire.MeshVariable: h(x,y) - is locked\n",
      "Update topography data array (automatically rebuilds matrices)\n",
      "Update topography data array (automatically rebuilds matrices ONCE ONLY)\n",
      "0 - Build downhill matrices 0.051557825000145385s\n"
     ]
    },
    {
     "name": "stdout",
     "output_type": "stream",
     "text": [
      "0 - Build upstream areas 0.06893240700014758s\n"
     ]
    }
   ],
   "source": [
    "# This fails because the topography variable is locked\n",
    "mesh.topography.data = height\n",
    "\n",
    "# This unlocks the variable and rebuilds the necessary downhill data structures\n",
    "with mesh.deform_topography():\n",
    "    print(\"Update topography data array (automatically rebuilds matrices)\")\n",
    "    mesh.topography.data = height\n",
    "    print(\"Update topography data array (automatically rebuilds matrices ONCE ONLY)\")\n",
    "    mesh.topography.data = height + 0.01"
   ]
  },
  {
   "cell_type": "code",
   "execution_count": 7,
   "id": "b7b48fcd",
   "metadata": {},
   "outputs": [
    {
     "data": {
      "text/plain": [
       "array([1.517169  , 1.51662179, 1.50985412, ..., 0.70017179, 0.66005553,\n",
       "       0.61395866])"
      ]
     },
     "execution_count": 7,
     "metadata": {},
     "output_type": "execute_result"
    }
   ],
   "source": [
    "mesh.topography.data"
   ]
  },
  {
   "cell_type": "code",
   "execution_count": 8,
   "id": "ba696427",
   "metadata": {},
   "outputs": [
    {
     "data": {
      "text/latex": [
       "$\\displaystyle \\left| \\nabla h(x,y) \\right|$"
      ],
      "text/plain": [
       "<IPython.core.display.Math object>"
      ]
     },
     "metadata": {},
     "output_type": "display_data"
    }
   ],
   "source": [
    "s = mesh.slope\n",
    "s"
   ]
  },
  {
   "cell_type": "markdown",
   "id": "b9cba695",
   "metadata": {},
   "source": [
    "## Derivatives and slopes\n",
    "\n",
    "The slope of the topography is defined through a built in lazy-evaluate function `mesh.slope` (which was described in the Functions notebook). Other gradients are available through the usual quagmire mathematics functions. \n",
    "\n",
    "---\n",
    "\n",
    "If you want more control of the underlying operations, derivatives can also be evaluated on the mesh using the inbuilt routine in the `stripy` object. It employs automatically selected tension factors to preserve shape properties of the data and avoid overshoot and undershoot associated with steep gradients. **Note:** In parallel it is wise to check if this tensioning introduces artefacts near the boundaries.\n",
    "\n",
    "```python\n",
    "dfdx, dfdy = mesh.derivative_grad(f, nit=10, tol=1e-8):\n",
    "```\n",
    "where `nit` and `tol` control the convergence criteria."
   ]
  },
  {
   "cell_type": "markdown",
   "id": "01a8a3cd",
   "metadata": {},
   "source": [
    "## Smoothing\n",
    "\n",
    "We have included the capacity to build (Gaussian) Radial Basis Function kernels on the mesh that can be used for smoothing operations. **Radial-basis function** (RBF) smoothing kernel works by setting up a series of gaussian functions based on the distance $d$ between neighbouring nodes and a scaling factor, $\\Delta$:\n",
    "\n",
    "$$\n",
    "W_i = \\frac{\\exp \\left( \\frac{d_i}{\\Delta} \\right)^2}{\\sum_{i} \\left( \\frac{d_i}{\\Delta} \\right)^2}\n",
    "$$\n",
    "\n",
    "`delta` is set to the mean distance between nodes by default, but it may be changed to increase or decrease the _smoothness_:\n",
    "\n",
    "```python\n",
    "rbf1  = mesh.build_rbf_smoother(1.0, 1)\n",
    "rbf01 = mesh.build_rbf_smoother(0.1, 1)\n",
    "rbf001 = mesh.build_rbf_smoother(0.01, 1)\n",
    "\n",
    "print(rbf1.smooth_fn(rainfall, iterations=1).evaluate(0.0,0.0))\n",
    "print(rbf1.smooth_fn(height, iterations=1).evaluate(0.0,0.0))\n",
    "print(rbf01.smooth_fn(rainfall, iterations=1).evaluate(0.0,0.0))\n",
    "```"
   ]
  },
  {
   "cell_type": "code",
   "execution_count": 9,
   "id": "d286d98f",
   "metadata": {},
   "outputs": [],
   "source": [
    "rbf005 = mesh.build_rbf_smoother(0.05, 1)\n",
    "rbf010 = mesh.build_rbf_smoother(0.10, 1)\n",
    "rbf050 = mesh.build_rbf_smoother(0.50, 1)"
   ]
  },
  {
   "cell_type": "code",
   "execution_count": 10,
   "id": "15986e98",
   "metadata": {},
   "outputs": [],
   "source": [
    "rbf_slope005 = rbf005.smooth_fn(mesh.slope).evaluate(mesh)\n",
    "rbf_slope010 = rbf010.smooth_fn(mesh.slope).evaluate(mesh)\n",
    "rbf_slope050 = rbf050.smooth_fn(mesh.slope).evaluate(mesh)"
   ]
  },
  {
   "cell_type": "markdown",
   "id": "768aca5c",
   "metadata": {},
   "source": [
    "**NOTE** - Building the RBF smoothing machinery is expensive and cannot be reused if the kernel properties are changed. We therefore have a two-stage implementation which builds and caches the smoothing matrices and defines a quagmire function that can be used in the usual way."
   ]
  },
  {
   "cell_type": "code",
   "execution_count": 11,
   "id": "181b8f2b",
   "metadata": {},
   "outputs": [],
   "source": [
    "# import lavavu\n",
    "\n",
    "# points = np.column_stack([mesh.tri.points, height])\n",
    "\n",
    "# lv = lavavu.Viewer(border=False, background=\"#FFFFFF\", resolution=[600,600], near=-10.0)\n",
    "\n",
    "# tri1 = lv.triangles(\"triangles\")\n",
    "# tri1.vertices(points)\n",
    "# tri1.indices(mesh.tri.simplices)\n",
    "# tri1.values(mesh.slope.evaluate(mesh), \"slope\")\n",
    "# tri1.values(rbf_slope005, \"smooth_slope_a\")\n",
    "# tri1.values(rbf_slope010, \"smooth_slope_b\")\n",
    "# tri1.values(rbf_slope050, \"smooth_slope_c\")\n",
    "\n",
    "# tri1.colourmap(\"#990000 #FFFFFF #000099\")\n",
    "# tri1.colourbar()\n",
    "\n",
    "# lv.control.Panel()\n",
    "# lv.control.ObjectList()\n",
    "# tri1.control.List(options=[\"slope\", \"smooth_slope_a\", \"smooth_slope_b\", \"smooth_slope_c\", ], property=\"colourby\", value=\"slope\", command=\"redraw\")\n",
    "\n",
    "# lv.control.show()"
   ]
  },
  {
   "cell_type": "code",
   "execution_count": 12,
   "id": "3991c88b",
   "metadata": {},
   "outputs": [
    {
     "ename": "ModuleNotFoundError",
     "evalue": "No module named 'k3d'",
     "output_type": "error",
     "traceback": [
      "\u001b[0;31m---------------------------------------------------------------------------\u001b[0m",
      "\u001b[0;31mModuleNotFoundError\u001b[0m                       Traceback (most recent call last)",
      "\u001b[0;32m<ipython-input-12-bad4395a5c16>\u001b[0m in \u001b[0;36m<module>\u001b[0;34m\u001b[0m\n\u001b[0;32m----> 1\u001b[0;31m \u001b[0;32mimport\u001b[0m \u001b[0mk3d\u001b[0m\u001b[0;34m\u001b[0m\u001b[0;34m\u001b[0m\u001b[0m\n\u001b[0m\u001b[1;32m      2\u001b[0m \u001b[0mplot\u001b[0m \u001b[0;34m=\u001b[0m \u001b[0mk3d\u001b[0m\u001b[0;34m.\u001b[0m\u001b[0mplot\u001b[0m\u001b[0;34m(\u001b[0m\u001b[0;34m)\u001b[0m\u001b[0;34m\u001b[0m\u001b[0;34m\u001b[0m\u001b[0m\n\u001b[1;32m      3\u001b[0m \u001b[0mplot\u001b[0m\u001b[0;34m\u001b[0m\u001b[0;34m\u001b[0m\u001b[0m\n",
      "\u001b[0;31mModuleNotFoundError\u001b[0m: No module named 'k3d'"
     ]
    }
   ],
   "source": [
    "import k3d\n",
    "plot = k3d.plot()\n",
    "plot"
   ]
  },
  {
   "cell_type": "code",
   "execution_count": 13,
   "id": "e2558251",
   "metadata": {},
   "outputs": [
    {
     "ename": "NameError",
     "evalue": "name 'k3d' is not defined",
     "output_type": "error",
     "traceback": [
      "\u001b[0;31m---------------------------------------------------------------------------\u001b[0m",
      "\u001b[0;31mNameError\u001b[0m                                 Traceback (most recent call last)",
      "\u001b[0;32m<ipython-input-13-60cdc1c5b847>\u001b[0m in \u001b[0;36m<module>\u001b[0;34m\u001b[0m\n\u001b[1;32m      2\u001b[0m \u001b[0mpoints\u001b[0m \u001b[0;34m=\u001b[0m \u001b[0mnp\u001b[0m\u001b[0;34m.\u001b[0m\u001b[0mcolumn_stack\u001b[0m\u001b[0;34m(\u001b[0m\u001b[0;34m[\u001b[0m\u001b[0mmesh\u001b[0m\u001b[0;34m.\u001b[0m\u001b[0mtri\u001b[0m\u001b[0;34m.\u001b[0m\u001b[0mpoints\u001b[0m\u001b[0;34m,\u001b[0m \u001b[0mheight\u001b[0m\u001b[0;34m]\u001b[0m\u001b[0;34m)\u001b[0m\u001b[0;34m.\u001b[0m\u001b[0mastype\u001b[0m\u001b[0;34m(\u001b[0m\u001b[0mnp\u001b[0m\u001b[0;34m.\u001b[0m\u001b[0mfloat32\u001b[0m\u001b[0;34m)\u001b[0m\u001b[0;34m\u001b[0m\u001b[0;34m\u001b[0m\u001b[0m\n\u001b[1;32m      3\u001b[0m \u001b[0;34m\u001b[0m\u001b[0m\n\u001b[0;32m----> 4\u001b[0;31m plt_mesh = k3d.mesh(points, indices,\n\u001b[0m\u001b[1;32m      5\u001b[0m                    \u001b[0mcolor_map\u001b[0m \u001b[0;34m=\u001b[0m \u001b[0mk3d\u001b[0m\u001b[0;34m.\u001b[0m\u001b[0mcolormaps\u001b[0m\u001b[0;34m.\u001b[0m\u001b[0mbasic_color_maps\u001b[0m\u001b[0;34m.\u001b[0m\u001b[0mJet\u001b[0m\u001b[0;34m,\u001b[0m\u001b[0;34m\u001b[0m\u001b[0;34m\u001b[0m\u001b[0m\n\u001b[1;32m      6\u001b[0m                    \u001b[0mattribute\u001b[0m\u001b[0;34m=\u001b[0m\u001b[0mmesh\u001b[0m\u001b[0;34m.\u001b[0m\u001b[0mslope\u001b[0m\u001b[0;34m.\u001b[0m\u001b[0mevaluate\u001b[0m\u001b[0;34m(\u001b[0m\u001b[0mmesh\u001b[0m\u001b[0;34m)\u001b[0m\u001b[0;34m,\u001b[0m\u001b[0;34m\u001b[0m\u001b[0;34m\u001b[0m\u001b[0m\n",
      "\u001b[0;31mNameError\u001b[0m: name 'k3d' is not defined"
     ]
    }
   ],
   "source": [
    "indices = mesh.tri.simplices.astype(np.uint32)\n",
    "points = np.column_stack([mesh.tri.points, height]).astype(np.float32)\n",
    "\n",
    "plt_mesh = k3d.mesh(points, indices,\n",
    "                   color_map = k3d.colormaps.basic_color_maps.Jet,\n",
    "                   attribute=mesh.slope.evaluate(mesh),\n",
    "                   # color_range = [-1.1,2.01]\n",
    "                   )\n",
    "\n",
    "plot += plt_mesh"
   ]
  },
  {
   "cell_type": "code",
   "execution_count": null,
   "id": "58827a21",
   "metadata": {},
   "outputs": [],
   "source": []
  },
  {
   "cell_type": "code",
   "execution_count": null,
   "id": "b5ab41d4",
   "metadata": {},
   "outputs": [],
   "source": []
  }
 ],
 "metadata": {
  "jupytext": {
   "text_representation": {
    "extension": ".md",
    "format_name": "myst",
    "format_version": 0.13,
    "jupytext_version": "1.11.1"
   }
  },
  "kernelspec": {
   "display_name": "Python 3",
   "language": "python",
   "name": "python3"
  },
  "language_info": {
   "codemirror_mode": {
    "name": "ipython",
    "version": 3
   },
   "file_extension": ".py",
   "mimetype": "text/x-python",
   "name": "python",
   "nbconvert_exporter": "python",
   "pygments_lexer": "ipython3",
   "version": "3.7.10"
  },
  "source_map": [
   12,
   28,
   34,
   43,
   53,
   57,
   63,
   72,
   84,
   88,
   91,
   106,
   128,
   134,
   138,
   142,
   167,
   173,
   186,
   190
  ]
 },
 "nbformat": 4,
 "nbformat_minor": 5
}