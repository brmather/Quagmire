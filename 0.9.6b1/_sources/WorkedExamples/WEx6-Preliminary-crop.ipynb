{
 "cells": [
  {
   "cell_type": "markdown",
   "id": "b41b3927",
   "metadata": {},
   "source": [
    "# Spherical mesh of Australia\n",
    "\n",
    "Download a GeoTiff from Geoscience Australia's online API."
   ]
  },
  {
   "cell_type": "code",
   "execution_count": null,
   "id": "2ef2347f",
   "metadata": {},
   "outputs": [],
   "source": [
    "import numpy as np\n",
    "import quagmire\n",
    "from quagmire import function as fn\n",
    "from quagmire import tools as meshtools\n",
    "%matplotlib inline\n",
    "\n",
    "import h5py\n",
    "import netCDF4"
   ]
  },
  {
   "cell_type": "code",
   "execution_count": null,
   "id": "06213206",
   "metadata": {},
   "outputs": [],
   "source": [
    "extent_australia = [112, 155, -44, -10]\n",
    "lonmin, lonmax, latmin, latmax = extent_australia\n",
    "\n",
    "data_dir = \"./data/\"\n",
    "etopo_filename = data_dir+'ETOPO1_Ice_g_geotiff.tif'"
   ]
  },
  {
   "cell_type": "code",
   "execution_count": null,
   "id": "20da1267",
   "metadata": {},
   "outputs": [],
   "source": [
    "ds = gdal.Open(etopo_filename)\n",
    "band = ds.GetRasterBand(1)\n",
    "height = band.ReadAsArray()\n",
    "height = np.flipud(height)\n",
    "[cols, rows] = height.shape\n",
    "\n",
    "left, hres, n0, top, n1, vres  = ds.GetGeoTransform()\n",
    "right = left+rows*hres\n",
    "bottom = top+cols*vres\n",
    "\n",
    "loncoords = np.arange(left, right, hres)\n",
    "latcoords = np.arange(top,  bottom, vres)\n",
    "latcoords = latcoords[::-1]\n",
    "xq,yq = np.meshgrid(loncoords, latcoords)\n"
   ]
  },
  {
   "cell_type": "code",
   "execution_count": null,
   "id": "f957cb4f",
   "metadata": {},
   "outputs": [],
   "source": [
    "overlap = 10\n",
    "\n",
    "i0 = np.abs(loncoords - lonmin).argmin() - overlap\n",
    "i1 = np.abs(loncoords - lonmax).argmin() + overlap\n",
    "j0 = np.abs(latcoords - latmin).argmin() - overlap\n",
    "j1 = np.abs(latcoords - latmax).argmin() + overlap\n",
    "\n",
    "height_trimmed = height[j0:j1,i0:i1]"
   ]
  },
  {
   "cell_type": "code",
   "execution_count": null,
   "id": "f6df6fc8",
   "metadata": {},
   "outputs": [],
   "source": [
    "plt.imshow(height_trimmed, origin='lower')"
   ]
  },
  {
   "cell_type": "code",
   "execution_count": null,
   "id": "82784636",
   "metadata": {},
   "outputs": [],
   "source": [
    "plt.imshow((height_trimmed < 0).astype(np.int), origin='lower')"
   ]
  },
  {
   "cell_type": "code",
   "execution_count": null,
   "id": "d4339acd",
   "metadata": {},
   "outputs": [],
   "source": [
    "# save as hdf5\n",
    "\n",
    "with h5py.File(data_dir+'ETOPO1_Ice_g.h5', 'w') as h5:\n",
    "    h5_data = h5.create_dataset('data', height_trimmed.shape, height_trimmed.dtype, height_trimmed)\n",
    "    h5_lons = h5.create_dataset('lons', (height_trimmed.shape[1],), loncoords.dtype)\n",
    "    h5_lats = h5.create_dataset('lats', (height_trimmed.shape[0],), latcoords.dtype)\n",
    "    h5_lons[:] = loncoords[i0:i1]\n",
    "    h5_lats[:] = latcoords[j0:j1]\n",
    "    "
   ]
  }
 ],
 "metadata": {
  "jupytext": {
   "text_representation": {
    "extension": ".md",
    "format_name": "myst",
    "format_version": 0.12,
    "jupytext_version": "1.6.0"
   }
  },
  "kernelspec": {
   "display_name": "Python 3",
   "language": "python",
   "name": "python3"
  },
  "source_map": [
   12,
   18,
   29,
   37,
   55,
   66,
   70,
   74
  ]
 },
 "nbformat": 4,
 "nbformat_minor": 5
}