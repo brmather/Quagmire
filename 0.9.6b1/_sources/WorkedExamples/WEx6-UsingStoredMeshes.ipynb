{
 "cells": [
  {
   "cell_type": "markdown",
   "id": "8d8ea1ce",
   "metadata": {},
   "source": [
    "# Models from the cloud"
   ]
  },
  {
   "cell_type": "code",
   "execution_count": null,
   "id": "4710d474",
   "metadata": {},
   "outputs": [],
   "source": [
    "import numpy as np\n",
    "from quagmire import QuagMesh \n",
    "from quagmire import tools as meshtools\n",
    "from mpi4py import MPI\n",
    "\n",
    "import lavavu\n",
    "import stripy\n",
    "comm = MPI.COMM_WORLD\n",
    "\n",
    "import matplotlib.pyplot as plt\n",
    "from matplotlib import cm\n",
    "%matplotlib inline\n",
    "\n",
    "# import cartopy.crs as ccrs\n",
    "# import cartopy.feature as cfeature\n",
    "\n",
    "# from scipy.ndimage.filters import gaussian_filter"
   ]
  },
  {
   "cell_type": "code",
   "execution_count": null,
   "id": "70ed7376",
   "metadata": {},
   "outputs": [],
   "source": [
    "# dm = meshtools.create_DMPlex_from_hdf5(\"global_OC_8.4_mesh.h5\")"
   ]
  },
  {
   "cell_type": "code",
   "execution_count": null,
   "id": "3c78526b",
   "metadata": {},
   "outputs": [],
   "source": [
    "from quagmire.tools.cloud import quagmire_cloud_fs\n",
    "\n",
    "quagmire_cloud_fs\n",
    "quagmire_cloud_fs.listdir(\"/\")"
   ]
  },
  {
   "cell_type": "code",
   "execution_count": null,
   "id": "832ea120",
   "metadata": {},
   "outputs": [],
   "source": [
    "# from quagmire.tools.cloud import cloud_download, cloud_upload\n",
    "# cloud_download('global_OC_8.4_topography.h5', \"gtopo3.h5\")\n",
    "quagmire_cloud_fs.listdir('/global')"
   ]
  },
  {
   "cell_type": "code",
   "execution_count": null,
   "id": "b63a7513",
   "metadata": {},
   "outputs": [],
   "source": [
    "dm = meshtools.create_DMPlex_from_cloud_fs(\"global/global_OC_8.4_mesh.h5\")"
   ]
  },
  {
   "cell_type": "code",
   "execution_count": null,
   "id": "f4ea4b57",
   "metadata": {},
   "outputs": [],
   "source": [
    "mesh = QuagMesh(dm, downhill_neighbours=2)\n",
    "\n",
    "# Mark up the shadow zones\n",
    "\n",
    "rank = np.ones((mesh.npoints,))*comm.rank\n",
    "shadow = np.zeros((mesh.npoints,))\n",
    "\n",
    "# get shadow zones\n",
    "shadow_zones = mesh.lgmap_row.indices < 0\n",
    "shadow[shadow_zones] = 1\n",
    "shadow_vec = mesh.gvec.duplicate()\n",
    "\n",
    "mesh.lvec.setArray(shadow)\n",
    "mesh.dm.localToGlobal(mesh.lvec, shadow_vec, addv=True)\n",
    "\n",
    "rawheight = mesh.add_variable(name=\"height\", locked=False)\n",
    "rainfall = mesh.add_variable(name=\"rain\", locked=False)\n",
    "runoff_var = mesh.add_variable(name=\"runoff\", locked=False)\n",
    "\n",
    "print(\"{} mesh points\".format(mesh.npoints))"
   ]
  },
  {
   "cell_type": "code",
   "execution_count": null,
   "id": "52a05de6",
   "metadata": {},
   "outputs": [],
   "source": [
    "with mesh.deform_topography():\n",
    "    mesh.topography.load_from_cloud_fs(\"global/global_OC_8.4_topography.h5\")"
   ]
  },
  {
   "cell_type": "code",
   "execution_count": null,
   "id": "c58c1968",
   "metadata": {},
   "outputs": [],
   "source": [
    "low_points = mesh.identify_low_points(ref_height=6.37)\n",
    "low_points.shape"
   ]
  },
  {
   "cell_type": "code",
   "execution_count": null,
   "id": "dfe53467",
   "metadata": {},
   "outputs": [],
   "source": [
    "rainfall.data = 0.0\n",
    "rainfall.load_from_cloud_fs(\"global/global_OC_8.4_rainfall.h5\", quagmire_cloud_fs)\n",
    "rainfall.data"
   ]
  },
  {
   "cell_type": "code",
   "execution_count": null,
   "id": "771e7aaf",
   "metadata": {},
   "outputs": [],
   "source": [
    "runoff_var.data = 0.0\n",
    "runoff_var.load_from_cloud_fs(\"global/global_OC_8.4_runoff.h5\", quagmire_cloud_fs)\n",
    "runoff_var.data"
   ]
  },
  {
   "cell_type": "code",
   "execution_count": null,
   "id": "7dd08659",
   "metadata": {},
   "outputs": [],
   "source": [
    "# # runoff  \"/thredds/wcs/agg_terraclimate_q_1958_CurrentYear_GLOBE.nc\"\n",
    "\n",
    "# from owslib.wcs import WebCoverageService\n",
    "# # import gdal\n",
    "\n",
    "# url = \"http://thredds.northwestknowledge.net:8080/thredds/wcs/agg_terraclimate_ppt_1958_CurrentYear_GLOBE.nc\"\n",
    "# wcs = WebCoverageService(url, version='1.0.0')\n",
    "# for layer in list(wcs.contents):\n",
    "#     print(\"Layer Name:\", layer)\n",
    "#     print(\"Title:\", wcs[layer].title, '\\n')\n",
    "    \n",
    "# output = wcs.getCoverage(identifier=layer,\n",
    "#                     service=\"WCS\", bbox=[-180, -90, 180, 90], \n",
    "#                     resx = 1800.0 / 3600.0, resy = 1800.0 / 3600.0,\n",
    "#                     format='geotiff')\n",
    "\n",
    "# with open(\"GlobalRainfall.tif\", \"wb\") as f:\n",
    "#     f.write(output.read())\n",
    "    \n",
    "# # Read it back and reduce the size of the array\n",
    "\n",
    "# url = \"http://thredds.northwestknowledge.net:8080/thredds/wcs/agg_terraclimate_q_1958_CurrentYear_GLOBE.nc\"\n",
    "# wcs = WebCoverageService(url, version='1.0.0')\n",
    "# for layer in list(wcs.contents):\n",
    "#     print(\"Layer Name:\", layer)\n",
    "#     print(\"Title:\", wcs[layer].title, '\\n')\n",
    "    \n",
    "# output = wcs.getCoverage(identifier=layer,\n",
    "#                     service=\"WCS\", bbox=[-180, -90, 180, 90], \n",
    "#                     resx = 1800.0 / 3600.0, resy = 1800.0 / 3600.0,\n",
    "#                     format='geotiff')\n",
    "\n",
    "# with open(\"GlobalRunoff.tif\", \"wb\") as f:\n",
    "#     f.write(output.read())\n",
    "    "
   ]
  },
  {
   "cell_type": "code",
   "execution_count": null,
   "id": "73accf58",
   "metadata": {},
   "outputs": [],
   "source": [
    "# import imageio\n",
    "# rain = imageio.imread(\"GlobalRainfall.tif\")[::3,::3].astype(float)\n",
    "# runoff = imageio.imread(\"GlobalRunoff.tif\")[::3,::3].astype(float)\n",
    "\n",
    "# [cols, rows] = rain.shape\n",
    "# print([cols,rows])\n",
    "\n",
    "# rlons = np.linspace(-180,180, rows)\n",
    "# rlats = np.linspace(-180,180, cols)\n",
    "\n",
    "# rx,ry = np.meshgrid(rlons.data, rlats.data)\n",
    "\n",
    "\n",
    "# rainfall.data  = np.maximum(0.0,meshtools.map_global_raster_to_strimesh(mesh, rain[::-1,:]))\n",
    "# runoff_var.data  = np.maximum(0.0,meshtools.map_global_raster_to_strimesh(mesh, runoff[::-1,:]))"
   ]
  },
  {
   "cell_type": "code",
   "execution_count": null,
   "id": "91bdc35d",
   "metadata": {},
   "outputs": [],
   "source": [
    "# coastline = cfeature.NaturalEarthFeature('physical', 'coastline', '10m',\n",
    "#                            edgecolor=(1.0,0.8,0.0),\n",
    "#                            facecolor=\"none\")\n",
    "\n",
    "# ocean = cfeature.NaturalEarthFeature('physical', 'ocean', '10m',\n",
    "#                            edgecolor=\"green\",\n",
    "#                            facecolor=\"blue\")\n",
    "\n",
    "# lakes = cfeature.NaturalEarthFeature('physical', 'lakes', '10m',\n",
    "#                            edgecolor=\"green\",\n",
    "#                            facecolor=\"blue\")\n",
    "\n",
    "# rivers = cfeature.NaturalEarthFeature('physical', 'rivers_lake_centerlines', '10m',\n",
    "#                            edgecolor=\"green\",\n",
    "#                            facecolor=\"blue\")\n",
    "\n",
    "# map_extent = ( -180, 180, -90, 90 )\n",
    "\n",
    "# plt.figure(figsize=(15, 10))\n",
    "# ax = plt.subplot(111, projection=ccrs.PlateCarree())\n",
    "# ax.set_extent(map_extent)\n",
    "\n",
    "# ax.add_feature(coastline, edgecolor=\"black\", linewidth=0.5, zorder=3)\n",
    "# ax.add_feature(lakes,     edgecolor=\"black\", linewidth=1, zorder=3)\n",
    "# ax.add_feature(rivers   , edgecolor=\"black\", facecolor=\"none\", linewidth=1, zorder=3)\n",
    "\n",
    "# plt.imshow(rain, extent=map_extent, transform=ccrs.PlateCarree(),\n",
    "#            cmap='Greens', origin='upper', vmin=0., vmax=50.)"
   ]
  },
  {
   "cell_type": "code",
   "execution_count": null,
   "id": "11b67757",
   "metadata": {},
   "outputs": [],
   "source": [
    "latitudes_in_radians  = mesh.tri.lats\n",
    "longitudes_in_radians = mesh.tri.lons \n",
    "latitudes_in_degrees  = np.degrees(latitudes_in_radians) \n",
    "longitudes_in_degrees = np.degrees(longitudes_in_radians) \n",
    "\n",
    "map_extent = ( -180, 180, -90, 90 )\n",
    "\n",
    "plt.figure(figsize=(15, 10))\n",
    "ax = plt.subplot(111, projection=ccrs.PlateCarree())\n",
    "ax.set_extent(map_extent)\n",
    "\n",
    "ax.add_feature(coastline, edgecolor=\"black\", linewidth=0.5, zorder=3)\n",
    "ax.add_feature(lakes,     edgecolor=\"black\", linewidth=1, zorder=3)\n",
    "ax.add_feature(rivers   , edgecolor=\"black\", facecolor=\"none\", linewidth=1, zorder=3)\n",
    "\n",
    "plt.scatter(x=longitudes_in_degrees, y=latitudes_in_degrees, c=rainfall.data, transform=ccrs.PlateCarree(),\n",
    "            cmap='Greens',  vmin=0., vmax=50.)"
   ]
  },
  {
   "cell_type": "code",
   "execution_count": null,
   "id": "83073688",
   "metadata": {},
   "outputs": [],
   "source": [
    "from quagmire import function as fn\n",
    "\n",
    "ones = fn.parameter(1.0)\n",
    "cumulative_flow_0 = np.log10(1.0e-20 + mesh.upstream_integral_fn(runoff_var).evaluate(mesh))\n",
    "cumulative_flow_0[mesh.topography.data < 6.37] = 0.0\n",
    "\n",
    "cumulative_area = np.log10(1.0e-20 + mesh.upstream_integral_fn(ones).evaluate(mesh))\n",
    "cumulative_area[mesh.topography.data < 6.37] = 0.0"
   ]
  },
  {
   "cell_type": "code",
   "execution_count": null,
   "id": "baed8692",
   "metadata": {},
   "outputs": [],
   "source": [
    "import lavavu\n",
    "import stripy\n",
    "\n",
    "# vertices0 = mesh.tri.points*mesh_height.reshape(-1,1)\n",
    "vertices = mesh.tri.points*mesh.topography.data.reshape(-1,1)\n",
    "tri = mesh.tri\n",
    "\n",
    "lv = lavavu.Viewer(border=False, axis=False, background=\"#FFFFFF\", resolution=[1000,1000], near=-20.0)\n",
    "\n",
    "lows = lv.points(\"lows\", colour=\"red\", pointsize=5.0, opacity=0.75)\n",
    "lows.vertices(vertices[low_points])\n",
    "\n",
    "flowball = lv.points(\"flowballs\", pointsize=1.5, colour=\"rgb(50,50,100)\", opacity=0.25)\n",
    "flowball.vertices(vertices*1.001)\n",
    "flowball.values(np.maximum(0.0,cumulative_flow_0-11.0), label=\"flows\")\n",
    "flowball[\"sizeby\"]=\"flows\"\n",
    "\n",
    "ghostball = lv.points(\"ghostballs\", colour=\"rgb(50,50,50)\", pointsize=0.5, opacity=0.2)\n",
    "ghostball.vertices(vertices*1.001)\n",
    "ghostball.values(np.maximum(0.0,cumulative_area-8.0), label=\"areas\")\n",
    "ghostball[\"sizeby\"]=\"areas\"\n",
    "\n",
    "heightball = lv.points(\"heightballs\", pointsize=1.0, opacity=1.0)\n",
    "heightball.vertices(vertices)\n",
    "heightball.values(mesh.topography.data, label=\"height\")\n",
    "heightball.values((mesh.topography.data > 6.370).astype(float), label=\"land\")\n",
    "heightball.colourmap('geo',  range=(6.363,6.377))  # This is a good choice of colourmap and range to make the coastlines work and the Earth look nice \n",
    "heightball[\"sizeby\"]=\"land\"\n",
    "\n",
    "tris = lv.triangles(\"mesh\",  wireframe=False, colour=\"#77ff88\", opacity=1.0)\n",
    "tris.vertices(vertices*0.999)\n",
    "tris.indices(tri.simplices)\n",
    "tris.values(mesh.topography.data, label=\"elevation\")\n",
    "tris.colourmap('#999999 #222222', range=(6.363,6.377))  # This is a good choice of colourmap and range to make the coastlines work and the Earth look nice \n",
    "\n",
    "\n",
    "# lv.translation(-1.012, 2.245, -13.352)\n",
    "# lv.rotation(53.217, 18.104, 161.927)\n",
    "\n",
    "lv.control.Panel()\n",
    "lv.control.ObjectList()\n",
    "lv.control.show()"
   ]
  },
  {
   "cell_type": "code",
   "execution_count": null,
   "id": "91192566",
   "metadata": {},
   "outputs": [],
   "source": []
  },
  {
   "cell_type": "code",
   "execution_count": null,
   "id": "23efad44",
   "metadata": {},
   "outputs": [],
   "source": []
  },
  {
   "cell_type": "code",
   "execution_count": null,
   "id": "6a98889d",
   "metadata": {},
   "outputs": [],
   "source": []
  }
 ],
 "metadata": {
  "jupytext": {
   "text_representation": {
    "extension": ".md",
    "format_name": "myst",
    "format_version": 0.12,
    "jupytext_version": "1.7.1"
   }
  },
  "kernelspec": {
   "display_name": "Python 3",
   "language": "python",
   "name": "python3"
  },
  "source_map": [
   12,
   16,
   36,
   40,
   47,
   53,
   57,
   80,
   85,
   90,
   96,
   102,
   140,
   158,
   189,
   209,
   220,
   265,
   269,
   273
  ]
 },
 "nbformat": 4,
 "nbformat_minor": 5
}