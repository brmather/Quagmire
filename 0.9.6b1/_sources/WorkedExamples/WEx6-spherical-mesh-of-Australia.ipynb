{
 "cells": [
  {
   "cell_type": "markdown",
   "id": "831179fe",
   "metadata": {},
   "source": [
    "# Spherical mesh of Australia\n",
    "\n",
    "Download a GeoTiff from Geoscience Australia's online API."
   ]
  },
  {
   "cell_type": "code",
   "execution_count": null,
   "id": "fd3df800",
   "metadata": {},
   "outputs": [],
   "source": [
    "import numpy as np\n",
    "import quagmire\n",
    "from quagmire import QuagMesh\n",
    "from quagmire import function as fn\n",
    "from quagmire import tools as meshtools\n",
    "\n",
    "from scipy.interpolate import RegularGridInterpolator\n",
    "\n",
    "import h5py\n",
    "from mpi4py import MPI\n",
    "comm = MPI.COMM_WORLD\n",
    "\n",
    "%pylab inline"
   ]
  },
  {
   "cell_type": "code",
   "execution_count": null,
   "id": "f70f2ff6",
   "metadata": {},
   "outputs": [],
   "source": [
    "data_dir = \"./data/\"\n",
    "etopo_filename = data_dir+'ETOPO1_Ice_g.h5'\n",
    "\n",
    "extent_australia = [112, 155, -44, -10]\n",
    "lonmin, lonmax, latmin, latmax = extent_australia"
   ]
  },
  {
   "cell_type": "code",
   "execution_count": null,
   "id": "86274a0e",
   "metadata": {},
   "outputs": [],
   "source": [
    "mlons, mlats, bmask = meshtools.generate_square_points(lonmin, lonmax, latmin, latmax, 0.1, 0.1, 15000, 800)\n",
    "\n",
    "DM = meshtools.create_DMPlex_from_spherical_points(mlons, mlats, bmask,refinement_levels=3)\n",
    "mesh = QuagMesh(DM, downhill_neighbours=2, verbose=True)\n",
    "\n",
    "print(\"number of points in mesh: \", mesh.npoints)"
   ]
  },
  {
   "cell_type": "markdown",
   "id": "cafd8f6c",
   "metadata": {},
   "source": [
    "## Read topography from HDF5"
   ]
  },
  {
   "cell_type": "code",
   "execution_count": null,
   "id": "a3217c3c",
   "metadata": {},
   "outputs": [],
   "source": [
    "# local extent\n",
    "local_extent = [mesh.coords[:,0].min(), mesh.coords[:,0].max(), mesh.coords[:,1].min(), mesh.coords[:,1].max()]\n",
    "\n",
    "with h5py.File(etopo_filename, 'r', driver='mpio', comm=comm) as h5:\n",
    "    h5_lons = h5['lons'][:]\n",
    "    h5_lats = h5['lats'][:]\n",
    "    \n",
    "    xbuffer = np.diff(h5_lons).mean()\n",
    "    ybuffer = np.diff(h5_lats).mean()\n",
    "    \n",
    "    i0 = np.abs(h5_lons - (local_extent[0] - xbuffer)).argmin()\n",
    "    i1 = np.abs(h5_lons - (local_extent[1] + xbuffer)).argmin() + 1\n",
    "    j0 = np.abs(h5_lats - (local_extent[2] - ybuffer)).argmin()\n",
    "    j1 = np.abs(h5_lats - (local_extent[3] + ybuffer)).argmin() + 1\n",
    "    \n",
    "    aus_dem = h5['data'][j0:j1,i0:i1]"
   ]
  },
  {
   "cell_type": "code",
   "execution_count": null,
   "id": "94f2ea12",
   "metadata": {},
   "outputs": [],
   "source": [
    "# map DEM to local mesh\n",
    "interp = RegularGridInterpolator((h5_lats[j0:j1], h5_lons[i0:i1]), aus_dem, bounds_error=True)\n",
    "height = interp(mesh.coords[:,::-1])\n",
    "\n",
    "mesh.mask.unlock()\n",
    "mesh.mask.data = height > 0.0\n",
    "mesh.mask.lock()\n",
    "mesh.mask.sync()\n",
    "\n",
    "mesh.bmask = height > 0.0"
   ]
  },
  {
   "cell_type": "code",
   "execution_count": null,
   "id": "095bb869",
   "metadata": {},
   "outputs": [],
   "source": [
    "with mesh.deform_topography():\n",
    "    mesh.topography.data = height"
   ]
  },
  {
   "cell_type": "code",
   "execution_count": null,
   "id": "e2b31c2e",
   "metadata": {},
   "outputs": [],
   "source": [
    "for repeat in range(0,3): \n",
    "    \n",
    "    mesh.low_points_local_patch_fill(its=3, smoothing_steps=3)\n",
    "    low_points2 = mesh.identify_global_low_points(ref_height=0.0)\n",
    "    if low_points2[0] <= 1:\n",
    "        break\n",
    "\n",
    "    for i in range(0,20):\n",
    "\n",
    "        mesh.low_points_swamp_fill(ref_height=0.0, ref_gradient=1e-24)\n",
    "\n",
    "        # In parallel, we can't break if ANY processor has work to do (barrier / sync issue)\n",
    "        low_points3 = mesh.identify_global_low_points(ref_height=0.0)\n",
    "\n",
    "        print(\"{} : {}\".format(i,low_points3[0]))\n",
    "        if low_points3[0] <= 1:\n",
    "            break"
   ]
  },
  {
   "cell_type": "code",
   "execution_count": null,
   "id": "099071b2",
   "metadata": {},
   "outputs": [],
   "source": [
    "outflow_points = mesh.identify_outflow_points()\n",
    "low_points     = mesh.identify_low_points()"
   ]
  },
  {
   "cell_type": "code",
   "execution_count": null,
   "id": "81fa8e75",
   "metadata": {},
   "outputs": [],
   "source": [
    "# normalise height on [0, 1]\n",
    "norm_height = mesh.topography.data[:].copy()\n",
    "norm_height -= norm_height.min()\n",
    "norm_height /= norm_height.max()\n",
    "\n",
    "# modify the vertical exaggeration\n",
    "norm_height /= 25\n",
    "norm_height += 1.0"
   ]
  },
  {
   "cell_type": "code",
   "execution_count": null,
   "id": "658dd198",
   "metadata": {},
   "outputs": [],
   "source": [
    "ones = mesh.add_variable(\"ones\")\n",
    "ones.data = 1.0\n",
    "cumulative_flow_1 = mesh.upstream_integral_fn(ones).evaluate(mesh)\n",
    "\n",
    "cumulative_flow_1 *= mesh.bmask\n",
    "logflow1 = np.log10(1e-10 + cumulative_flow_1)\n",
    "logflow1[logflow1 < 0] = 0"
   ]
  },
  {
   "cell_type": "code",
   "execution_count": null,
   "id": "633024f1",
   "metadata": {},
   "outputs": [],
   "source": [
    "import lavavu\n",
    "import stripy\n",
    "\n",
    "vertices = mesh.data\n",
    "tri = mesh.tri\n",
    "\n",
    "lv = lavavu.Viewer(border=False, axis=False, background=\"#FFFFFF\", resolution=[1200,600], near=-10.0)\n",
    "\n",
    "outs = lv.points(\"outflows\", colour=\"green\", pointsize=5.0, opacity=0.75)\n",
    "outs.vertices(vertices[outflow_points])\n",
    "\n",
    "lows = lv.points(\"lows\", colour=\"red\", pointsize=5.0, opacity=0.75)\n",
    "lows.vertices(vertices[low_points])\n",
    "\n",
    "flowball = lv.points(\"flowballs\", pointsize=2.0)\n",
    "flowball.vertices(vertices*1.01)\n",
    "flowball.values(logflow1, label=\"flow1\")\n",
    "flowball.colourmap(\"rgba(255,255,255,0.0) rgba(128,128,255,0.1) rgba(25,100,225,0.2) rgba(0,50,200,0.5)\")\n",
    "\n",
    "heightball = lv.points(\"heightballs\", pointsize=5.0, opacity=1.0)\n",
    "heightball.vertices(vertices)\n",
    "heightball.values(height, label=\"height\")\n",
    "heightball.colourmap('dem3')\n",
    "\n",
    "# lv.translation(-1.012, 2.245, -13.352)\n",
    "# lv.rotation(53.217, 18.104, 161.927)\n",
    "\n",
    "lv.control.Panel()\n",
    "lv.control.ObjectList()\n",
    "lv.control.show()"
   ]
  },
  {
   "cell_type": "code",
   "execution_count": null,
   "id": "05deba4d",
   "metadata": {},
   "outputs": [],
   "source": []
  }
 ],
 "metadata": {
  "jupytext": {
   "text_representation": {
    "extension": ".md",
    "format_name": "myst",
    "format_version": 0.12,
    "jupytext_version": "1.6.0"
   }
  },
  "kernelspec": {
   "display_name": "Python 3",
   "language": "python",
   "name": "python3"
  },
  "source_map": [
   12,
   18,
   34,
   42,
   49,
   53,
   72,
   85,
   90,
   110,
   115,
   126,
   136,
   169
  ]
 },
 "nbformat": 4,
 "nbformat_minor": 5
}