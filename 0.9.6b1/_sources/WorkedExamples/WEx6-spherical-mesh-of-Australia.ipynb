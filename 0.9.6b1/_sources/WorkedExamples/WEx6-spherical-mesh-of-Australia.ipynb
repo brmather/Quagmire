{
 "cells": [
  {
   "cell_type": "markdown",
   "id": "a52532fa",
   "metadata": {},
   "source": [
    "# Spherical mesh of Australia\n",
    "\n",
    "Download a GeoTiff from Geoscience Australia's online API."
   ]
  },
  {
   "cell_type": "code",
   "execution_count": 1,
   "id": "cb291c74",
   "metadata": {},
   "outputs": [
    {
     "name": "stdout",
     "output_type": "stream",
     "text": [
      "Populating the interactive namespace from numpy and matplotlib\n"
     ]
    }
   ],
   "source": [
    "import numpy as np\n",
    "import quagmire\n",
    "from quagmire import QuagMesh\n",
    "from quagmire import function as fn\n",
    "from quagmire import tools as meshtools\n",
    "\n",
    "from scipy.interpolate import RegularGridInterpolator\n",
    "\n",
    "import h5py\n",
    "from mpi4py import MPI\n",
    "comm = MPI.COMM_WORLD\n",
    "\n",
    "%pylab inline"
   ]
  },
  {
   "cell_type": "code",
   "execution_count": 2,
   "id": "9e01a9a3",
   "metadata": {},
   "outputs": [],
   "source": [
    "data_dir = \"./data/\"\n",
    "etopo_filename = data_dir+'ETOPO1_Ice_g.h5'\n",
    "\n",
    "extent_australia = [112, 155, -44, -10]\n",
    "lonmin, lonmax, latmin, latmax = extent_australia"
   ]
  },
  {
   "cell_type": "code",
   "execution_count": 3,
   "id": "a6b41be1",
   "metadata": {},
   "outputs": [
    {
     "name": "stdout",
     "output_type": "stream",
     "text": [
      "Underlying Mesh type: sTriMesh\n"
     ]
    },
    {
     "name": "stdout",
     "output_type": "stream",
     "text": [
      "0 - Delaunay triangulation 15.6538131169998s\n"
     ]
    },
    {
     "name": "stdout",
     "output_type": "stream",
     "text": [
      "0 - Calculate node weights and area 0.8479784720000225s\n",
      "0 - Find boundaries 0.025353239999958532s\n"
     ]
    },
    {
     "name": "stdout",
     "output_type": "stream",
     "text": [
      "0 - cKDTree 0.33046033999994506s\n"
     ]
    },
    {
     "ename": "KeyboardInterrupt",
     "evalue": "",
     "output_type": "error",
     "traceback": [
      "\u001b[0;31m---------------------------------------------------------------------------\u001b[0m",
      "\u001b[0;31mKeyboardInterrupt\u001b[0m                         Traceback (most recent call last)",
      "\u001b[0;32m<ipython-input-3-fdd4b39dea5c>\u001b[0m in \u001b[0;36m<module>\u001b[0;34m\u001b[0m\n\u001b[1;32m      2\u001b[0m \u001b[0;34m\u001b[0m\u001b[0m\n\u001b[1;32m      3\u001b[0m \u001b[0mDM\u001b[0m \u001b[0;34m=\u001b[0m \u001b[0mmeshtools\u001b[0m\u001b[0;34m.\u001b[0m\u001b[0mcreate_DMPlex_from_spherical_points\u001b[0m\u001b[0;34m(\u001b[0m\u001b[0mmlons\u001b[0m\u001b[0;34m,\u001b[0m \u001b[0mmlats\u001b[0m\u001b[0;34m,\u001b[0m \u001b[0mbmask\u001b[0m\u001b[0;34m,\u001b[0m\u001b[0mrefinement_levels\u001b[0m\u001b[0;34m=\u001b[0m\u001b[0;36m3\u001b[0m\u001b[0;34m)\u001b[0m\u001b[0;34m\u001b[0m\u001b[0;34m\u001b[0m\u001b[0m\n\u001b[0;32m----> 4\u001b[0;31m \u001b[0mmesh\u001b[0m \u001b[0;34m=\u001b[0m \u001b[0mQuagMesh\u001b[0m\u001b[0;34m(\u001b[0m\u001b[0mDM\u001b[0m\u001b[0;34m,\u001b[0m \u001b[0mdownhill_neighbours\u001b[0m\u001b[0;34m=\u001b[0m\u001b[0;36m2\u001b[0m\u001b[0;34m,\u001b[0m \u001b[0mverbose\u001b[0m\u001b[0;34m=\u001b[0m\u001b[0;32mTrue\u001b[0m\u001b[0;34m)\u001b[0m\u001b[0;34m\u001b[0m\u001b[0;34m\u001b[0m\u001b[0m\n\u001b[0m\u001b[1;32m      5\u001b[0m \u001b[0;34m\u001b[0m\u001b[0m\n\u001b[1;32m      6\u001b[0m \u001b[0mprint\u001b[0m\u001b[0;34m(\u001b[0m\u001b[0;34m\"number of points in mesh: \"\u001b[0m\u001b[0;34m,\u001b[0m \u001b[0mmesh\u001b[0m\u001b[0;34m.\u001b[0m\u001b[0mnpoints\u001b[0m\u001b[0;34m)\u001b[0m\u001b[0;34m\u001b[0m\u001b[0;34m\u001b[0m\u001b[0m\n",
      "\u001b[0;32m~/work/quagmire/quagmire/quagmire/__init__.py\u001b[0m in \u001b[0;36mQuagMesh\u001b[0;34m(DM, downhill_neighbours, verbose, *args, **kwargs)\u001b[0m\n\u001b[1;32m    262\u001b[0m                 \u001b[0;31m# super(QuagMeshClass, self).__init__(dm, *args, **kwargs)\u001b[0m\u001b[0;34m\u001b[0m\u001b[0;34m\u001b[0m\u001b[0;34m\u001b[0m\u001b[0m\n\u001b[1;32m    263\u001b[0m \u001b[0;34m\u001b[0m\u001b[0m\n\u001b[0;32m--> 264\u001b[0;31m         \u001b[0;32mreturn\u001b[0m \u001b[0mQuagMeshClass\u001b[0m\u001b[0;34m(\u001b[0m\u001b[0mDM\u001b[0m\u001b[0;34m,\u001b[0m \u001b[0mdownhill_neighbours\u001b[0m\u001b[0;34m=\u001b[0m\u001b[0mdownhill_neighbours\u001b[0m\u001b[0;34m,\u001b[0m \u001b[0mverbose\u001b[0m\u001b[0;34m=\u001b[0m\u001b[0mverbose\u001b[0m\u001b[0;34m,\u001b[0m \u001b[0;34m*\u001b[0m\u001b[0margs\u001b[0m\u001b[0;34m,\u001b[0m \u001b[0;34m**\u001b[0m\u001b[0mkwargs\u001b[0m\u001b[0;34m)\u001b[0m\u001b[0;34m\u001b[0m\u001b[0;34m\u001b[0m\u001b[0m\n\u001b[0m\u001b[1;32m    265\u001b[0m \u001b[0;34m\u001b[0m\u001b[0m\n\u001b[1;32m    266\u001b[0m     \u001b[0;32melse\u001b[0m\u001b[0;34m:\u001b[0m\u001b[0;34m\u001b[0m\u001b[0;34m\u001b[0m\u001b[0m\n",
      "\u001b[0;32m~/work/quagmire/quagmire/quagmire/__init__.py\u001b[0m in \u001b[0;36m__init__\u001b[0;34m(self, dm, *args, **kwargs)\u001b[0m\n\u001b[1;32m    258\u001b[0m                 \u001b[0;32mif\u001b[0m \u001b[0mverbose\u001b[0m\u001b[0;34m:\u001b[0m\u001b[0;34m\u001b[0m\u001b[0;34m\u001b[0m\u001b[0m\n\u001b[1;32m    259\u001b[0m                     \u001b[0mprint\u001b[0m\u001b[0;34m(\u001b[0m\u001b[0;34m\"Underlying Mesh type: {}\"\u001b[0m\u001b[0;34m.\u001b[0m\u001b[0mformat\u001b[0m\u001b[0;34m(\u001b[0m\u001b[0mBaseMeshType\u001b[0m\u001b[0;34m)\u001b[0m\u001b[0;34m)\u001b[0m\u001b[0;34m\u001b[0m\u001b[0;34m\u001b[0m\u001b[0m\n\u001b[0;32m--> 260\u001b[0;31m                 \u001b[0mknown_basemesh_classes\u001b[0m\u001b[0;34m[\u001b[0m\u001b[0mBaseMeshType\u001b[0m\u001b[0;34m]\u001b[0m\u001b[0;34m.\u001b[0m\u001b[0m__init__\u001b[0m\u001b[0;34m(\u001b[0m\u001b[0mself\u001b[0m\u001b[0;34m,\u001b[0m \u001b[0mdm\u001b[0m\u001b[0;34m,\u001b[0m \u001b[0;34m*\u001b[0m\u001b[0margs\u001b[0m\u001b[0;34m,\u001b[0m \u001b[0;34m**\u001b[0m\u001b[0mkwargs\u001b[0m\u001b[0;34m)\u001b[0m\u001b[0;34m\u001b[0m\u001b[0;34m\u001b[0m\u001b[0m\n\u001b[0m\u001b[1;32m    261\u001b[0m                 \u001b[0m_TopoMeshClass\u001b[0m\u001b[0;34m.\u001b[0m\u001b[0m__init__\u001b[0m\u001b[0;34m(\u001b[0m\u001b[0mself\u001b[0m\u001b[0;34m,\u001b[0m \u001b[0;34m*\u001b[0m\u001b[0margs\u001b[0m\u001b[0;34m,\u001b[0m \u001b[0;34m**\u001b[0m\u001b[0mkwargs\u001b[0m\u001b[0;34m)\u001b[0m\u001b[0;34m\u001b[0m\u001b[0;34m\u001b[0m\u001b[0m\n\u001b[1;32m    262\u001b[0m                 \u001b[0;31m# super(QuagMeshClass, self).__init__(dm, *args, **kwargs)\u001b[0m\u001b[0;34m\u001b[0m\u001b[0;34m\u001b[0m\u001b[0;34m\u001b[0m\u001b[0m\n",
      "\u001b[0;32m~/work/quagmire/quagmire/quagmire/mesh/strimesh.py\u001b[0m in \u001b[0;36m__init__\u001b[0;34m(self, dm, r1, r2, verbose, *args, **kwargs)\u001b[0m\n\u001b[1;32m    182\u001b[0m         \u001b[0;31m# Find neighbours\u001b[0m\u001b[0;34m\u001b[0m\u001b[0;34m\u001b[0m\u001b[0;34m\u001b[0m\u001b[0m\n\u001b[1;32m    183\u001b[0m         \u001b[0mt\u001b[0m \u001b[0;34m=\u001b[0m \u001b[0mperf_counter\u001b[0m\u001b[0;34m(\u001b[0m\u001b[0;34m)\u001b[0m\u001b[0;34m\u001b[0m\u001b[0;34m\u001b[0m\u001b[0m\n\u001b[0;32m--> 184\u001b[0;31m         \u001b[0mself\u001b[0m\u001b[0;34m.\u001b[0m\u001b[0mconstruct_neighbour_cloud\u001b[0m\u001b[0;34m(\u001b[0m\u001b[0;34m)\u001b[0m\u001b[0;34m\u001b[0m\u001b[0;34m\u001b[0m\u001b[0m\n\u001b[0m\u001b[1;32m    185\u001b[0m         \u001b[0mself\u001b[0m\u001b[0;34m.\u001b[0m\u001b[0mtimings\u001b[0m\u001b[0;34m[\u001b[0m\u001b[0;34m'construct neighbour cloud'\u001b[0m\u001b[0;34m]\u001b[0m \u001b[0;34m=\u001b[0m \u001b[0;34m[\u001b[0m\u001b[0mperf_counter\u001b[0m\u001b[0;34m(\u001b[0m\u001b[0;34m)\u001b[0m\u001b[0;34m-\u001b[0m\u001b[0mt\u001b[0m\u001b[0;34m,\u001b[0m \u001b[0mself\u001b[0m\u001b[0;34m.\u001b[0m\u001b[0mlog\u001b[0m\u001b[0;34m.\u001b[0m\u001b[0mgetCPUTime\u001b[0m\u001b[0;34m(\u001b[0m\u001b[0;34m)\u001b[0m\u001b[0;34m,\u001b[0m \u001b[0mself\u001b[0m\u001b[0;34m.\u001b[0m\u001b[0mlog\u001b[0m\u001b[0;34m.\u001b[0m\u001b[0mgetFlops\u001b[0m\u001b[0;34m(\u001b[0m\u001b[0;34m)\u001b[0m\u001b[0;34m]\u001b[0m\u001b[0;34m\u001b[0m\u001b[0;34m\u001b[0m\u001b[0m\n\u001b[1;32m    186\u001b[0m \u001b[0;34m\u001b[0m\u001b[0m\n",
      "\u001b[0;32m~/work/quagmire/quagmire/quagmire/mesh/strimesh.py\u001b[0m in \u001b[0;36mconstruct_neighbour_cloud\u001b[0;34m(self, size)\u001b[0m\n\u001b[1;32m    549\u001b[0m         \u001b[0;31m# find the arc distances\u001b[0m\u001b[0;34m\u001b[0m\u001b[0;34m\u001b[0m\u001b[0;34m\u001b[0m\u001b[0m\n\u001b[1;32m    550\u001b[0m         \u001b[0;32mfor\u001b[0m \u001b[0mn\u001b[0m \u001b[0;32min\u001b[0m \u001b[0mrange\u001b[0m\u001b[0;34m(\u001b[0m\u001b[0;36m1\u001b[0m\u001b[0;34m,\u001b[0m \u001b[0msize\u001b[0m\u001b[0;34m)\u001b[0m\u001b[0;34m:\u001b[0m\u001b[0;34m\u001b[0m\u001b[0;34m\u001b[0m\u001b[0m\n\u001b[0;32m--> 551\u001b[0;31m             \u001b[0mnndist\u001b[0m\u001b[0;34m[\u001b[0m\u001b[0;34m:\u001b[0m\u001b[0;34m,\u001b[0m\u001b[0mn\u001b[0m\u001b[0;34m]\u001b[0m \u001b[0;34m=\u001b[0m \u001b[0mdistance_on_sphere\u001b[0m\u001b[0;34m(\u001b[0m\u001b[0mself\u001b[0m\u001b[0;34m.\u001b[0m\u001b[0mdata\u001b[0m\u001b[0;34m,\u001b[0m \u001b[0mself\u001b[0m\u001b[0;34m.\u001b[0m\u001b[0mdata\u001b[0m\u001b[0;34m[\u001b[0m\u001b[0mnncloud\u001b[0m\u001b[0;34m[\u001b[0m\u001b[0;34m:\u001b[0m\u001b[0;34m,\u001b[0m\u001b[0mn\u001b[0m\u001b[0;34m]\u001b[0m\u001b[0;34m]\u001b[0m\u001b[0;34m,\u001b[0m \u001b[0mself\u001b[0m\u001b[0;34m.\u001b[0m\u001b[0mradius\u001b[0m\u001b[0;34m)\u001b[0m\u001b[0;34m\u001b[0m\u001b[0;34m\u001b[0m\u001b[0m\n\u001b[0m\u001b[1;32m    552\u001b[0m         \u001b[0mself\u001b[0m\u001b[0;34m.\u001b[0m\u001b[0mneighbour_cloud_distances\u001b[0m \u001b[0;34m=\u001b[0m \u001b[0mnndist\u001b[0m\u001b[0;34m\u001b[0m\u001b[0;34m\u001b[0m\u001b[0m\n\u001b[1;32m    553\u001b[0m \u001b[0;34m\u001b[0m\u001b[0m\n",
      "\u001b[0;32m~/work/quagmire/quagmire/quagmire/mesh/strimesh.py\u001b[0m in \u001b[0;36mdistance_on_sphere\u001b[0;34m(A, B, radius)\u001b[0m\n\u001b[1;32m    823\u001b[0m     \u001b[0mB\u001b[0m \u001b[0;34m=\u001b[0m \u001b[0mnp\u001b[0m\u001b[0;34m.\u001b[0m\u001b[0matleast_2d\u001b[0m\u001b[0;34m(\u001b[0m\u001b[0mB\u001b[0m\u001b[0;34m)\u001b[0m\u001b[0;34m\u001b[0m\u001b[0;34m\u001b[0m\u001b[0m\n\u001b[1;32m    824\u001b[0m \u001b[0;34m\u001b[0m\u001b[0m\n\u001b[0;32m--> 825\u001b[0;31m     \u001b[0mnorm_cross\u001b[0m \u001b[0;34m=\u001b[0m \u001b[0mnp\u001b[0m\u001b[0;34m.\u001b[0m\u001b[0mlinalg\u001b[0m\u001b[0;34m.\u001b[0m\u001b[0mnorm\u001b[0m\u001b[0;34m(\u001b[0m\u001b[0mnp\u001b[0m\u001b[0;34m.\u001b[0m\u001b[0mcross\u001b[0m\u001b[0;34m(\u001b[0m\u001b[0mA\u001b[0m\u001b[0;34m,\u001b[0m \u001b[0mB\u001b[0m\u001b[0;34m)\u001b[0m\u001b[0;34m,\u001b[0m \u001b[0maxis\u001b[0m\u001b[0;34m=\u001b[0m\u001b[0;36m1\u001b[0m\u001b[0;34m)\u001b[0m\u001b[0;34m\u001b[0m\u001b[0;34m\u001b[0m\u001b[0m\n\u001b[0m\u001b[1;32m    826\u001b[0m     \u001b[0mdot\u001b[0m \u001b[0;34m=\u001b[0m \u001b[0;34m(\u001b[0m\u001b[0mA\u001b[0m\u001b[0;34m*\u001b[0m\u001b[0mB\u001b[0m\u001b[0;34m)\u001b[0m\u001b[0;34m.\u001b[0m\u001b[0msum\u001b[0m\u001b[0;34m(\u001b[0m\u001b[0maxis\u001b[0m\u001b[0;34m=\u001b[0m\u001b[0;36m1\u001b[0m\u001b[0;34m)\u001b[0m\u001b[0;34m\u001b[0m\u001b[0;34m\u001b[0m\u001b[0m\n\u001b[1;32m    827\u001b[0m \u001b[0;34m\u001b[0m\u001b[0m\n",
      "\u001b[0;32m<__array_function__ internals>\u001b[0m in \u001b[0;36mnorm\u001b[0;34m(*args, **kwargs)\u001b[0m\n",
      "\u001b[0;32m/usr/share/miniconda3/envs/conda-build-docs/lib/python3.7/site-packages/numpy/linalg/linalg.py\u001b[0m in \u001b[0;36mnorm\u001b[0;34m(x, ord, axis, keepdims)\u001b[0m\n\u001b[1;32m   2558\u001b[0m             \u001b[0;31m# special case for speedup\u001b[0m\u001b[0;34m\u001b[0m\u001b[0;34m\u001b[0m\u001b[0;34m\u001b[0m\u001b[0m\n\u001b[1;32m   2559\u001b[0m             \u001b[0ms\u001b[0m \u001b[0;34m=\u001b[0m \u001b[0;34m(\u001b[0m\u001b[0mx\u001b[0m\u001b[0;34m.\u001b[0m\u001b[0mconj\u001b[0m\u001b[0;34m(\u001b[0m\u001b[0;34m)\u001b[0m \u001b[0;34m*\u001b[0m \u001b[0mx\u001b[0m\u001b[0;34m)\u001b[0m\u001b[0;34m.\u001b[0m\u001b[0mreal\u001b[0m\u001b[0;34m\u001b[0m\u001b[0;34m\u001b[0m\u001b[0m\n\u001b[0;32m-> 2560\u001b[0;31m             \u001b[0;32mreturn\u001b[0m \u001b[0msqrt\u001b[0m\u001b[0;34m(\u001b[0m\u001b[0madd\u001b[0m\u001b[0;34m.\u001b[0m\u001b[0mreduce\u001b[0m\u001b[0;34m(\u001b[0m\u001b[0ms\u001b[0m\u001b[0;34m,\u001b[0m \u001b[0maxis\u001b[0m\u001b[0;34m=\u001b[0m\u001b[0maxis\u001b[0m\u001b[0;34m,\u001b[0m \u001b[0mkeepdims\u001b[0m\u001b[0;34m=\u001b[0m\u001b[0mkeepdims\u001b[0m\u001b[0;34m)\u001b[0m\u001b[0;34m)\u001b[0m\u001b[0;34m\u001b[0m\u001b[0;34m\u001b[0m\u001b[0m\n\u001b[0m\u001b[1;32m   2561\u001b[0m         \u001b[0;31m# None of the str-type keywords for ord ('fro', 'nuc')\u001b[0m\u001b[0;34m\u001b[0m\u001b[0;34m\u001b[0m\u001b[0;34m\u001b[0m\u001b[0m\n\u001b[1;32m   2562\u001b[0m         \u001b[0;31m# are valid for vectors\u001b[0m\u001b[0;34m\u001b[0m\u001b[0;34m\u001b[0m\u001b[0;34m\u001b[0m\u001b[0m\n",
      "\u001b[0;31mKeyboardInterrupt\u001b[0m: "
     ]
    }
   ],
   "source": [
    "mlons, mlats, bmask = meshtools.generate_square_points(lonmin, lonmax, latmin, latmax, 0.1, 0.1, 15000, 800)\n",
    "\n",
    "DM = meshtools.create_DMPlex_from_spherical_points(mlons, mlats, bmask,refinement_levels=3)\n",
    "mesh = QuagMesh(DM, downhill_neighbours=2, verbose=True)\n",
    "\n",
    "print(\"number of points in mesh: \", mesh.npoints)"
   ]
  },
  {
   "cell_type": "markdown",
   "id": "b942fc54",
   "metadata": {},
   "source": [
    "## Read topography from HDF5"
   ]
  },
  {
   "cell_type": "code",
   "execution_count": null,
   "id": "209fb337",
   "metadata": {},
   "outputs": [],
   "source": [
    "# local extent\n",
    "local_extent = [mesh.coords[:,0].min(), mesh.coords[:,0].max(), mesh.coords[:,1].min(), mesh.coords[:,1].max()]\n",
    "\n",
    "with h5py.File(etopo_filename, 'r', driver='mpio', comm=comm) as h5:\n",
    "    h5_lons = h5['lons'][:]\n",
    "    h5_lats = h5['lats'][:]\n",
    "    \n",
    "    xbuffer = np.diff(h5_lons).mean()\n",
    "    ybuffer = np.diff(h5_lats).mean()\n",
    "    \n",
    "    i0 = np.abs(h5_lons - (local_extent[0] - xbuffer)).argmin()\n",
    "    i1 = np.abs(h5_lons - (local_extent[1] + xbuffer)).argmin() + 1\n",
    "    j0 = np.abs(h5_lats - (local_extent[2] - ybuffer)).argmin()\n",
    "    j1 = np.abs(h5_lats - (local_extent[3] + ybuffer)).argmin() + 1\n",
    "    \n",
    "    aus_dem = h5['data'][j0:j1,i0:i1]"
   ]
  },
  {
   "cell_type": "code",
   "execution_count": null,
   "id": "c50136b2",
   "metadata": {},
   "outputs": [],
   "source": [
    "# map DEM to local mesh\n",
    "interp = RegularGridInterpolator((h5_lats[j0:j1], h5_lons[i0:i1]), aus_dem, bounds_error=True)\n",
    "height = interp(mesh.coords[:,::-1])\n",
    "\n",
    "mesh.mask.unlock()\n",
    "mesh.mask.data = height > 0.0\n",
    "mesh.mask.lock()\n",
    "mesh.mask.sync()\n",
    "\n",
    "mesh.bmask = height > 0.0"
   ]
  },
  {
   "cell_type": "code",
   "execution_count": null,
   "id": "e2c2da6c",
   "metadata": {},
   "outputs": [],
   "source": [
    "with mesh.deform_topography():\n",
    "    mesh.topography.data = height"
   ]
  },
  {
   "cell_type": "code",
   "execution_count": null,
   "id": "980e438b",
   "metadata": {},
   "outputs": [],
   "source": [
    "for repeat in range(0,3): \n",
    "    \n",
    "    mesh.low_points_local_patch_fill(its=3, smoothing_steps=3)\n",
    "    low_points2 = mesh.identify_global_low_points(ref_height=0.0)\n",
    "    if low_points2[0] <= 1:\n",
    "        break\n",
    "\n",
    "    for i in range(0,20):\n",
    "\n",
    "        mesh.low_points_swamp_fill(ref_height=0.0, ref_gradient=1e-24)\n",
    "\n",
    "        # In parallel, we can't break if ANY processor has work to do (barrier / sync issue)\n",
    "        low_points3 = mesh.identify_global_low_points(ref_height=0.0)\n",
    "\n",
    "        print(\"{} : {}\".format(i,low_points3[0]))\n",
    "        if low_points3[0] <= 1:\n",
    "            break"
   ]
  },
  {
   "cell_type": "code",
   "execution_count": null,
   "id": "f5c525e2",
   "metadata": {},
   "outputs": [],
   "source": [
    "outflow_points = mesh.identify_outflow_points()\n",
    "low_points     = mesh.identify_low_points()"
   ]
  },
  {
   "cell_type": "code",
   "execution_count": null,
   "id": "13bb75f5",
   "metadata": {},
   "outputs": [],
   "source": [
    "# normalise height on [0, 1]\n",
    "norm_height = mesh.topography.data[:].copy()\n",
    "norm_height -= norm_height.min()\n",
    "norm_height /= norm_height.max()\n",
    "\n",
    "# modify the vertical exaggeration\n",
    "norm_height /= 25\n",
    "norm_height += 1.0"
   ]
  },
  {
   "cell_type": "code",
   "execution_count": null,
   "id": "10044130",
   "metadata": {},
   "outputs": [],
   "source": [
    "ones = mesh.add_variable(\"ones\")\n",
    "ones.data = 1.0\n",
    "cumulative_flow_1 = mesh.upstream_integral_fn(ones).evaluate(mesh)\n",
    "\n",
    "cumulative_flow_1 *= mesh.bmask\n",
    "logflow1 = np.log10(1e-10 + cumulative_flow_1)\n",
    "logflow1[logflow1 < 0] = 0"
   ]
  },
  {
   "cell_type": "code",
   "execution_count": null,
   "id": "9479bfc7",
   "metadata": {},
   "outputs": [],
   "source": [
    "import lavavu\n",
    "import stripy\n",
    "\n",
    "vertices = mesh.data\n",
    "tri = mesh.tri\n",
    "\n",
    "lv = lavavu.Viewer(border=False, axis=False, background=\"#FFFFFF\", resolution=[1200,600], near=-10.0)\n",
    "\n",
    "outs = lv.points(\"outflows\", colour=\"green\", pointsize=5.0, opacity=0.75)\n",
    "outs.vertices(vertices[outflow_points])\n",
    "\n",
    "lows = lv.points(\"lows\", colour=\"red\", pointsize=5.0, opacity=0.75)\n",
    "lows.vertices(vertices[low_points])\n",
    "\n",
    "flowball = lv.points(\"flowballs\", pointsize=2.0)\n",
    "flowball.vertices(vertices*1.01)\n",
    "flowball.values(logflow1, label=\"flow1\")\n",
    "flowball.colourmap(\"rgba(255,255,255,0.0) rgba(128,128,255,0.1) rgba(25,100,225,0.2) rgba(0,50,200,0.5)\")\n",
    "\n",
    "heightball = lv.points(\"heightballs\", pointsize=5.0, opacity=1.0)\n",
    "heightball.vertices(vertices)\n",
    "heightball.values(height, label=\"height\")\n",
    "heightball.colourmap('dem3')\n",
    "\n",
    "# lv.translation(-1.012, 2.245, -13.352)\n",
    "# lv.rotation(53.217, 18.104, 161.927)\n",
    "\n",
    "lv.control.Panel()\n",
    "lv.control.ObjectList()\n",
    "lv.control.show()"
   ]
  },
  {
   "cell_type": "code",
   "execution_count": null,
   "id": "0f34d72d",
   "metadata": {},
   "outputs": [],
   "source": []
  }
 ],
 "metadata": {
  "jupytext": {
   "text_representation": {
    "extension": ".md",
    "format_name": "myst",
    "format_version": 0.12,
    "jupytext_version": "1.6.0"
   }
  },
  "kernelspec": {
   "display_name": "Python 3",
   "language": "python",
   "name": "python3"
  },
  "language_info": {
   "codemirror_mode": {
    "name": "ipython",
    "version": 3
   },
   "file_extension": ".py",
   "mimetype": "text/x-python",
   "name": "python",
   "nbconvert_exporter": "python",
   "pygments_lexer": "ipython3",
   "version": "3.7.10"
  },
  "source_map": [
   12,
   18,
   34,
   42,
   49,
   53,
   72,
   85,
   90,
   110,
   115,
   126,
   136,
   169
  ]
 },
 "nbformat": 4,
 "nbformat_minor": 5
}