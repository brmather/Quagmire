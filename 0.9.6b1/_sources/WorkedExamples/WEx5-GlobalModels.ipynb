{
 "cells": [
  {
   "cell_type": "markdown",
   "id": "aedcf7a0",
   "metadata": {},
   "source": [
    "# Models on the Sphere"
   ]
  },
  {
   "cell_type": "code",
   "execution_count": null,
   "id": "fc24a841",
   "metadata": {},
   "outputs": [],
   "source": [
    "import numpy as np\n",
    "from quagmire import QuagMesh \n",
    "from quagmire import tools as meshtools\n",
    "from mpi4py import MPI\n",
    "\n",
    "import lavavu\n",
    "import stripy\n",
    "comm = MPI.COMM_WORLD\n",
    "\n",
    "import matplotlib.pyplot as plt\n",
    "from matplotlib import cm\n",
    "%matplotlib inline\n",
    "\n",
    "import cartopy.crs as ccrs\n",
    "import cartopy.feature as cfeature\n",
    "\n",
    "# from scipy.ndimage.filters import gaussian_filter"
   ]
  },
  {
   "cell_type": "markdown",
   "id": "d06a2f16",
   "metadata": {},
   "source": [
    "lons, lats, simplices = global_CO_mesh(\"icosahedral_mesh\", refinement_C=4, refinement_O=1, include_face_points=True)"
   ]
  },
  {
   "cell_type": "code",
   "execution_count": null,
   "id": "ee40ff34",
   "metadata": {},
   "outputs": [],
   "source": [
    "lons, lats, simplices = meshtools.global_CO_mesh(\"icosahedral_mesh\", refinement_C=6, refinement_O=2, include_face_points=True)"
   ]
  },
  {
   "cell_type": "code",
   "execution_count": null,
   "id": "f21894d7",
   "metadata": {},
   "outputs": [],
   "source": [
    "lats.shape, lons.shape"
   ]
  },
  {
   "cell_type": "code",
   "execution_count": null,
   "id": "11452294",
   "metadata": {},
   "outputs": [],
   "source": [
    "dm = meshtools.create_spherical_DMPlex(lons, lats, simplices, refinement_levels=3)"
   ]
  },
  {
   "cell_type": "code",
   "execution_count": null,
   "id": "c488068d",
   "metadata": {},
   "outputs": [],
   "source": [
    "mesh = QuagMesh(dm, downhill_neighbours=2)\n",
    "\n",
    "# Mark up the shadow zones\n",
    "\n",
    "rank = np.ones((mesh.npoints,))*comm.rank\n",
    "shadow = np.zeros((mesh.npoints,))\n",
    "\n",
    "# get shadow zones\n",
    "shadow_zones = mesh.lgmap_row.indices < 0\n",
    "shadow[shadow_zones] = 1\n",
    "shadow_vec = mesh.gvec.duplicate()\n",
    "\n",
    "mesh.lvec.setArray(shadow)\n",
    "mesh.dm.localToGlobal(mesh.lvec, shadow_vec, addv=True)\n",
    "\n",
    "rawheight = mesh.add_variable(name=\"height\", locked=False)\n",
    "rainfall = mesh.add_variable(name=\"rain\", locked=False)\n",
    "runoff_var = mesh.add_variable(name=\"runoff\", locked=False)\n",
    "\n",
    "print(\"{} mesh points\".format(mesh.npoints))"
   ]
  },
  {
   "cell_type": "code",
   "execution_count": null,
   "id": "e2f579d2",
   "metadata": {},
   "outputs": [],
   "source": [
    "rawheight = mesh.add_variable(name=\"height\", locked=False)\n",
    "rawheight.data = mesh_height"
   ]
  },
  {
   "cell_type": "code",
   "execution_count": null,
   "id": "0c9a5fc2",
   "metadata": {},
   "outputs": [],
   "source": [
    "mesh.save_mesh_to_hdf5(\"test.h5\")"
   ]
  },
  {
   "cell_type": "code",
   "execution_count": null,
   "id": "4b6e72fa",
   "metadata": {},
   "outputs": [],
   "source": [
    "## Read ETOPO1 data from online service\n",
    "#\n",
    "# Note the slicing is a mix of the data range and the integer step\n",
    "\n",
    "import xarray\n",
    "\n",
    "etopo_dataset = \"http://thredds.socib.es/thredds/dodsC/ancillary_data/bathymetry/ETOPO1_Bed_g_gmt4.nc\"\n",
    "etopo_data = xarray.open_dataset(etopo_dataset)\n",
    "etopo_coarse = etopo_data.sel(x=slice(-180.0,180.0,3), y=slice(-90.0,90.0,3))\n",
    "\n",
    "lons = etopo_coarse.coords.get('x')\n",
    "lats = etopo_coarse.coords.get('y')\n",
    "vals = etopo_coarse['z']\n",
    "\n",
    "x,y = np.meshgrid(lons.data, lats.data)\n",
    "height = 6.370 + 1.0e-6 * vals.data "
   ]
  },
  {
   "cell_type": "code",
   "execution_count": null,
   "id": "1d3d327c",
   "metadata": {},
   "outputs": [],
   "source": [
    "mesh_height = meshtools.map_global_raster_to_strimesh(mesh, height)\n",
    "with mesh.deform_topography():\n",
    "    mesh.topography.data = mesh_height\n",
    "    "
   ]
  },
  {
   "cell_type": "code",
   "execution_count": null,
   "id": "c4b00802",
   "metadata": {},
   "outputs": [],
   "source": [
    "# runoff  \"/thredds/wcs/agg_terraclimate_q_1958_CurrentYear_GLOBE.nc\"\n",
    "\n",
    "from owslib.wcs import WebCoverageService\n",
    "# import gdal\n",
    "\n",
    "url = \"http://thredds.northwestknowledge.net:8080/thredds/wcs/agg_terraclimate_ppt_1958_CurrentYear_GLOBE.nc\"\n",
    "wcs = WebCoverageService(url, version='1.0.0')\n",
    "for layer in list(wcs.contents):\n",
    "    print(\"Layer Name:\", layer)\n",
    "    print(\"Title:\", wcs[layer].title, '\\n')\n",
    "    \n",
    "output = wcs.getCoverage(identifier=layer,\n",
    "                    service=\"WCS\", bbox=[-180, -90, 180, 90], \n",
    "                    resx = 1800.0 / 3600.0, resy = 1800.0 / 3600.0,\n",
    "                    format='geotiff')\n",
    "\n",
    "with open(\"GlobalRainfall.tif\", \"wb\") as f:\n",
    "    f.write(output.read())\n",
    "    \n",
    "# Read it back and reduce the size of the array\n",
    "\n",
    "url = \"http://thredds.northwestknowledge.net:8080/thredds/wcs/agg_terraclimate_q_1958_CurrentYear_GLOBE.nc\"\n",
    "wcs = WebCoverageService(url, version='1.0.0')\n",
    "for layer in list(wcs.contents):\n",
    "    print(\"Layer Name:\", layer)\n",
    "    print(\"Title:\", wcs[layer].title, '\\n')\n",
    "    \n",
    "output = wcs.getCoverage(identifier=layer,\n",
    "                    service=\"WCS\", bbox=[-180, -90, 180, 90], \n",
    "                    resx = 1800.0 / 3600.0, resy = 1800.0 / 3600.0,\n",
    "                    format='geotiff')\n",
    "\n",
    "with open(\"GlobalRunoff.tif\", \"wb\") as f:\n",
    "    f.write(output.read())\n",
    "    "
   ]
  },
  {
   "cell_type": "code",
   "execution_count": null,
   "id": "f1837dd4",
   "metadata": {},
   "outputs": [],
   "source": [
    "import imageio\n",
    "rain = imageio.imread(\"GlobalRainfall.tif\")[::3,::3].astype(float)\n",
    "runoff = imageio.imread(\"GlobalRunoff.tif\")[::3,::3].astype(float)\n",
    "\n",
    "[cols, rows] = rain.shape\n",
    "print([cols,rows])\n",
    "\n",
    "rlons = np.linspace(-180,180, rows)\n",
    "rlats = np.linspace(-180,180, cols)\n",
    "\n",
    "rx,ry = np.meshgrid(rlons.data, rlats.data)\n",
    "\n",
    "\n",
    "rainfall.data  = np.maximum(0.0,meshtools.map_global_raster_to_strimesh(mesh, rain[::-1,:]))\n",
    "runoff_var.data  = np.maximum(0.0,meshtools.map_global_raster_to_strimesh(mesh, runoff[::-1,:]))"
   ]
  },
  {
   "cell_type": "code",
   "execution_count": null,
   "id": "7be0a6e8",
   "metadata": {},
   "outputs": [],
   "source": [
    "coastline = cfeature.NaturalEarthFeature('physical', 'coastline', '10m',\n",
    "                           edgecolor=(1.0,0.8,0.0),\n",
    "                           facecolor=\"none\")\n",
    "\n",
    "ocean = cfeature.NaturalEarthFeature('physical', 'ocean', '10m',\n",
    "                           edgecolor=\"green\",\n",
    "                           facecolor=\"blue\")\n",
    "\n",
    "lakes = cfeature.NaturalEarthFeature('physical', 'lakes', '10m',\n",
    "                           edgecolor=\"green\",\n",
    "                           facecolor=\"blue\")\n",
    "\n",
    "rivers = cfeature.NaturalEarthFeature('physical', 'rivers_lake_centerlines', '10m',\n",
    "                           edgecolor=\"green\",\n",
    "                           facecolor=\"blue\")\n",
    "\n",
    "map_extent = ( -180, 180, -90, 90 )\n",
    "\n",
    "plt.figure(figsize=(15, 10))\n",
    "ax = plt.subplot(111, projection=ccrs.PlateCarree())\n",
    "ax.set_extent(map_extent)\n",
    "\n",
    "ax.add_feature(coastline, edgecolor=\"black\", linewidth=0.5, zorder=3)\n",
    "ax.add_feature(lakes,     edgecolor=\"black\", linewidth=1, zorder=3)\n",
    "ax.add_feature(rivers   , edgecolor=\"black\", facecolor=\"none\", linewidth=1, zorder=3)\n",
    "\n",
    "plt.imshow(rain, extent=map_extent, transform=ccrs.PlateCarree(),\n",
    "           cmap='Greens', origin='upper', vmin=0., vmax=50.)"
   ]
  },
  {
   "cell_type": "code",
   "execution_count": null,
   "id": "df981d82",
   "metadata": {},
   "outputs": [],
   "source": [
    "latitudes_in_radians  = mesh.tri.lats\n",
    "longitudes_in_radians = mesh.tri.lons \n",
    "latitudes_in_degrees  = np.degrees(latitudes_in_radians) \n",
    "longitudes_in_degrees = np.degrees(longitudes_in_radians) \n",
    "\n",
    "map_extent = ( -180, 180, -90, 90 )\n",
    "\n",
    "plt.figure(figsize=(15, 10))\n",
    "ax = plt.subplot(111, projection=ccrs.PlateCarree())\n",
    "ax.set_extent(map_extent)\n",
    "\n",
    "ax.add_feature(coastline, edgecolor=\"black\", linewidth=0.5, zorder=3)\n",
    "ax.add_feature(lakes,     edgecolor=\"black\", linewidth=1, zorder=3)\n",
    "ax.add_feature(rivers   , edgecolor=\"black\", facecolor=\"none\", linewidth=1, zorder=3)\n",
    "\n",
    "plt.scatter(x=longitudes_in_degrees, y=latitudes_in_degrees, c=rainfall.data, transform=ccrs.PlateCarree(),\n",
    "            cmap='Greens',  vmin=0., vmax=50.)"
   ]
  },
  {
   "cell_type": "code",
   "execution_count": null,
   "id": "fb023f31",
   "metadata": {},
   "outputs": [],
   "source": [
    "vertices = mesh.tri.points*mesh_height.reshape(-1,1)\n",
    "tri = mesh.tri\n",
    "\n",
    "lv = lavavu.Viewer(border=False, background=\"#FFFFFF\", resolution=[600,600], near=-10.0)\n",
    "\n",
    "tris = lv.triangles(\"mesh\",  wireframe=False, colour=\"#77ff88\", opacity=1.0)\n",
    "tris.vertices(vertices)\n",
    "tris.indices(tri.simplices)\n",
    "tris.values(mesh.topography.data, label=\"elevation\")\n",
    "tris.colourmap('geo', range=(6.363,6.377))  # This is a good choice of colourmap and range to make the coastlines work and the Earth look nice \n",
    "# tris.colourmap('drywet', range=(0.0,100)) # range=(6.363,6.377))  # This is a good choice of colourmap and range to make the coastlines work and the Earth look nice \n",
    "\n",
    "cb = tris.colourbar()\n",
    "\n",
    "# sm = lv.points(\"submarine\", colour=\"blue\", pointsize=0.5, opacity=0.75)\n",
    "# sm.vertices(vertices[submarine])\n",
    "\n",
    "lv.control.Panel()\n",
    "lv.control.ObjectList()\n",
    "tris.control.Checkbox(property=\"wireframe\")\n",
    "lv.control.show()"
   ]
  },
  {
   "cell_type": "code",
   "execution_count": null,
   "id": "e7c9e2ab",
   "metadata": {},
   "outputs": [],
   "source": [
    "low_points = mesh.identify_low_points(ref_height=6.37)"
   ]
  },
  {
   "cell_type": "code",
   "execution_count": null,
   "id": "ee6ec4f7",
   "metadata": {},
   "outputs": [],
   "source": [
    "low_points.shape"
   ]
  },
  {
   "cell_type": "code",
   "execution_count": null,
   "id": "1f0b1b52",
   "metadata": {},
   "outputs": [],
   "source": [
    "ref_height=6.37\n",
    "mesh.low_points_local_patch_fill(its=3, smoothing_steps=3, ref_height=ref_height, fraction=0.1)\n",
    "\n",
    "for repeat in range(0,50): \n",
    "    \n",
    "    mesh.low_points_swamp_fill(ref_height=ref_height, its=5000, saddles=False, ref_gradient=1.0e-10, fluctuation_strength=0.01)\n",
    "    mesh.low_points_local_patch_fill(its=1, smoothing_steps=0, ref_height=ref_height, fraction=0.01)\n",
    "    mesh.low_points_swamp_fill(ref_height=ref_height, its=5000, saddles=False, ref_gradient=1.0e-10, fluctuation_strength=0.0)\n",
    "\n",
    "    # In parallel, we can't break if ANY processor has work to do (barrier / sync issue)\n",
    "    low_points3 = mesh.identify_global_low_points(ref_height=ref_height)\n",
    "\n",
    "    print(\"{} : {}\".format(repeat,low_points3[0]))\n",
    "    if low_points3[0] == 0:\n",
    "        break\n",
    "\n",
    "low_points = mesh.identify_low_points(ref_height=ref_height)"
   ]
  },
  {
   "cell_type": "code",
   "execution_count": null,
   "id": "103a1389",
   "metadata": {},
   "outputs": [],
   "source": [
    "runoff_var.data.max()"
   ]
  },
  {
   "cell_type": "code",
   "execution_count": null,
   "id": "ddc00012",
   "metadata": {},
   "outputs": [],
   "source": [
    "from quagmire import function as fn\n",
    "\n",
    "ones = fn.parameter(1.0, mesh=mesh)\n",
    "cumulative_flow_0 = np.log10(1.0e-20 + mesh.upstream_integral_fn(runoff_var).evaluate(mesh))\n",
    "cumulative_flow_0[mesh_height < 6.37] = 0.0\n",
    "\n",
    "cumulative_area = np.log10(1.0e-20 + mesh.upstream_integral_fn(ones).evaluate(mesh))\n",
    "cumulative_area[mesh_height < 6.37] = 0.0"
   ]
  },
  {
   "cell_type": "code",
   "execution_count": null,
   "id": "b6b0e809",
   "metadata": {},
   "outputs": [],
   "source": [
    "print(cumulative_flow_0.min(), cumulative_flow_0.max())\n",
    "print(cumulative_area.min(), cumulative_area.max())"
   ]
  },
  {
   "cell_type": "code",
   "execution_count": null,
   "id": "4cb3b310",
   "metadata": {},
   "outputs": [],
   "source": [
    "import lavavu\n",
    "import stripy\n",
    "\n",
    "vertices0 = mesh.tri.points*mesh_height.reshape(-1,1)\n",
    "vertices = mesh.tri.points*mesh.topography.data.reshape(-1,1)\n",
    "tri = mesh.tri\n",
    "\n",
    "lv = lavavu.Viewer(border=False, axis=False, background=\"#FFFFFF\", resolution=[1000,1000], near=-20.0)\n",
    "\n",
    "lows = lv.points(\"lows\", colour=\"red\", pointsize=5.0, opacity=0.75)\n",
    "lows.vertices(vertices[low_points])\n",
    "\n",
    "flowball = lv.points(\"flowballs\", pointsize=1.5, colour=\"rgb(50,50,100)\", opacity=0.25)\n",
    "flowball.vertices(vertices0)\n",
    "flowball.values(np.maximum(0.0,cumulative_flow_0-11.0), label=\"flows\")\n",
    "flowball[\"sizeby\"]=\"flows\"\n",
    "\n",
    "ghostball = lv.points(\"ghostballs\", colour=\"rgb(50,50,50)\", pointsize=0.25, opacity=0.5)\n",
    "ghostball.vertices(vertices0)\n",
    "ghostball.values(np.maximum(0.0,cumulative_area-8.0), label=\"areas\")\n",
    "ghostball[\"sizeby\"]=\"areas\"\n",
    "\n",
    "heightball = lv.points(\"heightballs\", pointsize=0.5, opacity=1.0)\n",
    "heightball.vertices(vertices)\n",
    "heightball.values(mesh.topography.data, label=\"height\")\n",
    "heightball.values((mesh.topography.data > 6.370).astype(float), label=\"land\")\n",
    "heightball.colourmap('geo',  range=(6.363,6.377))  # This is a good choice of colourmap and range to make the coastlines work and the Earth look nice \n",
    "heightball[\"sizeby\"]=\"land\"\n",
    "\n",
    "tris = lv.triangles(\"mesh\",  wireframe=False, colour=\"#77ff88\", opacity=1.0)\n",
    "tris.vertices(vertices*1.0)\n",
    "tris.indices(tri.simplices)\n",
    "tris.values(mesh_height, label=\"elevation\")\n",
    "tris.colourmap('geo', range=(6.363,6.377))  # This is a good choice of colourmap and range to make the coastlines work and the Earth look nice \n",
    "\n",
    "\n",
    "# lv.translation(-1.012, 2.245, -13.352)\n",
    "# lv.rotation(53.217, 18.104, 161.927)\n",
    "\n",
    "lv.control.Panel()\n",
    "lv.control.ObjectList()\n",
    "lv.control.show()"
   ]
  },
  {
   "cell_type": "code",
   "execution_count": null,
   "id": "66b3c891",
   "metadata": {},
   "outputs": [],
   "source": [
    "mesh.save_mesh_to_hdf5(\"global_OC_8.4_mesh\")\n",
    "mesh.topography.save(\"global_OC_8.4_topography\")\n",
    "rainfall.save(\"global_OC_8.4_rainfall\")\n",
    "runoff_var.save(\"global_OC_8.4_runoff\")\n",
    "rawheight.save(\"global_OC_8.4_raw_topography\")\n",
    "mesh.npoints"
   ]
  },
  {
   "cell_type": "code",
   "execution_count": null,
   "id": "7eecd9b1",
   "metadata": {},
   "outputs": [],
   "source": [
    "import h5py\n",
    "fm = h5py.File(name=\"global_OC_8.4_mesh\", mode='r')\n",
    "ft = h5py.File(name=\"global_OC_8.4_topography\", mode='r')"
   ]
  },
  {
   "cell_type": "code",
   "execution_count": null,
   "id": "c0bc4a55",
   "metadata": {},
   "outputs": [],
   "source": []
  },
  {
   "cell_type": "code",
   "execution_count": null,
   "id": "b31ad55a",
   "metadata": {},
   "outputs": [],
   "source": []
  }
 ],
 "metadata": {
  "jupytext": {
   "text_representation": {
    "extension": ".md",
    "format_name": "myst",
    "format_version": 0.12,
    "jupytext_version": "1.6.0"
   }
  },
  "kernelspec": {
   "display_name": "Python 3",
   "language": "python",
   "name": "python3"
  },
  "source_map": [
   12,
   17,
   35,
   39,
   43,
   47,
   51,
   74,
   79,
   83,
   102,
   109,
   147,
   165,
   197,
   217,
   241,
   245,
   249,
   270,
   274,
   285,
   290,
   335,
   344,
   350,
   354
  ]
 },
 "nbformat": 4,
 "nbformat_minor": 5
}