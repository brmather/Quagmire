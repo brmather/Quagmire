{
 "cells": [
  {
   "cell_type": "markdown",
   "id": "7dfb1502",
   "metadata": {},
   "source": [
    "## Swamp filling of local minima\n",
    "\n",
    "This notebook illustrates the strategy that the swamp-filling algorithm takes and shows why multiple iterations are needed.\n",
    "\n",
    "We start with a simple, semi-circular channel (gutter) and introduce nested hemispherical depressions (local minima).\n",
    "\n",
    "\n",
    "\n",
    "<!-- #### Contents\n",
    "\n",
    "- [Rosenbrock function](#Rosenbrock-function)\n",
    "- [Compare one and two downhill pathways](#Compare-one-and-two-downhill-pathways)\n",
    "- [Probability densities](#Probability-densities)\n",
    "- [Animation of stream flow](#Animation-of-stream-flow) -->"
   ]
  },
  {
   "cell_type": "code",
   "execution_count": 1,
   "id": "ede40aa4",
   "metadata": {},
   "outputs": [],
   "source": [
    "import numpy as np\n",
    "import matplotlib\n",
    "import matplotlib.pyplot as plt\n",
    "from quagmire import QuagMesh\n",
    "from quagmire import tools as meshtools\n",
    "from quagmire import function as fn\n",
    "import scipy\n",
    "\n",
    "%matplotlib inline"
   ]
  },
  {
   "cell_type": "code",
   "execution_count": 2,
   "id": "dba13dac",
   "metadata": {},
   "outputs": [
    {
     "name": "stdout",
     "output_type": "stream",
     "text": [
      "Underlying Mesh type: TriMesh\n",
      "0 - Delaunay triangulation 0.17801580700006525s\n",
      "0 - Calculate node weights and area 0.006247915000017201s\n",
      "0 - Find boundaries 0.0018177630000764111s\n"
     ]
    },
    {
     "name": "stdout",
     "output_type": "stream",
     "text": [
      "0 - cKDTree 0.011447992000057639s\n"
     ]
    },
    {
     "name": "stdout",
     "output_type": "stream",
     "text": [
      "0 - Construct neighbour cloud arrays 0.34389299700001175s, (0.1980617940000684s + 0.14578260000007504s)\n",
      "0 - Construct rbf weights 0.07225707800000691s\n"
     ]
    }
   ],
   "source": [
    "minX, maxX = -1.0, 1.0\n",
    "minY, maxY =  0.0, 3.0\n",
    "\n",
    "x, y, bmask = meshtools.generate_square_points(minX, maxX, minY, maxY, 0.01, 0.01, samples=50000, boundary_samples=500)\n",
    "x, y = meshtools.lloyd_mesh_improvement(x, y, bmask, 5)\n",
    "\n",
    "DM = meshtools.create_DMPlex_from_points(x, y, bmask)\n",
    "sp = QuagMesh(DM)\n",
    "catchments0 = sp.add_variable(name=\"low_point_catchments0\")\n",
    "\n",
    "x = sp.tri.points[:,0]\n",
    "y = sp.tri.points[:,1]"
   ]
  },
  {
   "cell_type": "markdown",
   "id": "2bbe5585",
   "metadata": {},
   "source": [
    "## Semi-circular gutter with incline\n",
    "\n",
    "$$\n",
    "h(x,y) = (1-x)^2 \n",
    "$$\n",
    "\n",
    "we introduce a small incline to ensure the streams terminate at the boundary."
   ]
  },
  {
   "cell_type": "code",
   "execution_count": 3,
   "id": "0256c5e0",
   "metadata": {},
   "outputs": [
    {
     "name": "stdout",
     "output_type": "stream",
     "text": [
      "0 - Build downhill matrices 0.07996424299994942s\n"
     ]
    },
    {
     "name": "stdout",
     "output_type": "stream",
     "text": [
      "0 - Build upstream areas 0.09921730400003526s\n"
     ]
    }
   ],
   "source": [
    "height = 1.0 - np.sin(np.arccos((0.5*x)/abs(x).max()))  \n",
    "\n",
    "with sp.deform_topography():\n",
    "    sp.topography.data = height\n",
    "\n",
    "gradient = sp.slope.evaluate(sp)"
   ]
  },
  {
   "cell_type": "code",
   "execution_count": 4,
   "id": "162c7144",
   "metadata": {},
   "outputs": [],
   "source": [
    "## Add hemispherical blisters\n",
    "\n",
    "blisters = [(0.0,2.4,0.3,0.5),(0.0,1.9, 0.4, 0.5), (0.0, 1.5, 0.3, 0.5), (0.2, 1.0, 0.2, 0.75), \n",
    "            (0.5, 0.95, 0.1, 0.5), (0.65, 0.9, 0.1, 1.0), (0.8, 0.8, 0.1, 1.5),]\n",
    "\n",
    "\n",
    "height = sp.topography.data.copy()\n",
    "dh = np.zeros_like(height)\n",
    "\n",
    "for blis in blisters:\n",
    "    x0  = blis[0]\n",
    "    y0  = blis[1]\n",
    "    r0  = blis[2]\n",
    "    s0  = blis[3]\n",
    "    \n",
    "    points = sp.cKDTree.query_ball_point((x0,y0), r0)   \n",
    "    r  = np.hypot(sp.data[points][:,0] - x0, sp.data[points][:,1] - y0)\n",
    "    dh[points] = np.maximum(dh[points], s0 * np.sqrt(r0**2 - r**2))\n",
    "    \n",
    "\n",
    "height -= dh"
   ]
  },
  {
   "cell_type": "code",
   "execution_count": 5,
   "id": "0caae317",
   "metadata": {},
   "outputs": [],
   "source": [
    "height += 0.05 * y # make a small incline\n",
    "height -= height.min()"
   ]
  },
  {
   "cell_type": "code",
   "execution_count": 6,
   "id": "b64f63cd",
   "metadata": {},
   "outputs": [
    {
     "ename": "TypeError",
     "evalue": "__init__() got an unexpected keyword argument 'mesh'",
     "output_type": "error",
     "traceback": [
      "\u001b[0;31m---------------------------------------------------------------------------\u001b[0m",
      "\u001b[0;31mTypeError\u001b[0m                                 Traceback (most recent call last)",
      "\u001b[0;32m<ipython-input-6-980a466492b6>\u001b[0m in \u001b[0;36m<module>\u001b[0;34m\u001b[0m\n\u001b[0;32m----> 1\u001b[0;31m \u001b[0mones\u001b[0m \u001b[0;34m=\u001b[0m \u001b[0mfn\u001b[0m\u001b[0;34m.\u001b[0m\u001b[0mparameter\u001b[0m\u001b[0;34m(\u001b[0m\u001b[0;36m1.0\u001b[0m\u001b[0;34m,\u001b[0m \u001b[0mmesh\u001b[0m\u001b[0;34m=\u001b[0m\u001b[0msp\u001b[0m\u001b[0;34m)\u001b[0m\u001b[0;34m\u001b[0m\u001b[0;34m\u001b[0m\u001b[0m\n\u001b[0m",
      "\u001b[0;32m~/work/quagmire/quagmire/quagmire/function/function_classes.py\u001b[0m in \u001b[0;36m__init__\u001b[0;34m(self, value, *args, **kwargs)\u001b[0m\n\u001b[1;32m    588\u001b[0m \u001b[0;34m\u001b[0m\u001b[0m\n\u001b[1;32m    589\u001b[0m     \u001b[0;32mdef\u001b[0m \u001b[0m__init__\u001b[0m\u001b[0;34m(\u001b[0m\u001b[0mself\u001b[0m\u001b[0;34m,\u001b[0m \u001b[0mvalue\u001b[0m\u001b[0;34m,\u001b[0m \u001b[0;34m*\u001b[0m\u001b[0margs\u001b[0m\u001b[0;34m,\u001b[0m \u001b[0;34m**\u001b[0m\u001b[0mkwargs\u001b[0m\u001b[0;34m)\u001b[0m\u001b[0;34m:\u001b[0m\u001b[0;34m\u001b[0m\u001b[0;34m\u001b[0m\u001b[0m\n\u001b[0;32m--> 590\u001b[0;31m         \u001b[0msuper\u001b[0m\u001b[0;34m(\u001b[0m\u001b[0mparameter\u001b[0m\u001b[0;34m,\u001b[0m \u001b[0mself\u001b[0m\u001b[0;34m)\u001b[0m\u001b[0;34m.\u001b[0m\u001b[0m__init__\u001b[0m\u001b[0;34m(\u001b[0m\u001b[0;34m*\u001b[0m\u001b[0margs\u001b[0m\u001b[0;34m,\u001b[0m \u001b[0;34m**\u001b[0m\u001b[0mkwargs\u001b[0m\u001b[0;34m)\u001b[0m\u001b[0;34m\u001b[0m\u001b[0;34m\u001b[0m\u001b[0m\n\u001b[0m\u001b[1;32m    591\u001b[0m         \u001b[0mself\u001b[0m\u001b[0;34m.\u001b[0m\u001b[0mvalue\u001b[0m \u001b[0;34m=\u001b[0m \u001b[0mvalue\u001b[0m\u001b[0;34m\u001b[0m\u001b[0;34m\u001b[0m\u001b[0m\n\u001b[1;32m    592\u001b[0m         \u001b[0mself\u001b[0m\u001b[0;34m.\u001b[0m\u001b[0mmath\u001b[0m \u001b[0;34m=\u001b[0m \u001b[0;32mlambda\u001b[0m \u001b[0;34m:\u001b[0m \u001b[0mself\u001b[0m\u001b[0;34m.\u001b[0m\u001b[0mlatex\u001b[0m\u001b[0;34m\u001b[0m\u001b[0;34m\u001b[0m\u001b[0m\n",
      "\u001b[0;31mTypeError\u001b[0m: __init__() got an unexpected keyword argument 'mesh'"
     ]
    }
   ],
   "source": [
    "ones = fn.parameter(1.0, mesh=sp)"
   ]
  },
  {
   "cell_type": "code",
   "execution_count": 7,
   "id": "50187d68",
   "metadata": {},
   "outputs": [
    {
     "name": "stdout",
     "output_type": "stream",
     "text": [
      "0 - Build downhill matrices 0.07575889899999311s\n",
      "0 - Build upstream areas 0.1513377919999357s\n"
     ]
    },
    {
     "ename": "NameError",
     "evalue": "name 'ones' is not defined",
     "output_type": "error",
     "traceback": [
      "\u001b[0;31m---------------------------------------------------------------------------\u001b[0m",
      "\u001b[0;31mNameError\u001b[0m                                 Traceback (most recent call last)",
      "\u001b[0;32m<ipython-input-7-64b26c384ab4>\u001b[0m in \u001b[0;36m<module>\u001b[0;34m\u001b[0m\n\u001b[1;32m      4\u001b[0m \u001b[0;31m# Compute a flow ...\u001b[0m\u001b[0;34m\u001b[0m\u001b[0;34m\u001b[0m\u001b[0;34m\u001b[0m\u001b[0m\n\u001b[1;32m      5\u001b[0m \u001b[0;34m\u001b[0m\u001b[0m\n\u001b[0;32m----> 6\u001b[0;31m \u001b[0mcumulative_flow_0\u001b[0m \u001b[0;34m=\u001b[0m \u001b[0mnp\u001b[0m\u001b[0;34m.\u001b[0m\u001b[0mlog10\u001b[0m\u001b[0;34m(\u001b[0m\u001b[0;36m1.0e-6\u001b[0m \u001b[0;34m+\u001b[0m \u001b[0msp\u001b[0m\u001b[0;34m.\u001b[0m\u001b[0mupstream_integral_fn\u001b[0m\u001b[0;34m(\u001b[0m\u001b[0mones\u001b[0m\u001b[0;34m)\u001b[0m\u001b[0;34m.\u001b[0m\u001b[0mevaluate\u001b[0m\u001b[0;34m(\u001b[0m\u001b[0msp\u001b[0m\u001b[0;34m)\u001b[0m\u001b[0;34m)\u001b[0m\u001b[0;34m\u001b[0m\u001b[0;34m\u001b[0m\u001b[0m\n\u001b[0m\u001b[1;32m      7\u001b[0m \u001b[0mlowpts0\u001b[0m \u001b[0;34m=\u001b[0m \u001b[0msp\u001b[0m\u001b[0;34m.\u001b[0m\u001b[0midentify_low_points\u001b[0m\u001b[0;34m(\u001b[0m\u001b[0mref_height\u001b[0m\u001b[0;34m=\u001b[0m\u001b[0;34m-\u001b[0m\u001b[0;36m0.01\u001b[0m\u001b[0;34m)\u001b[0m\u001b[0;34m\u001b[0m\u001b[0;34m\u001b[0m\u001b[0m\n\u001b[1;32m      8\u001b[0m \u001b[0mheight0\u001b[0m \u001b[0;34m=\u001b[0m \u001b[0msp\u001b[0m\u001b[0;34m.\u001b[0m\u001b[0mtopography\u001b[0m\u001b[0;34m.\u001b[0m\u001b[0mdata\u001b[0m\u001b[0;34m.\u001b[0m\u001b[0mcopy\u001b[0m\u001b[0;34m(\u001b[0m\u001b[0;34m)\u001b[0m\u001b[0;34m\u001b[0m\u001b[0;34m\u001b[0m\u001b[0m\n",
      "\u001b[0;31mNameError\u001b[0m: name 'ones' is not defined"
     ]
    }
   ],
   "source": [
    "with sp.deform_topography():\n",
    "    sp.topography.data = height\n",
    "    \n",
    "# Compute a flow ... \n",
    "\n",
    "cumulative_flow_0 = np.log10(1.0e-6 + sp.upstream_integral_fn(ones).evaluate(sp))\n",
    "lowpts0 = sp.identify_low_points(ref_height=-0.01)\n",
    "height0 = sp.topography.data.copy()\n",
    "\n",
    "print(\"Low points - {}\".format(lowpts0))"
   ]
  },
  {
   "cell_type": "code",
   "execution_count": 8,
   "id": "d7e4f316",
   "metadata": {},
   "outputs": [
    {
     "ename": "NameError",
     "evalue": "name 'lowpts0' is not defined",
     "output_type": "error",
     "traceback": [
      "\u001b[0;31m---------------------------------------------------------------------------\u001b[0m",
      "\u001b[0;31mNameError\u001b[0m                                 Traceback (most recent call last)",
      "\u001b[0;32m<ipython-input-8-325242b6410c>\u001b[0m in \u001b[0;36m<module>\u001b[0;34m\u001b[0m\n\u001b[0;32m----> 1\u001b[0;31m \u001b[0mcatchments0\u001b[0m\u001b[0;34m.\u001b[0m\u001b[0mdata\u001b[0m \u001b[0;34m=\u001b[0m \u001b[0msp\u001b[0m\u001b[0;34m.\u001b[0m\u001b[0muphill_propagation\u001b[0m\u001b[0;34m(\u001b[0m\u001b[0mpoints\u001b[0m \u001b[0;34m=\u001b[0m \u001b[0mlowpts0\u001b[0m\u001b[0;34m,\u001b[0m \u001b[0mvalues\u001b[0m\u001b[0;34m=\u001b[0m\u001b[0mnp\u001b[0m\u001b[0;34m.\u001b[0m\u001b[0mindices\u001b[0m\u001b[0;34m(\u001b[0m\u001b[0;34m(\u001b[0m\u001b[0mlowpts0\u001b[0m\u001b[0;34m.\u001b[0m\u001b[0mshape\u001b[0m\u001b[0;34m)\u001b[0m\u001b[0;34m)\u001b[0m\u001b[0;34m,\u001b[0m \u001b[0mfill\u001b[0m\u001b[0;34m=\u001b[0m\u001b[0;34m-\u001b[0m\u001b[0;36m1.0\u001b[0m\u001b[0;34m,\u001b[0m \u001b[0mits\u001b[0m\u001b[0;34m=\u001b[0m\u001b[0;36m1000\u001b[0m\u001b[0;34m)\u001b[0m\u001b[0;34m\u001b[0m\u001b[0;34m\u001b[0m\u001b[0m\n\u001b[0m",
      "\u001b[0;31mNameError\u001b[0m: name 'lowpts0' is not defined"
     ]
    }
   ],
   "source": [
    "catchments0.data = sp.uphill_propagation(points = lowpts0, values=np.indices((lowpts0.shape)), fill=-1.0, its=1000)"
   ]
  },
  {
   "cell_type": "code",
   "execution_count": 9,
   "id": "4447a0b6",
   "metadata": {},
   "outputs": [],
   "source": [
    "outflows = sp.identify_outflow_points()"
   ]
  },
  {
   "cell_type": "code",
   "execution_count": 10,
   "id": "379e0ccf",
   "metadata": {},
   "outputs": [
    {
     "name": "stdout",
     "output_type": "stream",
     "text": [
      "185  iterations, time =  0.08663347200001681\n",
      "Build low point catchments -  0.08774281000000883  seconds\n",
      "0  Sort spills -  0.0022796790000256806\n",
      "0  Gather spill data -  0.00019600699999955395\n",
      "0  Sort all spills -  7.190299993453664e-05\n",
      "0 - Build downhill matrices 0.0787948030000507s\n",
      "Low point swamp fill  0.19460067500006062  seconds\n"
     ]
    },
    {
     "name": "stdout",
     "output_type": "stream",
     "text": [
      "0 - Build upstream areas 0.1503275569999687s\n"
     ]
    },
    {
     "ename": "NameError",
     "evalue": "name 'ones' is not defined",
     "output_type": "error",
     "traceback": [
      "\u001b[0;31m---------------------------------------------------------------------------\u001b[0m",
      "\u001b[0;31mNameError\u001b[0m                                 Traceback (most recent call last)",
      "\u001b[0;32m<ipython-input-10-fefbfb01e2ed>\u001b[0m in \u001b[0;36m<module>\u001b[0;34m\u001b[0m\n\u001b[1;32m      1\u001b[0m \u001b[0msp\u001b[0m\u001b[0;34m.\u001b[0m\u001b[0mlow_points_swamp_fill\u001b[0m\u001b[0;34m(\u001b[0m\u001b[0mits\u001b[0m\u001b[0;34m=\u001b[0m\u001b[0;36m1000\u001b[0m\u001b[0;34m,\u001b[0m \u001b[0mref_height\u001b[0m\u001b[0;34m=\u001b[0m\u001b[0;34m-\u001b[0m\u001b[0;36m0.01\u001b[0m\u001b[0;34m,\u001b[0m \u001b[0msaddles\u001b[0m\u001b[0;34m=\u001b[0m\u001b[0;32mFalse\u001b[0m\u001b[0;34m)\u001b[0m\u001b[0;34m\u001b[0m\u001b[0;34m\u001b[0m\u001b[0m\n\u001b[0;32m----> 2\u001b[0;31m \u001b[0mcumulative_flow_1\u001b[0m \u001b[0;34m=\u001b[0m \u001b[0mnp\u001b[0m\u001b[0;34m.\u001b[0m\u001b[0mlog10\u001b[0m\u001b[0;34m(\u001b[0m\u001b[0;36m1.0e-6\u001b[0m \u001b[0;34m+\u001b[0m \u001b[0msp\u001b[0m\u001b[0;34m.\u001b[0m\u001b[0mupstream_integral_fn\u001b[0m\u001b[0;34m(\u001b[0m\u001b[0mones\u001b[0m\u001b[0;34m)\u001b[0m\u001b[0;34m.\u001b[0m\u001b[0mevaluate\u001b[0m\u001b[0;34m(\u001b[0m\u001b[0msp\u001b[0m\u001b[0;34m)\u001b[0m\u001b[0;34m)\u001b[0m\u001b[0;34m\u001b[0m\u001b[0;34m\u001b[0m\u001b[0m\n\u001b[0m\u001b[1;32m      3\u001b[0m \u001b[0mlowpts1\u001b[0m \u001b[0;34m=\u001b[0m \u001b[0msp\u001b[0m\u001b[0;34m.\u001b[0m\u001b[0midentify_low_points\u001b[0m\u001b[0;34m(\u001b[0m\u001b[0mref_height\u001b[0m\u001b[0;34m=\u001b[0m\u001b[0;34m-\u001b[0m\u001b[0;36m0.01\u001b[0m\u001b[0;34m)\u001b[0m\u001b[0;34m\u001b[0m\u001b[0;34m\u001b[0m\u001b[0m\n\u001b[1;32m      4\u001b[0m \u001b[0mheight1\u001b[0m \u001b[0;34m=\u001b[0m \u001b[0msp\u001b[0m\u001b[0;34m.\u001b[0m\u001b[0mtopography\u001b[0m\u001b[0;34m.\u001b[0m\u001b[0mdata\u001b[0m\u001b[0;34m.\u001b[0m\u001b[0mcopy\u001b[0m\u001b[0;34m(\u001b[0m\u001b[0;34m)\u001b[0m\u001b[0;34m\u001b[0m\u001b[0;34m\u001b[0m\u001b[0m\n\u001b[1;32m      5\u001b[0m \u001b[0;34m\u001b[0m\u001b[0m\n",
      "\u001b[0;31mNameError\u001b[0m: name 'ones' is not defined"
     ]
    }
   ],
   "source": [
    "sp.low_points_swamp_fill(its=1000, ref_height=-0.01, saddles=False)\n",
    "cumulative_flow_1 = np.log10(1.0e-6 + sp.upstream_integral_fn(ones).evaluate(sp))\n",
    "lowpts1 = sp.identify_low_points(ref_height=-0.01)\n",
    "height1 = sp.topography.data.copy()\n",
    "\n",
    "print(\"{}: Low points - {}\".format(lowpts1.shape[0],lowpts1))"
   ]
  },
  {
   "cell_type": "code",
   "execution_count": 11,
   "id": "7a9c6a46",
   "metadata": {},
   "outputs": [
    {
     "name": "stdout",
     "output_type": "stream",
     "text": [
      "185  iterations, time =  0.08937236600002052\n",
      "Build low point catchments -  0.09057120699992538  seconds\n",
      "0  Sort spills -  0.0024031829999557885\n",
      "0  Gather spill data -  0.00014250499998524901\n",
      "0  Sort all spills -  6.850299996585818e-05\n"
     ]
    },
    {
     "name": "stdout",
     "output_type": "stream",
     "text": [
      "0 - Build downhill matrices 0.07453735699994013s\n",
      "Low point swamp fill  0.1905237359999319  seconds\n"
     ]
    },
    {
     "name": "stdout",
     "output_type": "stream",
     "text": [
      "0 - Build upstream areas 0.22204171699991093s\n"
     ]
    },
    {
     "ename": "NameError",
     "evalue": "name 'ones' is not defined",
     "output_type": "error",
     "traceback": [
      "\u001b[0;31m---------------------------------------------------------------------------\u001b[0m",
      "\u001b[0;31mNameError\u001b[0m                                 Traceback (most recent call last)",
      "\u001b[0;32m<ipython-input-11-9055eba861e4>\u001b[0m in \u001b[0;36m<module>\u001b[0;34m\u001b[0m\n\u001b[1;32m      1\u001b[0m \u001b[0msp\u001b[0m\u001b[0;34m.\u001b[0m\u001b[0mlow_points_swamp_fill\u001b[0m\u001b[0;34m(\u001b[0m\u001b[0mits\u001b[0m\u001b[0;34m=\u001b[0m\u001b[0;36m1000\u001b[0m\u001b[0;34m,\u001b[0m \u001b[0mref_height\u001b[0m\u001b[0;34m=\u001b[0m\u001b[0;36m0.0\u001b[0m\u001b[0;34m,\u001b[0m \u001b[0msaddles\u001b[0m\u001b[0;34m=\u001b[0m\u001b[0;32mFalse\u001b[0m\u001b[0;34m)\u001b[0m\u001b[0;34m\u001b[0m\u001b[0;34m\u001b[0m\u001b[0m\n\u001b[1;32m      2\u001b[0m \u001b[0;34m\u001b[0m\u001b[0m\n\u001b[0;32m----> 3\u001b[0;31m \u001b[0mcumulative_flow_2\u001b[0m \u001b[0;34m=\u001b[0m \u001b[0mnp\u001b[0m\u001b[0;34m.\u001b[0m\u001b[0mlog10\u001b[0m\u001b[0;34m(\u001b[0m\u001b[0;36m1.0e-6\u001b[0m \u001b[0;34m+\u001b[0m \u001b[0msp\u001b[0m\u001b[0;34m.\u001b[0m\u001b[0mupstream_integral_fn\u001b[0m\u001b[0;34m(\u001b[0m\u001b[0mones\u001b[0m\u001b[0;34m)\u001b[0m\u001b[0;34m.\u001b[0m\u001b[0mevaluate\u001b[0m\u001b[0;34m(\u001b[0m\u001b[0msp\u001b[0m\u001b[0;34m)\u001b[0m\u001b[0;34m)\u001b[0m\u001b[0;34m\u001b[0m\u001b[0;34m\u001b[0m\u001b[0m\n\u001b[0m\u001b[1;32m      4\u001b[0m \u001b[0mlowpts2\u001b[0m \u001b[0;34m=\u001b[0m \u001b[0msp\u001b[0m\u001b[0;34m.\u001b[0m\u001b[0midentify_low_points\u001b[0m\u001b[0;34m(\u001b[0m\u001b[0;34m)\u001b[0m\u001b[0;34m\u001b[0m\u001b[0;34m\u001b[0m\u001b[0m\n\u001b[1;32m      5\u001b[0m \u001b[0mheight2\u001b[0m \u001b[0;34m=\u001b[0m \u001b[0msp\u001b[0m\u001b[0;34m.\u001b[0m\u001b[0mtopography\u001b[0m\u001b[0;34m.\u001b[0m\u001b[0mdata\u001b[0m\u001b[0;34m.\u001b[0m\u001b[0mcopy\u001b[0m\u001b[0;34m(\u001b[0m\u001b[0;34m)\u001b[0m\u001b[0;34m\u001b[0m\u001b[0;34m\u001b[0m\u001b[0m\n",
      "\u001b[0;31mNameError\u001b[0m: name 'ones' is not defined"
     ]
    }
   ],
   "source": [
    "sp.low_points_swamp_fill(its=1000, ref_height=0.0, saddles=False)\n",
    "\n",
    "cumulative_flow_2 = np.log10(1.0e-6 + sp.upstream_integral_fn(ones).evaluate(sp))\n",
    "lowpts2 = sp.identify_low_points()\n",
    "height2 = sp.topography.data.copy()\n",
    "print(\"{}: Low points - {}\".format(lowpts2.shape[0],lowpts2))"
   ]
  },
  {
   "cell_type": "code",
   "execution_count": 12,
   "id": "9b80f25a",
   "metadata": {},
   "outputs": [
    {
     "name": "stdout",
     "output_type": "stream",
     "text": [
      "LavaVu Run error: Failed to open X display\n",
      "\n",
      "\n"
     ]
    },
    {
     "ename": "NameError",
     "evalue": "name 'height0' is not defined",
     "output_type": "error",
     "traceback": [
      "\u001b[0;31m---------------------------------------------------------------------------\u001b[0m",
      "\u001b[0;31mNameError\u001b[0m                                 Traceback (most recent call last)",
      "\u001b[0;32m<ipython-input-12-f4df44708818>\u001b[0m in \u001b[0;36m<module>\u001b[0;34m\u001b[0m\n\u001b[1;32m      6\u001b[0m \u001b[0;34m\u001b[0m\u001b[0m\n\u001b[1;32m      7\u001b[0m \u001b[0mverts\u001b[0m \u001b[0;34m=\u001b[0m \u001b[0mnp\u001b[0m\u001b[0;34m.\u001b[0m\u001b[0mreshape\u001b[0m\u001b[0;34m(\u001b[0m\u001b[0msp\u001b[0m\u001b[0;34m.\u001b[0m\u001b[0mtri\u001b[0m\u001b[0;34m.\u001b[0m\u001b[0mpoints\u001b[0m\u001b[0;34m,\u001b[0m \u001b[0;34m(\u001b[0m\u001b[0;34m-\u001b[0m\u001b[0;36m1\u001b[0m\u001b[0;34m,\u001b[0m\u001b[0;36m2\u001b[0m\u001b[0;34m)\u001b[0m\u001b[0;34m)\u001b[0m\u001b[0;34m\u001b[0m\u001b[0;34m\u001b[0m\u001b[0m\n\u001b[0;32m----> 8\u001b[0;31m \u001b[0mverts\u001b[0m \u001b[0;34m=\u001b[0m \u001b[0mnp\u001b[0m\u001b[0;34m.\u001b[0m\u001b[0minsert\u001b[0m\u001b[0;34m(\u001b[0m\u001b[0mverts\u001b[0m\u001b[0;34m,\u001b[0m \u001b[0;36m2\u001b[0m\u001b[0;34m,\u001b[0m \u001b[0mvalues\u001b[0m\u001b[0;34m=\u001b[0m\u001b[0mheight0\u001b[0m \u001b[0;34m,\u001b[0m \u001b[0maxis\u001b[0m\u001b[0;34m=\u001b[0m\u001b[0;36m1\u001b[0m\u001b[0;34m)\u001b[0m\u001b[0;34m\u001b[0m\u001b[0;34m\u001b[0m\u001b[0m\n\u001b[0m\u001b[1;32m      9\u001b[0m \u001b[0;34m\u001b[0m\u001b[0m\n\u001b[1;32m     10\u001b[0m \u001b[0mverts_s1\u001b[0m \u001b[0;34m=\u001b[0m \u001b[0mnp\u001b[0m\u001b[0;34m.\u001b[0m\u001b[0mreshape\u001b[0m\u001b[0;34m(\u001b[0m\u001b[0msp\u001b[0m\u001b[0;34m.\u001b[0m\u001b[0mtri\u001b[0m\u001b[0;34m.\u001b[0m\u001b[0mpoints\u001b[0m\u001b[0;34m,\u001b[0m \u001b[0;34m(\u001b[0m\u001b[0;34m-\u001b[0m\u001b[0;36m1\u001b[0m\u001b[0;34m,\u001b[0m\u001b[0;36m2\u001b[0m\u001b[0;34m)\u001b[0m\u001b[0;34m)\u001b[0m\u001b[0;34m\u001b[0m\u001b[0;34m\u001b[0m\u001b[0m\n",
      "\u001b[0;31mNameError\u001b[0m: name 'height0' is not defined"
     ]
    }
   ],
   "source": [
    "import lavavu\n",
    "\n",
    "lv = lavavu.Viewer(border=False, resolution=[1000,600], background=\"#FFFFFF\")\n",
    "lv[\"axis\"]=False\n",
    "lv['specular'] = 0.0\n",
    "\n",
    "verts = np.reshape(sp.tri.points, (-1,2))\n",
    "verts = np.insert(verts, 2, values=height0 , axis=1)\n",
    "\n",
    "verts_s1 = np.reshape(sp.tri.points, (-1,2))\n",
    "verts_s1 = np.insert(verts_s1, 2, values=np.where(height1>height0, height1, height0-0.01), axis=1)\n",
    "\n",
    "verts_s2 = np.reshape(sp.tri.points, (-1,2))\n",
    "verts_s2 = np.insert(verts_s2, 2, values=np.where(height2>height0, height2, height0-0.01), axis=1)\n",
    "\n",
    "tris  = lv.triangles(\"spmesh\", wireframe=False,  logScale=False, opacity=0.9)\n",
    "tris.vertices(verts)\n",
    "tris.indices(sp.tri.simplices)\n",
    "tris.values(cumulative_flow_0, label=\"flow0\")\n",
    "tris.values(cumulative_flow_1, label=\"flow1\")\n",
    "tris.values(cumulative_flow_2, label=\"flow2\")\n",
    "tris.values(ones.evaluate(sp), label=\"blank\")\n",
    "tris.colourmap(\"Grey #335599\", range=[-2, -1])\n",
    "\n",
    "trisW  = lv.triangles(\"spwire\", wireframe=True,  colour=\"#335599\")\n",
    "trisW.vertices(verts+(0.0,0.0,0.001))\n",
    "trisW.indices(sp.tri.simplices)\n",
    "\n",
    "trisC = lv.triangles(\"spcatch\", wireframe=False,  colour=\"#335599\", opacity=0.95)\n",
    "trisC.vertices(verts)\n",
    "trisC.indices(sp.tri.simplices)\n",
    "trisC.values(catchments0.evaluate(sp), label=\"catchment\")\n",
    "trisC.colourmap(\"#BBBBBB #AA5522 #8899FF #00FF66 #FFFF55 #999999\")\n",
    "\n",
    "tris_s1  = lv.triangles(\"spmesh_s1\", wireframe=False,  logScale=False, colour=\"#88BBAA\", opacity=0.95)\n",
    "tris_s1.vertices(verts_s1)\n",
    "tris_s1.indices(sp.tri.simplices)\n",
    "# tris_s1.values(cumulative_flow_1, label=\"flow\")\n",
    "# tris_s1.values(ones.evaluate(sp), label=\"blank\")\n",
    "# tris_s1.colourmap(\"Grey Blue\", range=[-2, -1])\n",
    "\n",
    "tris_s2  = lv.triangles(\"spmesh_s2\", wireframe=False,  logScale=False, colour=\"#88BBAA\", opacity=0.95)\n",
    "tris_s2.vertices(verts_s2)\n",
    "tris_s2.indices(sp.tri.simplices)\n",
    "# tris_s2.values(ones.evaluate(sp), label=\"blank\")\n",
    "# tris_s2.colourmap(\"Grey Blue\", range=[-2, 0])\n",
    "\n",
    "\n",
    "nodes = lv.points(\"vertices\", pointsize=2.0, colour=\"#666677\", opacity=0.5)\n",
    "nodes.vertices(verts+(0.0,0.0,0.001))\n",
    "nodes.values(sp.bmask)\n",
    "\n",
    "lownodes = lv.points(\"lows1\", pointsize=15.0, colour=\"Green\")\n",
    "lownodes.vertices(verts_s1[lowpts1]+(0.0,0.0,0.01))\n",
    "\n",
    "lownodes0 = lv.points(\"lows\", pointsize=15.0, colour=\"Red\")\n",
    "lownodes0.vertices(verts[lowpts0]+(0.0,0.0,0.01))\n",
    "\n",
    "outflownodes0 = lv.points(\"outflows\", pointsize=15.0, colour=\"Blue\")\n",
    "outflownodes0.vertices(verts[outflows]+(0.0,0.0,0.01))\n",
    "\n",
    "lv.translation(0.348, 0.304, -3.403)\n",
    "lv.rotation(-46.218, 0.0, 0.0)\n",
    "\n",
    "lv.control.Panel()\n",
    "lv.control.ObjectList()\n",
    "\n",
    "tris.control.List(options=[\"blank\", \"flow0\", \"flow1\", \"flow2\", \"catch\"],    value=\"blank\", property=\"colourby\", command=\"redraw\", label=\"0\")\n",
    "\n",
    "lv.control.show()"
   ]
  },
  {
   "cell_type": "code",
   "execution_count": 13,
   "id": "9acf616b",
   "metadata": {},
   "outputs": [
    {
     "ename": "NameError",
     "evalue": "name 'tris' is not defined",
     "output_type": "error",
     "traceback": [
      "\u001b[0;31m---------------------------------------------------------------------------\u001b[0m",
      "\u001b[0;31mNameError\u001b[0m                                 Traceback (most recent call last)",
      "\u001b[0;32m<ipython-input-13-17de953081a7>\u001b[0m in \u001b[0;36m<module>\u001b[0;34m\u001b[0m\n\u001b[1;32m      4\u001b[0m \u001b[0mlv\u001b[0m\u001b[0;34m.\u001b[0m\u001b[0mrotation\u001b[0m\u001b[0;34m(\u001b[0m\u001b[0;34m-\u001b[0m\u001b[0;36m46.218\u001b[0m\u001b[0;34m,\u001b[0m \u001b[0;36m0.0\u001b[0m\u001b[0;34m,\u001b[0m \u001b[0;36m0.0\u001b[0m\u001b[0;34m)\u001b[0m\u001b[0;34m\u001b[0m\u001b[0;34m\u001b[0m\u001b[0m\n\u001b[1;32m      5\u001b[0m \u001b[0;34m\u001b[0m\u001b[0m\n\u001b[0;32m----> 6\u001b[0;31m \u001b[0mtris\u001b[0m\u001b[0;34m[\u001b[0m\u001b[0;34m\"visible\"\u001b[0m\u001b[0;34m]\u001b[0m \u001b[0;34m=\u001b[0m \u001b[0;32mFalse\u001b[0m\u001b[0;34m\u001b[0m\u001b[0;34m\u001b[0m\u001b[0m\n\u001b[0m\u001b[1;32m      7\u001b[0m \u001b[0mtrisC\u001b[0m\u001b[0;34m[\u001b[0m\u001b[0;34m\"visible\"\u001b[0m\u001b[0;34m]\u001b[0m \u001b[0;34m=\u001b[0m \u001b[0;32mFalse\u001b[0m\u001b[0;34m\u001b[0m\u001b[0;34m\u001b[0m\u001b[0m\n\u001b[1;32m      8\u001b[0m \u001b[0mtris_s1\u001b[0m\u001b[0;34m[\u001b[0m\u001b[0;34m\"visible\"\u001b[0m\u001b[0;34m]\u001b[0m \u001b[0;34m=\u001b[0m \u001b[0;32mFalse\u001b[0m\u001b[0;34m\u001b[0m\u001b[0;34m\u001b[0m\u001b[0m\n",
      "\u001b[0;31mNameError\u001b[0m: name 'tris' is not defined"
     ]
    }
   ],
   "source": [
    "## Figure: Mesh plus low points \n",
    "\n",
    "lv.translation(0.348, 0.304, -3.403)\n",
    "lv.rotation(-46.218, 0.0, 0.0)\n",
    "\n",
    "tris[\"visible\"] = False\n",
    "trisC[\"visible\"] = False\n",
    "tris_s1[\"visible\"] = False\n",
    "tris_s2[\"visible\"] = False\n",
    "lownodes[\"visible\"] = False\n",
    "lownodes0[\"visible\"] = True\n",
    "\n",
    "lv.redraw()\n",
    "lv.image('NodesAndLows0.png', resolution=(3000,1500))"
   ]
  },
  {
   "cell_type": "code",
   "execution_count": 14,
   "id": "32af11c9",
   "metadata": {},
   "outputs": [
    {
     "ename": "NameError",
     "evalue": "name 'tris' is not defined",
     "output_type": "error",
     "traceback": [
      "\u001b[0;31m---------------------------------------------------------------------------\u001b[0m",
      "\u001b[0;31mNameError\u001b[0m                                 Traceback (most recent call last)",
      "\u001b[0;32m<ipython-input-14-08778dd7c75b>\u001b[0m in \u001b[0;36m<module>\u001b[0;34m\u001b[0m\n\u001b[1;32m      4\u001b[0m \u001b[0mlv\u001b[0m\u001b[0;34m.\u001b[0m\u001b[0mrotation\u001b[0m\u001b[0;34m(\u001b[0m\u001b[0;34m-\u001b[0m\u001b[0;36m46.218\u001b[0m\u001b[0;34m,\u001b[0m \u001b[0;36m0.0\u001b[0m\u001b[0;34m,\u001b[0m \u001b[0;36m0.0\u001b[0m\u001b[0;34m)\u001b[0m\u001b[0;34m\u001b[0m\u001b[0;34m\u001b[0m\u001b[0m\n\u001b[1;32m      5\u001b[0m \u001b[0;34m\u001b[0m\u001b[0m\n\u001b[0;32m----> 6\u001b[0;31m \u001b[0mtris\u001b[0m\u001b[0;34m[\u001b[0m\u001b[0;34m\"visible\"\u001b[0m\u001b[0;34m]\u001b[0m \u001b[0;34m=\u001b[0m \u001b[0;32mTrue\u001b[0m\u001b[0;34m\u001b[0m\u001b[0;34m\u001b[0m\u001b[0m\n\u001b[0m\u001b[1;32m      7\u001b[0m \u001b[0mtrisW\u001b[0m\u001b[0;34m[\u001b[0m\u001b[0;34m\"visible\"\u001b[0m\u001b[0;34m]\u001b[0m \u001b[0;34m=\u001b[0m \u001b[0;32mFalse\u001b[0m\u001b[0;34m\u001b[0m\u001b[0;34m\u001b[0m\u001b[0m\n\u001b[1;32m      8\u001b[0m \u001b[0mtrisC\u001b[0m\u001b[0;34m[\u001b[0m\u001b[0;34m\"visible\"\u001b[0m\u001b[0;34m]\u001b[0m \u001b[0;34m=\u001b[0m \u001b[0;32mFalse\u001b[0m\u001b[0;34m\u001b[0m\u001b[0;34m\u001b[0m\u001b[0m\n",
      "\u001b[0;31mNameError\u001b[0m: name 'tris' is not defined"
     ]
    }
   ],
   "source": [
    "## Figure: Initial flow and lows\n",
    "\n",
    "lv.translation(0.348, 0.304, -3.403)\n",
    "lv.rotation(-46.218, 0.0, 0.0)\n",
    "\n",
    "tris[\"visible\"] = True\n",
    "trisW[\"visible\"] = False\n",
    "trisC[\"visible\"] = False\n",
    "tris_s1[\"visible\"] = False\n",
    "tris_s2[\"visible\"] = False\n",
    "lownodes[\"visible\"] = False\n",
    "lownodes0[\"visible\"] = True\n",
    "tris[\"colourby\"] = \"flow0\"\n",
    "\n",
    "\n",
    "lv.redraw()\n",
    "lv.image('FlowsAndLows0.png', resolution=(3000,1500))"
   ]
  },
  {
   "cell_type": "code",
   "execution_count": 15,
   "id": "58b0dc03",
   "metadata": {},
   "outputs": [
    {
     "ename": "NameError",
     "evalue": "name 'tris' is not defined",
     "output_type": "error",
     "traceback": [
      "\u001b[0;31m---------------------------------------------------------------------------\u001b[0m",
      "\u001b[0;31mNameError\u001b[0m                                 Traceback (most recent call last)",
      "\u001b[0;32m<ipython-input-15-686c7697a0ef>\u001b[0m in \u001b[0;36m<module>\u001b[0;34m\u001b[0m\n\u001b[1;32m      4\u001b[0m \u001b[0mlv\u001b[0m\u001b[0;34m.\u001b[0m\u001b[0mrotation\u001b[0m\u001b[0;34m(\u001b[0m\u001b[0;34m-\u001b[0m\u001b[0;36m46.218\u001b[0m\u001b[0;34m,\u001b[0m \u001b[0;36m0.0\u001b[0m\u001b[0;34m,\u001b[0m \u001b[0;36m0.0\u001b[0m\u001b[0;34m)\u001b[0m\u001b[0;34m\u001b[0m\u001b[0;34m\u001b[0m\u001b[0m\n\u001b[1;32m      5\u001b[0m \u001b[0;34m\u001b[0m\u001b[0m\n\u001b[0;32m----> 6\u001b[0;31m \u001b[0mtris\u001b[0m\u001b[0;34m[\u001b[0m\u001b[0;34m\"visible\"\u001b[0m\u001b[0;34m]\u001b[0m \u001b[0;34m=\u001b[0m \u001b[0;32mTrue\u001b[0m\u001b[0;34m\u001b[0m\u001b[0;34m\u001b[0m\u001b[0m\n\u001b[0m\u001b[1;32m      7\u001b[0m \u001b[0mtrisC\u001b[0m\u001b[0;34m[\u001b[0m\u001b[0;34m\"visible\"\u001b[0m\u001b[0;34m]\u001b[0m \u001b[0;34m=\u001b[0m \u001b[0;32mFalse\u001b[0m\u001b[0;34m\u001b[0m\u001b[0;34m\u001b[0m\u001b[0m\n\u001b[1;32m      8\u001b[0m \u001b[0mtrisW\u001b[0m\u001b[0;34m[\u001b[0m\u001b[0;34m\"visible\"\u001b[0m\u001b[0;34m]\u001b[0m \u001b[0;34m=\u001b[0m \u001b[0;32mFalse\u001b[0m\u001b[0;34m\u001b[0m\u001b[0;34m\u001b[0m\u001b[0m\n",
      "\u001b[0;31mNameError\u001b[0m: name 'tris' is not defined"
     ]
    }
   ],
   "source": [
    "## Figure: One Iteration flow and lows\n",
    "\n",
    "lv.translation(0.348, 0.304, -3.403)\n",
    "lv.rotation(-46.218, 0.0, 0.0)\n",
    "\n",
    "tris[\"visible\"] = True\n",
    "trisC[\"visible\"] = False\n",
    "trisW[\"visible\"] = False\n",
    "tris_s1[\"visible\"] = True\n",
    "tris_s2[\"visible\"] = False\n",
    "lownodes[\"visible\"] = True\n",
    "lownodes0[\"visible\"] = False\n",
    "tris[\"colourby\"] = \"flow1\"\n",
    "\n",
    "lv.redraw()\n",
    "lv.image('FlowsAndLows1.png', resolution=(3000,1500))"
   ]
  },
  {
   "cell_type": "code",
   "execution_count": 16,
   "id": "885be4f0",
   "metadata": {},
   "outputs": [
    {
     "ename": "NameError",
     "evalue": "name 'tris' is not defined",
     "output_type": "error",
     "traceback": [
      "\u001b[0;31m---------------------------------------------------------------------------\u001b[0m",
      "\u001b[0;31mNameError\u001b[0m                                 Traceback (most recent call last)",
      "\u001b[0;32m<ipython-input-16-ae5190fd04d0>\u001b[0m in \u001b[0;36m<module>\u001b[0;34m\u001b[0m\n\u001b[1;32m      4\u001b[0m \u001b[0mlv\u001b[0m\u001b[0;34m.\u001b[0m\u001b[0mrotation\u001b[0m\u001b[0;34m(\u001b[0m\u001b[0;34m-\u001b[0m\u001b[0;36m46.218\u001b[0m\u001b[0;34m,\u001b[0m \u001b[0;36m0.0\u001b[0m\u001b[0;34m,\u001b[0m \u001b[0;36m0.0\u001b[0m\u001b[0;34m)\u001b[0m\u001b[0;34m\u001b[0m\u001b[0;34m\u001b[0m\u001b[0m\n\u001b[1;32m      5\u001b[0m \u001b[0;34m\u001b[0m\u001b[0m\n\u001b[0;32m----> 6\u001b[0;31m \u001b[0mtris\u001b[0m\u001b[0;34m[\u001b[0m\u001b[0;34m\"visible\"\u001b[0m\u001b[0;34m]\u001b[0m \u001b[0;34m=\u001b[0m \u001b[0;32mTrue\u001b[0m\u001b[0;34m\u001b[0m\u001b[0;34m\u001b[0m\u001b[0m\n\u001b[0m\u001b[1;32m      7\u001b[0m \u001b[0mtris_s1\u001b[0m\u001b[0;34m[\u001b[0m\u001b[0;34m\"visible\"\u001b[0m\u001b[0;34m]\u001b[0m \u001b[0;34m=\u001b[0m \u001b[0;32mTrue\u001b[0m\u001b[0;34m\u001b[0m\u001b[0;34m\u001b[0m\u001b[0m\n\u001b[1;32m      8\u001b[0m \u001b[0mtris_s2\u001b[0m\u001b[0;34m[\u001b[0m\u001b[0;34m\"visible\"\u001b[0m\u001b[0;34m]\u001b[0m \u001b[0;34m=\u001b[0m \u001b[0;32mTrue\u001b[0m\u001b[0;34m\u001b[0m\u001b[0;34m\u001b[0m\u001b[0m\n",
      "\u001b[0;31mNameError\u001b[0m: name 'tris' is not defined"
     ]
    }
   ],
   "source": [
    "## Figure: Two iterations flow and lows\n",
    "\n",
    "lv.translation(0.348, 0.304, -3.403)\n",
    "lv.rotation(-46.218, 0.0, 0.0)\n",
    "\n",
    "tris[\"visible\"] = True\n",
    "tris_s1[\"visible\"] = True\n",
    "tris_s2[\"visible\"] = True\n",
    "lownodes[\"visible\"] = False\n",
    "lownodes0[\"visible\"] = False\n",
    "tris[\"colourby\"] = \"flow2\"\n",
    "\n",
    "lv.redraw()\n",
    "lv.image('FlowsAndLows2.png', resolution=(3000,1500))"
   ]
  },
  {
   "cell_type": "code",
   "execution_count": 17,
   "id": "f25f483c",
   "metadata": {},
   "outputs": [
    {
     "name": "stdout",
     "output_type": "stream",
     "text": [
      "/usr/bin/sh: 1: open: not found\r\n"
     ]
    }
   ],
   "source": [
    "! open ."
   ]
  },
  {
   "cell_type": "code",
   "execution_count": 18,
   "id": "3c4e8c85",
   "metadata": {},
   "outputs": [
    {
     "data": {
      "text/plain": [
       "{}"
      ]
     },
     "execution_count": 18,
     "metadata": {},
     "output_type": "execute_result"
    }
   ],
   "source": [
    "lv.camera()"
   ]
  },
  {
   "cell_type": "code",
   "execution_count": 19,
   "id": "685f18ca",
   "metadata": {},
   "outputs": [
    {
     "ename": "NameError",
     "evalue": "name 'tris' is not defined",
     "output_type": "error",
     "traceback": [
      "\u001b[0;31m---------------------------------------------------------------------------\u001b[0m",
      "\u001b[0;31mNameError\u001b[0m                                 Traceback (most recent call last)",
      "\u001b[0;32m<ipython-input-19-536b82f07010>\u001b[0m in \u001b[0;36m<module>\u001b[0;34m\u001b[0m\n\u001b[1;32m      3\u001b[0m \u001b[0mlv\u001b[0m\u001b[0;34m.\u001b[0m\u001b[0mtranslation\u001b[0m\u001b[0;34m(\u001b[0m\u001b[0;36m0.476\u001b[0m\u001b[0;34m,\u001b[0m \u001b[0;36m0.414\u001b[0m\u001b[0;34m,\u001b[0m \u001b[0;34m-\u001b[0m\u001b[0;36m1.211\u001b[0m\u001b[0;34m)\u001b[0m\u001b[0;34m\u001b[0m\u001b[0;34m\u001b[0m\u001b[0m\n\u001b[1;32m      4\u001b[0m \u001b[0mlv\u001b[0m\u001b[0;34m.\u001b[0m\u001b[0mrotation\u001b[0m\u001b[0;34m(\u001b[0m\u001b[0;34m-\u001b[0m\u001b[0;36m2.026\u001b[0m\u001b[0;34m,\u001b[0m \u001b[0;34m-\u001b[0m\u001b[0;36m30.0\u001b[0m\u001b[0;34m,\u001b[0m \u001b[0;34m-\u001b[0m\u001b[0;36m90.587\u001b[0m\u001b[0;34m)\u001b[0m\u001b[0;34m\u001b[0m\u001b[0;34m\u001b[0m\u001b[0m\n\u001b[0;32m----> 5\u001b[0;31m \u001b[0mtris\u001b[0m\u001b[0;34m[\u001b[0m\u001b[0;34m\"visible\"\u001b[0m\u001b[0;34m]\u001b[0m \u001b[0;34m=\u001b[0m \u001b[0;32mFalse\u001b[0m\u001b[0;34m\u001b[0m\u001b[0;34m\u001b[0m\u001b[0m\n\u001b[0m\u001b[1;32m      6\u001b[0m \u001b[0mtrisC\u001b[0m\u001b[0;34m[\u001b[0m\u001b[0;34m\"visible\"\u001b[0m\u001b[0;34m]\u001b[0m \u001b[0;34m=\u001b[0m \u001b[0;32mTrue\u001b[0m\u001b[0;34m\u001b[0m\u001b[0;34m\u001b[0m\u001b[0m\n\u001b[1;32m      7\u001b[0m \u001b[0mtrisW\u001b[0m\u001b[0;34m[\u001b[0m\u001b[0;34m\"visible\"\u001b[0m\u001b[0;34m]\u001b[0m \u001b[0;34m=\u001b[0m \u001b[0;32mTrue\u001b[0m\u001b[0;34m\u001b[0m\u001b[0;34m\u001b[0m\u001b[0m\n",
      "\u001b[0;31mNameError\u001b[0m: name 'tris' is not defined"
     ]
    }
   ],
   "source": [
    "## Close up view of the catchment boundary - perhaps the catchment information for the low nodes here too ... \n",
    "\n",
    "lv.translation(0.476, 0.414, -1.211)\n",
    "lv.rotation(-2.026, -30.0, -90.587)\n",
    "tris[\"visible\"] = False\n",
    "trisC[\"visible\"] = True\n",
    "trisW[\"visible\"] = True\n",
    "tris_s1[\"visible\"] = False\n",
    "tris_s2[\"visible\"] = False\n",
    "nodes[\"visible\"] = True\n",
    "lownodes[\"visible\"] = False\n",
    "lownodes0[\"visible\"] = True\n",
    "lv.redraw()\n",
    "lv.image(\"CatchmentCloseUp.png\", resolution=(3000,1500))"
   ]
  },
  {
   "cell_type": "code",
   "execution_count": null,
   "id": "c9e22dc5",
   "metadata": {},
   "outputs": [],
   "source": []
  },
  {
   "cell_type": "code",
   "execution_count": null,
   "id": "3ea73027",
   "metadata": {},
   "outputs": [],
   "source": []
  }
 ],
 "metadata": {
  "jupytext": {
   "text_representation": {
    "extension": ".md",
    "format_name": "myst",
    "format_version": 0.12,
    "jupytext_version": "1.7.1"
   }
  },
  "kernelspec": {
   "display_name": "Python 3",
   "language": "python",
   "name": "python3"
  },
  "language_info": {
   "codemirror_mode": {
    "name": "ipython",
    "version": 3
   },
   "file_extension": ".py",
   "mimetype": "text/x-python",
   "name": "python",
   "nbconvert_exporter": "python",
   "pygments_lexer": "ipython3",
   "version": "3.7.10"
  },
  "source_map": [
   12,
   29,
   41,
   54,
   64,
   73,
   97,
   102,
   106,
   119,
   123,
   127,
   136,
   145,
   220,
   237,
   257,
   276,
   293,
   297,
   301,
   318,
   322
  ]
 },
 "nbformat": 4,
 "nbformat_minor": 5
}