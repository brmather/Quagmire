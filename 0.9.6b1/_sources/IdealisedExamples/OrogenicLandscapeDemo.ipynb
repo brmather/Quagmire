{
 "cells": [
  {
   "cell_type": "markdown",
   "id": "b48af024",
   "metadata": {},
   "source": [
    "# Orogenic Landscape Modelling"
   ]
  },
  {
   "cell_type": "markdown",
   "id": "2c3ff85a",
   "metadata": {},
   "source": [
    "We investigate the drainage network dynamics and the steady-state drainage patterns that emerge from erosion of an uplifting mountain."
   ]
  },
  {
   "cell_type": "code",
   "execution_count": 1,
   "id": "9d151ae8",
   "metadata": {},
   "outputs": [],
   "source": [
    "import quagmire as qg"
   ]
  },
  {
   "cell_type": "code",
   "execution_count": 2,
   "id": "080a796d",
   "metadata": {},
   "outputs": [],
   "source": [
    "qg.nd = qg.scaling.non_dimensionalise"
   ]
  },
  {
   "cell_type": "code",
   "execution_count": 3,
   "id": "52b503dd",
   "metadata": {},
   "outputs": [],
   "source": [
    "u = qg.scaling._scaling.u"
   ]
  },
  {
   "cell_type": "code",
   "execution_count": 4,
   "id": "3cb4d0f3",
   "metadata": {},
   "outputs": [],
   "source": [
    "scaling_coefficients = qg.scaling._scaling.get_coefficients()"
   ]
  },
  {
   "cell_type": "code",
   "execution_count": 5,
   "id": "6c75196f",
   "metadata": {},
   "outputs": [],
   "source": [
    "scaling_coefficients[\"[length]\"] = 80 * u.km\n",
    "scaling_coefficients[\"[time]\"] = 1000 * u.years"
   ]
  },
  {
   "cell_type": "markdown",
   "id": "1c8a31cf",
   "metadata": {},
   "source": [
    "## Utilities"
   ]
  },
  {
   "cell_type": "code",
   "execution_count": null,
   "id": "4498cad2",
   "metadata": {},
   "outputs": [],
   "source": []
  },
  {
   "cell_type": "markdown",
   "id": "6d278455",
   "metadata": {},
   "source": [
    "# Create Mesh"
   ]
  },
  {
   "cell_type": "code",
   "execution_count": 6,
   "id": "c9242180",
   "metadata": {},
   "outputs": [],
   "source": [
    "from quagmire import QuagMesh\n",
    "from quagmire import tools as meshtools\n",
    "from quagmire import function as fn\n",
    "from quagmire import equation_systems as systems\n",
    "import quagmire\n",
    "import numpy as np\n",
    "import matplotlib.pyplot as plt\n",
    "from time import time\n",
    "\n",
    "%matplotlib inline"
   ]
  },
  {
   "cell_type": "code",
   "execution_count": 7,
   "id": "2870907f",
   "metadata": {},
   "outputs": [
    {
     "name": "stdout",
     "output_type": "stream",
     "text": [
      "Underlying Mesh type: TriMesh\n",
      "0 - Delaunay triangulation 0.036136509000016304s\n",
      "0 - Calculate node weights and area 0.0020448690000876013s\n",
      "0 - Find boundaries 0.0007725259999915579s\n",
      "0 - cKDTree 0.003151006000052803s\n",
      "0 - Construct neighbour cloud arrays 0.09814888500000052s, (0.05963979599994218s + 0.03847088699990309s)\n",
      "0 - Construct rbf weights 0.01734118000001672s\n"
     ]
    }
   ],
   "source": [
    "minX, maxX = 0.0, qg.nd(80. * u.km)\n",
    "minY, maxY = 0.0, qg.nd(40. * u.km)\n",
    "dx, dy = qg.nd(500 * u.m), qg.nd(500 * u.m)\n",
    "\n",
    "x1, y1, simplices = meshtools.square_mesh(minX, maxX, minY, maxY, dx, dy, random_scale=1.0)\n",
    "DM = meshtools.create_DMPlex(x1, y1, simplices, boundary_vertices=None)\n",
    "mesh = QuagMesh(DM, verbose=True, tree=True)"
   ]
  },
  {
   "cell_type": "code",
   "execution_count": 8,
   "id": "ad05c4c5",
   "metadata": {},
   "outputs": [
    {
     "name": "stdout",
     "output_type": "stream",
     "text": [
      "\n",
      "Number of points in the triangulation: 13041\n",
      "Downhill neighbour paths: 2\n"
     ]
    }
   ],
   "source": [
    "print( \"\\nNumber of points in the triangulation: {}\".format(mesh.npoints))\n",
    "print( \"Downhill neighbour paths: {}\".format(mesh.downhill_neighbours))"
   ]
  },
  {
   "cell_type": "code",
   "execution_count": 9,
   "id": "a70e452d",
   "metadata": {},
   "outputs": [
    {
     "ename": "AttributeError",
     "evalue": "module 'quagmire.function.misc' has no attribute 'levelset'",
     "output_type": "error",
     "traceback": [
      "\u001b[0;31m---------------------------------------------------------------------------\u001b[0m",
      "\u001b[0;31mAttributeError\u001b[0m                            Traceback (most recent call last)",
      "\u001b[0;32m<ipython-input-9-a7bda448ab5c>\u001b[0m in \u001b[0;36m<module>\u001b[0;34m\u001b[0m\n\u001b[0;32m----> 1\u001b[0;31m \u001b[0mboundary_mask_fn\u001b[0m \u001b[0;34m=\u001b[0m \u001b[0mfn\u001b[0m\u001b[0;34m.\u001b[0m\u001b[0mmisc\u001b[0m\u001b[0;34m.\u001b[0m\u001b[0mlevelset\u001b[0m\u001b[0;34m(\u001b[0m\u001b[0mmesh\u001b[0m\u001b[0;34m.\u001b[0m\u001b[0mmask\u001b[0m\u001b[0;34m)\u001b[0m\u001b[0;34m\u001b[0m\u001b[0;34m\u001b[0m\u001b[0m\n\u001b[0m",
      "\u001b[0;31mAttributeError\u001b[0m: module 'quagmire.function.misc' has no attribute 'levelset'"
     ]
    }
   ],
   "source": [
    "boundary_mask_fn = fn.misc.levelset(mesh.mask)"
   ]
  },
  {
   "cell_type": "markdown",
   "id": "3846d1c1",
   "metadata": {},
   "source": [
    "### Initial topography"
   ]
  },
  {
   "cell_type": "code",
   "execution_count": 10,
   "id": "cfa4f503",
   "metadata": {},
   "outputs": [
    {
     "name": "stdout",
     "output_type": "stream",
     "text": [
      "0 - Build downhill matrices 0.024329914999952962s\n",
      "0 - Build upstream areas 0.0018982629999300116s\n"
     ]
    }
   ],
   "source": [
    "with mesh.deform_topography():\n",
    "    mesh.topography.data = 0."
   ]
  },
  {
   "cell_type": "code",
   "execution_count": 11,
   "id": "cdf4d0be",
   "metadata": {},
   "outputs": [
    {
     "name": "stdout",
     "output_type": "stream",
     "text": [
      "0 - Build downhill matrices 0.02018797599998834s\n",
      "0 - Build upstream areas 0.0015783530000135215s\n"
     ]
    }
   ],
   "source": [
    "with mesh.deform_topography():\n",
    "    new_elevation = qg.nd(100.*u.meter) * mesh.mask\n",
    "    mesh.topography.data = new_elevation.evaluate(mesh)"
   ]
  },
  {
   "cell_type": "markdown",
   "id": "85b24ff3",
   "metadata": {},
   "source": [
    "### Rainfall Function"
   ]
  },
  {
   "cell_type": "code",
   "execution_count": 12,
   "id": "6da25e21",
   "metadata": {},
   "outputs": [],
   "source": [
    "rainfall_fn = mesh.add_variable(name=\"rainfall\")\n",
    "rainfall_fn.data = qg.nd(1.*u.m / u.year)"
   ]
  },
  {
   "cell_type": "markdown",
   "id": "87c58fae",
   "metadata": {},
   "source": [
    "### Uplift function"
   ]
  },
  {
   "cell_type": "code",
   "execution_count": 13,
   "id": "a26dddc7",
   "metadata": {},
   "outputs": [],
   "source": [
    "uplift_rate_fn = mesh.add_variable(name=\"uplift\")\n",
    "uplift_rate_fn = qg.nd(1.0 * u.mm / u.year) * mesh.mask"
   ]
  },
  {
   "cell_type": "markdown",
   "id": "643bc26b",
   "metadata": {},
   "source": [
    "### Stream Power Law"
   ]
  },
  {
   "cell_type": "code",
   "execution_count": 14,
   "id": "ce34f63c",
   "metadata": {},
   "outputs": [
    {
     "ename": "NameError",
     "evalue": "name 'boundary_mask_fn' is not defined",
     "output_type": "error",
     "traceback": [
      "\u001b[0;31m---------------------------------------------------------------------------\u001b[0m",
      "\u001b[0;31mNameError\u001b[0m                                 Traceback (most recent call last)",
      "\u001b[0;32m<ipython-input-14-e998d81d3e49>\u001b[0m in \u001b[0;36m<module>\u001b[0;34m\u001b[0m\n\u001b[1;32m      6\u001b[0m \u001b[0;31m# create stream power function\u001b[0m\u001b[0;34m\u001b[0m\u001b[0;34m\u001b[0m\u001b[0;34m\u001b[0m\u001b[0m\n\u001b[1;32m      7\u001b[0m \u001b[0mupstream_precipitation_integral_fn\u001b[0m \u001b[0;34m=\u001b[0m \u001b[0mmesh\u001b[0m\u001b[0;34m.\u001b[0m\u001b[0mupstream_integral_fn\u001b[0m\u001b[0;34m(\u001b[0m\u001b[0mrainfall_fn\u001b[0m\u001b[0;34m)\u001b[0m\u001b[0;34m\u001b[0m\u001b[0;34m\u001b[0m\u001b[0m\n\u001b[0;32m----> 8\u001b[0;31m \u001b[0mstream_power_fn\u001b[0m \u001b[0;34m=\u001b[0m \u001b[0mK\u001b[0m\u001b[0;34m*\u001b[0m\u001b[0mupstream_precipitation_integral_fn\u001b[0m\u001b[0;34m**\u001b[0m\u001b[0mm\u001b[0m \u001b[0;34m*\u001b[0m \u001b[0mmesh\u001b[0m\u001b[0;34m.\u001b[0m\u001b[0mslope\u001b[0m\u001b[0;34m**\u001b[0m\u001b[0mn\u001b[0m \u001b[0;34m*\u001b[0m \u001b[0mboundary_mask_fn\u001b[0m\u001b[0;34m\u001b[0m\u001b[0;34m\u001b[0m\u001b[0m\n\u001b[0m\u001b[1;32m      9\u001b[0m \u001b[0;34m\u001b[0m\u001b[0m\n\u001b[1;32m     10\u001b[0m \u001b[0;31m# evaluate on the mesh\u001b[0m\u001b[0;34m\u001b[0m\u001b[0;34m\u001b[0m\u001b[0;34m\u001b[0m\u001b[0m\n",
      "\u001b[0;31mNameError\u001b[0m: name 'boundary_mask_fn' is not defined"
     ]
    }
   ],
   "source": [
    "# vary these and visualise difference\n",
    "m = fn.parameter(0.5)\n",
    "n = fn.parameter(1.0)\n",
    "K = fn.parameter(qg.nd(5.0e-6 / u.year))\n",
    "\n",
    "# create stream power function\n",
    "upstream_precipitation_integral_fn = mesh.upstream_integral_fn(rainfall_fn)\n",
    "stream_power_fn = K*upstream_precipitation_integral_fn**m * mesh.slope**n * boundary_mask_fn\n",
    "\n",
    "# evaluate on the mesh\n",
    "sp = stream_power_fn.evaluate(mesh)"
   ]
  },
  {
   "cell_type": "markdown",
   "id": "8da09022",
   "metadata": {},
   "source": [
    "### Diffusion and Transport Solvers"
   ]
  },
  {
   "cell_type": "code",
   "execution_count": 15,
   "id": "fad7c870",
   "metadata": {},
   "outputs": [
    {
     "ename": "AttributeError",
     "evalue": "module 'quagmire.function.misc' has no attribute 'levelset'",
     "output_type": "error",
     "traceback": [
      "\u001b[0;31m---------------------------------------------------------------------------\u001b[0m",
      "\u001b[0;31mAttributeError\u001b[0m                            Traceback (most recent call last)",
      "\u001b[0;32m<ipython-input-15-0a3f3abdfd55>\u001b[0m in \u001b[0;36m<module>\u001b[0;34m\u001b[0m\n\u001b[1;32m      3\u001b[0m \u001b[0;31m## Set up diffusion solver\u001b[0m\u001b[0;34m\u001b[0m\u001b[0;34m\u001b[0m\u001b[0;34m\u001b[0m\u001b[0m\n\u001b[1;32m      4\u001b[0m \u001b[0mdiffusion_solver\u001b[0m \u001b[0;34m=\u001b[0m \u001b[0msystems\u001b[0m\u001b[0;34m.\u001b[0m\u001b[0mDiffusionEquation\u001b[0m\u001b[0;34m(\u001b[0m\u001b[0mmesh\u001b[0m\u001b[0;34m=\u001b[0m\u001b[0mmesh\u001b[0m\u001b[0;34m)\u001b[0m\u001b[0;34m\u001b[0m\u001b[0;34m\u001b[0m\u001b[0m\n\u001b[0;32m----> 5\u001b[0;31m \u001b[0mdiffusion_solver\u001b[0m\u001b[0;34m.\u001b[0m\u001b[0mneumann_x_mask\u001b[0m \u001b[0;34m=\u001b[0m \u001b[0mfn\u001b[0m\u001b[0;34m.\u001b[0m\u001b[0mmisc\u001b[0m\u001b[0;34m.\u001b[0m\u001b[0mlevelset\u001b[0m\u001b[0;34m(\u001b[0m\u001b[0mmesh\u001b[0m\u001b[0;34m.\u001b[0m\u001b[0mmask\u001b[0m\u001b[0;34m,\u001b[0m \u001b[0minvert\u001b[0m\u001b[0;34m=\u001b[0m\u001b[0;32mTrue\u001b[0m\u001b[0;34m)\u001b[0m\u001b[0;34m\u001b[0m\u001b[0;34m\u001b[0m\u001b[0m\n\u001b[0m\u001b[1;32m      6\u001b[0m \u001b[0mdiffusion_solver\u001b[0m\u001b[0;34m.\u001b[0m\u001b[0mneumann_y_mask\u001b[0m \u001b[0;34m=\u001b[0m \u001b[0mfn\u001b[0m\u001b[0;34m.\u001b[0m\u001b[0mmisc\u001b[0m\u001b[0;34m.\u001b[0m\u001b[0mlevelset\u001b[0m\u001b[0;34m(\u001b[0m\u001b[0mmesh\u001b[0m\u001b[0;34m.\u001b[0m\u001b[0mmask\u001b[0m\u001b[0;34m,\u001b[0m \u001b[0minvert\u001b[0m\u001b[0;34m=\u001b[0m\u001b[0;32mTrue\u001b[0m\u001b[0;34m)\u001b[0m\u001b[0;34m\u001b[0m\u001b[0;34m\u001b[0m\u001b[0m\n\u001b[1;32m      7\u001b[0m \u001b[0mdiffusion_solver\u001b[0m\u001b[0;34m.\u001b[0m\u001b[0mdirichlet_mask\u001b[0m \u001b[0;34m=\u001b[0m \u001b[0mfn\u001b[0m\u001b[0;34m.\u001b[0m\u001b[0mparameter\u001b[0m\u001b[0;34m(\u001b[0m\u001b[0;36m0.0\u001b[0m\u001b[0;34m)\u001b[0m\u001b[0;34m\u001b[0m\u001b[0;34m\u001b[0m\u001b[0m\n",
      "\u001b[0;31mAttributeError\u001b[0m: module 'quagmire.function.misc' has no attribute 'levelset'"
     ]
    }
   ],
   "source": [
    "import quagmire.equation_systems as systems\n",
    "\n",
    "## Set up diffusion solver\n",
    "diffusion_solver = systems.DiffusionEquation(mesh=mesh)\n",
    "diffusion_solver.neumann_x_mask = fn.misc.levelset(mesh.mask, invert=True)\n",
    "diffusion_solver.neumann_y_mask = fn.misc.levelset(mesh.mask, invert=True)\n",
    "diffusion_solver.dirichlet_mask = fn.parameter(0.0)\n",
    "diffusion_solver.diffusivity = fn.parameter(qg.nd(0.8 * u.m**2 / u.year))\n",
    "diffusion_solver.verify() # Does nothing but is supposed to check we have everything necessary\n",
    "\n",
    "# not needed to run\n",
    "hillslope = diffusion_solver.phi\n",
    "hillslope.data = mesh.topography.data\n",
    "\n",
    "## Set up transport solver\n",
    "transport_solver = systems.ErosionDepositionEquation(mesh=mesh, m=0.5, n=1.0)\n",
    "transport_solver.rainfall = rainfall_fn\n",
    "transport_solver.verify()"
   ]
  },
  {
   "cell_type": "markdown",
   "id": "bc40d32b",
   "metadata": {},
   "source": [
    "## Timestepping"
   ]
  },
  {
   "cell_type": "code",
   "execution_count": 16,
   "id": "fab33718",
   "metadata": {},
   "outputs": [
    {
     "ename": "AttributeError",
     "evalue": "'NoneType' object has no attribute 'evaluate'",
     "output_type": "error",
     "traceback": [
      "\u001b[0;31m---------------------------------------------------------------------------\u001b[0m",
      "\u001b[0;31mAttributeError\u001b[0m                            Traceback (most recent call last)",
      "\u001b[0;32m<ipython-input-16-15c3c56de945>\u001b[0m in \u001b[0;36m<module>\u001b[0;34m\u001b[0m\n\u001b[1;32m     16\u001b[0m \u001b[0;34m\u001b[0m\u001b[0m\n\u001b[1;32m     17\u001b[0m     \u001b[0;31m# get timestep size\u001b[0m\u001b[0;34m\u001b[0m\u001b[0;34m\u001b[0m\u001b[0;34m\u001b[0m\u001b[0m\n\u001b[0;32m---> 18\u001b[0;31m     \u001b[0mdt\u001b[0m \u001b[0;34m=\u001b[0m \u001b[0mmin\u001b[0m\u001b[0;34m(\u001b[0m\u001b[0mdiffusion_solver\u001b[0m\u001b[0;34m.\u001b[0m\u001b[0mdiffusion_timestep\u001b[0m\u001b[0;34m(\u001b[0m\u001b[0;34m)\u001b[0m\u001b[0;34m,\u001b[0m \u001b[0mtransport_solver\u001b[0m\u001b[0;34m.\u001b[0m\u001b[0merosion_deposition_timestep\u001b[0m\u001b[0;34m(\u001b[0m\u001b[0;34m)\u001b[0m\u001b[0;34m)\u001b[0m\u001b[0;34m\u001b[0m\u001b[0;34m\u001b[0m\u001b[0m\n\u001b[0m\u001b[1;32m     19\u001b[0m \u001b[0;34m\u001b[0m\u001b[0m\n\u001b[1;32m     20\u001b[0m     \u001b[0;31m# build diffusion, erosion + deposition\u001b[0m\u001b[0;34m\u001b[0m\u001b[0;34m\u001b[0m\u001b[0;34m\u001b[0m\u001b[0m\n",
      "\u001b[0;32m~/work/quagmire/quagmire/quagmire/equation_systems/diffusion.py\u001b[0m in \u001b[0;36mdiffusion_timestep\u001b[0;34m(self)\u001b[0m\n\u001b[1;32m    179\u001b[0m     \u001b[0;32mdef\u001b[0m \u001b[0mdiffusion_timestep\u001b[0m\u001b[0;34m(\u001b[0m\u001b[0mself\u001b[0m\u001b[0;34m)\u001b[0m\u001b[0;34m:\u001b[0m\u001b[0;34m\u001b[0m\u001b[0;34m\u001b[0m\u001b[0m\n\u001b[1;32m    180\u001b[0m \u001b[0;34m\u001b[0m\u001b[0m\n\u001b[0;32m--> 181\u001b[0;31m         \u001b[0mlocal_diff_timestep\u001b[0m \u001b[0;34m=\u001b[0m \u001b[0;34m(\u001b[0m\u001b[0mself\u001b[0m\u001b[0;34m.\u001b[0m\u001b[0m_mesh\u001b[0m\u001b[0;34m.\u001b[0m\u001b[0marea\u001b[0m \u001b[0;34m/\u001b[0m \u001b[0mself\u001b[0m\u001b[0;34m.\u001b[0m\u001b[0m_diffusivity\u001b[0m\u001b[0;34m.\u001b[0m\u001b[0mevaluate\u001b[0m\u001b[0;34m(\u001b[0m\u001b[0mself\u001b[0m\u001b[0;34m.\u001b[0m\u001b[0m_mesh\u001b[0m\u001b[0;34m)\u001b[0m\u001b[0;34m)\u001b[0m\u001b[0;34m.\u001b[0m\u001b[0mmin\u001b[0m\u001b[0;34m(\u001b[0m\u001b[0;34m)\u001b[0m\u001b[0;34m\u001b[0m\u001b[0;34m\u001b[0m\u001b[0m\n\u001b[0m\u001b[1;32m    182\u001b[0m \u001b[0;34m\u001b[0m\u001b[0m\n\u001b[1;32m    183\u001b[0m         \u001b[0;31m# synchronise ...\u001b[0m\u001b[0;34m\u001b[0m\u001b[0;34m\u001b[0m\u001b[0;34m\u001b[0m\u001b[0m\n",
      "\u001b[0;31mAttributeError\u001b[0m: 'NoneType' object has no attribute 'evaluate'"
     ]
    }
   ],
   "source": [
    "mesh.verbose = False\n",
    "save_fields = True\n",
    "\n",
    "efficiency = fn.parameter(qg.nd(5.0e-6 / u.year))\n",
    "\n",
    "h5_filename = \"fields_{:06d}.h5\"\n",
    "stats = \"Step {:04d} | dt {:.5f} | time {:.4f} | min/mean/max height {:.3f}/{:.3f}/{:.3f} | step walltime {:.3f}\"\n",
    "sim_time = 0.0\n",
    "steps = 20\n",
    "\n",
    "for i in range(steps):\n",
    "    \n",
    "    t = time()\n",
    "    \n",
    "    topography0 = mesh.topography.copy()\n",
    "    \n",
    "    # get timestep size   \n",
    "    dt = min(diffusion_solver.diffusion_timestep(), transport_solver.erosion_deposition_timestep())\n",
    "    \n",
    "    # build diffusion, erosion + deposition\n",
    "    diffusion_rate = diffusion_solver.diffusion_rate_fn(mesh.topography).evaluate(mesh)\n",
    "    erosion_rate, deposition_rate = transport_solver.erosion_deposition_local_equilibrium(efficiency)\n",
    "    uplift_rate = uplift_rate_fn.evaluate(mesh)\n",
    "    dhdt = diffusion_rate - erosion_rate + uplift_rate #+ deposition_rate\n",
    "    \n",
    "    # do not rebuilt downhill matrix at half timestep\n",
    "    mesh.topography.unlock()\n",
    "    mesh.topography.data = mesh.topography.data + 0.5*dt*dhdt\n",
    "    mesh.topography.lock()\n",
    "    \n",
    "    # get timestep size\n",
    "    dt = min(diffusion_solver.diffusion_timestep(), transport_solver.erosion_deposition_timestep())\n",
    "    \n",
    "    # build diffusion, erosion + deposition\n",
    "    diffusion_rate = diffusion_solver.diffusion_rate_fn(mesh.topography).evaluate(mesh)\n",
    "    erosion_rate, deposition_rate = transport_solver.erosion_deposition_local_equilibrium(efficiency)\n",
    "    uplift_rate = uplift_rate_fn.evaluate(mesh)\n",
    "    dhdt = diffusion_rate - erosion_rate + uplift_rate#+ deposition_rate\n",
    "    \n",
    "    # now take full timestep\n",
    "    with mesh.deform_topography():\n",
    "        mesh.topography.data = topography0.data + dt*dhdt\n",
    "        \n",
    "    if save_fields:\n",
    "        mesh.save_mesh_to_hdf5(h5_filename.format(i))\n",
    "        mesh.save_field_to_hdf5(h5_filename.format(i), topo=mesh.topography.data)\n",
    "        quagmire.tools.generate_xdmf(h5_filename.format(i))\n",
    "        \n",
    "    sim_time += dt\n",
    "    \n",
    "    if i/steps*100 in list(range(0,100,10)):\n",
    "        topo_scaled = qg.scaling.dimensionalise(mesh.topography.data, u.meter)\n",
    "        simulation_time = qg.scaling.dimensionalise(sim_time, u.year)\n",
    "        print(stats.format(i, dt, simulation_time, topo_scaled.min(), topo_scaled.mean(),\n",
    "                           topo_scaled.max(), time() - t))"
   ]
  }
 ],
 "metadata": {
  "jupytext": {
   "text_representation": {
    "extension": ".md",
    "format_name": "myst",
    "format_version": 0.12,
    "jupytext_version": "1.7.1"
   }
  },
  "kernelspec": {
   "display_name": "Python 3",
   "language": "python",
   "name": "python3"
  },
  "language_info": {
   "codemirror_mode": {
    "name": "ipython",
    "version": 3
   },
   "file_extension": ".py",
   "mimetype": "text/x-python",
   "name": "python",
   "nbconvert_exporter": "python",
   "pygments_lexer": "ipython3",
   "version": "3.7.10"
  },
  "source_map": [
   12,
   16,
   20,
   24,
   28,
   32,
   36,
   39,
   43,
   45,
   49,
   62,
   72,
   77,
   79,
   83,
   88,
   92,
   96,
   99,
   103,
   106,
   110,
   122,
   126,
   145,
   149
  ]
 },
 "nbformat": 4,
 "nbformat_minor": 5
}