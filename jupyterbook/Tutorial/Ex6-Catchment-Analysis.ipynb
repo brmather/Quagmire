{
 "cells": [
  {
   "cell_type": "markdown",
   "id": "e79c570c",
   "metadata": {},
   "source": [
    "# 6. Catchment analysis.\n",
    "\n",
    "We start with \"Swamp Mountain\" from the previous notebooks. This is slightly modified so that there are no lakes / pits right at the boundary.\n",
    "\n",
    "The catchments are identified by first finding all the outflow points of the mesh (local minima that correspond to the boundary mask) and then using the transpose of the downhill-propagation matrix $D^T$ to run information (the unique ID of each outflow points) up to the top of the catchment. \n",
    "\n",
    "The stopping condition is that no further change occurs. \n",
    "\n",
    "*Note* in the context of multiple pathways, this operation produces a fuzzy catchment. The first thing we do in this notebook is to specify `downhill_neighbours=1`\n",
    "\n",
    "\n",
    "## Notebook contents\n",
    "\n",
    "- [1-2-3 downhill neighbours](#1-2-3-downhill-neighbours)\n",
    "- [Upstream propogation](#Set-neighbours-to-1-and-compute-\"uphill\"-connectivity)\n",
    "- [Dense downhill matrices](#Dense-downhill-matrices)"
   ]
  },
  {
   "cell_type": "code",
   "execution_count": 6,
   "id": "40466b12",
   "metadata": {},
   "outputs": [],
   "source": [
    "import matplotlib.pyplot as plt\n",
    "import numpy as np\n",
    "from quagmire import tools as meshtools\n",
    "%matplotlib inline"
   ]
  },
  {
   "cell_type": "markdown",
   "id": "34208dc9",
   "metadata": {},
   "source": [
    "## Construct the swamp-mountain mesh\n",
    "\n",
    "This time we take care to avoid lakes etc on the boundaries as this makes the catchment analysis more complicated. Visualise the mesh to make sure that this works."
   ]
  },
  {
   "cell_type": "code",
   "execution_count": 7,
   "id": "53912195",
   "metadata": {},
   "outputs": [
    {
     "name": "stdout",
     "output_type": "stream",
     "text": [
      "Underlying Mesh type: TriMesh\n",
      "0 - Delaunay triangulation 0.3174192500000004s\n",
      "0 - Calculate node weights and area 0.02463904100000036s\n",
      "0 - Find boundaries 0.018807584000001043s\n",
      "0 - cKDTree 0.022422916000039095s\n",
      "0 - Construct neighbour cloud arrays 0.6958790830000225s, (0.4476076249999892s + 0.24823249999997188s)\n",
      "0 - Construct rbf weights 0.07766774999998916s\n",
      "\n",
      "Number of points in the triangulation: 156925\n"
     ]
    }
   ],
   "source": [
    "from quagmire import QuagMesh \n",
    "from quagmire import QuagMesh # all routines we need are within this class\n",
    "from quagmire import QuagMesh\n",
    "\n",
    "minX, maxX = -5.0, 5.0\n",
    "minY, maxY = -5.0, 5.0,\n",
    "\n",
    "spacingX = 0.05\n",
    "spacingY = 0.05\n",
    "\n",
    "x, y, simplices = meshtools.elliptical_mesh(minX, maxX, minY, maxY, spacingX, spacingY, 1.)\n",
    "\n",
    "DM = meshtools.create_DMPlex(x, y, simplices)\n",
    "DM = meshtools.refine_DM(DM, refinement_levels=2)\n",
    "\n",
    "mesh = QuagMesh(DM, downhill_neighbours=1)\n",
    "\n",
    "# Note ... this is what refinement does \n",
    "x = mesh.coords[:,0]\n",
    "y = mesh.coords[:,1]\n",
    "\n",
    "print( \"\\nNumber of points in the triangulation: {}\".format(mesh.npoints))"
   ]
  },
  {
   "cell_type": "code",
   "execution_count": 8,
   "id": "7ebfa3e4",
   "metadata": {
    "hide_input": false
   },
   "outputs": [
    {
     "name": "stdout",
     "output_type": "stream",
     "text": [
      "0 - Build downhill matrices 3.9534281659999806s\n",
      "0 - Build upstream areas 1.520386708999979s\n"
     ]
    }
   ],
   "source": [
    "radius  = np.sqrt((x**2 + y**2))\n",
    "theta   = np.arctan2(y,x)+0.1\n",
    "\n",
    "height  = np.exp(-0.025*(x**2 + y**2)**2) + 0.25 * (0.2*radius)**4  * np.cos(5.0*theta)**2 ## Less so\n",
    "height  += 0.5 * (1.0-0.2*radius)\n",
    "height  -= height.min()\n",
    "\n",
    "## Add smoothed random noise to make some \"lakes\" \n",
    "\n",
    "mesh._construct_rbf_weights(delta=mesh.delta*3.0)\n",
    "\n",
    "randpts1 = np.where(np.random.random(height.shape)>0.995, -1.0, 0.0)\n",
    "hrand1   = 20.0 * mesh.rbf_smoother(randpts1, iterations=10)\n",
    "heightn = height + hrand1 * np.exp(-radius**2/15.0) \n",
    "\n",
    "\n",
    "with mesh.deform_topography():\n",
    "    mesh.downhill_neighbours = 2\n",
    "    mesh.topography.data = heightn\n",
    "\n",
    "\n",
    "# let's use a rainfall proportional to height (any choice is ok)\n",
    "\n",
    "rainfall_fn  = mesh.topography ** 2.0\n",
    "flowrate_fn  = mesh.upstream_integral_fn(rainfall_fn)\n",
    "str_power_fn = mesh.upstream_integral_fn(rainfall_fn)**2.0 * mesh.slope ** 2.0"
   ]
  },
  {
   "cell_type": "markdown",
   "id": "5faa95d7",
   "metadata": {},
   "source": [
    "## Process the surface to fill swamps and lakes"
   ]
  },
  {
   "cell_type": "code",
   "execution_count": 11,
   "id": "f55b3875",
   "metadata": {},
   "outputs": [
    {
     "name": "stdout",
     "output_type": "stream",
     "text": [
      "Underlying Mesh type: TriMesh\n",
      "0 - Delaunay triangulation 0.2958527910000157s\n",
      "0 - Calculate node weights and area 0.025907167000013942s\n",
      "0 - Find boundaries 0.018733249999968393s\n",
      "0 - cKDTree 0.020705749999933687s\n",
      "0 - Construct neighbour cloud arrays 0.6505634170000576s, (0.42587704200002463s + 0.22465216600005533s)\n",
      "0 - Construct rbf weights 0.05773158399995282s\n",
      "0 - Build downhill matrices 2.4506870000000163s\n",
      "0 - Build upstream areas 1.5300563330000614s\n",
      "Low point local patch fill\n",
      "0 - Build downhill matrices 2.43383074999997s\n",
      "0 - Build downhill matrices 2.4526279579999937s\n",
      "0 - Build downhill matrices 2.4396555829999897s\n",
      "Low point local patch fill  10.608140625000033  seconds\n",
      "0 - Build upstream areas 1.5366657079999868s\n",
      "137  iterations, time =  1.2963485420000325\n",
      "Build low point catchments -  1.2967541669999036  seconds\n",
      "0  Sort spills -  0.0075850000000627915\n",
      "0  Gather spill data -  6.412499999441934e-05\n",
      "0  Sort all spills -  5.966699995951785e-05\n",
      "0 - Build downhill matrices 2.4458806249999725s\n",
      "Low point swamp fill  3.838560457999961  seconds\n",
      "0 - Build upstream areas 1.7615719579999904s\n",
      "0 : 72\n",
      "169  iterations, time =  1.3446816670000317\n",
      "Build low point catchments -  1.3451523749999978  seconds\n",
      "0  Sort spills -  0.004237167000042064\n",
      "0  Gather spill data -  6.758300003184559e-05\n",
      "0  Sort all spills -  4.949999993186793e-05\n",
      "0 - Build downhill matrices 2.4374321249999866s\n",
      "Low point swamp fill  3.833339459000058  seconds\n",
      "0 - Build upstream areas 1.972699499999976s\n",
      "1 : 16\n",
      "282  iterations, time =  1.536034083000004\n",
      "Build low point catchments -  1.5364633750000394  seconds\n",
      "0  Sort spills -  0.001867416999971283\n",
      "0  Gather spill data -  6.645799999205337e-05\n",
      "0  Sort all spills -  0.00011812500008545612\n",
      "0 - Build downhill matrices 2.451272208999967s\n",
      "Low point swamp fill  4.021867333000046  seconds\n",
      "0 - Build upstream areas 2.0030419999999367s\n",
      "2 : 7\n",
      "282  iterations, time =  1.6317061669999475\n",
      "Build low point catchments -  1.6321679579999682  seconds\n",
      "0  Sort spills -  0.001334499999984473\n",
      "0  Gather spill data -  6.400000006578921e-05\n",
      "0  Sort all spills -  2.237499995771941e-05\n",
      "0 - Build downhill matrices 2.4534335420000843s\n",
      "Low point swamp fill  4.112114665999911  seconds\n",
      "0 - Build upstream areas 1.980670000000032s\n",
      "3 : 0\n"
     ]
    }
   ],
   "source": [
    "## Quagmire also has a swamp filling algorithm\n",
    "\n",
    "mesh1s = QuagMesh(DM)\n",
    "with mesh1s.deform_topography():\n",
    "    mesh1s.topography.data = mesh.topography.data\n",
    "    \n",
    "    \n",
    "mesh1s.low_points_local_patch_fill(its=3, smoothing_steps=2, fraction=0.5)\n",
    "\n",
    "for i in range(0,5):\n",
    "    mesh1s.low_points_swamp_fill(ref_height=-0.01)\n",
    "    \n",
    "    # In parallel, we can't break if ANY processor has work to do (barrier / sync issue)\n",
    "    low_points2 = mesh1s.identify_global_low_points()\n",
    "    \n",
    "    print(\"{} : {}\".format(i,low_points2[0]))\n",
    "    if low_points2[0] == 0:\n",
    "        break\n",
    "        \n"
   ]
  },
  {
   "cell_type": "code",
   "execution_count": 12,
   "id": "8103baef",
   "metadata": {},
   "outputs": [],
   "source": [
    "rainfall_fn_1s  = mesh1s.topography ** 2.0\n",
    "flowrate_fn_1s  = mesh1s.upstream_integral_fn(rainfall_fn_1s)\n",
    "str_power_fn_1s = mesh1s.upstream_integral_fn(rainfall_fn_1s)**2.0 * mesh1s.slope ** 2.0"
   ]
  },
  {
   "cell_type": "markdown",
   "id": "5abb83ba",
   "metadata": {},
   "source": [
    "## Locating and viewing the outflow points\n",
    "\n",
    "`quagmire` provides a mechanism to find the outflow points of a domain and return the node values. *Note:* in parallel these are the local node numbers and are not a unique ID. To do this, we can obtain the global ID from PETSc but it does also help to have the indices all be small numbers so we can map colours effectively."
   ]
  },
  {
   "cell_type": "code",
   "execution_count": 13,
   "id": "7b3d440d",
   "metadata": {},
   "outputs": [
    {
     "name": "stdout",
     "output_type": "stream",
     "text": [
      "Mesh has 21 outflows\n"
     ]
    }
   ],
   "source": [
    "outflows = mesh1s.identify_outflow_points()\n",
    "print(\"Mesh has {} outflows\".format(outflows.shape[0]))"
   ]
  },
  {
   "cell_type": "code",
   "execution_count": 14,
   "id": "3bde528d",
   "metadata": {},
   "outputs": [
    {
     "name": "stdout",
     "output_type": "stream",
     "text": [
      "True\n"
     ]
    }
   ],
   "source": [
    "import quagmire\n",
    "print(quagmire.mesh.check_object_is_a_q_mesh_and_raise(mesh1s))"
   ]
  },
  {
   "cell_type": "code",
   "execution_count": 18,
   "id": "6a560d5c",
   "metadata": {},
   "outputs": [
    {
     "data": {
      "application/vnd.jupyter.widget-view+json": {
       "model_id": "ee909270a57a495baa9ea99767588186",
       "version_major": 2,
       "version_minor": 0
      },
      "text/plain": [
       "Output()"
      ]
     },
     "metadata": {},
     "output_type": "display_data"
    }
   ],
   "source": [
    "import k3d\n",
    "\n",
    "\n",
    "low_points = mesh.identify_low_points()\n",
    "lowsxyz = np.column_stack([mesh.tri.points[low_points], mesh.topography.data[low_points]])\n",
    "\n",
    "xyz  = np.column_stack([mesh1s.tri.points, mesh1s.topography.data])\n",
    "xyz2 = np.column_stack([mesh.tri.points, mesh.topography.data])\n",
    "\n",
    "indices = mesh.tri.simplices.astype(np.uint32)\n",
    "\n",
    "plot = k3d.plot(camera_auto_fit=False, grid_visible=False, lighting=0.75)\n",
    "\n",
    "surface = k3d.mesh(xyz2, indices, wireframe=False, flat_shading=True, side=\"double\",\n",
    "                    color_map = k3d.colormaps.matplotlib_color_maps.Blues,\n",
    "                    attribute=flowrate_fn_1s.evaluate(mesh),\n",
    "                    color_range = [0.0,1.0]\n",
    "                   )\n",
    "\n",
    "lakes_surface = k3d.mesh(xyz-(0.0,0.0,0.005), indices, wireframe=False, flat_shading=True, side=\"double\",\n",
    "                    color=0x0010C0, opacity=0.5\n",
    "                   )\n",
    "\n",
    "lows    = k3d.points(lowsxyz, point_size=0.05, color=0xFF0000)\n",
    "\n",
    "\n",
    "plot += surface + lows + lakes_surface\n",
    "\n",
    "plot.display()\n",
    "\n"
   ]
  },
  {
   "cell_type": "code",
   "execution_count": null,
   "id": "fa0e7ec3",
   "metadata": {},
   "outputs": [],
   "source": [
    "## Stream power / slope where the lakes / swamps are located:"
   ]
  },
  {
   "cell_type": "markdown",
   "id": "66110b61",
   "metadata": {},
   "source": [
    "## Set neighbours to 1 and compute \"uphill\" connectivity\n",
    "\n",
    "In serial, i.e. for this demonstration, we number the outflow points by their order in the local mesh numbering. We can then use the `mesh.uphill_propagation` routine to propagate this information from the outflow to the top of the catchment. \n",
    "\n",
    "This routine returns the mesh data (for this processor) of a globally synchronised map of the information propagated from the selected points. \n",
    "\n",
    "The routine is used in the computation of flood fills for the swamp algorithm and should be polished up a bit (sorry)."
   ]
  },
  {
   "cell_type": "code",
   "execution_count": 19,
   "id": "38c8238a",
   "metadata": {},
   "outputs": [],
   "source": [
    "## Unique catchments requires the downhill matrix with downhill_neighbours=1\n",
    "\n",
    "mesh1s.near_neighbours=1\n",
    "# mesh1s.update_height(mesh1s.heightVariable.data)"
   ]
  },
  {
   "cell_type": "code",
   "execution_count": 20,
   "id": "3115748d",
   "metadata": {},
   "outputs": [
    {
     "name": "stdout",
     "output_type": "stream",
     "text": [
      "282  iterations, time =  1.5911248339999702\n"
     ]
    },
    {
     "name": "stderr",
     "output_type": "stream",
     "text": [
      "<ipython-input-20-a1316dff9ef9>:11: DeprecationWarning: `np.int` is a deprecated alias for the builtin `int`. To silence this warning, use `int` by itself. Doing this will not modify any behavior and is safe. When replacing `np.int`, you may wish to use e.g. `np.int64` or `np.int32` to specify the precision. If you wish to review your current use, check the release note link for additional information.\n",
      "Deprecated in NumPy 1.20; for more details and guidance: https://numpy.org/devdocs/release/1.20.0-notes.html#deprecations\n",
      "  ctmt = mesh1s.uphill_propagation(outflows,  outflowID, its=99999, fill=-999999).astype(np.int)\n"
     ]
    }
   ],
   "source": [
    "## Need a unique ID that works in parallel ... global node number would work but \n",
    "## not that easy to map to colours in lavavu \n",
    "\n",
    "from petsc4py import PETSc\n",
    "outflows\n",
    "outflowID = mesh1s.lgmap_row.apply(outflows.astype(PETSc.IntType))\n",
    "\n",
    "# But on 1 proc, this is easier / better:\n",
    "\n",
    "outflowID = np.array(range(0, outflows.shape[0]))\n",
    "ctmt = mesh1s.uphill_propagation(outflows,  outflowID, its=99999, fill=-999999).astype(np.int)"
   ]
  },
  {
   "cell_type": "markdown",
   "id": "cbf2cb62",
   "metadata": {},
   "source": [
    "## Visualise the catchment information"
   ]
  },
  {
   "cell_type": "code",
   "execution_count": 27,
   "id": "0bd1b203",
   "metadata": {},
   "outputs": [
    {
     "name": "stderr",
     "output_type": "stream",
     "text": [
      "/Users/lmoresi/mambaforge/envs/underworld/lib/python3.9/site-packages/traittypes/traittypes.py:97: UserWarning: Given trait value dtype \"float64\" does not match required type \"float32\". A coerced copy has been created.\n",
      "  warnings.warn(\n"
     ]
    },
    {
     "data": {
      "application/vnd.jupyter.widget-view+json": {
       "model_id": "20bcc97d705546a5821978b7a2b44ec8",
       "version_major": 2,
       "version_minor": 0
      },
      "text/plain": [
       "Output()"
      ]
     },
     "metadata": {},
     "output_type": "display_data"
    }
   ],
   "source": [
    "import k3d\n",
    "\n",
    "xyz  = np.column_stack([mesh1s.tri.points, mesh1s.topography.data])\n",
    "xyz2 = np.column_stack([mesh.tri.points,   mesh.topography.data])\n",
    "\n",
    "indices = mesh.tri.simplices.astype(np.uint32)\n",
    "\n",
    "plot = k3d.plot(camera_auto_fit=False, grid_visible=False, lighting=0.75)\n",
    "\n",
    "surface = k3d.mesh(xyz2, indices, wireframe=False, flat_shading=True, side=\"double\",\n",
    "                    color_map = k3d.colormaps.matplotlib_color_maps.Blues,\n",
    "                    attribute=flowrate_fn_1s.evaluate(mesh),\n",
    "                    color_range = [0.0,1.0]\n",
    "                   )\n",
    "\n",
    "lakes_surface = k3d.mesh(xyz-(0.0,0.0,0.01), indices, wireframe=False, flat_shading=True, side=\"double\",\n",
    "                    color=0x0010C0, opacity=0.5)\n",
    "\n",
    "\n",
    "catchments = k3d.mesh(xyz2+(0.0,0.0,0.01), indices, wireframe=False, flat_shading=True, side=\"double\",\n",
    "                    color_map = k3d.colormaps.matplotlib_color_maps.Greens,\n",
    "                    attribute=ctmt, opacity=0.5\n",
    "                    # color_range = [0.0,1.0]\n",
    "                   )\n",
    "\n",
    "\n",
    "\n",
    "\n",
    "plot += surface + lows + lakes_surface + catchments\n",
    "\n",
    "plot.display()\n",
    "\n",
    "\n",
    "\n"
   ]
  },
  {
   "cell_type": "code",
   "execution_count": null,
   "id": "790e943c",
   "metadata": {},
   "outputs": [],
   "source": []
  }
 ],
 "metadata": {
  "kernelspec": {
   "display_name": "Python 3",
   "language": "python",
   "name": "python3"
  },
  "language_info": {
   "codemirror_mode": {
    "name": "ipython",
    "version": 3
   },
   "file_extension": ".py",
   "mimetype": "text/x-python",
   "name": "python",
   "nbconvert_exporter": "python",
   "pygments_lexer": "ipython3",
   "version": "3.9.4"
  }
 },
 "nbformat": 4,
 "nbformat_minor": 5
}
