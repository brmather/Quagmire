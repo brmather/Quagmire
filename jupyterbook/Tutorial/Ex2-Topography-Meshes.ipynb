{
 "cells": [
  {
   "cell_type": "markdown",
   "id": "eb8caf51",
   "metadata": {},
   "source": [
    "# 2. Meshes with Topography \n",
    "\n",
    "This notebook introduces the `QuagMesh` object, which builds the following data structures:\n",
    "\n",
    "- hill slope\n",
    "- downhill propagation matrices\n",
    "- upstream area\n",
    "\n",
    "in addition to the data structures inherited from `QuagMesh`. These form the necessary structures to propagate information from higher to lower elevations. Derivatives are computed on the mesh to calculate the height field, smoothing operators are available to reduce short wavelength features and artefacts.\n",
    "\n",
    "In this notebook we setup a height field and calculate its derivatives on an unstructued mesh. We smooth the derivatives using the radial-basis function (RBF) smoothing kernel.\n",
    "\n",
    "> Note: The API for the structured mesh is identical"
   ]
  },
  {
   "cell_type": "code",
   "execution_count": 1,
   "id": "27684b5a",
   "metadata": {},
   "outputs": [],
   "source": [
    "from quagmire.tools import meshtools\n",
    "from quagmire import QuagMesh, QuagMesh\n",
    "from quagmire import function as fn"
   ]
  },
  {
   "cell_type": "code",
   "execution_count": 2,
   "id": "9946938d",
   "metadata": {},
   "outputs": [],
   "source": [
    "import matplotlib.pyplot as plt\n",
    "import numpy as np\n",
    "# from scipy.ndimage import imread\n",
    "# from quagmire import tools as meshtools\n",
    "# from quagmire import QuagMesh\n",
    "%matplotlib inline"
   ]
  },
  {
   "cell_type": "code",
   "execution_count": 3,
   "id": "7661bc65",
   "metadata": {},
   "outputs": [],
   "source": [
    "minX, maxX = -5.0, 5.0\n",
    "minY, maxY = -5.0, 5.0,\n",
    "dx, dy = 0.02, 0.02\n",
    "\n",
    "x, y, simplices = meshtools.elliptical_mesh(minX, maxX, minY, maxY, dx, dy)\n",
    "\n",
    "DM = meshtools.create_DMPlex_from_points(x, y, bmask=None)"
   ]
  },
  {
   "cell_type": "code",
   "execution_count": 4,
   "id": "595b951f",
   "metadata": {},
   "outputs": [
    {
     "name": "stdout",
     "output_type": "stream",
     "text": [
      "Underlying Mesh type: TriMesh\n",
      "0 - Delaunay triangulation 0.11218824999999555s\n",
      "0 - Calculate node weights and area 0.020123624999996537s\n",
      "0 - Find boundaries 0.007983166000002484s\n",
      "0 - cKDTree 0.006998583000004999s\n",
      "0 - Construct neighbour cloud arrays 0.2953688329999977s, (0.19133074999999877s + 0.10399454199999525s)\n",
      "0 - Construct rbf weights 0.028541665999995303s\n",
      "Triangulation has 62234 points\n"
     ]
    }
   ],
   "source": [
    "mesh = QuagMesh(DM, downhill_neighbours=1)\n",
    "\n",
    "print (\"Triangulation has {} points\".format(mesh.npoints))"
   ]
  },
  {
   "cell_type": "markdown",
   "id": "c7d1ff66",
   "metadata": {},
   "source": [
    "## Height field\n",
    "\n",
    "We generate a cylindrically symmetry domed surface and add multiple channels incised along the boundary. The height and slope fields reside as attributes on the `QuagMesh` instance."
   ]
  },
  {
   "cell_type": "code",
   "execution_count": 5,
   "id": "0e0ad77f",
   "metadata": {},
   "outputs": [],
   "source": [
    "radius  = np.sqrt((x**2 + y**2))\n",
    "theta   = np.arctan2(y,x) + 0.1\n",
    "\n",
    "height  = np.exp(-0.025*(x**2 + y**2)**2) + 0.25 * (0.2*radius)**4  * np.cos(5.0*theta)**2 ## Less so\n",
    "height  += 0.5 * (1.0-0.2*radius)\n",
    "height  += np.random.random(height.size) * 0.01 # random noise"
   ]
  },
  {
   "cell_type": "code",
   "execution_count": 6,
   "id": "059ca65b",
   "metadata": {},
   "outputs": [
    {
     "name": "stdout",
     "output_type": "stream",
     "text": [
      "quagmire.MeshVariable: h(x,y) - is locked\n",
      "Update topography data array (automatically rebuilds matrices)\n",
      "Update topography data array (automatically rebuilds matrices ONCE ONLY)\n",
      "0 - Build downhill matrices 1.1500198329999947s\n",
      "0 - Build upstream areas 0.5090339589999999s\n"
     ]
    }
   ],
   "source": [
    "# This fails because the topography variable is locked\n",
    "mesh.topography.data = height\n",
    "\n",
    "# This unlocks the variable and rebuilds the necessary downhill data structures\n",
    "with mesh.deform_topography():\n",
    "    print(\"Update topography data array (automatically rebuilds matrices)\")\n",
    "    mesh.topography.data = height\n",
    "    print(\"Update topography data array (automatically rebuilds matrices ONCE ONLY)\")\n",
    "    mesh.topography.data = height + 0.01"
   ]
  },
  {
   "cell_type": "code",
   "execution_count": 7,
   "id": "d3025018",
   "metadata": {},
   "outputs": [
    {
     "data": {
      "text/plain": [
       "array([1.50868874, 1.51634837, 1.50855902, ..., 0.70499342, 0.66836758,\n",
       "       0.61934834])"
      ]
     },
     "execution_count": 7,
     "metadata": {},
     "output_type": "execute_result"
    }
   ],
   "source": [
    "mesh.topography.data"
   ]
  },
  {
   "cell_type": "code",
   "execution_count": 8,
   "id": "e84c09e2",
   "metadata": {},
   "outputs": [
    {
     "data": {
      "text/latex": [
       "$\\displaystyle \\left| \\nabla h(x,y) \\right|$"
      ],
      "text/plain": [
       "<IPython.core.display.Math object>"
      ]
     },
     "metadata": {},
     "output_type": "display_data"
    }
   ],
   "source": [
    "s = mesh.slope\n",
    "s"
   ]
  },
  {
   "cell_type": "markdown",
   "id": "aac96221",
   "metadata": {},
   "source": [
    "## Derivatives and slopes\n",
    "\n",
    "The slope of the topography is defined through a built in lazy-evaluate function `mesh.slope` (which was described in the Functions notebook). Other gradients are available through the usual quagmire mathematics functions. \n",
    "\n",
    "---\n",
    "\n",
    "If you want more control of the underlying operations, derivatives can also be evaluated on the mesh using the inbuilt routine in the `stripy` object. It employs automatically selected tension factors to preserve shape properties of the data and avoid overshoot and undershoot associated with steep gradients. **Note:** In parallel it is wise to check if this tensioning introduces artefacts near the boundaries.\n",
    "\n",
    "```python\n",
    "dfdx, dfdy = mesh.derivative_grad(f, nit=10, tol=1e-8):\n",
    "```\n",
    "where `nit` and `tol` control the convergence criteria."
   ]
  },
  {
   "cell_type": "markdown",
   "id": "7e577f47",
   "metadata": {},
   "source": [
    "## Smoothing\n",
    "\n",
    "We have included the capacity to build (Gaussian) Radial Basis Function kernels on the mesh that can be used for smoothing operations. **Radial-basis function** (RBF) smoothing kernel works by setting up a series of gaussian functions based on the distance $d$ between neighbouring nodes and a scaling factor, $\\Delta$:\n",
    "\n",
    "$$\n",
    "W_i = \\frac{\\exp \\left( \\frac{d_i}{\\Delta} \\right)^2}{\\sum_{i} \\left( \\frac{d_i}{\\Delta} \\right)^2}\n",
    "$$\n",
    "\n",
    "`delta` is set to the mean distance between nodes by default, but it may be changed to increase or decrease the _smoothness_:\n",
    "\n",
    "```python\n",
    "rbf1  = mesh.build_rbf_smoother(1.0, 1)\n",
    "rbf01 = mesh.build_rbf_smoother(0.1, 1)\n",
    "rbf001 = mesh.build_rbf_smoother(0.01, 1)\n",
    "\n",
    "print(rbf1.smooth_fn(rainfall, iterations=1).evaluate(0.0,0.0))\n",
    "print(rbf1.smooth_fn(height, iterations=1).evaluate(0.0,0.0))\n",
    "print(rbf01.smooth_fn(rainfall, iterations=1).evaluate(0.0,0.0))\n",
    "```"
   ]
  },
  {
   "cell_type": "code",
   "execution_count": 9,
   "id": "412832a4",
   "metadata": {},
   "outputs": [],
   "source": [
    "rbf005 = mesh.build_rbf_smoother(0.05, 1)\n",
    "rbf010 = mesh.build_rbf_smoother(0.10, 1)\n",
    "rbf050 = mesh.build_rbf_smoother(0.50, 1)"
   ]
  },
  {
   "cell_type": "code",
   "execution_count": 10,
   "id": "cb265e5b",
   "metadata": {},
   "outputs": [],
   "source": [
    "rbf_slope005 = rbf005.smooth_fn(mesh.slope).evaluate(mesh)\n",
    "rbf_slope010 = rbf010.smooth_fn(mesh.slope).evaluate(mesh)\n",
    "rbf_slope050 = rbf050.smooth_fn(mesh.slope).evaluate(mesh)"
   ]
  },
  {
   "cell_type": "markdown",
   "id": "9a8e7fd8",
   "metadata": {},
   "source": [
    "**NOTE** - Building the RBF smoothing machinery is expensive and cannot be reused if the kernel properties are changed. We therefore have a two-stage implementation which builds and caches the smoothing matrices and defines a quagmire function that can be used in the usual way."
   ]
  },
  {
   "cell_type": "code",
   "execution_count": 23,
   "id": "96ce6e7e",
   "metadata": {},
   "outputs": [
    {
     "data": {
      "application/vnd.jupyter.widget-view+json": {
       "model_id": "560e7bcf19f84a208b291e9de6cded5c",
       "version_major": 2,
       "version_minor": 0
      },
      "text/plain": [
       "Output()"
      ]
     },
     "metadata": {},
     "output_type": "display_data"
    }
   ],
   "source": [
    "import k3d\n",
    "\n",
    "plot = k3d.plot(grid_visible=False)\n",
    "indices = mesh.tri.simplices.astype(np.uint32)\n",
    "points  = np.column_stack([mesh.tri.points, height]).astype(np.float32)\n",
    "\n",
    "plt_mesh = k3d.mesh(points, indices, wireframe=False, flat_shading=False, side=\"double\",\n",
    "                    color_map = k3d.colormaps.basic_color_maps.CoolWarm,\n",
    "                    attribute=mesh.slope.evaluate(mesh),\n",
    "                    # color_range = [-1.1,2.01]\n",
    "                   )\n",
    "\n",
    "plot += plt_mesh\n",
    "plot.display()"
   ]
  },
  {
   "cell_type": "code",
   "execution_count": null,
   "id": "5b14c518",
   "metadata": {},
   "outputs": [],
   "source": []
  }
 ],
 "metadata": {
  "kernelspec": {
   "display_name": "Python 3",
   "language": "python",
   "name": "python3"
  },
  "language_info": {
   "codemirror_mode": {
    "name": "ipython",
    "version": 3
   },
   "file_extension": ".py",
   "mimetype": "text/x-python",
   "name": "python",
   "nbconvert_exporter": "python",
   "pygments_lexer": "ipython3",
   "version": "3.9.4"
  }
 },
 "nbformat": 4,
 "nbformat_minor": 5
}
