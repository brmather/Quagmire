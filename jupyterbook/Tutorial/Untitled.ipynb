{
 "cells": [
  {
   "cell_type": "code",
   "execution_count": 1,
   "id": "6d4f15dd",
   "metadata": {},
   "outputs": [],
   "source": [
    "import numpy as np\n",
    "\n"
   ]
  },
  {
   "cell_type": "code",
   "execution_count": 13,
   "id": "b2dd7a41",
   "metadata": {},
   "outputs": [
    {
     "name": "stdout",
     "output_type": "stream",
     "text": [
      "a cat_in_the_hat (2.0, 0.25)\n",
      "b a (0.25, 0.5)\n",
      "c b (0.0625, 0.5)\n",
      "d c (0.015625, 0.5)\n",
      "e d (0.00390625, 0.5)\n",
      "f e (0.0009765625, 0.5)\n",
      "h f (0.000244140625, 0.5)\n",
      "i h (6.103515625e-05, 0.5)\n",
      "j i (1.52587890625e-05, 0.5)\n",
      "k j (3.814697265625e-06, 0.5)\n",
      "l k (9.5367431640625e-07, 0.5)\n",
      "m l (2.384185791015625e-07, 0.5)\n",
      "n m (5.960464477539063e-08, 0.5)\n",
      "o n (1.4901161193847656e-08, 0.5)\n",
      "p o (3.725290298461914e-09, 0.5)\n",
      "q p (9.313225746154785e-10, 0.5)\n",
      "r q (2.3283064365386963e-10, 0.5)\n",
      "s r (5.820766091346741e-11, 0.5)\n",
      "t s (1.4551915228366852e-11, 0.5)\n",
      "u t (3.637978807091713e-12, 0.5)\n",
      "v u (9.094947017729282e-13, 0.5)\n",
      "x v (2.2737367544323206e-13, 0.5)\n",
      "y x (5.684341886080802e-14, 0.5)\n",
      "z y (1.4210854715202004e-14, 0.5)\n"
     ]
    }
   ],
   "source": [
    "cat_height_hat_height = {\"cat_in_the_hat\": (2.0, 0.25)}\n",
    "\n",
    "i_am_in_the_hat_of = \"cat_in_the_hat\"\n",
    "\n",
    "for little_cat in \"abcdefhijklmnopqrstuvxyz\":\n",
    "    print(little_cat, i_am_in_the_hat_of, cat_height_hat_height[i_am_in_the_hat_of])\n",
    "    my_hat_height = 0.5\n",
    "    my_height = cat_height_hat_height[i_am_in_the_hat_of][0] * cat_height_hat_height[i_am_in_the_hat_of][1] * (1.0-my_hat_height)\n",
    "    cat_height_hat_height[little_cat] = (my_height, my_hat_height)\n",
    "    i_am_in_the_hat_of = little_cat\n",
    "    \n",
    "\n"
   ]
  },
  {
   "cell_type": "code",
   "execution_count": 14,
   "id": "b62c67e2",
   "metadata": {},
   "outputs": [
    {
     "data": {
      "text/plain": [
       "{'cat_in_the_hat': (2.0, 0.25),\n",
       " 'a': (0.25, 0.5),\n",
       " 'b': (0.0625, 0.5),\n",
       " 'c': (0.015625, 0.5),\n",
       " 'd': (0.00390625, 0.5),\n",
       " 'e': (0.0009765625, 0.5),\n",
       " 'f': (0.000244140625, 0.5),\n",
       " 'h': (6.103515625e-05, 0.5),\n",
       " 'i': (1.52587890625e-05, 0.5),\n",
       " 'j': (3.814697265625e-06, 0.5),\n",
       " 'k': (9.5367431640625e-07, 0.5),\n",
       " 'l': (2.384185791015625e-07, 0.5),\n",
       " 'm': (5.960464477539063e-08, 0.5),\n",
       " 'n': (1.4901161193847656e-08, 0.5),\n",
       " 'o': (3.725290298461914e-09, 0.5),\n",
       " 'p': (9.313225746154785e-10, 0.5),\n",
       " 'q': (2.3283064365386963e-10, 0.5),\n",
       " 'r': (5.820766091346741e-11, 0.5),\n",
       " 's': (1.4551915228366852e-11, 0.5),\n",
       " 't': (3.637978807091713e-12, 0.5),\n",
       " 'u': (9.094947017729282e-13, 0.5),\n",
       " 'v': (2.2737367544323206e-13, 0.5),\n",
       " 'x': (5.684341886080802e-14, 0.5),\n",
       " 'y': (1.4210854715202004e-14, 0.5),\n",
       " 'z': (3.552713678800501e-15, 0.5)}"
      ]
     },
     "execution_count": 14,
     "metadata": {},
     "output_type": "execute_result"
    }
   ],
   "source": [
    "cat_height_hat_height"
   ]
  },
  {
   "cell_type": "code",
   "execution_count": null,
   "id": "e166c868",
   "metadata": {},
   "outputs": [],
   "source": [
    "# Recursive ? "
   ]
  }
 ],
 "metadata": {
  "kernelspec": {
   "display_name": "Python 3",
   "language": "python",
   "name": "python3"
  },
  "language_info": {
   "codemirror_mode": {
    "name": "ipython",
    "version": 3
   },
   "file_extension": ".py",
   "mimetype": "text/x-python",
   "name": "python",
   "nbconvert_exporter": "python",
   "pygments_lexer": "ipython3",
   "version": "3.9.4"
  }
 },
 "nbformat": 4,
 "nbformat_minor": 5
}
