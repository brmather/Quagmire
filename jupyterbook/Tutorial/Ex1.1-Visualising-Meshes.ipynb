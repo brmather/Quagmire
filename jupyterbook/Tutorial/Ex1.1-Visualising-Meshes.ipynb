{
 "cells": [
  {
   "cell_type": "markdown",
   "id": "f486b5fc",
   "metadata": {},
   "source": [
    "# Example 1 - creating structured and unstructured meshes\n",
    "\n",
    "`Quagmire` can model surface processess on a structured rectangular grid or unstructured triangulated points. These use-cases are bundled into two objects:\n",
    "\n",
    "- `PixMesh`: meshing on a rectangular grid\n",
    "- `TriMesh`: meshing on unstructured triangular points\n",
    "- `sTriMesh`: meshing on unstructured triangular points on the sphere\n",
    "\n",
    "All meshes are generated and handed to Quagmire using a `DM` object where the selection of `PixMesh`, `TriMesh`, or `sTriMesh` is identified automatically by `QuagMesh`. The following data structures are built:\n",
    "\n",
    "- Delaunay triangulation\n",
    "- node neighbour array\n",
    "- pointwise area and weights\n",
    "- boundary information\n",
    "- Rbf smoothing kernel\n",
    "\n",
    "In this notebook we setup different `DM` objects using meshes found in the `quagmire.tools.meshtools` path and hand them to `QuagMesh`."
   ]
  },
  {
   "cell_type": "code",
   "execution_count": 1,
   "id": "180d84be",
   "metadata": {
    "pycharm": {
     "is_executing": false
    }
   },
   "outputs": [],
   "source": [
    "from quagmire.tools import meshtools\n",
    "from quagmire import QuagMesh\n",
    "import numpy as np"
   ]
  },
  {
   "cell_type": "markdown",
   "id": "c0996919",
   "metadata": {},
   "source": [
    "## Structured grids"
   ]
  },
  {
   "cell_type": "code",
   "execution_count": 2,
   "id": "1395baff",
   "metadata": {
    "pycharm": {
     "is_executing": false
    }
   },
   "outputs": [
    {
     "name": "stdout",
     "output_type": "stream",
     "text": [
      "<class 'petsc4py.PETSc.DMDA'>\n"
     ]
    }
   ],
   "source": [
    "minX, maxX = -5.0, 5.0\n",
    "minY, maxY = -5.0, 5.0\n",
    "\n",
    "resX = 75\n",
    "resY = 75\n",
    "\n",
    "DM = meshtools.create_DMDA(minX, maxX, minY, maxY, resX, resY)\n",
    "\n",
    "print(type(DM))"
   ]
  },
  {
   "cell_type": "markdown",
   "id": "d7d2af2e",
   "metadata": {},
   "source": [
    "This is a native PETSc data management object for structured grids (`DMDA`). This object has a number of \n",
    "useful methods and attached data which can be listed with\n",
    "\n",
    "```python\n",
    "help(DM)\n",
    "```\n",
    "\n",
    "We hand this to `QuagMesh` to generate the necessary data structures for gradient operations, smoothing, neighbour allocation, etc."
   ]
  },
  {
   "cell_type": "code",
   "execution_count": 3,
   "id": "e8bbfca4",
   "metadata": {
    "pycharm": {
     "is_executing": false
    }
   },
   "outputs": [
    {
     "name": "stdout",
     "output_type": "stream",
     "text": [
      "Underlying Mesh type: PixMesh\n",
      "0 - cKDTree 0.0020817920012632385s\n",
      "0 - Find boundaries 0.0005966669996269047s\n",
      "0 - Construct neighbour cloud arrays 0.04875845900096465s, (0.028369209001539275s + 0.02036183300515404s)\n",
      "0 - Construct rbf weights 0.004284041999198962s\n"
     ]
    }
   ],
   "source": [
    "mesh = QuagMesh(DM)"
   ]
  },
  {
   "cell_type": "markdown",
   "id": "54cc8c40",
   "metadata": {},
   "source": [
    "We attach data to a mesh solely through mesh variables (see [Example notebook](Ex1a-QuagmireMeshVariables.md) for details)\n",
    "\n",
    "``` python\n",
    "    mesh_variable = mesh.add_variable(name=\"data1\")\n",
    "    mesh_variable.data = np.sin(mesh.coords[:,0] * np.pi)\n",
    "    mesh_variable.sync()\n",
    "```\n",
    "\n",
    "The `sync` operation ensures data is coherent across processors - \n",
    "it is harmless and relatively inexpensive so is safe to use even \n",
    "in cases like this where there is no way for information to be out\n",
    "of sync between domains."
   ]
  },
  {
   "cell_type": "code",
   "execution_count": 4,
   "id": "81e45380",
   "metadata": {
    "pycharm": {
     "is_executing": false
    }
   },
   "outputs": [],
   "source": [
    "mesh_variable = mesh.add_variable(name=\"data1\")\n",
    "mesh_variable.data = np.sin(mesh.coords[:,0] * np.pi)\n",
    "mesh_variable.sync()\n",
    "\n",
    "mesh_variable2 = mesh.add_variable(name=\"data2\")\n",
    "mesh_variable2.data = np.sin(mesh.coords[:,0] * 0.2 * np.pi) * np.cos(mesh.coords[:,1] * 0.2 * np.pi) \n",
    "mesh_variable2.sync()"
   ]
  },
  {
   "cell_type": "code",
   "execution_count": 5,
   "id": "309adf0b",
   "metadata": {},
   "outputs": [],
   "source": [
    "XY = mesh.coords\n",
    "XYZ = np.vstack((XY[:,0],XY[:,1], mesh_variable2.data)).T\n"
   ]
  },
  {
   "cell_type": "code",
   "execution_count": null,
   "id": "c174c5a5",
   "metadata": {},
   "outputs": [],
   "source": []
  },
  {
   "cell_type": "code",
   "execution_count": null,
   "id": "ae1eec3c",
   "metadata": {
    "scrolled": false
   },
   "outputs": [],
   "source": [
    "# import ipyvolume as ipv\n",
    "# from matplotlib import cm\n",
    "# norm = cm.colors.Normalize(Z.min(), Z.max())\n",
    "# color = cm.coolwarm(norm(Z))\n",
    "\n",
    "# ipv.figure(width=800, height=500)\n",
    "# #surf = ipv.plot_surface(X, Y, Z, color=color)\n",
    "# #wire = ipv.plot_wireframe(X, Y, Z, color=color)\n",
    "# balls = ipv.scatter(X.reshape(-1),Y.reshape(-1),mesh_variable2.data, marker=\"sphere\")\n",
    "# ipv.zlim(-2,2)\n",
    "# ipv.show()"
   ]
  },
  {
   "cell_type": "code",
   "execution_count": 8,
   "id": "2c999e75",
   "metadata": {
    "scrolled": false
   },
   "outputs": [
    {
     "data": {
      "application/vnd.jupyter.widget-view+json": {
       "model_id": "340289aa1c7e4687a841e3bab84d28d4",
       "version_major": 2,
       "version_minor": 0
      },
      "text/plain": [
       "Output()"
      ]
     },
     "metadata": {},
     "output_type": "display_data"
    }
   ],
   "source": [
    "import numpy as np\n",
    "import k3d\n",
    "\n",
    "plot = k3d.plot(camera_auto_fit=True, grid_visible=False)\n",
    "\n",
    "plot += k3d.points(XYZ, point_size=0.1)\n",
    "\n",
    "plot += k3d.surface(mesh_variable2.data.reshape((mesh.nx,mesh.ny)), \n",
    "                   xmin=mesh.minX, xmax=mesh.maxX, ymin=mesh.minY, ymax=mesh.maxY,\n",
    "                   color=0x995500\n",
    "                   )\n",
    "plot.display()"
   ]
  },
  {
   "cell_type": "code",
   "execution_count": null,
   "id": "36c8cee2",
   "metadata": {
    "pycharm": {
     "is_executing": false
    }
   },
   "outputs": [],
   "source": [
    "import lavavu\n",
    "\n",
    "lv = lavavu.Viewer(border=False, background=\"#FFFFFF\", resolution=[500,500], near=-10.0)\n",
    "\n",
    "lvmesh = lv.quads(dims=(mesh.nx, mesh.ny), wireframe=True)\n",
    "lvmesh.vertices(mesh.coords)\n",
    "lvmesh.values( mesh_variable.data, \"sinx\")\n",
    "lvmesh.colourmap(\"#FF0000, #555555 #0000FF\", range=[-1.0,1.0])\n",
    "\n",
    "# The mesh can be given a height mapping like this\n",
    "\n",
    "vertices = np.zeros((mesh.coords.shape[0],3))\n",
    "vertices[:,0:2] = mesh.coords\n",
    "vertices[:,2]   = mesh_variable2.data * 0.5\n",
    "\n",
    "lvmesh2 = lv.quads(dims=(mesh.nx, mesh.ny), wireframe=False)\n",
    "lvmesh2.vertices(vertices)\n",
    "lvmesh2.values(mesh_variable2.data,\"sinxcosy\")\n",
    "lvmesh2.colourmap(\"#FF0000, #FFFFFF:0.5 #0000FF\", range=[-1.0,1.0])\n",
    "\n",
    "\n",
    "lv.control.Panel()\n",
    "lv.control.ObjectList()\n",
    "lv.control.show()"
   ]
  },
  {
   "cell_type": "markdown",
   "id": "a9fa1fa8",
   "metadata": {},
   "source": [
    "## Unstructured meshes\n",
    "\n",
    "This is handled by PETSc's `DMPlex` object, which requires the connectivity of a set of points. The connectivity between points can be triangulated using the built-in mesh creation tools:\n",
    "\n",
    "```python\n",
    "x, y, simplices = square_mesh(minX, maxX, minY, maxY, spacingX, spacingY)\n",
    "x, y, simplices = elliptical_mesh(minX, maxX, minY, maxY, spacingX, spacingY)\n",
    "```\n",
    "\n",
    "and handed to `DMPlex` using:\n",
    "\n",
    "```python\n",
    "DM = meshtools.create_DMPlex(x, y, simplices, boundary_vertices=None, refinement_levels=0)\n",
    "```\n",
    "\n",
    "---\n",
    "\n",
    "Alternatively, an arbitrary set of points (without duplicates) can be triangulated and processed as a `DMPlex` object using:\n",
    "\n",
    "```python\n",
    "meshtools.create_DMPlex_from_points(x, y, bmask=None, refinement_levels=0)\n",
    "```\n",
    "\n",
    "If no boundary information is provided, the boundary is assumed to be the convex hull of points.\n",
    "\n",
    "\n",
    "#### Parallel notes\n",
    "\n",
    "The triangulation from the root processor is distributed to other processors using the `DM` object, including boundary points and boundary edges. The mesh can be refined efficiently in parallel using the `refine_dm` method. The order of this operation is important:\n",
    "\n",
    "1. Triangulate points\n",
    "2. Mark boundary edges\n",
    "3. Distribute `DMPlex` to other processors\n",
    "4. Refine the mesh"
   ]
  },
  {
   "cell_type": "markdown",
   "id": "3c3b378c",
   "metadata": {},
   "source": [
    "## Elliptical mesh"
   ]
  },
  {
   "cell_type": "code",
   "execution_count": null,
   "id": "99ac3b5e",
   "metadata": {},
   "outputs": [],
   "source": [
    "spacingX = 0.1\n",
    "spacingY = 0.1\n",
    "\n",
    "x, y, simplices = meshtools.elliptical_mesh(minX, maxX, minY, maxY, spacingX, spacingY)\n",
    "DM = meshtools.create_DMPlex(x, y, simplices)\n",
    "\n",
    "mesh = QuagMesh(DM)\n",
    "\n",
    "mesh_equant = mesh.neighbour_cloud_distances.mean(axis=1) / ( np.sqrt(mesh.area))"
   ]
  },
  {
   "cell_type": "code",
   "execution_count": null,
   "id": "b1565e8d",
   "metadata": {},
   "outputs": [],
   "source": [
    "# import ipyvolume as ipv\n",
    "\n",
    "# a = np.arange(-5, 5)\n",
    "# X = mesh.tri.x\n",
    "# Y = mesh.tri.y\n",
    "# Z = mesh.tri.x * 0.0\n",
    "\n",
    "# from matplotlib import cm\n",
    "# norm = cm.colors.Normalize(mesh_equant.min(), mesh_equant.max())\n",
    "# color = cm.coolwarm(norm(mesh_equant))\n",
    "\n",
    "# ipv.figure(width=800, height=500)\n",
    "# ipv.plot_trisurf(X, Y, Z, triangles=mesh.tri.simplices, color=color )\n",
    "# ipv.show()"
   ]
  },
  {
   "cell_type": "code",
   "execution_count": null,
   "id": "6aaab2ae",
   "metadata": {},
   "outputs": [],
   "source": [
    "import lavavu\n",
    "\n",
    "lv = lavavu.Viewer(border=False, background=\"#FFFFFF\", resolution=[1000,600], near=-10.0)\n",
    "\n",
    "# lavavu also works in 3D - so need to stitch in a Z component  (zero or a height)\n",
    "\n",
    "vertices = np.zeros((mesh.tri.points.shape[0],3))\n",
    "vertices[:,0:2] = mesh.tri.points\n",
    "# vertices[:,2] = heights\n",
    "\n",
    "bnodes = lv.points(\"Boundary Points\", pointsize=10.0, pointtype=\"shiny\", colour=\"red\", opacity=0.75)\n",
    "bnodes.vertices(vertices[~mesh.bmask])\n",
    "\n",
    "nodes = lv.points(\"All Points\", pointsize=10.0, pointtype=\"shiny\", colour=\"blue\", opacity=0.75)\n",
    "nodes.vertices(vertices)\n",
    "\n",
    "simp = lv.triangles(\"Triangle Edges\", wireframe=True, colour=\"#442222\", opacity=0.75)\n",
    "simp.vertices(vertices)\n",
    "simp.indices(mesh.tri.simplices)\n",
    "\n",
    "tris = lv.triangles(\"Triangle Areas\",  wireframe=False, colour=\"#77ff88\", opacity=1.0)\n",
    "tris.vertices(vertices-(0.0,0.0,0.01))\n",
    "tris.indices(mesh.tri.simplices)\n",
    "tris.values(mesh_equant, label=\"pointwise_area\")\n",
    "\n",
    "tris.colourmap(\"#000000, #FFFFFF\")\n",
    "cb = tris.colourbar()\n",
    "\n",
    "lv.control.Panel()\n",
    "lv.control.ObjectList()\n",
    "lv.control.show()\n",
    "\n",
    "lv.show()"
   ]
  },
  {
   "cell_type": "markdown",
   "id": "4dd52c6b",
   "metadata": {},
   "source": [
    "## Mesh improvement\n",
    "\n",
    "Applies Lloyd's algorithm of iterated voronoi construction to improve the mesh point locations. This distributes the points to a more uniform spacing with more equant triangles. It can be very slow for anything but a small mesh. [Refining](#Mesh-refinement) the mesh a few times will produce a large, well-spaced mesh."
   ]
  },
  {
   "cell_type": "code",
   "execution_count": null,
   "id": "6bcb90ff",
   "metadata": {},
   "outputs": [],
   "source": [
    "bmask = mesh.bmask.copy()\n",
    "\n",
    "x1, y1 = meshtools.lloyd_mesh_improvement(x, y, bmask, iterations=3)\n",
    "DM = meshtools.create_DMPlex_from_points(x1, y1, bmask)\n",
    "\n",
    "mesh1 = QuagMesh(DM)"
   ]
  },
  {
   "cell_type": "code",
   "execution_count": null,
   "id": "40a7cd6f",
   "metadata": {},
   "outputs": [],
   "source": [
    "mesh1_equant = mesh1.neighbour_cloud_distances.mean(axis=1) / ( np.sqrt(mesh1.area))"
   ]
  },
  {
   "cell_type": "code",
   "execution_count": null,
   "id": "5b2fc20d",
   "metadata": {},
   "outputs": [],
   "source": [
    "import lavavu\n",
    "\n",
    "lv = lavavu.Viewer(border=False, background=\"#FFFFFF\", resolution=[1000,600], near=-10.0)\n",
    "\n",
    "# lavavu assumes 3D - so need to stitch in a Z component  (zero or a height)\n",
    "\n",
    "vertices = np.zeros((mesh1.tri.points.shape[0],3))\n",
    "vertices[:,0:2] = mesh1.tri.points\n",
    "\n",
    "bnodes = lv.points(\"Boundary Points\", pointsize=10.0, pointtype=\"shiny\", colour=\"red\", opacity=0.75)\n",
    "bnodes.vertices(vertices[~mesh1.bmask])\n",
    "\n",
    "simp = lv.triangles(\"Triangle Edges\", wireframe=True, colour=\"#442222\", opacity=0.75)\n",
    "simp.vertices(vertices)\n",
    "simp.indices(mesh1.tri.simplices)\n",
    "\n",
    "tris = lv.triangles(\"Triangle Areas\",  wireframe=False, colour=\"#77ff88\", opacity=1.0)\n",
    "tris.vertices(vertices-(0.0,0.0,0.01))\n",
    "tris.indices(mesh1.tri.simplices)\n",
    "tris.values(mesh1_equant, label=\"pointwise_area\")\n",
    "\n",
    "tris.colourmap(\"#000000, #FFFFFF\", range=[1.0,0.9*mesh1_equant.mean()])\n",
    "\n",
    "cb = tris.colourbar()\n",
    "\n",
    "lv.control.Panel()\n",
    "lv.control.ObjectList()\n",
    "lv.control.show()\n",
    "\n",
    "lv.show()"
   ]
  },
  {
   "cell_type": "code",
   "execution_count": null,
   "id": "130a481c",
   "metadata": {},
   "outputs": [],
   "source": [
    "# Comparison of point-wise area for original and improved mesh\n",
    "\n",
    "\n",
    "import matplotlib.pyplot as plt\n",
    "%matplotlib inline\n",
    "\n",
    "\n",
    "fig, (ax1, ax2) = plt.subplots(1,2, figsize=(10,4))\n",
    "\n",
    "ax1.hist(mesh_equant, density=True)\n",
    "ax2.hist(mesh1_equant, density=True)\n",
    "\n",
    "ax1.set_title('original mesh')\n",
    "ax2.set_title('improved mesh')\n",
    "\n",
    "plt.show()"
   ]
  },
  {
   "cell_type": "markdown",
   "id": "690dd90e",
   "metadata": {},
   "source": [
    "## Mesh refinement\n",
    "\n",
    "Triangulating a large set of points on a single processor then distributing the mesh across multiple processors can be very slow. A more time effective workflow is to create an initial `DM` with a small number of points, then refine the mesh in parallel. This is achieved by adding the midpoint of each line segment to the mesh and can be iteratively refined until the desired level of detail is reached.\n",
    "\n",
    "```python\n",
    "refine_DM(dm, refinement_levels=1)\n",
    "```"
   ]
  },
  {
   "cell_type": "code",
   "execution_count": null,
   "id": "dbe37b3f",
   "metadata": {},
   "outputs": [],
   "source": [
    "spacingX = 0.5\n",
    "spacingY = 0.5\n",
    "\n",
    "x, y, simplices = meshtools.elliptical_mesh(minX, maxX, minY, maxY, spacingX, spacingY)\n",
    "DM = meshtools.create_DMPlex(x, y, simplices)\n",
    "\n",
    "DM_r1 = meshtools.refine_DM(DM, refinement_levels=1)\n",
    "DM_r2 = meshtools.refine_DM(DM, refinement_levels=2)\n",
    "\n",
    "\n",
    "# verbose=False turns off the timings\n",
    "\n",
    "mesh0 = QuagMesh(DM, verbose=False)\n",
    "mesh1 = QuagMesh(DM_r1, verbose=False)\n",
    "mesh2 = QuagMesh(DM_r2, verbose=False)\n",
    "\n",
    "\n",
    "v = DM_r1.getCoordinates()\n",
    "v.array.shape"
   ]
  },
  {
   "cell_type": "code",
   "execution_count": null,
   "id": "32de92a2",
   "metadata": {},
   "outputs": [],
   "source": [
    "def plot_points(lv, points, label, **kwargs):    \n",
    "    lv_pts = lv.points(label, **kwargs)\n",
    "    lv_pts.vertices(points)\n",
    "    return lv_pts\n",
    "\n",
    "def plot_triangles(lv, points, triangles, label, **kwargs):\n",
    "    lv_tri = lv.triangles(label, **kwargs)\n",
    "    lv_tri.vertices(points)\n",
    "    lv_tri.indices(triangles)\n",
    "    return lv_tri\n",
    "\n",
    "\n",
    "lv = lavavu.Viewer(border=False, background=\"#FFFFFF\", resolution=[1000,600], near=-10.0)\n",
    "\n",
    "bnodes0 = plot_points(lv, mesh0.coords[~mesh0.bmask], \"boundary_points_r0\", colour=\"red\", pointsize=10)\n",
    "bnodes1 = plot_points(lv, mesh1.coords[~mesh1.bmask], \"boundary_points_r1\", colour=\"blue\", pointsize=10)\n",
    "bnodes2 = plot_points(lv, mesh2.coords[~mesh2.bmask], \"boundary_points_r2\", colour=\"#336611\", pointsize=10)\n",
    "\n",
    "tri0 = plot_triangles(lv, mesh0.coords, mesh0.tri.simplices, \"mesh_r0\", wireframe=True, linewidth=1.5, colour=\"red\")\n",
    "tri1 = plot_triangles(lv, mesh1.coords, mesh1.tri.simplices, \"mesh_r1\", wireframe=True, linewidth=1.0, colour=\"blue\")\n",
    "tri2 = plot_triangles(lv, mesh2.coords, mesh2.tri.simplices, \"mesh_r2\", wireframe=True, linewidth=1.0, colour=\"#336611\")\n",
    "\n",
    "lv.control.Panel()\n",
    "lv.control.ObjectList()\n",
    "lv.control.show()\n",
    "\n",
    "lv.show()"
   ]
  },
  {
   "cell_type": "markdown",
   "id": "2029447c",
   "metadata": {},
   "source": [
    "The DM contains two labels -- \"coarse\" and \"boundary\" -- which contain the vertices of boundary nodes and the unrefined mesh, respectively. They can be retrieved using:\n",
    "\n",
    "```python\n",
    "mesh.get_label(\"boundary\")\n",
    "mesh.get_label(\"coarse\")\n",
    "```\n",
    "\n",
    "or a new label can be set using:\n",
    "\n",
    "```python\n",
    "mesh.set_label(\"my_label\", indices)\n",
    "```"
   ]
  },
  {
   "cell_type": "code",
   "execution_count": null,
   "id": "a61952cd",
   "metadata": {},
   "outputs": [],
   "source": [
    "coarse_pts0 = mesh0.get_label(\"coarse\")\n",
    "coarse_pts1 = mesh1.get_label(\"coarse\")\n",
    "coarse_pts2 = mesh2.get_label(\"coarse\")\n",
    "\n",
    "print(\"{} boundary points\".format( len(mesh0.get_label(\"boundary\")) ))\n",
    "print(\"{} boundary points\".format( len(mesh1.get_label(\"boundary\")) ))\n",
    "print(\"{} boundary points\".format( len(mesh2.get_label(\"boundary\")) ))\n",
    "\n",
    "\n",
    "# the coarse point vertices should be identical\n",
    "# refinement adds new points to the end of the x,y arrays\n",
    "\n",
    "set(coarse_pts0) == set(coarse_pts1) == set(coarse_pts2)"
   ]
  },
  {
   "cell_type": "markdown",
   "id": "ecab5953",
   "metadata": {},
   "source": [
    "## Spherical meshes\n",
    "\n",
    "This unstructed mesh uses PETSc's `DMPlex` object, and uses [stripy](https://github.com/underworldcode/stripy) to triangulate on the unit sphere. Multiple meshes may be created, including:\n",
    "\n",
    "```python\n",
    "DM = meshtools.create_spherical_DMPlex(lons, lats, simplices, boundary_vertices=None)\n",
    "DM = meshtools.create_DMPlex_from_spherical_points(lons, lats, simplices, bmask=None, refinement_levels=0)\n",
    "```\n",
    "\n",
    "If no boundary information is provided, the boundary is calculated from any line segments that do not share a triangle with another.a"
   ]
  },
  {
   "cell_type": "code",
   "execution_count": 39,
   "id": "aa0062e5",
   "metadata": {},
   "outputs": [
    {
     "name": "stdout",
     "output_type": "stream",
     "text": [
      "Origin =  0.0 0.0 Radius =  40.0 Aspect =  2.0\n",
      "Underlying Mesh type: sTriMesh\n",
      "0 - Delaunay triangulation 0.04886054199994305s\n",
      "0 - Calculate node weights and area 0.007725415999971119s\n",
      "0 - Find boundaries 0.0037982080000347196s\n",
      "0 - cKDTree 0.00373012500006098s\n",
      "0 - Construct neighbour cloud arrays 0.1836289579999857s, (0.14000704199997926s + 0.0435912500000768s)\n",
      "0 - Construct rbf weights 0.011983624999970743s\n"
     ]
    }
   ],
   "source": [
    "import stripy\n",
    "\n",
    "lons, lats, bmask = meshtools.generate_elliptical_points(-40, 40, -80, 80, 0.1, 0.1, 1500, 200)\n",
    "\n",
    "icomesh = stripy.spherical_meshes.icosahedral_mesh(refinement_levels=5, include_face_points=True)\n",
    "\n",
    "lons = np.degrees(icomesh.lons)\n",
    "lats = np.degrees(icomesh.lats)\n",
    "bmask = None\n",
    "\n",
    "DM = meshtools.create_DMPlex_from_spherical_points(lons, lats, bmask, refinement_levels=0)\n",
    "mesh0 = QuagMesh(DM)\n"
   ]
  },
  {
   "cell_type": "code",
   "execution_count": null,
   "id": "3f7ddcaa",
   "metadata": {},
   "outputs": [],
   "source": [
    "# lv = lavavu.Viewer(border=False, background=\"#FFFFFF\", resolution=[1000,600], near=-10.0)\n",
    "\n",
    "# bnodes0 = plot_points(lv, mesh0.data[~mesh0.bmask], \"boundary_points_r0\", colour=\"red\", pointsize=10)\n",
    "# bnodes1 = plot_points(lv, mesh1.data[~mesh1.bmask], \"boundary_points_r1\", colour=\"blue\", pointsize=10)\n",
    "# bnodes2 = plot_points(lv, mesh2.data[~mesh2.bmask], \"boundary_points_r2\", colour=\"#336611\", pointsize=10)\n",
    "\n",
    "# tri0 = plot_triangles(lv, mesh0.data, mesh0.tri.simplices, \"mesh_r0\", wireframe=True, linewidth=1.5, colour=\"red\")\n",
    "# tri1 = plot_triangles(lv, mesh1.data, mesh1.tri.simplices, \"mesh_r1\", wireframe=True, linewidth=1.0, colour=\"blue\")\n",
    "# tri2 = plot_triangles(lv, mesh2.data, mesh2.tri.simplices, \"mesh_r2\", wireframe=True, linewidth=1.0, colour=\"#336611\")\n",
    "\n",
    "# lv.control.Panel()\n",
    "# lv.control.ObjectList()\n",
    "# lv.control.show()\n",
    "\n",
    "# lv.show()"
   ]
  },
  {
   "cell_type": "code",
   "execution_count": null,
   "id": "9dcacaae",
   "metadata": {},
   "outputs": [],
   "source": [
    "# import ipyvolume as ipv\n",
    "\n",
    "# a = np.arange(-5, 5)\n",
    "# X = mesh0.tri.x\n",
    "# Y = mesh0.tri.y\n",
    "# Z = mesh0.tri.z\n",
    "# C = mesh0.tri.lats\n",
    "\n",
    "# from matplotlib import cm\n",
    "# colormap = cm.coolwarm\n",
    "# znorm = Z - Z.min()\n",
    "# znorm /= znorm.ptp()\n",
    "# znorm.min(), znorm.max()\n",
    "# color = colormap(znorm)\n",
    "\n",
    "# ipv.figure()\n",
    "# globe = ipv.plot_trisurf(X, Y, Z, triangles=mesh0.tri.simplices)\n",
    "# ipv.show()"
   ]
  },
  {
   "cell_type": "code",
   "execution_count": 40,
   "id": "e8ff79c6",
   "metadata": {
    "scrolled": false
   },
   "outputs": [],
   "source": [
    "from PIL import Image\n",
    "# image = PIL.Image.open(\"/Users/lmoresi/Desktop/color_etopo1_ice_low_400.gif\")\n",
    "image = PIL.Image.open(\"/Users/lmoresi/cloudstor/Datasets4Teaching/Venus/RadarBrightness.jpg\")\n",
    "# image = PIL.Image.open(\"/Users/lmoresi/Downloads/GRAY_LR_SR_OB_DR/GRAY_LR_SR_OB_DR.tif\")\n",
    "\n",
    "# import ipyvolume as ipv\n",
    "\n",
    "a = np.arange(-5, 5)\n",
    "X = mesh0.tri.x\n",
    "Y = mesh0.tri.y\n",
    "Z = mesh0.tri.z\n",
    "C = mesh0.tri.lats\n",
    "\n",
    "u = mesh0.tri.lons / (2.0*np.pi)\n",
    "v = mesh0.tri.lats / (1.0*np.pi) + 0.5\n",
    "\n",
    "from matplotlib import cm\n",
    "colormap = cm.coolwarm\n",
    "znorm = Z - Z.min()\n",
    "znorm /= znorm.ptp()\n",
    "znorm.min(), znorm.max()\n",
    "color = colormap(znorm)\n",
    "color[:,3] = v\n",
    "\n",
    "# fig = ipv.figure(width=1000)\n",
    "# ipv.pylab.style.axes_off()\n",
    "# ipv.pylab.style.box_off()\n",
    "\n",
    "\n",
    "# globe = ipv.plot_trisurf(X, Y, Z, u=u, v=v, texture=image,\n",
    "#                  triangles=mesh0.tri.simplices)\n",
    "# ipv.show()"
   ]
  },
  {
   "cell_type": "code",
   "execution_count": 92,
   "id": "1e3c6672",
   "metadata": {},
   "outputs": [],
   "source": [
    "import io\n",
    "image = PIL.Image.open(\"/Users/lmoresi/Downloads/GRAY_LR_SR_OB_DR/GRAY_LR_SR_OB_DR.tif\")\n",
    "image2 = image.resize((2050,1025))\n",
    "buf = io.BytesIO()\n",
    "image2.save(buf, format=\"tiff\")\n",
    "bpil = buf.getvalue()"
   ]
  },
  {
   "cell_type": "code",
   "execution_count": 93,
   "id": "0288d7ca",
   "metadata": {},
   "outputs": [
    {
     "data": {
      "text/plain": [
       "b'II*\\x00\\x08\\x00\\x00\\x00\\t\\x00'"
      ]
     },
     "execution_count": 93,
     "metadata": {},
     "output_type": "execute_result"
    }
   ],
   "source": []
  },
  {
   "cell_type": "code",
   "execution_count": null,
   "id": "4973a7f1",
   "metadata": {
    "scrolled": true
   },
   "outputs": [],
   "source": [
    "# import ipyvolume as ipv\n",
    "\n",
    "# u = np.linspace(0.0,    2.0*np.pi, num=180, endpoint=True) \n",
    "# v = np.linspace(-np.pi/2, np.pi/2, num=90,  endpoint=True)\n",
    "# u, v = np.meshgrid(u, v)\n",
    "\n",
    "# X,Y,Z = stripy.spherical.lonlat2xyz(u.reshape(-1),v.reshape(-1))\n",
    "# X = X.reshape(u.shape)\n",
    "# Y = Y.reshape(u.shape)\n",
    "# Z = Z.reshape(u.shape)\n",
    "\n",
    "# u /= 2.0 * np.pi\n",
    "# v = v / np.pi + 0.5\n",
    "\n",
    "# # v = st_mesh.y.reshape(180,90)\n",
    "\n",
    "# from matplotlib import cm\n",
    "# colormap = cm.coolwarm\n",
    "# znorm = Z - Z.min()\n",
    "# znorm /= znorm.ptp()\n",
    "# znorm.min(), znorm.max()\n",
    "\n",
    "# fig = ipv.figure()\n",
    "# fig.style['axes']['visible'] = False\n",
    "# fig.style['box']['visible'] = False\n",
    "\n",
    "# globe = ipv.plot_mesh(X, Y, Z,  u=u, v=v, texture=image, wireframe=False )\n",
    "# ipv.show()"
   ]
  },
  {
   "cell_type": "code",
   "execution_count": 78,
   "id": "79365314",
   "metadata": {},
   "outputs": [
    {
     "data": {
      "text/plain": [
       "131327272"
      ]
     },
     "execution_count": 78,
     "metadata": {},
     "output_type": "execute_result"
    }
   ],
   "source": [
    "# b = open(\"/Users/lmoresi/cloudstor/Datasets4Teaching/Venus/RadarBrightness.jpg\", \"rb\").read()\n",
    "# b1 = open(\"/Users/lmoresi/Desktop/color_etopo1_ice_low_400.gif\", \"rb\").read()\n",
    "b = open(\"GreyEarth.tif\", \"rb\").read()\n",
    "b1 = open(\"/Users/lmoresi/Downloads/GRAY_LR_SR_OB_DR/GRAY_LR_SR_OB_DR.tif\", \"rb\").read()\n",
    "b2 = open(\"/Users/lmoresi/cloudstor/Datasets4Teaching/Venus/RadarBrightness.jpg\", \"rb\").read()\n",
    "len(b1)"
   ]
  },
  {
   "cell_type": "code",
   "execution_count": 79,
   "id": "5b1c360b",
   "metadata": {},
   "outputs": [],
   "source": [
    "\n",
    "U = 0.5 + mesh0.tri.lons_map_to_wrapped(mesh0.tri.lons) / (2.0*np.pi) \n",
    "V = 0.5 - mesh0.tri.lats / np.pi\n"
   ]
  },
  {
   "cell_type": "code",
   "execution_count": 95,
   "id": "b9e0e9ec",
   "metadata": {},
   "outputs": [
    {
     "data": {
      "application/vnd.jupyter.widget-view+json": {
       "model_id": "d0ea6ca9cb0f42d2b4523f8acd54d358",
       "version_major": 2,
       "version_minor": 0
      },
      "text/plain": [
       "Output()"
      ]
     },
     "metadata": {},
     "output_type": "display_data"
    }
   ],
   "source": [
    "import k3d\n",
    "plot = k3d.plot(camera_auto_fit=False)\n",
    "\n",
    "indices = mesh0.tri.simplices.astype(np.uint32)\n",
    "points  = np.column_stack(mesh0.tri.points.T).astype(np.float32)\n",
    "uv      = np.column_stack((U,V)).astype(np.float32)\n",
    "\n",
    "plt_mesh = k3d.mesh(points, indices, wireframe=False, color=0xFFFFFF,\n",
    "                    texture=bpil, texture_file_format=\"tif\" , uvs=uv, \n",
    "                    opacity=0.33\n",
    "                   )\n",
    "\n",
    "plt_mesh2 = k3d.mesh(points*0.9, indices, wireframe=False, color=0xFFFFFF,\n",
    "                    texture=b2, texture_file_format=\".\" , uvs=uv, \n",
    "                    opacity=1.0\n",
    "                   )\n",
    "\n",
    "\n",
    "plot += plt_mesh\n",
    "plot += plt_mesh2\n",
    "plot.display()"
   ]
  },
  {
   "cell_type": "markdown",
   "id": "c47c4e3b",
   "metadata": {},
   "source": [
    "## Save mesh to file\n",
    "\n",
    "A mesh can be saved and imported later. The `QuagMesh` object has the `save_mesh_to_hdf5` method for this, as does `meshtools`.\n",
    "\n",
    "**Note:** Requires PETSc 3.8 or higher"
   ]
  },
  {
   "cell_type": "code",
   "execution_count": null,
   "id": "11e0008a",
   "metadata": {},
   "outputs": [],
   "source": [
    "filename = \"Ex1-refined_mesh.h5\"\n",
    "\n",
    "# save from QuagMesh object:\n",
    "# mesh2.save_mesh_to_hdf5(filename)\n",
    "\n",
    "# save from meshtools:\n",
    "meshtools.save_DM_to_hdf5(DM_r2, filename)\n",
    "\n",
    "# load DM from file\n",
    "DM_r2 = meshtools.create_DMPlex_from_hdf5(filename)\n",
    "\n",
    "mesh2 = QuagMesh(DM_r2)"
   ]
  },
  {
   "cell_type": "code",
   "execution_count": null,
   "id": "9779de7f",
   "metadata": {},
   "outputs": [],
   "source": [
    "print(mesh2.npoints)\n",
    "print(mesh2.area)"
   ]
  },
  {
   "cell_type": "markdown",
   "id": "0f53650a",
   "metadata": {},
   "source": [
    "The next example is [Ex2-Topography-Meshes](./Ex2-Topography-Meshes.md)"
   ]
  }
 ],
 "metadata": {
  "kernelspec": {
   "display_name": "Python 3",
   "language": "python",
   "name": "python3"
  },
  "language_info": {
   "codemirror_mode": {
    "name": "ipython",
    "version": 3
   },
   "file_extension": ".py",
   "mimetype": "text/x-python",
   "name": "python",
   "nbconvert_exporter": "python",
   "pygments_lexer": "ipython3",
   "version": "3.9.4"
  }
 },
 "nbformat": 4,
 "nbformat_minor": 5
}
