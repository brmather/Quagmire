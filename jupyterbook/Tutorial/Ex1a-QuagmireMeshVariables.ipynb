{
 "cells": [
  {
   "cell_type": "markdown",
   "id": "9ed98a6a",
   "metadata": {},
   "source": [
    "# 1.a Mesh Variables\n",
    "\n",
    "Like Underworld, quagmire provides the concept of a \"variable\" which is associated with a mesh. These are parallel data structures on distributed meshes that support various capabilities such as interpolation, gradients, save and load, as well as supporting a number of mathematical operators through the `quagmire.function` interface (examples in the next notebook)."
   ]
  },
  {
   "cell_type": "code",
   "execution_count": 1,
   "id": "26fff1b6",
   "metadata": {},
   "outputs": [],
   "source": [
    "from quagmire.tools import meshtools\n",
    "from quagmire import QuagMesh\n",
    "from quagmire.mesh import MeshVariable\n",
    "import numpy as np  "
   ]
  },
  {
   "cell_type": "markdown",
   "id": "9561e95b",
   "metadata": {},
   "source": [
    "## Working mesh\n",
    "\n",
    "First we create a basic mesh so that we can define mesh variables and obtain gradients etc."
   ]
  },
  {
   "cell_type": "code",
   "execution_count": 2,
   "id": "2ac497b4",
   "metadata": {},
   "outputs": [
    {
     "name": "stdout",
     "output_type": "stream",
     "text": [
      "Origin =  0.0 0.0 Radius =  5.0 Aspect =  1.0\n",
      "Underlying Mesh type: TriMesh\n",
      "0 - Delaunay triangulation 0.08604300000000009s\n",
      "0 - Calculate node weights and area 0.008444875000000351s\n",
      "0 - Find boundaries 0.006860791999999449s\n",
      "0 - cKDTree 0.004818958000001317s\n",
      "0 - Construct neighbour cloud arrays 0.18289795899999994s, (0.12143208400000027s + 0.06143454200000065s)\n",
      "0 - Construct rbf weights 0.018642417000000577s\n"
     ]
    }
   ],
   "source": [
    "minX, maxX = -5.0, 5.0\n",
    "minY, maxY = -5.0, 5.0,\n",
    "dx, dy = 0.02, 0.02\n",
    "\n",
    "x,y, bound = meshtools.generate_elliptical_points(minX, maxX, minY, maxY, dx, dy, 60000, 300)\n",
    "DM = meshtools.create_DMPlex_from_points(x, y, bmask=bound)\n",
    "mesh = QuagMesh(DM, downhill_neighbours=1)"
   ]
  },
  {
   "cell_type": "markdown",
   "id": "43541abc",
   "metadata": {},
   "source": [
    "## Basic usage\n",
    "\n",
    "Mesh variables can be instantiated directly or by adding a new variable to an existing mesh. \n",
    "`print` will display and expanded description of the variable.\n",
    "\n",
    "Note, for use in jupyter notebooks (etc), you can add a latex description (see below)and it\n",
    "will be displayed \"nicely\". The coordinates are added automatically because many things depend\n",
    "on the geometrical context (spherical v. flat). Note that the use of rstrings (`r\"\\LaTeX\"`) to make sure the \n",
    "names are not corrupted due to unexpected special characters."
   ]
  },
  {
   "cell_type": "code",
   "execution_count": 3,
   "id": "2d551198",
   "metadata": {},
   "outputs": [
    {
     "name": "stdout",
     "output_type": "stream",
     "text": [
      "quagmire.MeshVariable: PSI(X,Y) - RW\n"
     ]
    }
   ],
   "source": [
    "phi = mesh.add_variable(name=\"PHI(X,Y)\", lname=r\"\\phi\")\n",
    "psi = mesh.add_variable(name=\"PSI(X,Y)\", lname=r\"\\psi\")\n",
    "\n",
    "# is equivalent to\n",
    "\n",
    "phi1 = MeshVariable(name=\"PSI(X,Y)\", mesh=mesh)\n",
    "psi1 = MeshVariable(name=\"PHI(X,Y)\", mesh=mesh)\n",
    "\n",
    "print(psi)"
   ]
  },
  {
   "cell_type": "code",
   "execution_count": null,
   "id": "6e41b6b8",
   "metadata": {},
   "outputs": [],
   "source": []
  },
  {
   "cell_type": "code",
   "execution_count": 4,
   "id": "13af8240",
   "metadata": {},
   "outputs": [
    {
     "name": "stdout",
     "output_type": "stream",
     "text": [
      "Printed version:\n",
      "quagmire.MeshVariable: PHI(X,Y) - RW\n",
      "\n",
      "\n",
      "Displayed version (latex)\n"
     ]
    },
    {
     "data": {
      "text/latex": [
       "$\\displaystyle \\phi\\left(x,y\\right)$"
      ],
      "text/plain": [
       "<IPython.core.display.Math object>"
      ]
     },
     "metadata": {},
     "output_type": "display_data"
    },
    {
     "name": "stdout",
     "output_type": "stream",
     "text": [
      "\n",
      "\n",
      "Automatically displayed version (latex in notebook, printed in python)\n"
     ]
    },
    {
     "data": {
      "text/latex": [
       "$\\displaystyle \\phi\\left(x,y\\right)$"
      ],
      "text/plain": [
       "<IPython.core.display.Math object>"
      ]
     },
     "metadata": {},
     "output_type": "display_data"
    }
   ],
   "source": [
    "## latex / jupyter additions:\n",
    "\n",
    "phi = mesh.add_variable(name=\"PHI(X,Y)\", lname=r\"\\phi\")\n",
    "psi = mesh.add_variable(name=\"PSI(X,Y)\", lname=r\"\\psi\")\n",
    "\n",
    "print(\"Printed version:\")\n",
    "print(phi)\n",
    "print(\"\\n\")\n",
    "print(\"Displayed version (latex)\")\n",
    "phi.display()\n",
    "print(\"\\n\")\n",
    "\n",
    "# Or just display the object using jupyter\n",
    "print(\"Automatically displayed version (latex in notebook, printed in python)\")\n",
    "phi"
   ]
  },
  {
   "cell_type": "markdown",
   "id": "4bebbea7",
   "metadata": {},
   "source": [
    "Mesh variables store their data in a PETSc distributed vector with values on the local mesh accessible through a numpy interface (via to petsc4py). For consistency with `underworld`, the numpy array is accessed as the `data` property on the variable as follows"
   ]
  },
  {
   "cell_type": "code",
   "execution_count": 5,
   "id": "90dca19c",
   "metadata": {},
   "outputs": [],
   "source": [
    "phi.data = np.sin(mesh.coords[:,0])**2.0 \n",
    "psi.data = np.cos(mesh.coords[:,0])**2.0 * np.sin(mesh.coords[:,1])**2.0 "
   ]
  },
  {
   "cell_type": "markdown",
   "id": "d62eaf2d",
   "metadata": {},
   "source": [
    "Note that the following is not allowed\n",
    "\n",
    "```python\n",
    "phi.data[0] = 1.0\n",
    "```\n",
    "\n",
    "and nor is any other change to a single value in the array. This is done so that we can be sure that\n",
    "the values in the array are always synchronised across processors at the end of an assignment. It is also\n",
    "done to control cases where there are dependencies on the variable that go beyond synchronisation (for example,\n",
    "changing the topography variable rebuilds the flow pathways in a surface process context). \n",
    "\n",
    "You can work with a local copy of the vector and update all at once if you need to build incremental changes to values, work without synchronisation across processors or avoid rebuilding of dependent quantities."
   ]
  },
  {
   "cell_type": "markdown",
   "id": "dd8ec7f9",
   "metadata": {},
   "source": [
    "A MeshVariable object responds to a `print` statement by stating what it is and its name. To print the contents of the variable (locally), access the values through the data property:"
   ]
  },
  {
   "cell_type": "code",
   "execution_count": 6,
   "id": "9cfcc718",
   "metadata": {},
   "outputs": [
    {
     "name": "stdout",
     "output_type": "stream",
     "text": [
      "quagmire.MeshVariable: PHI(X,Y) - RW | quagmire.MeshVariable: PSI(X,Y) - RW\n",
      "[0.07053991 0.04597266 0.033714   ... 0.01094639 0.00487537 0.00122039]\n"
     ]
    }
   ],
   "source": [
    "print(phi, \"|\", psi)\n",
    "print(phi.data)"
   ]
  },
  {
   "cell_type": "markdown",
   "id": "99570fa3",
   "metadata": {},
   "source": [
    "Mesh variables can be read only (locked). The RO (read only) and RW (read / write) markers are shown when the variable is printed. \n",
    "\n",
    "```python\n",
    "phi.lock()\n",
    "print(phi)\n",
    "phi.unlock()\n",
    "print(phi)\n",
    "```\n",
    "\n",
    "Generally locking is done to prevent changes to a variable's data because additional updates depend on controlling when changes are made. Access to `lock` and `unlock` is"
   ]
  },
  {
   "cell_type": "code",
   "execution_count": 7,
   "id": "aff84fe1",
   "metadata": {},
   "outputs": [
    {
     "name": "stdout",
     "output_type": "stream",
     "text": [
      "quagmire.MeshVariable: PHI(X,Y) - RO\n",
      "quagmire.MeshVariable: PHI(X,Y) - RW\n"
     ]
    }
   ],
   "source": [
    "phi.lock()\n",
    "print(phi)\n",
    "phi.unlock()\n",
    "print(phi)"
   ]
  },
  {
   "cell_type": "markdown",
   "id": "060c21c7",
   "metadata": {},
   "source": [
    "## Parallel support\n",
    "\n",
    "The `MeshVariable` class has a `sync` method that, when called, will replace shadow information with values from adjacent sections of the decomposition (or optionally, merge values in the shadow zone - an operation that should be used with caution for global reduction type operations). \n",
    "\n",
    "If you alter data in the shadow zone in a way that cannot be guaranteed to be the same on another processor, then some form of synchronisation is required when you are done. This is not fully automated as there may be several stages to your updates that you only want to synchronise at the end. But, still, be careful !"
   ]
  },
  {
   "cell_type": "code",
   "execution_count": 8,
   "id": "42dcb3ed",
   "metadata": {},
   "outputs": [],
   "source": [
    "phi.sync()\n",
    "\n",
    "phi.sync(mergeShadow=True) # this will add the values from each processor in parallel"
   ]
  },
  {
   "cell_type": "markdown",
   "id": "21387417",
   "metadata": {},
   "source": [
    "These kinds of parallel operations must be called on every processor or they will block while waiting for everyone to finish. Be careful not to call sync inside a conditional which may be executed differently \n",
    "\n",
    "```python\n",
    "\n",
    "import quagmire\n",
    "\n",
    "# Don't do this (obviously)\n",
    "if quagmire.rank == 0:\n",
    "    phi.sync()   \n",
    "   \n",
    "# or something a little bit less obvious\n",
    "if delta_phi > 0.0:\n",
    "    phi.sync()\n",
    "    \n",
    "# This might be OK but it is not required\n",
    "if quagmire.size > 1:\n",
    "    phi.sync()\n",
    "\n",
    "```"
   ]
  },
  {
   "cell_type": "markdown",
   "id": "e81973d3",
   "metadata": {},
   "source": [
    "## Evaluate method and fn_gradient\n",
    "\n",
    "MeshVariables support the `evaluate` method (because they are `quagmire.functions`) which is useful as it generalises various interfaces that are available to access the data. If a mesh is supplied, then evaluate checks to see if this corresponds to the mesh associated with the mesh variable and returns the raw data if it does. Otherwise the mesh coordinates are used for interpolation. If two coordinate arrays are supplied then these are passed to the interpolator. \n",
    "\n",
    "NOTE: the interpolator will also extrapolate and may (is likely to) produce poor results for off-processor coordinates. If this is a problem, the `MeshVariable.interpolate` method can be accessed directly with the `err` optional argument."
   ]
  },
  {
   "cell_type": "code",
   "execution_count": 9,
   "id": "aaaa88ff",
   "metadata": {},
   "outputs": [
    {
     "name": "stdout",
     "output_type": "stream",
     "text": [
      "[0.14107982 0.09194532 0.067428   ... 0.02189278 0.00975074 0.00244078]\n",
      "[0.14107982 0.09194532 0.067428   ... 0.02189278 0.00975074 0.00244078]\n",
      "[0.14107982 0.09194532 0.067428   ... 0.02189278 0.00975074 0.00244078]\n",
      "[0.14107982 0.09194532 0.067428   ... 0.02189278 0.00975074 0.00244078]\n",
      "[[0.00143384]]\n",
      "[0.00143384]\n"
     ]
    }
   ],
   "source": [
    "## Raw nodal point data for the local domain\n",
    "\n",
    "print(phi.data)\n",
    "print(phi.evaluate(mesh))\n",
    "print(phi.evaluate(phi._mesh)) \n",
    "print(phi.evaluate()) \n",
    "\n",
    "\n",
    "## interpolation at a point \n",
    "\n",
    "print(phi.interpolate(0.01,1.0))\n",
    "print(phi.evaluate((0.01, 1.0)))"
   ]
  },
  {
   "cell_type": "markdown",
   "id": "6fdf6b6d",
   "metadata": {},
   "source": [
    "## Derivatives / gradients\n",
    "\n",
    "Mesh based variables can be differentiated in (X,Y). There is a `_gradient` method inherited from the `stripy` package that supplies the coefficients of the derivative surface at the nodal points (these may then need to be interpolated). A more general interface is also provided in the form of functions which not only compute the gradient but also handle interpolation between meshes and are also evaluated on demand (i.e. can be composed into functions)."
   ]
  },
  {
   "cell_type": "code",
   "execution_count": 10,
   "id": "996472c5",
   "metadata": {},
   "outputs": [
    {
     "name": "stdout",
     "output_type": "stream",
     "text": [
      "dPSIdx - N:  [0.47060129 0.38795006 0.33238187 ... 0.18969753 0.13065599 0.06281495]\n",
      "dPSIdy - N:  [ 0.48726764  0.50251126  0.49707913 ... -0.53015333 -0.52665526\n",
      " -0.52292377]\n",
      "dPSIdx - F:  [0.47060129 0.38795006 0.33238187 ... 0.18969753 0.13065599 0.06281495]\n",
      "dPSIdx - point evaluation  [-0.01712131]\n"
     ]
    }
   ],
   "source": [
    "dpsi = psi._gradient()\n",
    "dpsidx_nodes = dpsi[:,0]\n",
    "dpsidy_nodes = dpsi[:,1]\n",
    "print(\"dPSIdx - N: \",  dpsidx_nodes)\n",
    "print(\"dPSIdy - N: \",  dpsidy_nodes)\n",
    "\n",
    "dpsidx_fn = psi.fn_gradient(0) # (0) for X derivative, (1) for Y\n",
    "print(\"dPSIdx - F: \",  dpsidx_fn.evaluate(mesh))\n",
    "print(\"dPSIdx - point evaluation \",  dpsidx_fn.evaluate((0.01, 1.0)))"
   ]
  },
  {
   "cell_type": "markdown",
   "id": "ed71c1fc",
   "metadata": {},
   "source": [
    "## Higher derivatives\n",
    "\n",
    "The easiest way to form higher derivatives for a mesh variable is to use the nesting properties of the gradient functions. \n",
    "These form gradients and use the same mesh to find *their* gradients. However, the do so in a way that does not require\n",
    "defining and handling intermediary mesh variables. \n",
    "\n",
    "Let's take a look to see how these methods work:"
   ]
  },
  {
   "cell_type": "code",
   "execution_count": 11,
   "id": "f3094aaa",
   "metadata": {},
   "outputs": [
    {
     "name": "stdout",
     "output_type": "stream",
     "text": [
      "[-1.63959694 -1.74894834 -1.692487   ... -1.72293305 -1.80926263\n",
      " -1.916224  ]\n",
      "[-1.63959694 -1.74894834 -1.692487   ... -1.72293305 -1.80926263\n",
      " -1.916224  ]\n",
      "[-1.63959694 -1.74894834 -1.692487   ... -1.72293305 -1.80926263\n",
      " -1.916224  ]\n"
     ]
    }
   ],
   "source": [
    "## This way uses the underlying mesh structure to extract gradients and store the result\n",
    "\n",
    "dpsidx_var = mesh.add_variable(\"dpsidx\")\n",
    "dpsidx_var.data = dpsidx_nodes\n",
    "dpsidy_var = mesh.add_variable(\"dpsidy\")\n",
    "dpsidy_var.data = dpsidy_nodes\n",
    "\n",
    "\n",
    "print( dpsidx_var._gradient()[:,0] )\n",
    "\n",
    "\n",
    "## And this way is function based (two equivalent interfaces)\n",
    "\n",
    "d2psidx2_fn  = dpsidx_fn.fn_gradient(0)\n",
    "d2psidx2_fn2 = dpsidx_fn.derivative(0)\n",
    "\n",
    "print( d2psidx2_fn.evaluate(mesh))\n",
    "print( d2psidx2_fn2.evaluate(mesh))"
   ]
  },
  {
   "cell_type": "markdown",
   "id": "50f9ce44",
   "metadata": {},
   "source": [
    "The function based method is more simple and has some advantages if the data in the original variable change - the gradient function \n",
    "handles those updates automatically. Note how the mesh variable version does not update whereas the function based version does. We will see\n",
    "in the next example notebook how the function system works in detail. For now, though, simply note that the function is not evaluated\n",
    "until it is needed and so can be defined in an abstract manner independent of the data in the variable."
   ]
  },
  {
   "cell_type": "code",
   "execution_count": 12,
   "id": "453a1912",
   "metadata": {},
   "outputs": [
    {
     "name": "stdout",
     "output_type": "stream",
     "text": [
      "[-1.63959694 -1.74894834 -1.692487   ... -1.72293305 -1.80926263\n",
      " -1.916224  ]\n",
      "[-1.63959694 -1.74894834 -1.692487   ... -1.72293305 -1.80926263\n",
      " -1.916224  ]\n",
      "[-1.63959694 -1.74894834 -1.692487   ... -1.72293305 -1.80926263\n",
      " -1.916224  ]\n"
     ]
    }
   ],
   "source": [
    "## change the data in the PSI variable:\n",
    "\n",
    "psi.data = 2.0 * np.cos(mesh.coords[:,0])**2.0 * np.sin(mesh.coords[:,1])**2.0 \n",
    "\n",
    "print( dpsidx_var._gradient()[:,0] )\n",
    "print(  0.5 * d2psidx2_fn.evaluate(mesh) )\n",
    "print( (0.5 * d2psidx2_fn).evaluate(mesh))"
   ]
  },
  {
   "cell_type": "markdown",
   "id": "fb286a6a",
   "metadata": {},
   "source": [
    "This is how we can define a Laplacian of the variable (in Cartesian geometry) using the function interface. This approach allows\n",
    "the operator to be a self-updating variable that can be passed around as though it was a simple mesh variable. Note that the\n",
    "functions have some helpful associated descriptive text that explains what they are. \n",
    "\n",
    "Also note, this is not a generic operator as it is specific to this variable but more general operators can be constructed \n",
    "with very little overhead because the interface is very lightweight."
   ]
  },
  {
   "cell_type": "code",
   "execution_count": 13,
   "id": "8ec12dff",
   "metadata": {},
   "outputs": [
    {
     "name": "stdout",
     "output_type": "stream",
     "text": [
      "quagmire.fn: d(grad(PHI(X,Y))|x0)/d0 + d(grad(PHI(X,Y))|x1)/dY\n",
      "[2.16267824 2.82868171 3.58311781 ... 3.21086287 2.8393122  3.5194788 ]\n"
     ]
    }
   ],
   "source": [
    "laplace_phi_xy = phi.derivative(0).derivative(0) + phi.derivative(1).derivative(1)\n",
    "print(laplace_phi_xy)\n",
    "\n",
    "print(laplace_phi_xy.evaluate(mesh))"
   ]
  },
  {
   "cell_type": "markdown",
   "id": "91089983",
   "metadata": {},
   "source": [
    "## Visualisation"
   ]
  },
  {
   "cell_type": "markdown",
   "id": "6f499d3f",
   "metadata": {},
   "source": [
    "The following should all evaluate to zero everywhere and so act as a test on the accuracy of the gradient operator"
   ]
  },
  {
   "cell_type": "code",
   "execution_count": 27,
   "id": "11593009",
   "metadata": {},
   "outputs": [
    {
     "data": {
      "application/vnd.jupyter.widget-view+json": {
       "model_id": "c2c51b79e8a549ddb579f58bf7babcd0",
       "version_major": 2,
       "version_minor": 0
      },
      "text/plain": [
       "Output()"
      ]
     },
     "metadata": {},
     "output_type": "display_data"
    }
   ],
   "source": [
    "\n",
    "import k3d\n",
    "\n",
    "plot = k3d.plot(camera_auto_fit=True,   grid_visible=False)\n",
    "\n",
    "mesh0 = mesh\n",
    "indices = mesh0.tri.simplices.astype(np.uint32)\n",
    "points  = np.column_stack((mesh0.coords, mesh0.coords[:,0]*0.0)).astype(np.float32)\n",
    "\n",
    "plt_phi = k3d.mesh(points, indices, wireframe=False, attribute=phi.evaluate(mesh0), color_map=k3d.basic_color_maps.Greens)\n",
    "plt_psi = k3d.mesh(points, indices, wireframe=False, attribute=psi.evaluate(mesh0), color_map=k3d.basic_color_maps.Blues)\n",
    "\n",
    "plot += plt_phi\n",
    "plot += plt_psi\n",
    "plot.display()\n",
    "\n",
    "\n",
    "\n"
   ]
  },
  {
   "cell_type": "markdown",
   "id": "0276ff84",
   "metadata": {},
   "source": [
    "## Saving and loading mesh variables\n",
    "\n",
    "There are 2 equivalent ways to save a mesh (PETSc DM) to a file. The first is to call `meshtools.save_DM_to_hdf5` and the second is to call the mesh object's own method `mesh.save_mesh_to_hdf5(filename)`. Mesh variables have a similar save method"
   ]
  },
  {
   "cell_type": "code",
   "execution_count": 28,
   "id": "eb840656",
   "metadata": {},
   "outputs": [],
   "source": [
    "mesh.save_mesh_to_hdf5(\"Ex1a-circular_mesh.h5\")\n",
    "psi.save(\"Ex1a-circular_mesh_psi.h5\")\n",
    "phi.save(\"Ex1a-circular_mesh_phi.h5\")"
   ]
  },
  {
   "cell_type": "markdown",
   "id": "5c64847f",
   "metadata": {},
   "source": [
    "We can then use these files to:\n",
    "  - Build a new copy of the mesh\n",
    "  - Add new mesh variables to that mesh\n",
    "  - read the values back in"
   ]
  },
  {
   "cell_type": "code",
   "execution_count": 29,
   "id": "171b43f3",
   "metadata": {},
   "outputs": [
    {
     "name": "stdout",
     "output_type": "stream",
     "text": [
      "Underlying Mesh type: TriMesh\n",
      "0 - Delaunay triangulation 0.19128104199990048s\n",
      "0 - Calculate node weights and area 0.0076949170006628265s\n",
      "0 - Find boundaries 0.005896167000173591s\n",
      "0 - cKDTree 0.005034333999901719s\n",
      "0 - Construct neighbour cloud arrays 0.19924345800063747s, (0.13756191700031195s + 0.06164820799949666s)\n",
      "0 - Construct rbf weights 0.016812374999972235s\n",
      "47362 47362\n"
     ]
    }
   ],
   "source": [
    "DM2 = meshtools.create_DMPlex_from_hdf5(\"Ex1a-circular_mesh.h5\")\n",
    "mesh2 = QuagMesh(DM2)\n",
    "\n",
    "print(mesh.npoints, mesh2.npoints)\n",
    "\n",
    "phi2 = mesh2.add_variable(name=\"PHI(X,Y)\")\n",
    "psi2 = mesh2.add_variable(name=\"PSI(X,Y)\")\n",
    "\n",
    "psi2.load(\"Ex1a-circular_mesh_psi.h5\")\n",
    "phi2.load(\"Ex1a-circular_mesh_phi.h5\")"
   ]
  },
  {
   "cell_type": "markdown",
   "id": "104add54",
   "metadata": {},
   "source": [
    "## Mesh variable save / load and names\n",
    "\n",
    "The names that are stored in the mesh variable hdf5 file are needed to retrieve the information again. That means the mesh variable that is loaded needs to match the one that was saved *Exactly*. This will not work:\n",
    "\n",
    "``` python\n",
    "psi3 = mesh2.add_variable(name=\"PSI\")\n",
    "psi3.load(\"Ex1a-circular_mesh_psi.h5\")\n",
    "```\n",
    "\n",
    "but, as long as you know the name of the original MeshVariable, you can do this:\n",
    "\n",
    "\n",
    "``` python\n",
    "psi3.load(\"Ex1a-circular_mesh_psi.h5\", name=\"PSI(X,Y)\")\n",
    "```"
   ]
  },
  {
   "cell_type": "code",
   "execution_count": 30,
   "id": "971cbea1",
   "metadata": {},
   "outputs": [
    {
     "data": {
      "text/plain": [
       "array([1.72745546, 1.77106786, 1.79824692, ..., 1.81471569, 1.82518599,\n",
       "       1.83148632])"
      ]
     },
     "execution_count": 30,
     "metadata": {},
     "output_type": "execute_result"
    }
   ],
   "source": [
    "psi3 = mesh2.add_variable(name=\"PSI\")\n",
    "psi3.load(\"Ex1a-circular_mesh_psi.h5\", name=\"PSI(X,Y)\")\n",
    "psi3.data"
   ]
  },
  {
   "cell_type": "code",
   "execution_count": 31,
   "id": "ccc949d3",
   "metadata": {},
   "outputs": [
    {
     "name": "stdout",
     "output_type": "stream",
     "text": [
      "0.14107981550434526 1.7274554571245162\n"
     ]
    }
   ],
   "source": [
    "print(phi.data[0], psi.data[0])"
   ]
  },
  {
   "cell_type": "code",
   "execution_count": null,
   "id": "92d871ca",
   "metadata": {},
   "outputs": [],
   "source": []
  }
 ],
 "metadata": {
  "kernelspec": {
   "display_name": "Python 3",
   "language": "python",
   "name": "python3"
  },
  "language_info": {
   "codemirror_mode": {
    "name": "ipython",
    "version": 3
   },
   "file_extension": ".py",
   "mimetype": "text/x-python",
   "name": "python",
   "nbconvert_exporter": "python",
   "pygments_lexer": "ipython3",
   "version": "3.9.4"
  }
 },
 "nbformat": 4,
 "nbformat_minor": 5
}
