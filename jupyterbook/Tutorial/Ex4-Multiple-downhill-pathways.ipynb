{
 "cells": [
  {
   "cell_type": "markdown",
   "id": "63be9b10",
   "metadata": {},
   "source": [
    "# 4. Multiple paths downhill\n",
    "\n",
    "`Quagmire` allows the user to specify the number of downhill pathways to model flow in regions where diverging flow does not naturally fit the single-path-downhill view of the converging tributary view of stream flow. This also has some interesting effects on the numerical / discretisation errors.\n",
    "\n",
    "```python\n",
    "mesh.downhill_neighbours = 1\n",
    "mesh.update_height(height)\n",
    "```\n",
    "where an integer specifies the number of downhill neighbour nodes (recipients) that will receive information of information from a donor node (1, 2 or 3 are usual, but the routine is general and will use second-nearest neighbours if they can be found at lower elevations). The `QuagMesh` object can also be initialised with:\n",
    "\n",
    "```python\n",
    "mesh = QuagMesh(DM, downhill_neighbours=1)\n",
    "```\n",
    "\n",
    "to specify the number of downhill neighbours (default is 2).\n",
    "\n",
    "In this notebook we use a landscape function with many outflow points to examine the effect of varying the number of recipient nodes on catchment area, stream lengths, and outflow fluxes.\n",
    "\n",
    "We also consider how expensive it is to use multiple path approaches."
   ]
  },
  {
   "cell_type": "code",
   "execution_count": 1,
   "id": "00ab0a7f",
   "metadata": {},
   "outputs": [],
   "source": [
    "import matplotlib.pyplot as plt\n",
    "import numpy as np\n",
    "from quagmire import tools as meshtools\n",
    "%matplotlib inline"
   ]
  },
  {
   "cell_type": "markdown",
   "id": "ccea117d",
   "metadata": {},
   "source": [
    "## Build a test mesh\n",
    "\n",
    "We use a circular, triangulated domain with a height that represents a _crenulated sombrero_ topography. No noise is added - any irregularities are the result of discretisation."
   ]
  },
  {
   "cell_type": "code",
   "execution_count": 2,
   "id": "0356d9b5",
   "metadata": {},
   "outputs": [
    {
     "name": "stdout",
     "output_type": "stream",
     "text": [
      "Underlying Mesh type: TriMesh\n",
      "0 - Delaunay triangulation 0.7108418330000035s\n",
      "0 - Calculate node weights and area 0.04893049999999732s\n",
      "0 - Find boundaries 0.030858792000003632s\n",
      "0 - cKDTree 0.033236875000000055s\n",
      "0 - Construct neighbour cloud arrays 1.0653952910000015s, (0.7118491250000005s + 0.35350941699999794s)\n",
      "0 - Construct rbf weights 0.09845241600000065s\n",
      "\n",
      "Number of points in the triangulation: 250379\n",
      "Downhill neighbour paths: 2\n"
     ]
    }
   ],
   "source": [
    "from quagmire import QuagMesh \n",
    "from quagmire import QuagMesh # all routines we need are within this class\n",
    "from quagmire import QuagMesh\n",
    "\n",
    "\n",
    "minX, maxX = -5.0, 5.0\n",
    "minY, maxY = -5.0, 5.0,\n",
    "\n",
    "spacingX = 0.01\n",
    "spacingY = 0.01\n",
    "\n",
    "x, y, simplices = meshtools.elliptical_mesh(minX, maxX, minY, maxY, spacingX, spacingY, random_scale=1.0)\n",
    "DM = meshtools.create_DMPlex(x, y, simplices)\n",
    "\n",
    "mesh = QuagMesh(DM)\n",
    "\n",
    "print( \"\\nNumber of points in the triangulation: {}\".format(mesh.npoints))\n",
    "print( \"Downhill neighbour paths: {}\".format(mesh.downhill_neighbours))"
   ]
  },
  {
   "cell_type": "code",
   "execution_count": 3,
   "id": "48156d78",
   "metadata": {},
   "outputs": [
    {
     "name": "stdout",
     "output_type": "stream",
     "text": [
      "0 - Build downhill matrices 6.645978583999998s\n",
      "0 - Build upstream areas 3.66539375s\n"
     ]
    }
   ],
   "source": [
    "x = mesh.coords[:,0]\n",
    "y = mesh.coords[:,1]\n",
    "bmask = mesh.bmask\n",
    "\n",
    "radius  = np.sqrt((x**2 + y**2))\n",
    "theta   = np.arctan2(y,x) + 0.1\n",
    "\n",
    "height  = np.exp(-0.025*(x**2 + y**2)**2) + 0.25 * (0.2*radius)**4  * np.cos(5.0*theta)**2 ## Less so\n",
    "height  += 0.5 * (1.0-0.2*radius)\n",
    "\n",
    "with mesh.deform_topography():\n",
    "    mesh.downhill_neighbours = 2\n",
    "    mesh.topography.data = height\n",
    "\n",
    "rainfall_fn = mesh.topography ** 2.0"
   ]
  },
  {
   "cell_type": "code",
   "execution_count": 4,
   "id": "415cbad4",
   "metadata": {},
   "outputs": [
    {
     "name": "stderr",
     "output_type": "stream",
     "text": [
      "/Users/lmoresi/mambaforge/envs/underworld/lib/python3.9/site-packages/traittypes/traittypes.py:97: UserWarning: Given trait value dtype \"float64\" does not match required type \"float32\". A coerced copy has been created.\n",
      "  warnings.warn(\n"
     ]
    },
    {
     "data": {
      "application/vnd.jupyter.widget-view+json": {
       "model_id": "a1d81cce00f542468c3466706ebee4b8",
       "version_major": 2,
       "version_minor": 0
      },
      "text/plain": [
       "Output()"
      ]
     },
     "metadata": {},
     "output_type": "display_data"
    }
   ],
   "source": [
    "\n",
    "colorby_1 = mesh.topography.evaluate(mesh)\n",
    "colorby_2 = rainfall_fn.evaluate(mesh)\n",
    "\n",
    "import k3d\n",
    "\n",
    "plot = k3d.plot(grid_visible=False, lighting=0.75)\n",
    "indices = mesh.tri.simplices.astype(np.uint32)\n",
    "points  = np.column_stack([mesh.tri.points, height]).astype(np.float32)\n",
    "\n",
    "plot += k3d.mesh(points+(00.0,0.0,0.0), indices, wireframe=False, flat_shading=True, side=\"double\",\n",
    "                    color_map = k3d.colormaps.paraview_color_maps.Gist_earth,\n",
    "                    attribute=colorby_1,\n",
    "                   )\n",
    "\n",
    "plot += k3d.mesh(points+(15.0,0.0,0.0), indices, wireframe=False, flat_shading=True, side=\"double\",\n",
    "                    color_map = k3d.colormaps.matplotlib_color_maps.Blues,\n",
    "                    attribute=colorby_2,\n",
    "                   )\n",
    "\n",
    "plot.display()\n",
    "\n",
    "\n"
   ]
  },
  {
   "cell_type": "code",
   "execution_count": 5,
   "id": "6866b5cd",
   "metadata": {},
   "outputs": [],
   "source": [
    "mo1 = mesh.identify_outflow_points()\n",
    "i = np.argsort(theta[mo1])\n",
    "outflows = mo1[i]"
   ]
  },
  {
   "cell_type": "markdown",
   "id": "e66006c4",
   "metadata": {},
   "source": [
    "## 1-2-3 downhill neighbours\n",
    "\n",
    "In the case of 1 downhill neighbour, all of the water (information) from the parent node is given to a single recipient node. For more than one downhill neighbour, the water is partitioned based on the slope from the parent to recipient nodes.\n",
    "\n",
    "From [Tucker *et al.* (2010)](http://doi.wiley.com/10.1002/esp.1952), the algorithm that controls this is:\n",
    "\n",
    "$$\n",
    "\\frac{Q_i}{Q_{\\mathrm{total}}} = \\frac{S_i^{\\alpha}}{\\sum_{i=1}^{N} S_i^{\\alpha}}\n",
    "$$\n",
    "\n",
    "where $\\alpha = 0.5$."
   ]
  },
  {
   "cell_type": "code",
   "execution_count": 6,
   "id": "42c585e7",
   "metadata": {},
   "outputs": [
    {
     "name": "stdout",
     "output_type": "stream",
     "text": [
      "--- 2 downhill neighbours ---\n",
      "0 - Build downhill matrices 4.180064041000001s\n",
      "0 - Build upstream areas 3.6466808340000014s\n",
      "--- 3 downhill neighbour ---\n",
      "0 - Build downhill matrices 6.225009833000001s\n",
      "0 - Build upstream areas 3.9884087080000086s\n",
      "--- 1 downhill neighbour---\n",
      "0 - Build downhill matrices 1.8363700829999914s\n",
      "0 - Build upstream areas 2.7617648749999972s\n"
     ]
    }
   ],
   "source": [
    "flowpaths = mesh.upstream_integral_fn(rainfall_fn)\n",
    "\n",
    "print(\"--- 2 downhill neighbours ---\")\n",
    "mesh.downhill_neighbours = 2\n",
    "# mesh.update_height(height)\n",
    "\n",
    "mo2 = mesh.identify_outflow_points()\n",
    "flowpaths2 = flowpaths.evaluate(mesh)\n",
    "outflow2   = flowpaths2[mo2]\n",
    "\n",
    "# logpaths = np.log10(flowpaths)\n",
    "# sqrtpaths = np.sqrt(flowpaths)\n",
    "\n",
    "print(\"--- 3 downhill neighbour ---\")\n",
    "mesh.downhill_neighbours = 3\n",
    "# mesh.update_height(height)\n",
    "\n",
    "mo3 = mesh.identify_outflow_points()\n",
    "flowpaths3 = flowpaths.evaluate(mesh)\n",
    "outflow3   = flowpaths3[mo3]\n",
    "\n",
    "# logpaths3 = np.log10(flowpaths3)\n",
    "# sqrtpaths3 = np.sqrt(flowpaths3)\n",
    "\n",
    "print(\"--- 1 downhill neighbour---\")\n",
    "mesh.downhill_neighbours = 1\n",
    "# mesh.update_height(height)\n",
    "\n",
    "mo1 = mesh.identify_outflow_points()\n",
    "flowpaths1 = flowpaths.evaluate(mesh)\n",
    "outflow1   = flowpaths1[mo1]\n",
    "\n",
    "\n",
    "# logpaths1 = np.log10(flowpaths1)\n",
    "# sqrtpaths1 = np.sqrt(flowpaths1)"
   ]
  },
  {
   "cell_type": "code",
   "execution_count": 7,
   "id": "02f559b1",
   "metadata": {},
   "outputs": [
    {
     "data": {
      "application/vnd.jupyter.widget-view+json": {
       "model_id": "29760653cb95460d91484072c8245fbf",
       "version_major": 2,
       "version_minor": 0
      },
      "text/plain": [
       "Output()"
      ]
     },
     "metadata": {},
     "output_type": "display_data"
    }
   ],
   "source": [
    "\n",
    "colorby_1 = flowpaths1\n",
    "colorby_2 = flowpaths2\n",
    "colorby_3 = flowpaths3\n",
    "\n",
    "\n",
    "import k3d\n",
    "\n",
    "plot = k3d.plot(grid_visible=False, lighting=0.75)\n",
    "indices = mesh.tri.simplices.astype(np.uint32)\n",
    "points  = np.column_stack([mesh.tri.points, height]).astype(np.float32)\n",
    "\n",
    "plot += k3d.mesh(points+(00.0,0.0,0.0), indices, wireframe=False, flat_shading=True, side=\"double\",\n",
    "                    color_map = k3d.colormaps.matplotlib_color_maps.Blues,\n",
    "                    attribute=colorby_1,\n",
    "                    color_range = [0.0,1.0]\n",
    "                   )\n",
    "\n",
    "plot += k3d.mesh(points+(15.0,0.0,0.0), indices, wireframe=False, flat_shading=True, side=\"double\",\n",
    "                    color_map = k3d.colormaps.matplotlib_color_maps.Blues,\n",
    "                    attribute=colorby_2,\n",
    "                    color_range = [0.0,1.0]\n",
    "                   )\n",
    "\n",
    "plot += k3d.mesh(points+(30.0,0.0,0.0), indices, wireframe=False, flat_shading=True, side=\"double\",\n",
    "                    color_map = k3d.colormaps.matplotlib_color_maps.Blues,\n",
    "                    attribute=colorby_3,\n",
    "                    color_range = [0.0,1.0]\n",
    "                   )\n",
    "\n",
    "plot.display()\n",
    "\n",
    "\n",
    "\n"
   ]
  },
  {
   "cell_type": "code",
   "execution_count": 17,
   "id": "2d3eee0d",
   "metadata": {},
   "outputs": [
    {
     "data": {
      "image/png": "[encoded data removed]",
      "text/plain": [
       "<Figure size 720x432 with 1 Axes>"
      ]
     },
     "metadata": {
      "needs_background": "light"
     },
     "output_type": "display_data"
    }
   ],
   "source": [
    "import matplotlib.pyplot as plt\n",
    "%matplotlib inline\n",
    "\n",
    "\n",
    "# plot bar graph of cumulative rain for each outflow point\n",
    "\n",
    "outflow_range = np.arange(0, len(outflow1))\n",
    "\n",
    "fig = plt.figure(figsize=(10,6))\n",
    "ax1 = fig.add_subplot(111, xlabel='outflow node', ylabel='cumulative rain')\n",
    "ax1.bar(outflow_range, width=0.3, height=outflow1, label='outflow 1')\n",
    "ax1.bar(outflow_range+0.3, width=0.3, height=outflow2, label='outflow 2')\n",
    "ax1.bar(outflow_range+0.6, width=0.3, height=outflow3, label='outflow 3')\n",
    "\n",
    "ax1.legend(ncol=3)\n",
    "plt.show()"
   ]
  },
  {
   "cell_type": "markdown",
   "id": "190b6b43",
   "metadata": {},
   "source": [
    "## Computational Efficiency\n",
    "\n",
    "Compare metrics of the downhill matrix...\n",
    "\n",
    "The number of nonzero elements in the matrix increases with more downhill neighbours as does the construction time. The difference in solution converges after 3 downhill neighbours."
   ]
  },
  {
   "cell_type": "code",
   "execution_count": 9,
   "id": "4267e638",
   "metadata": {},
   "outputs": [
    {
     "name": "stdout",
     "output_type": "stream",
     "text": [
      "0 - Build downhill matrices 4.032934249999997s\n",
      "0 - Build upstream areas 3.729282832999999s\n",
      "0 - Build downhill matrices 6.1604346660000004s\n",
      "0 - Build upstream areas 3.9158349579999907s\n",
      "0 - Build downhill matrices 8.130687249999994s\n",
      "0 - Build upstream areas 3.9265193750000122s\n",
      "0 - Build downhill matrices 10.346841124999997s\n",
      "0 - Build upstream areas 3.890271541000004s\n",
      "0 - Build downhill matrices 12.299138290999991s\n",
      "0 - Build upstream areas 3.757664458999983s\n",
      "0 - Build downhill matrices 14.293661250000014s\n",
      "0 - Build upstream areas 3.666082708999994s\n",
      "0 - Build downhill matrices 16.39846591699998s\n",
      "0 - Build upstream areas 3.6382929589999833s\n",
      "0 - Build downhill matrices 18.495401041999997s\n",
      "0 - Build upstream areas 3.6263284999999996s\n"
     ]
    }
   ],
   "source": [
    "flowpaths_fn = mesh.upstream_integral_fn(rainfall_fn)\n",
    "flowpaths = flowpaths_fn.evaluate(mesh)\n",
    "# storage vectors\n",
    "nz = []\n",
    "max_diff = []\n",
    "\n",
    "\n",
    "max_downhill_neighbours = 10\n",
    "\n",
    "for n in range(2, max_downhill_neighbours):\n",
    "    flowpaths_old = flowpaths.copy()\n",
    "    \n",
    "    mesh.downhill_neighbours = n\n",
    "    # mesh.update_height(height)\n",
    "    downhillMat_info = mesh.downhillMat.getInfo()\n",
    "    \n",
    "    flowpaths = flowpaths_fn.evaluate(mesh)\n",
    "    # flowpaths = mesh.streamwise_smoothing(flowpaths, 2)\n",
    "    \n",
    "    nz.append( downhillMat_info['nz_allocated'] )\n",
    "    max_diff.append( np.abs(flowpaths - flowpaths_old).max() )"
   ]
  },
  {
   "cell_type": "code",
   "execution_count": 10,
   "id": "a38bda67",
   "metadata": {},
   "outputs": [
    {
     "data": {
      "image/png": "[encoded data removed]",
      "text/plain": [
       "<Figure size 864x288 with 2 Axes>"
      ]
     },
     "metadata": {
      "needs_background": "light"
     },
     "output_type": "display_data"
    }
   ],
   "source": [
    "n_range = list(range(1, len(max_diff)+1))\n",
    "\n",
    "fig, (ax1, ax2) = plt.subplots(1,2, figsize=(12,4))\n",
    "\n",
    "ax1.plot(n_range, nz)\n",
    "ax1.set_title('nonzeros allocated')\n",
    "ax2.plot(n_range, max_diff)\n",
    "ax2.set_title('max difference in stream power')\n",
    "plt.show()"
   ]
  },
  {
   "cell_type": "markdown",
   "id": "e43d5612",
   "metadata": {},
   "source": [
    "## Dense downhill matrices\n",
    "\n",
    "The cumulative flow routine can (potentially) be sped up by multiplying the downhill matrix $\\mathbf{D}$ by itself, which increases the number of nodes a parcel of information is moved to its downhill neighbours. There is a tradeoff between the density of the matrix and the number of iterations and computational efficiency will depend on the way the underlying architecture optimises such problems.\n",
    "\n",
    "$$\n",
    "\\mathbf{D}_N = \\mathbf{I} + \\mathbf{D} + \\mathbf{D}^2 + \\mathbf{D}^3 + \\ldots + \\mathbf{D}^N\n",
    "$$\n",
    "\n",
    "where $N$ is the length of the graph. This can be repeated any number of times and is only limited by the available system memory ($N=3$ is already a very dense matrix). In this section we examine tradeoff between density of the matrix and cumulative flow iterations.\n",
    "\n",
    "We also need to note that it does not matter if we iterate too many times on the transport matrix as it has no effect once the graph is completely traversed. This means that we do not need to set $N$ to be a divisor of the length of the graph."
   ]
  },
  {
   "cell_type": "code",
   "execution_count": 11,
   "id": "ecba3b36",
   "metadata": {},
   "outputs": [],
   "source": [
    "D1 = mesh.downhillMat\n",
    "D2 = D1*D1\n",
    "D4 = D2*D2\n",
    "D8 = D4*D4"
   ]
  },
  {
   "cell_type": "code",
   "execution_count": 12,
   "id": "9f462a82",
   "metadata": {},
   "outputs": [
    {
     "name": "stdout",
     "output_type": "stream",
     "text": [
      "116 ms ± 565 µs per loop (mean ± std. dev. of 7 runs, 10 loops each)\n"
     ]
    }
   ],
   "source": [
    "%%timeit \n",
    "D2 = D1*D1"
   ]
  },
  {
   "cell_type": "code",
   "execution_count": 13,
   "id": "a082bcc8",
   "metadata": {},
   "outputs": [
    {
     "name": "stdout",
     "output_type": "stream",
     "text": [
      "375 ms ± 4.09 ms per loop (mean ± std. dev. of 7 runs, 1 loop each)\n"
     ]
    }
   ],
   "source": [
    "%%timeit\n",
    "D4 = D2*D2"
   ]
  },
  {
   "cell_type": "code",
   "execution_count": 14,
   "id": "21faae43",
   "metadata": {},
   "outputs": [
    {
     "name": "stdout",
     "output_type": "stream",
     "text": [
      "1.69 s ± 13.7 ms per loop (mean ± std. dev. of 7 runs, 1 loop each)\n"
     ]
    }
   ],
   "source": [
    "%%timeit\n",
    "D8 = D4*D4"
   ]
  },
  {
   "cell_type": "code",
   "execution_count": 15,
   "id": "7fb7d774",
   "metadata": {},
   "outputs": [],
   "source": [
    "from timeit import default_timer as timer\n",
    "\n",
    "its = []\n",
    "nz = []\n",
    "time = []\n",
    "\n",
    "rainfall = rainfall_fn.evaluate(mesh)\n",
    "\n",
    "for i, downMat in enumerate([D1, D2, D4, D8]):\n",
    "    start = timer()\n",
    "    downMatInfo = downMat.getInfo()\n",
    "    \n",
    "    mesh.downhillMat = downMat\n",
    "    niter, flowpaths = mesh._cumulative_flow_verbose(mesh.area*rainfall)\n",
    "    \n",
    "    its.append(niter)\n",
    "    nz.append(downMatInfo['nz_allocated'])\n",
    "    time.append(timer()-start)"
   ]
  },
  {
   "cell_type": "code",
   "execution_count": 16,
   "id": "a719c05f",
   "metadata": {},
   "outputs": [
    {
     "data": {
      "image/png": "[encoded data removed]",
      "text/plain": [
       "<Figure size 864x288 with 3 Axes>"
      ]
     },
     "metadata": {
      "needs_background": "light"
     },
     "output_type": "display_data"
    }
   ],
   "source": [
    "n_range = list(range(1, 5))\n",
    "\n",
    "fig, (ax1, ax2, ax3) = plt.subplots(1,3, figsize=(12,4))\n",
    "\n",
    "ax1.plot(n_range, nz)\n",
    "ax1.set_title('nonzeros allocated')\n",
    "ax2.plot(n_range, its)\n",
    "ax2.set_title('number of cumulative flow iterations')\n",
    "ax3.plot(n_range, time)\n",
    "ax3.set_title('computation time')\n",
    "\n",
    "\n",
    "plt.show()"
   ]
  },
  {
   "cell_type": "markdown",
   "id": "73b896a9",
   "metadata": {},
   "source": [
    "---\n",
    "\n",
    "[Ex5-PreprocessingSurfaces](Ex5-PreprocessingSurfaces.md)"
   ]
  }
 ],
 "metadata": {
  "kernelspec": {
   "display_name": "Python 3",
   "language": "python",
   "name": "python3"
  },
  "language_info": {
   "codemirror_mode": {
    "name": "ipython",
    "version": 3
   },
   "file_extension": ".py",
   "mimetype": "text/x-python",
   "name": "python",
   "nbconvert_exporter": "python",
   "pygments_lexer": "ipython3",
   "version": "3.9.4"
  }
 },
 "nbformat": 4,
 "nbformat_minor": 5
}
