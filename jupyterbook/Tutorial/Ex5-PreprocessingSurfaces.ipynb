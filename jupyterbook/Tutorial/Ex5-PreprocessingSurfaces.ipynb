{
 "cells": [
  {
   "cell_type": "markdown",
   "id": "6b6021f6",
   "metadata": {},
   "source": [
    "# 5. Preprocessing a surface\n",
    "\n",
    "\n",
    "Pit filling and swamp filling ... \n",
    "\n",
    "Take the previous mesh with random noise \n",
    "\n",
    "`Quagmire` allows the user to specify the number of downhill pathways to model landscape evolution. This is set using:\n",
    "\n",
    "```python\n",
    "mesh.downhill_neighbours = 1\n",
    "mesh.update_height(height)\n",
    "```\n",
    "\n",
    "where an integer specifies the number of downhill neighbour nodes (receipients) that will receive a packet of information from a donor node. The `QuagMesh` object can also be initialised with:\n",
    "\n",
    "```python\n",
    "mesh = QuagMesh(DM, downhill_neighbours=1)\n",
    "```\n",
    "\n",
    "to specify the number of downhill neighbours (default is 2).\n",
    "\n",
    "In this notebook we use a landscape function with many outflow points to examine the effect of varying the number of recipient nodes on catchment area, stream lengths, and outflow fluxes."
   ]
  },
  {
   "cell_type": "code",
   "execution_count": 1,
   "id": "aa50712d",
   "metadata": {},
   "outputs": [],
   "source": [
    "import matplotlib.pyplot as plt\n",
    "import numpy as np\n",
    "from quagmire import tools as meshtools\n",
    "from quagmire import function as fn\n",
    "%matplotlib inline"
   ]
  },
  {
   "cell_type": "code",
   "execution_count": 2,
   "id": "a97e3822",
   "metadata": {},
   "outputs": [
    {
     "name": "stdout",
     "output_type": "stream",
     "text": [
      "Underlying Mesh type: TriMesh\n",
      "0 - Delaunay triangulation 0.46267416599999933s\n",
      "0 - Calculate node weights and area 0.043066750000001264s\n",
      "0 - Find boundaries 0.02290166599999921s\n",
      "0 - cKDTree 0.02247120799999891s\n",
      "0 - Construct neighbour cloud arrays 0.6619863330000015s, (0.44069049999999876s + 0.2212610419999983s)\n",
      "0 - Construct rbf weights 0.05931295799999958s\n",
      "\n",
      "Number of points in the triangulation: 156925\n"
     ]
    }
   ],
   "source": [
    "from quagmire import QuagMesh \n",
    "from quagmire import QuagMesh # all routines we need are within this class\n",
    "from quagmire import QuagMesh\n",
    "\n",
    "\n",
    "minX, maxX = -5.0, 5.0\n",
    "minY, maxY = -5.0, 5.0,\n",
    "\n",
    "spacingX = 0.05\n",
    "spacingY = 0.05\n",
    "\n",
    "x, y, simplices = meshtools.elliptical_mesh(minX, maxX, minY, maxY, spacingX, spacingY, 1.)\n",
    "\n",
    "DM = meshtools.create_DMPlex(x, y, simplices, refinement_levels=2)\n",
    "\n",
    "mesh = QuagMesh(DM)\n",
    "\n",
    "x = mesh.coords[:,0]\n",
    "y = mesh.coords[:,1]\n",
    "\n",
    "print( \"\\nNumber of points in the triangulation: {}\".format(mesh.npoints))"
   ]
  },
  {
   "cell_type": "code",
   "execution_count": 3,
   "id": "fb7ad58e",
   "metadata": {},
   "outputs": [],
   "source": [
    "# topography\n",
    "\n",
    "radius  = np.sqrt((x**2 + y**2))\n",
    "theta   = np.arctan2(y,x)+0.1\n",
    "\n",
    "height  = np.exp(-0.025*(x**2 + y**2)**2) + 0.25 * (0.2*radius)**4  * np.cos(5.0*theta)**2 ## Less so\n",
    "height  += 0.5 * (1.0-0.2*radius)\n",
    "height  -= height.min()\n",
    "\n",
    "## Add some pits \n",
    "\n",
    "hrand0 = np.where(np.random.random(height.shape)>0.995, -0.1, 0.0)\n",
    "\n",
    "\n",
    "## Add smoothed random noise to make some \"lakes\" \n",
    "\n",
    "rbf_smoother = mesh.build_rbf_smoother(0.05, iterations=3)\n",
    "h0 = mesh.add_variable(name=\"h0\")\n",
    "h0.data = np.where(np.random.random(height.shape)>0.995, -0.33, 0.0)\n",
    "\n",
    "hrand1 = 25.0 * rbf_smoother.smooth_fn(h0, iterations=25).evaluate(mesh)\n",
    "\n",
    "\n",
    "# randpts1 = np.where(np.random.random(height.shape)>0.995, -1.0, 0.0)\n",
    "# hrand1   = 10.0 * rbf_smoother.smooth(randpts1, iterations=10)\n",
    "\n",
    "heightn = np.maximum(0.0, height + hrand0 + hrand1)"
   ]
  },
  {
   "cell_type": "code",
   "execution_count": null,
   "id": "00fce060",
   "metadata": {},
   "outputs": [],
   "source": []
  },
  {
   "cell_type": "code",
   "execution_count": 4,
   "id": "ddfa6fdd",
   "metadata": {},
   "outputs": [
    {
     "name": "stdout",
     "output_type": "stream",
     "text": [
      "0 - Build downhill matrices 3.843434333000001s\n",
      "0 - Build upstream areas 1.5636943749999972s\n",
      "(886,)\n"
     ]
    }
   ],
   "source": [
    "with mesh.deform_topography():\n",
    "    \n",
    "    mesh.downhill_neighbours = 2\n",
    "    mesh.topography.data = heightn\n",
    "\n",
    "# let's use a rainfall proportional to height (any choice is ok)\n",
    "\n",
    "rainfall_fn = mesh.topography**2\n",
    "\n",
    "low_points = mesh.identify_low_points()\n",
    "low_point_coords = mesh.coords[low_points] \n",
    "print(low_points.shape)"
   ]
  },
  {
   "cell_type": "code",
   "execution_count": 5,
   "id": "eb734d29",
   "metadata": {},
   "outputs": [],
   "source": [
    "h0.data = mesh.topography.data"
   ]
  },
  {
   "cell_type": "markdown",
   "id": "1d269c30",
   "metadata": {},
   "source": [
    "mesh"
   ]
  },
  {
   "cell_type": "code",
   "execution_count": 6,
   "id": "ef2b02f7",
   "metadata": {},
   "outputs": [
    {
     "name": "stderr",
     "output_type": "stream",
     "text": [
      "/Users/lmoresi/mambaforge/envs/underworld/lib/python3.9/site-packages/traittypes/traittypes.py:97: UserWarning: Given trait value dtype \"float64\" does not match required type \"float32\". A coerced copy has been created.\n",
      "  warnings.warn(\n"
     ]
    },
    {
     "data": {
      "application/vnd.jupyter.widget-view+json": {
       "model_id": "7e3af2673b4c499db439690af56f28c2",
       "version_major": 2,
       "version_minor": 0
      },
      "text/plain": [
       "Output()"
      ]
     },
     "metadata": {},
     "output_type": "display_data"
    }
   ],
   "source": [
    "import k3d\n",
    "\n",
    "lowsxyz = np.column_stack([mesh.tri.points[low_points], heightn[low_points]])\n",
    "xyz  = np.column_stack([mesh.tri.points, height])\n",
    "xyz2 = np.column_stack([mesh.tri.points, heightn])\n",
    "\n",
    "plot = k3d.plot(camera_auto_fit=False, grid_visible=False, lighting=0.75)\n",
    "\n",
    "indices = mesh.tri.simplices.astype(np.uint32)\n",
    "\n",
    "surface = k3d.mesh(xyz2, indices, wireframe=False, flat_shading=True, side=\"double\",\n",
    "                    color_map = k3d.colormaps.matplotlib_color_maps.Cividis,\n",
    "                    attribute=mesh.topography.data,\n",
    "                    color_range = [0.0,1.5]\n",
    "                   )\n",
    "\n",
    "lows    = k3d.points(lowsxyz, point_size=0.05, color=0xFF0000)\n",
    "\n",
    "plot += surface + lows\n",
    "\n",
    "plot.display()\n",
    "\n"
   ]
  },
  {
   "cell_type": "code",
   "execution_count": 7,
   "id": "8f0929f4",
   "metadata": {},
   "outputs": [],
   "source": [
    "rainfall_fn = mesh.topography**2\n",
    "flowrate_fn = mesh.upstream_integral_fn(rainfall_fn)\n",
    "stream_power_fn = flowrate_fn ** 2.0 * mesh.slope ** 2.0 * mesh.mask\n",
    "\n",
    "cumulative_rain_n1 = mesh.upstream_integral_fn(rainfall_fn).evaluate(mesh)"
   ]
  },
  {
   "cell_type": "code",
   "execution_count": 8,
   "id": "9b8d7eeb",
   "metadata": {},
   "outputs": [
    {
     "data": {
      "application/vnd.jupyter.widget-view+json": {
       "model_id": "4967e16c52e14903b2bab4d61bd4e0b3",
       "version_major": 2,
       "version_minor": 0
      },
      "text/plain": [
       "Output()"
      ]
     },
     "metadata": {},
     "output_type": "display_data"
    }
   ],
   "source": [
    "\n",
    "import k3d\n",
    "\n",
    "lowsxyz = np.column_stack([mesh.tri.points[low_points], heightn[low_points]])\n",
    "xyz  = np.column_stack([mesh.tri.points, height])\n",
    "xyz2 = np.column_stack([mesh.tri.points, heightn])\n",
    "indices = mesh.tri.simplices.astype(np.uint32)\n",
    "\n",
    "\n",
    "\n",
    "plot = k3d.plot(camera_auto_fit=False, grid_visible=False, lighting=0.75)\n",
    "\n",
    "\n",
    "surface = k3d.mesh(xyz2, indices, wireframe=False, flat_shading=True, side=\"double\",\n",
    "                    color_map = k3d.colormaps.matplotlib_color_maps.Blues,\n",
    "                    attribute=stream_power_fn.evaluate(mesh),\n",
    "                    color_range = [0.0,0.01]\n",
    "                   )\n",
    "\n",
    "lows    = k3d.points(lowsxyz, point_size=0.05, color=0xFF0000)\n",
    "\n",
    "plot += surface + lows\n",
    "\n",
    "plot.display()\n",
    "\n"
   ]
  },
  {
   "cell_type": "code",
   "execution_count": 98,
   "id": "6891f049",
   "metadata": {},
   "outputs": [
    {
     "name": "stdout",
     "output_type": "stream",
     "text": [
      "Underlying Mesh type: TriMesh\n",
      "0 - Delaunay triangulation 0.3040237499999421s\n",
      "0 - Calculate node weights and area 0.0241118330000063s\n",
      "0 - Find boundaries 0.01836920799996733s\n",
      "0 - cKDTree 0.019008834000032948s\n",
      "0 - Construct neighbour cloud arrays 0.6636431250001351s, (0.43505416700008936s + 0.2285542079998777s)\n",
      "0 - Construct rbf weights 0.06518099999993865s\n",
      "0 - Build downhill matrices 2.430833333999999s\n",
      "0 - Build upstream areas 1.5887439580001228s\n"
     ]
    }
   ],
   "source": [
    "## Pit filling algorithm in quagmire\n",
    "\n",
    "mesh1p = QuagMesh(DM)\n",
    "\n",
    "rainfall_fn_1p = mesh1p.topography**2\n",
    "cumulative_rain_n1p = mesh1p.upstream_integral_fn(rainfall_fn_1p)\n",
    "stream_power_n1p    = cumulative_rain_n1p ** 2.0 * mesh1p.slope ** 2.0 * mesh1p.mask\n",
    "\n",
    "\n",
    "\n",
    "with mesh1p.deform_topography():\n",
    "    mesh1p.topography.data = mesh.topography.data"
   ]
  },
  {
   "cell_type": "code",
   "execution_count": 99,
   "id": "ca6b6780",
   "metadata": {},
   "outputs": [
    {
     "name": "stdout",
     "output_type": "stream",
     "text": [
      "Low point local patch fill\n",
      "0 - Build downhill matrices 2.4737774160000754s\n",
      "0 - Build downhill matrices 2.4994586660000095s\n",
      "Low point local patch fill  7.116479208999863  seconds\n",
      "0 - Build upstream areas 1.5854269160001877s\n"
     ]
    }
   ],
   "source": [
    "mesh1p.low_points_local_patch_fill(its=2, smoothing_steps=1, fraction=0.25)"
   ]
  },
  {
   "cell_type": "code",
   "execution_count": 100,
   "id": "c8a8c5b7",
   "metadata": {},
   "outputs": [
    {
     "data": {
      "text/plain": [
       "(193,)"
      ]
     },
     "execution_count": 100,
     "metadata": {},
     "output_type": "execute_result"
    }
   ],
   "source": [
    "mesh1p.identify_low_points().shape"
   ]
  },
  {
   "cell_type": "code",
   "execution_count": null,
   "id": "0aa95e16",
   "metadata": {},
   "outputs": [],
   "source": []
  },
  {
   "cell_type": "code",
   "execution_count": 121,
   "id": "7e3d3ea7",
   "metadata": {},
   "outputs": [
    {
     "data": {
      "application/vnd.jupyter.widget-view+json": {
       "model_id": "46315f64ae1849dc81949dd82fd33b18",
       "version_major": 2,
       "version_minor": 0
      },
      "text/plain": [
       "Output()"
      ]
     },
     "metadata": {},
     "output_type": "display_data"
    }
   ],
   "source": [
    "import k3d\n",
    "\n",
    "low_points2 = mesh1p.low_points\n",
    "height2 = mesh1p.topography.data\n",
    "\n",
    "lowsxyz = np.column_stack([mesh1p.tri.points[low_points], heightn[low_points]])\n",
    "lows2xyz = np.column_stack([mesh1p.tri.points[low_points2], height2[low_points2]])\n",
    "\n",
    "xyz  = np.column_stack([mesh.tri.points, mesh1p.topography.data])\n",
    "xyz2 = np.column_stack([mesh.tri.points, heightn])\n",
    "indices = mesh.tri.simplices.astype(np.uint32)\n",
    "\n",
    "plot = k3d.plot(camera_auto_fit=False, grid_visible=False, lighting=0.75)\n",
    "\n",
    "\n",
    "surface = k3d.mesh(xyz, indices, wireframe=False, flat_shading=True, side=\"double\",\n",
    "                    color_map = k3d.colormaps.matplotlib_color_maps.Blues,\n",
    "                    attribute=cumulative_rain_n1p.evaluate(mesh),\n",
    "                    color_range = [0.0,1.0]\n",
    "                   )\n",
    "\n",
    "lows    = k3d.points(lowsxyz, point_size=0.05, color=0xFF0000)\n",
    "lows2    = k3d.points(lows2xyz, point_size=0.05, color=0x0000FF)\n",
    "\n",
    "\n",
    "plot += surface + lows + lows2 \n",
    "\n",
    "plot.display()\n"
   ]
  },
  {
   "cell_type": "code",
   "execution_count": 105,
   "id": "3121609f",
   "metadata": {},
   "outputs": [
    {
     "name": "stdout",
     "output_type": "stream",
     "text": [
      "Underlying Mesh type: TriMesh\n",
      "0 - Delaunay triangulation 0.3330004590000044s\n",
      "0 - Calculate node weights and area 0.0643369580000126s\n",
      "0 - Find boundaries 0.018808749999834617s\n",
      "0 - cKDTree 0.0196499579999454s\n",
      "0 - Construct neighbour cloud arrays 0.6992000420000295s, (0.44694904200014207s + 0.25221525000006295s)\n",
      "0 - Construct rbf weights 0.058850083999914204s\n",
      "0 - Build downhill matrices 2.4509212079999543s\n",
      "0 - Build upstream areas 1.571919041000001s\n",
      "(193,)\n"
     ]
    }
   ],
   "source": [
    "## Quagmire also has a swamp filling algorithm\n",
    "## NOTE this is much more efficient if it follows the pit filling\n",
    "\n",
    "mesh1s = QuagMesh(DM)\n",
    "rainfall_fn_1s = mesh1s.topography**2\n",
    "\n",
    "with mesh1s.deform_topography():\n",
    "    mesh1s.topography.data = mesh1p.topography.data\n",
    "    \n",
    "print(\"There are still {} low points\".format(mesh1s.identify_low_points().shape))"
   ]
  },
  {
   "cell_type": "code",
   "execution_count": 106,
   "id": "99851f20",
   "metadata": {},
   "outputs": [
    {
     "name": "stdout",
     "output_type": "stream",
     "text": [
      "120  iterations, time =  1.2702137920000496\n",
      "Build low point catchments -  1.2706606249998913  seconds\n",
      "0  Sort spills -  0.010811040999897159\n",
      "0  Gather spill data -  0.0019107919999896694\n",
      "0  Sort all spills -  0.00026254099998368474\n",
      "0 - Build downhill matrices 2.4735215000000608s\n",
      "Low point swamp fill  3.997965583999985  seconds\n",
      "0 - Build upstream areas 1.8586511250000513s\n",
      "0 : 96\n",
      "178  iterations, time =  1.3629859999998644\n",
      "Build low point catchments -  1.3634352080000554  seconds\n",
      "0  Sort spills -  0.005808292000210713\n",
      "0  Gather spill data -  7.35829999030102e-05\n",
      "0  Sort all spills -  9.187499995277904e-05\n",
      "0 - Build downhill matrices 2.4238212090001525s\n",
      "Low point swamp fill  3.935164916999838  seconds\n",
      "0 - Build upstream areas 1.8560250830000768s\n",
      "1 : 70\n",
      "263  iterations, time =  1.4846040420000008\n",
      "Build low point catchments -  1.485055124999917  seconds\n",
      "0  Sort spills -  0.004419750000124623\n",
      "0  Gather spill data -  6.962499992368976e-05\n",
      "0  Sort all spills -  8.179099995686556e-05\n",
      "0 - Build downhill matrices 2.443070875000103s\n",
      "Low point swamp fill  4.039379707999842  seconds\n",
      "0 - Build upstream areas 2.0338651250001476s\n",
      "2 : 62\n",
      "261  iterations, time =  1.5380792920000204\n",
      "Build low point catchments -  1.5385104590000083  seconds\n",
      "0  Sort spills -  0.003909999999905267\n",
      "0  Gather spill data -  0.00012487499998314888\n",
      "0  Sort all spills -  7.504199993491056e-05\n",
      "0 - Build downhill matrices 2.5028409589999683s\n",
      "Low point swamp fill  4.142744708000009  seconds\n",
      "0 - Build upstream areas 2.005432916000018s\n",
      "3 : 70\n",
      "262  iterations, time =  1.7582492910000838\n",
      "Build low point catchments -  1.758841208999911  seconds\n",
      "0  Sort spills -  0.006341291000126148\n",
      "0  Gather spill data -  0.00023295899995900982\n",
      "0  Sort all spills -  0.00010766600007627858\n",
      "0 - Build downhill matrices 3.0342551250000724s\n",
      "Low point swamp fill  4.935335333000012  seconds\n",
      "0 - Build upstream areas 2.779530582999996s\n",
      "4 : 64\n",
      "265  iterations, time =  2.100522917000035\n",
      "Build low point catchments -  2.10303458400017  seconds\n",
      "0  Sort spills -  0.003463125000052969\n",
      "0  Gather spill data -  0.0029077920000872837\n",
      "0  Sort all spills -  9.208300002683245e-05\n",
      "0 - Build downhill matrices 3.149582374999909s\n",
      "Low point swamp fill  5.405693749999955  seconds\n",
      "0 - Build upstream areas 2.578506583000035s\n",
      "5 : 46\n",
      "266  iterations, time =  1.7416526659999363\n",
      "Build low point catchments -  1.742177791000131  seconds\n",
      "0  Sort spills -  0.002930999999989581\n",
      "0  Gather spill data -  7.379199996648822e-05\n",
      "0  Sort all spills -  5.487500015988189e-05\n",
      "0 - Build downhill matrices 2.9200388749998183s\n",
      "Low point swamp fill  4.733386958999972  seconds\n",
      "0 - Build upstream areas 2.319822375000058s\n",
      "6 : 38\n",
      "267  iterations, time =  1.8350086250000004\n",
      "Build low point catchments -  1.8355307499998617  seconds\n",
      "0  Sort spills -  0.0033648750002157612\n",
      "0  Gather spill data -  7.483300009880622e-05\n",
      "0  Sort all spills -  5.600000008598727e-05\n",
      "0 - Build downhill matrices 2.569668374999992s\n",
      "Low point swamp fill  4.467106000000058  seconds\n",
      "0 - Build upstream areas 2.469780124999943s\n",
      "7 : 30\n",
      "267  iterations, time =  1.621527874999856\n",
      "Build low point catchments -  1.6220797500000117  seconds\n",
      "0  Sort spills -  0.0024131250002028537\n",
      "0  Gather spill data -  8.974999991551158e-05\n",
      "0  Sort all spills -  4.429099999470054e-05\n",
      "0 - Build downhill matrices 2.603554832999862s\n",
      "Low point swamp fill  4.277322541999865  seconds\n",
      "0 - Build upstream areas 2.067419541999925s\n",
      "8 : 28\n",
      "267  iterations, time =  1.6253727079999862\n",
      "Build low point catchments -  1.6258912910000163  seconds\n",
      "0  Sort spills -  0.002284459000065908\n",
      "0  Gather spill data -  9.158300008493825e-05\n",
      "0  Sort all spills -  3.85000000733271e-05\n",
      "0 - Build downhill matrices 2.548146124999903s\n",
      "Low point swamp fill  4.217911333000075  seconds\n",
      "0 - Build upstream areas 2.6503998749999482s\n",
      "9 : 15\n",
      "267  iterations, time =  1.6346717500000523\n",
      "Build low point catchments -  1.6351971250001043  seconds\n",
      "0  Sort spills -  0.0018603329999677953\n",
      "0  Gather spill data -  6.962499992368976e-05\n",
      "0  Sort all spills -  0.000473916999908397\n",
      "0 - Build downhill matrices 2.594370875000095s\n",
      "Low point swamp fill  4.272328667000011  seconds\n",
      "0 - Build upstream areas 2.288963542000147s\n",
      "10 : 12\n",
      "267  iterations, time =  1.8006609159999698\n",
      "Build low point catchments -  1.8014930829999685  seconds\n",
      "0  Sort spills -  0.0017905830000017886\n",
      "0  Gather spill data -  7.483399986085715e-05\n",
      "0  Sort all spills -  0.00014474999989033677\n",
      "0 - Build downhill matrices 3.254716791999954s\n",
      "Low point swamp fill  5.0976602920000005  seconds\n",
      "0 - Build upstream areas 2.1872506670001712s\n",
      "11 : 10\n",
      "267  iterations, time =  1.6066588749999937\n",
      "Build low point catchments -  1.6071492080000098  seconds\n",
      "0  Sort spills -  0.0014944170000035228\n",
      "0  Gather spill data -  9.075000002667366e-05\n",
      "0  Sort all spills -  3.300000003036985e-05\n",
      "0 - Build downhill matrices 2.5504909999999654s\n",
      "Low point swamp fill  4.190495874999897  seconds\n",
      "0 - Build upstream areas 2.1012557080000533s\n",
      "12 : 5\n",
      "276  iterations, time =  1.5801827910001975\n",
      "Build low point catchments -  1.580588834000082  seconds\n",
      "0  Sort spills -  0.0013571249999131396\n",
      "0  Gather spill data -  6.670800007668731e-05\n",
      "0  Sort all spills -  2.212499998677231e-05\n",
      "0 - Build downhill matrices 2.490343208000013s\n",
      "Low point swamp fill  4.101697958000159  seconds\n",
      "0 - Build upstream areas 2.1326142080001773s\n",
      "13 : 7\n",
      "277  iterations, time =  1.7845102500000394\n",
      "Build low point catchments -  1.7850002919999497  seconds\n",
      "0  Sort spills -  0.0023967919998995058\n",
      "0  Gather spill data -  7.13749998340063e-05\n",
      "0  Sort all spills -  2.375000008214556e-05\n",
      "0 - Build downhill matrices 2.4884266659998957s\n",
      "Low point swamp fill  4.30308137499992  seconds\n",
      "0 - Build upstream areas 2.1146000000001095s\n",
      "14 : 5\n",
      "278  iterations, time =  1.5713676249999935\n",
      "Build low point catchments -  1.5717985830001453  seconds\n",
      "0  Sort spills -  0.0011000420001892053\n",
      "0  Gather spill data -  0.00017608300004212651\n",
      "0  Sort all spills -  3.087499999310239e-05\n",
      "0 - Build downhill matrices 2.5157320420000815s\n",
      "Low point swamp fill  4.114825457999814  seconds\n",
      "0 - Build upstream areas 2.0815340420001576s\n",
      "15 : 3\n",
      "276  iterations, time =  1.5753376669999852\n",
      "Build low point catchments -  1.5758753329998854  seconds\n",
      "0  Sort spills -  0.0010460419998707948\n",
      "0  Gather spill data -  6.816700010858767e-05\n",
      "0  Sort all spills -  1.9374999965293682e-05\n",
      "0 - Build downhill matrices 2.4807477500000914s\n",
      "Low point swamp fill  4.085463207999965  seconds\n",
      "0 - Build upstream areas 2.1508202499999243s\n",
      "16 : 1\n",
      "279  iterations, time =  1.5369610840000405\n",
      "Build low point catchments -  1.5374124999998457  seconds\n",
      "0  Sort spills -  0.0006748330001755676\n",
      "0  Gather spill data -  7.76249999034917e-05\n",
      "0  Sort all spills -  1.9416999975874205e-05\n",
      "0 - Build downhill matrices 2.540103290999923s\n",
      "Low point swamp fill  4.099138374999939  seconds\n",
      "0 - Build upstream areas 2.0256681250000383s\n",
      "17 : 0\n"
     ]
    }
   ],
   "source": [
    "for i in range(0,50):\n",
    "    mesh1s.low_points_swamp_fill(ref_height=-0.01)\n",
    "    \n",
    "    # In parallel, we can't break if ANY processor has work to do (barrier / sync issue)\n",
    "    low_points2 = mesh1s.identify_global_low_points()\n",
    "    \n",
    "    print(\"{} : {}\".format(i,low_points2[0]))\n",
    "    if low_points2[0] == 0:\n",
    "        break"
   ]
  },
  {
   "cell_type": "code",
   "execution_count": 109,
   "id": "9cb4d7e5",
   "metadata": {},
   "outputs": [],
   "source": [
    "cumulative_rain_n1s = mesh1s.upstream_integral_fn(rainfall_fn_1s)\n",
    "stream_power_n1s    = cumulative_rain_n1s ** 2.0 * mesh1s.slope ** 2.0 * mesh1s.mask"
   ]
  },
  {
   "cell_type": "code",
   "execution_count": 122,
   "id": "0c2da611",
   "metadata": {},
   "outputs": [
    {
     "data": {
      "application/vnd.jupyter.widget-view+json": {
       "model_id": "b478cca36b7a41a0a03206fad45d1955",
       "version_major": 2,
       "version_minor": 0
      },
      "text/plain": [
       "Output()"
      ]
     },
     "metadata": {},
     "output_type": "display_data"
    }
   ],
   "source": [
    "import k3d\n",
    "\n",
    "low_points2 = mesh1p.low_points\n",
    "height2 = mesh1p.topography.data\n",
    "\n",
    "lowsxyz = np.column_stack([mesh1p.tri.points[low_points], heightn[low_points]])\n",
    "lows2xyz = np.column_stack([mesh1p.tri.points[low_points2], height2[low_points2]])\n",
    "\n",
    "xyz  = np.column_stack([mesh1s.tri.points, mesh1s.topography.data])\n",
    "xyz2 = np.column_stack([mesh1p.tri.points, mesh1p.topography.data])\n",
    "indices = mesh.tri.simplices.astype(np.uint32)\n",
    "\n",
    "plot = k3d.plot(camera_auto_fit=False, grid_visible=False, lighting=0.75)\n",
    "\n",
    "\n",
    "surface = k3d.mesh(xyz2, indices, wireframe=False, flat_shading=True, side=\"double\",\n",
    "                    color_map = k3d.colormaps.matplotlib_color_maps.Blues,\n",
    "                    attribute=cumulative_rain_n1s.evaluate(mesh),\n",
    "                    color_range = [0.0,1.0]\n",
    "                   )\n",
    "\n",
    "lakes_surface = k3d.mesh(xyz-(0.0,0.0,0.005), indices, wireframe=False, flat_shading=True, side=\"double\",\n",
    "                    color=0x0010C0, opacity=0.5\n",
    "                   )\n",
    "\n",
    "\n",
    "\n",
    "lows    = k3d.points(lowsxyz, point_size=0.05, color=0xFF0000)\n",
    "lows2    = k3d.points(lows2xyz, point_size=0.05, color=0x0000FF)\n",
    "\n",
    "\n",
    "plot += surface + lows + lows2 + lakes_surface\n",
    "\n",
    "plot.display()"
   ]
  },
  {
   "cell_type": "code",
   "execution_count": null,
   "id": "ce870e54",
   "metadata": {},
   "outputs": [],
   "source": []
  }
 ],
 "metadata": {
  "kernelspec": {
   "display_name": "Python 3",
   "language": "python",
   "name": "python3"
  },
  "language_info": {
   "codemirror_mode": {
    "name": "ipython",
    "version": 3
   },
   "file_extension": ".py",
   "mimetype": "text/x-python",
   "name": "python",
   "nbconvert_exporter": "python",
   "pygments_lexer": "ipython3",
   "version": "3.9.4"
  }
 },
 "nbformat": 4,
 "nbformat_minor": 5
}
