{
 "cells": [
  {
   "cell_type": "markdown",
   "id": "6494f01a",
   "metadata": {},
   "source": [
    "# 3. Meshes for Surface Processes\n",
    "\n",
    "This notebook introduces the `QuagMesh` object, which builds upon the `QuagMesh` and introduces methods for finding the stream connectivity, catchment identification and handling local minima.\n",
    "\n",
    "Here we demonstrate the stream flow components of the `QuagMesh` \n",
    "\n",
    "> Note: Again, the API for the structured mesh is identical"
   ]
  },
  {
   "cell_type": "code",
   "execution_count": 1,
   "id": "ca097310",
   "metadata": {},
   "outputs": [],
   "source": [
    "from quagmire.tools import meshtools\n",
    "from quagmire import QuagMesh, QuagMesh\n",
    "from quagmire import function as fn"
   ]
  },
  {
   "cell_type": "code",
   "execution_count": 2,
   "id": "c4d1cde6",
   "metadata": {},
   "outputs": [],
   "source": [
    "import matplotlib.pyplot as plt\n",
    "import numpy as np\n",
    "\n",
    "%matplotlib inline"
   ]
  },
  {
   "cell_type": "code",
   "execution_count": 3,
   "id": "7f8c6623",
   "metadata": {},
   "outputs": [
    {
     "name": "stdout",
     "output_type": "stream",
     "text": [
      "Underlying Mesh type: TriMesh\n",
      "0 - Delaunay triangulation 0.10814945799999975s\n",
      "0 - Calculate node weights and area 0.010434500000000568s\n",
      "0 - Find boundaries 0.007506959000000535s\n",
      "0 - cKDTree 0.007003291000000189s\n",
      "0 - Construct neighbour cloud arrays 0.24624329099999898s, (0.1655212499999994s + 0.08068958299999984s)\n",
      "0 - Construct rbf weights 0.023653665999999518s\n",
      "Underlying Mesh type: TriMesh\n",
      "0 - Delaunay triangulation 0.11084924999999934s\n",
      "0 - Calculate node weights and area 0.010404082999999176s\n",
      "0 - Find boundaries 0.007980375000000706s\n",
      "0 - cKDTree 0.007130709000000124s\n",
      "0 - Construct neighbour cloud arrays 0.24403991700000027s, (0.16525795799999976s + 0.07875279199999952s)\n",
      "0 - Construct rbf weights 0.021775334000000868s\n",
      "Triangulation has 62234 points\n"
     ]
    }
   ],
   "source": [
    "minX, maxX = -5.0, 5.0\n",
    "minY, maxY = -5.0, 5.0,\n",
    "dx, dy = 0.02, 0.02\n",
    "\n",
    "x, y, simplices = meshtools.elliptical_mesh(minX, maxX, minY, maxY, dx, dy, random_scale=1.0)\n",
    "\n",
    "DM = meshtools.create_DMPlex_from_points(x, y, bmask=None)\n",
    "\n",
    "mesh   = QuagMesh(DM, downhill_neighbours=1)\n",
    "meshn  = QuagMesh(DM, downhill_neighbours=1)  # A copy that we will use with a roughened topography \n",
    "\n",
    "\n",
    "print (\"Triangulation has {} points\".format(mesh.npoints))"
   ]
  },
  {
   "cell_type": "markdown",
   "id": "df60f940",
   "metadata": {},
   "source": [
    "## Height field and Rainfall\n",
    "\n",
    "We generate the usual cylindrically symmetry domed surface and add multiple channels incised along the boundary. Here is it interesting to leave out the random noise to see how discretisation error influences the surface flow paths.\n",
    "\n",
    "The `QuagMesh` stores a rainfall pattern that is used to compute the stream power assuming everything goes into the surface runoff it also records a sediment distribution pattern (etc)."
   ]
  },
  {
   "cell_type": "code",
   "execution_count": 4,
   "id": "7fd11978",
   "metadata": {},
   "outputs": [
    {
     "name": "stdout",
     "output_type": "stream",
     "text": [
      "0 - Build downhill matrices 1.0192250000000005s\n",
      "0 - Build upstream areas 0.5904518340000013s\n",
      "0 - Build downhill matrices 0.47453312500000067s\n",
      "0 - Build upstream areas 0.5565477909999998s\n"
     ]
    }
   ],
   "source": [
    "radius  = np.sqrt((x**2 + y**2))\n",
    "theta   = np.arctan2(y,x) + 0.1\n",
    "\n",
    "height  = np.exp(-0.025*(x**2 + y**2)**2) + 0.25 * (0.2*radius)**4  * np.cos(5.0*theta)**2 \n",
    "height  += 0.5 * (1.0-0.2*radius)\n",
    "heightn  = height + np.random.random(height.size) * 0.005 # random noise\n",
    "\n",
    "with mesh.deform_topography():\n",
    "    mesh.topography.data = height\n",
    "        \n",
    "with meshn.deform_topography():\n",
    "    meshn.topography.data = heightn\n",
    "    "
   ]
  },
  {
   "cell_type": "code",
   "execution_count": 5,
   "id": "9f863eab",
   "metadata": {},
   "outputs": [
    {
     "data": {
      "text/plain": [
       "array([5.03668335, 5.02298575, 5.01836541, ..., 2.66829351, 2.3281053 ,\n",
       "       3.99135784])"
      ]
     },
     "execution_count": 5,
     "metadata": {},
     "output_type": "execute_result"
    }
   ],
   "source": [
    "rainfall = mesh.add_variable(name=\"Rainfall\")\n",
    "rainfall.data = (mesh.topography**2).evaluate(mesh)\n",
    "mesh.cumulative_flow(rainfall.data)**2"
   ]
  },
  {
   "cell_type": "code",
   "execution_count": 6,
   "id": "4539a9b5",
   "metadata": {},
   "outputs": [
    {
     "data": {
      "text/plain": [
       "array([2.33382378e-05, 1.72046623e-05, 9.10228538e-06, ...,\n",
       "       2.47019494e-06, 7.29065051e-06, 4.01484423e-06])"
      ]
     },
     "execution_count": 6,
     "metadata": {},
     "output_type": "execute_result"
    }
   ],
   "source": [
    "(mesh.upstream_integral_fn((mesh.topography**2))**2).evaluate(mesh)"
   ]
  },
  {
   "cell_type": "code",
   "execution_count": 7,
   "id": "6d4b400c",
   "metadata": {},
   "outputs": [],
   "source": [
    "# rbf1  = mesh.build_rbf_smoother(1.0, 1)\n",
    "# rbf01 = mesh.build_rbf_smoother(0.1, 1)\n",
    "# rbf001 = mesh.build_rbf_smoother(0.01, 1)\n",
    "\n",
    "# print(rbf1.smooth_fn(rainfall, iterations=1).evaluate(0.0,0.0))\n",
    "# print(rbf01.smooth_fn(rainfall, iterations=1).evaluate(0.0,0.0))\n",
    "# print(rbf001.smooth_fn(rainfall, iterations=1).evaluate(0.0,0.0))"
   ]
  },
  {
   "cell_type": "code",
   "execution_count": 8,
   "id": "0da7f1ac",
   "metadata": {},
   "outputs": [],
   "source": [
    "# rbf001.smooth_fn(rainfall, iterations=1).evaluate(mesh)"
   ]
  },
  {
   "cell_type": "code",
   "execution_count": 9,
   "id": "1523355b",
   "metadata": {},
   "outputs": [
    {
     "data": {
      "text/plain": [
       "array([2.24425563, 2.24120185, 2.24017084, ..., 0.47308102, 0.42065372,\n",
       "       0.36434709])"
      ]
     },
     "execution_count": 9,
     "metadata": {},
     "output_type": "execute_result"
    }
   ],
   "source": [
    "rainfall.evaluate(mesh)"
   ]
  },
  {
   "cell_type": "code",
   "execution_count": 23,
   "id": "34290ee7",
   "metadata": {},
   "outputs": [
    {
     "data": {
      "text/plain": [
       "array([2.24583735, 2.25110091, 2.24041793, ..., 0.47503408, 0.42540432,\n",
       "       0.36483562])"
      ]
     },
     "execution_count": 23,
     "metadata": {},
     "output_type": "execute_result"
    }
   ],
   "source": [
    "(meshn.topography**2).evaluate(mesh) # slightly different"
   ]
  },
  {
   "cell_type": "markdown",
   "id": "becaa746",
   "metadata": {},
   "source": [
    "## Upstream area and stream power\n",
    "\n",
    "Integrating information upstream is a key component of stream power laws that are often used in landscape evolution models. This is computed by multiple $\\mathbf{D} \\cdot \\mathbf{A}_{\\mathrm{upstream}}$ evaluations to accumulate the area downstream node-by-node on the mesh. \n",
    "\n",
    "A `QuagMesh` object has a cumulative_flow method that computes this operation. There is also a quagmire function wrapper of this method that can be used as an operator to compute the area-weighted sum. This function is the numerical approximation of the upstream integral:\n",
    "\n",
    "```python\n",
    "upstream_precipitation_integral_fn = mesh.upstream_integral_fn(rainfall_pattern)\n",
    "```\n",
    "\n",
    "\n",
    "\n",
    "<!--\n",
    "NOTE: rbf_smooth / streamwise_smooth need to be a function on the mesh ... \n",
    "\n",
    "\n",
    "This is handled by the `cumulative_flow(vector)` routine.\n",
    "\n",
    "In [derivatives and hill slopes](#Derivatives-and-hill-slopes) we smoothed the entire landscape, however we can also target the RBF kernel to smooth just the streams:\n",
    "\n",
    "```python\n",
    "streamwise_smoothing(data, its, centre_weight=0.75)\n",
    "```\n",
    "\n",
    "where `its` indicates the number of iterations to smooth the field stream-wise. Increasing `its` smooths the field further afield upstream and downstream.\n",
    "-->"
   ]
  },
  {
   "cell_type": "code",
   "execution_count": 10,
   "id": "0363529f",
   "metadata": {},
   "outputs": [
    {
     "data": {
      "text/plain": [
       "array([1.01149038e-06, 1.42140223e-06, 7.31194445e-07, ...,\n",
       "       0.00000000e+00, 0.00000000e+00, 0.00000000e+00])"
      ]
     },
     "execution_count": 10,
     "metadata": {},
     "output_type": "execute_result"
    }
   ],
   "source": [
    "rainfall_fn = (mesh.topography**2.0)\n",
    "upstream_precipitation_integral_fn = mesh.upstream_integral_fn(rainfall_fn)\n",
    "stream_power_fn = upstream_precipitation_integral_fn**2 * mesh.slope**1.0 * mesh.mask\n",
    "\n",
    "stream_power_fn.evaluate(mesh)"
   ]
  },
  {
   "cell_type": "markdown",
   "id": "c5c4af90",
   "metadata": {},
   "source": [
    "#### Tools: stream power smoothing\n",
    "\n",
    "It may be that some smoothing is helpful in stabilizing the effect of the stream power term in the topography evolution equation. The following examples may be helpful.\n",
    "\n",
    "Note that we provide an operator called `streamwise_smoothing_fn` which is conservative, a centre weighted smoothing kernel that only operates on nodes that are connected to each other in the stream network."
   ]
  },
  {
   "cell_type": "code",
   "execution_count": 11,
   "id": "bd54559c",
   "metadata": {},
   "outputs": [
    {
     "name": "stdout",
     "output_type": "stream",
     "text": [
      "[4.92762608e-06 5.05863511e-06 5.90557871e-06 ... 1.03472052e-05\n",
      " 1.40392478e-05 2.45570950e-05]\n",
      "(array([2.4806877e-06, 2.3550435e-06, 1.4648087e-06, ..., 0.0000000e+00,\n",
      "       0.0000000e+00, 0.0000000e+00], dtype=float32), array([0, 0, 0, ..., 0, 0, 0], dtype=int32))\n"
     ]
    }
   ],
   "source": [
    "## We can apply some smoothing to this if necessary\n",
    "\n",
    "rbf_smoother = mesh.build_rbf_smoother(0.1, 1)\n",
    "rbf_smooth_str_power_fn = rbf_smoother.smooth_fn(stream_power_fn)\n",
    "print(rbf_smooth_str_power_fn.evaluate(mesh))\n",
    "\n",
    "str_smooth_str_power_fn = mesh.streamwise_smoothing_fn(stream_power_fn)\n",
    "print(str_smooth_str_power_fn.evaluate(mesh))"
   ]
  },
  {
   "cell_type": "code",
   "execution_count": 12,
   "id": "41870d77",
   "metadata": {},
   "outputs": [
    {
     "name": "stdout",
     "output_type": "stream",
     "text": [
      "[2.20452134e-06 1.63820484e-06 8.61642731e-07 ... 0.00000000e+00\n",
      " 0.00000000e+00 0.00000000e+00]\n",
      "[1.18953900e-06 1.46293268e-06 7.58957690e-07 ... 0.00000000e+00\n",
      " 0.00000000e+00 0.00000000e+00]\n"
     ]
    }
   ],
   "source": [
    "## We could also smooth the components that make up the stream power\n",
    "\n",
    "rbf_smoothed_slope_fn = rbf_smoother.smooth_fn(mesh.slope)\n",
    "rbf_smooth_str_power_fn2 = upstream_precipitation_integral_fn**2 * rbf_smoothed_slope_fn**1.0 * mesh.mask\n",
    "print(rbf_smooth_str_power_fn2.evaluate(mesh))\n",
    "\n",
    "str_smoothed_slope_fn = mesh.streamwise_smoothing_fn(mesh.slope)\n",
    "str_smooth_str_power_fn2 = upstream_precipitation_integral_fn**2 * str_smoothed_slope_fn**1.0 * mesh.mask\n",
    "print(str_smooth_str_power_fn2.evaluate(mesh))"
   ]
  },
  {
   "cell_type": "code",
   "execution_count": 25,
   "id": "c3acf21d",
   "metadata": {},
   "outputs": [
    {
     "ename": "AttributeError",
     "evalue": "'tuple' object has no attribute 'astype'",
     "output_type": "error",
     "traceback": [
      "\u001b[0;31m---------------------------------------------------------------------------\u001b[0m",
      "\u001b[0;31mAttributeError\u001b[0m                            Traceback (most recent call last)",
      "\u001b[0;32m<ipython-input-25-785bd48ed6f1>\u001b[0m in \u001b[0;36m<module>\u001b[0;34m\u001b[0m\n\u001b[1;32m      1\u001b[0m \u001b[0mcolorby_1\u001b[0m \u001b[0;34m=\u001b[0m \u001b[0mstream_power_fn\u001b[0m\u001b[0;34m.\u001b[0m\u001b[0mevaluate\u001b[0m\u001b[0;34m(\u001b[0m\u001b[0mmesh\u001b[0m\u001b[0;34m)\u001b[0m\u001b[0;34m.\u001b[0m\u001b[0mastype\u001b[0m\u001b[0;34m(\u001b[0m\u001b[0mnp\u001b[0m\u001b[0;34m.\u001b[0m\u001b[0mfloat32\u001b[0m\u001b[0;34m)\u001b[0m\u001b[0;34m\u001b[0m\u001b[0;34m\u001b[0m\u001b[0m\n\u001b[1;32m      2\u001b[0m \u001b[0mcolorby_2\u001b[0m \u001b[0;34m=\u001b[0m \u001b[0mrbf_smooth_str_power_fn\u001b[0m\u001b[0;34m.\u001b[0m\u001b[0mevaluate\u001b[0m\u001b[0;34m(\u001b[0m\u001b[0mmesh\u001b[0m\u001b[0;34m)\u001b[0m\u001b[0;34m.\u001b[0m\u001b[0mastype\u001b[0m\u001b[0;34m(\u001b[0m\u001b[0mnp\u001b[0m\u001b[0;34m.\u001b[0m\u001b[0mfloat32\u001b[0m\u001b[0;34m)\u001b[0m\u001b[0;34m\u001b[0m\u001b[0;34m\u001b[0m\u001b[0m\n\u001b[0;32m----> 3\u001b[0;31m \u001b[0mcolorby_3\u001b[0m \u001b[0;34m=\u001b[0m \u001b[0mstr_smooth_str_power_fn\u001b[0m\u001b[0;34m.\u001b[0m\u001b[0mevaluate\u001b[0m\u001b[0;34m(\u001b[0m\u001b[0mmesh\u001b[0m\u001b[0;34m)\u001b[0m\u001b[0;34m.\u001b[0m\u001b[0mastype\u001b[0m\u001b[0;34m(\u001b[0m\u001b[0mnp\u001b[0m\u001b[0;34m.\u001b[0m\u001b[0mfloat32\u001b[0m\u001b[0;34m)\u001b[0m\u001b[0;34m\u001b[0m\u001b[0;34m\u001b[0m\u001b[0m\n\u001b[0m",
      "\u001b[0;31mAttributeError\u001b[0m: 'tuple' object has no attribute 'astype'"
     ]
    }
   ],
   "source": [
    "colorby_1 = stream_power_fn.evaluate(mesh).astype(np.float32)\n",
    "colorby_2 = rbf_smooth_str_power_fn.evaluate(mesh).astype(np.float32)\n",
    "colorby_3 = str_smooth_str_power_fn.evaluate(mesh)[0].astype(np.float32)"
   ]
  },
  {
   "cell_type": "code",
   "execution_count": 27,
   "id": "a9610571",
   "metadata": {},
   "outputs": [
    {
     "data": {
      "text/plain": [
       "array([2.4806877e-06, 2.3550435e-06, 1.4648087e-06, ..., 0.0000000e+00,\n",
       "       0.0000000e+00, 0.0000000e+00], dtype=float32)"
      ]
     },
     "execution_count": 27,
     "metadata": {},
     "output_type": "execute_result"
    }
   ],
   "source": [
    "str_smooth_str_power_fn.evaluate(mesh)[0]"
   ]
  },
  {
   "cell_type": "code",
   "execution_count": null,
   "id": "7fbeaf5a",
   "metadata": {},
   "outputs": [],
   "source": [
    "import k3d\n",
    "\n",
    "plot = k3d.plot(grid_visible=False, lighting=0.75)\n",
    "indices = mesh.tri.simplices.astype(np.uint32)\n",
    "points  = np.column_stack([mesh.tri.points, height]).astype(np.float32)\n",
    "\n",
    "plot += k3d.mesh(points+(00.0,0.0,0.0), indices, wireframe=False, flat_shading=True, side=\"double\",\n",
    "                    color_map = k3d.colormaps.matplotlib_color_maps.Blues,\n",
    "                    attribute=colorby_1,\n",
    "                    color_range = [0.0,1.0]\n",
    "                   )\n",
    "\n",
    "\n",
    "\n",
    "plot += k3d.mesh(points+(15.0,0.0,0.0), indices, wireframe=False, flat_shading=True, side=\"double\",\n",
    "                    color_map = k3d.colormaps.matplotlib_color_maps.Blues,\n",
    "                    attribute=colorby_2,\n",
    "                    color_range = [0.0,1.0]\n",
    "\n",
    "                   )\n",
    "\n",
    "plot += k3d.mesh(points+(30.0,0.0,0.0), indices, wireframe=False, flat_shading=True, side=\"double\",\n",
    "                    color_map = k3d.colormaps.matplotlib_color_maps.Blues,\n",
    "                    attribute=colorby_3,\n",
    "                    color_range = [0.0,1.0]\n",
    "\n",
    "                   )\n",
    "\n",
    "plot.display()"
   ]
  },
  {
   "cell_type": "markdown",
   "id": "69d6e96e",
   "metadata": {},
   "source": [
    "## Outflow analysis\n",
    "\n",
    "The topography we have defined has multiple outflow points, which, in the analytic case, should be equal. If they differ, this is a result of the discretisation. \n",
    "\n",
    "When we introduce random noise we also (usually) introduce some internal low points in the mesh that capture some of the surface flow."
   ]
  },
  {
   "cell_type": "code",
   "execution_count": 15,
   "id": "85d21522",
   "metadata": {
    "scrolled": true
   },
   "outputs": [
    {
     "name": "stdout",
     "output_type": "stream",
     "text": [
      "18 outflow nodes:\n",
      "[61753 61803 61853 61902 61903 61952 61953 61954 61955 62002 62052 62102\n",
      " 62151 62152 62201 62202 62203 62204]\n",
      "0 internal low point nodes:\n",
      "[61753 61803 61853 61902 61903 61952 61953 61954 61955 62002 62052 62102\n",
      " 62151 62152 62201 62202 62203 62204]\n",
      "[1.35633608e+00 2.91068294e+00 6.94590720e+00 3.80703311e+00\n",
      " 1.25669386e-01 1.76046638e+00 8.94107460e-04 5.28614675e-02\n",
      " 4.44502805e-02 1.79498622e+00 4.04115816e+00 6.07827447e+00\n",
      " 3.67500277e+00 1.27469995e-01 1.74984466e+00 1.25728405e-04\n",
      " 6.31638902e-02 1.78825614e-04]\n",
      "19 outflow nodes:\n",
      "[61753 61754 61803 61852 61902 61904 61952 61954 61955 61956 62002 62052\n",
      " 62053 62102 62151 62152 62201 62202 62204]\n",
      "103 internal low point nodes:\n",
      "[15115 15585 16959 17428 17551 17568 17578 17617 17750 18259 18328 18339\n",
      " 18341 18367 18478 18505 18559 18643 18759 18776 19358 19439 19487 19495\n",
      " 19608 19635 19692 19834 19859 19948 20029 20089 20200 20226 20229 20371\n",
      " 20444 20454 20483 20600 20831 21208 21432 21456 21471 21530 21707 21973\n",
      " 22186 22196 22240 22327 22433 22901 23078 23086 23144 23297 23510 23663\n",
      " 23664 23941 24009 24066 24176 24192 24520 24660 24675 24817 24848 25112\n",
      " 25412 25447 25451 25908 26029 26060 26088 26728 27034 27037 27360 27669\n",
      " 28030 28524 28672 28717 28899 29064 29066 29201 29527 29751 30416 30567\n",
      " 30587 31111 31667 32230 32394 39018 40997]\n",
      "[7.57480425e-02 8.27023262e-04 4.80509858e-01 6.74360207e+00\n",
      " 1.42015934e+00 1.10397800e-01 8.56749326e-03 5.28614679e-02\n",
      " 9.19741051e-05 4.43583062e-02 2.38263792e-01 3.89014476e+00\n",
      " 9.78246603e-04 5.97105246e+00 3.78350619e+00 1.27618092e-01\n",
      " 1.66715499e-02 2.84870317e-02 6.21668983e-02]\n"
     ]
    }
   ],
   "source": [
    "outflow_nodes = mesh.identify_outflow_points()\n",
    "low_point_nodes = mesh.identify_low_points()\n",
    "cumulative_rain = mesh.upstream_integral_fn(rainfall_fn).evaluate(mesh)\n",
    "outflow_std_mesh = cumulative_rain[outflow_nodes]\n",
    "\n",
    "print(\"{} outflow nodes:\".format(len(outflow_nodes)))\n",
    "print(outflow_nodes)\n",
    "print(\"{} internal low point nodes:\".format(len(low_point_nodes)))\n",
    "print(outflow_nodes)\n",
    "print(outflow_std_mesh)\n",
    "\n",
    "outflow_standard_mesh = cumulative_rain[outflow_nodes]\n",
    "\n",
    "\n",
    "# --- \n",
    "\n",
    "\n",
    "    \n",
    "cumulative_rain_n = meshn.upstream_integral_fn(rainfall_fn).evaluate(meshn)\n",
    "outflow_nodes = meshn.identify_outflow_points()\n",
    "low_point_nodes = meshn.identify_low_points()\n",
    "outflow_rough_mesh = cumulative_rain_n[outflow_nodes]\n",
    "cumulative_flow_rough_mesh = cumulative_rain_n[np.hstack((outflow_nodes, low_point_nodes))]\n",
    "\n",
    "print(\"{} outflow nodes:\".format(len(outflow_nodes)))\n",
    "print(outflow_nodes)\n",
    "print(\"{} internal low point nodes:\".format(len(meshn.identify_low_points())))\n",
    "print(low_point_nodes)\n",
    "print(outflow_rough_mesh)"
   ]
  },
  {
   "cell_type": "code",
   "execution_count": 16,
   "id": "321ef2db",
   "metadata": {},
   "outputs": [
    {
     "name": "stdout",
     "output_type": "stream",
     "text": [
      "34.534505676164535\n",
      "23.056012399787203\n",
      "30.904065177114536\n"
     ]
    }
   ],
   "source": [
    "print(outflow_standard_mesh.sum())\n",
    "print(outflow_rough_mesh.sum())\n",
    "print(cumulative_flow_rough_mesh.sum())"
   ]
  },
  {
   "cell_type": "code",
   "execution_count": 17,
   "id": "fe94d182",
   "metadata": {},
   "outputs": [
    {
     "data": {
      "image/png": "[encoded data removed]",
      "text/plain": [
       "<Figure size 864x432 with 1 Axes>"
      ]
     },
     "metadata": {
      "needs_background": "light"
     },
     "output_type": "display_data"
    }
   ],
   "source": [
    "import matplotlib.pyplot as plt\n",
    "%matplotlib inline\n",
    "\n",
    "# plot bar graph of cumulative rain for each outflow point\n",
    "\n",
    "fig = plt.figure(figsize=(12,6))\n",
    "ax1 = fig.add_subplot(111, xlabel='outflow node', ylabel='cumulative rain')\n",
    "ax1.bar(np.array(range(0,len(outflow_std_mesh))), width=0.4, height=outflow_std_mesh)\n",
    "ax1.bar(np.array(range(0,len(outflow_rough_mesh)))+0.5, width=0.4, height=outflow_rough_mesh)\n",
    "plt.show()"
   ]
  },
  {
   "cell_type": "code",
   "execution_count": 18,
   "id": "5e763fde",
   "metadata": {},
   "outputs": [],
   "source": [
    "rainfall_n_fn = (mesh.topography**2.0)\n",
    "upstream_precipitation_integral_n_fn = meshn.upstream_integral_fn(rainfall_n_fn)\n",
    "stream_power_n_fn = upstream_precipitation_integral_n_fn**2 * meshn.slope**1.0 * meshn.mask\n",
    "\n",
    "colorby_2 = stream_power_n_fn.evaluate(meshn)\n"
   ]
  },
  {
   "cell_type": "code",
   "execution_count": 19,
   "id": "ccb51732",
   "metadata": {},
   "outputs": [
    {
     "data": {
      "application/vnd.jupyter.widget-view+json": {
       "model_id": "723bcb36cb294330880f411be96c0224",
       "version_major": 2,
       "version_minor": 0
      },
      "text/plain": [
       "Output()"
      ]
     },
     "metadata": {},
     "output_type": "display_data"
    }
   ],
   "source": [
    "import k3d\n",
    "\n",
    "plot = k3d.plot(grid_visible=False, lighting=0.75)\n",
    "indices = mesh.tri.simplices.astype(np.uint32)\n",
    "points  = np.column_stack([mesh.tri.points, height]).astype(np.float32)\n",
    "\n",
    "plot += k3d.mesh(points+(00.0,0.0,0.0), indices, wireframe=False, flat_shading=True, side=\"double\",\n",
    "                    color_map = k3d.colormaps.matplotlib_color_maps.Blues,\n",
    "                    attribute=colorby_1,\n",
    "                    color_range = [0.0,1.0]\n",
    "                   )\n",
    "\n",
    "points  = np.column_stack([meshn.tri.points, heightn]).astype(np.float32)\n",
    "\n",
    "plot += k3d.mesh(points+(15.0,0.0,0.0), indices, wireframe=False, flat_shading=True, side=\"double\",\n",
    "                    color_map = k3d.colormaps.matplotlib_color_maps.Blues,\n",
    "                    attribute=colorby_2,\n",
    "                    color_range = [0.0,1.0]\n",
    "\n",
    "                   )\n",
    "\n",
    "plot.display()"
   ]
  },
  {
   "cell_type": "markdown",
   "id": "f57a9212",
   "metadata": {},
   "source": [
    "Note that the mesh with random noise also has a number of internal low points that do not drain to the outside of the mesh. This is a non-physical aspect of the mesh that we would normally fix and is dealt with in a later notebook. \n",
    "\n",
    "Downhill transport matrices are introduced in the next example, [Ex4-Multiple-downhill-pathways](./Ex4-Multiple-downhill-pathways.md) and then we will discuss the infilling of local minima in Example 5."
   ]
  },
  {
   "cell_type": "code",
   "execution_count": null,
   "id": "d5d8b887",
   "metadata": {},
   "outputs": [],
   "source": []
  }
 ],
 "metadata": {
  "kernelspec": {
   "display_name": "Python 3",
   "language": "python",
   "name": "python3"
  },
  "language_info": {
   "codemirror_mode": {
    "name": "ipython",
    "version": 3
   },
   "file_extension": ".py",
   "mimetype": "text/x-python",
   "name": "python",
   "nbconvert_exporter": "python",
   "pygments_lexer": "ipython3",
   "version": "3.9.4"
  }
 },
 "nbformat": 4,
 "nbformat_minor": 5
}
